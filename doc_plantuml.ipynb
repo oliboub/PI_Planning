{
 "cells": [
  {
   "cell_type": "code",
   "execution_count": 1,
   "id": "1034cf8d-0890-4e7b-adaa-305a740c646f",
   "metadata": {
    "tags": []
   },
   "outputs": [],
   "source": [
    "import iplantuml"
   ]
  },
  {
   "cell_type": "markdown",
   "id": "0f00ec9c-ef18-43c7-9776-7c96b049858f",
   "metadata": {},
   "source": [
    "## Document plantuml Legend used"
   ]
  },
  {
   "cell_type": "code",
   "execution_count": 2,
   "id": "155f517d-014e-486e-8296-efa9d3ec5ad8",
   "metadata": {
    "tags": []
   },
   "outputs": [
    {
     "name": "stdout",
     "output_type": "stream",
     "text": [
      "Writing output for /media/olivier/Donnees/Documents/Formations/Perso/PI_Planning/3498d0c2-debf-4ee9-8376-b7fbe75d84f3.uml to 3498d0c2-debf-4ee9-8376-b7fbe75d84f3.svg\n"
     ]
    },
    {
     "data": {
      "image/svg+xml": [
       "<svg xmlns=\"http://www.w3.org/2000/svg\" xmlns:xlink=\"http://www.w3.org/1999/xlink\" contentStyleType=\"text/css\" height=\"319px\" preserveAspectRatio=\"none\" style=\"width:396px;height:319px;background:#FFFFFF;\" version=\"1.1\" viewBox=\"0 0 396 319\" width=\"396px\" zoomAndPan=\"magnify\"><defs/><g><text fill=\"#000000\" font-family=\"sans-serif\" font-size=\"14\" font-weight=\"bold\" lengthAdjust=\"spacing\" textLength=\"57\" x=\"162.5\" y=\"22.9951\">Legend</text><!--entity Main--><g id=\"elem_Main\"><rect fill=\"#F1F1F1\" height=\"46.2969\" rx=\"2.5\" ry=\"2.5\" style=\"stroke:#181818;stroke-width:0.5;\" width=\"73\" x=\"156.5\" y=\"44.2969\"/><rect fill=\"#F1F1F1\" height=\"10\" style=\"stroke:#181818;stroke-width:0.5;\" width=\"15\" x=\"209.5\" y=\"49.2969\"/><rect fill=\"#F1F1F1\" height=\"2\" style=\"stroke:#181818;stroke-width:0.5;\" width=\"4\" x=\"207.5\" y=\"51.2969\"/><rect fill=\"#F1F1F1\" height=\"2\" style=\"stroke:#181818;stroke-width:0.5;\" width=\"4\" x=\"207.5\" y=\"55.2969\"/><text fill=\"#000000\" font-family=\"sans-serif\" font-size=\"14\" lengthAdjust=\"spacing\" textLength=\"33\" x=\"171.5\" y=\"77.292\">Main</text></g><!--entity file--><g id=\"elem_file\"><path d=\"M103.5,157.2969 L103.5,188.5938 A2.5,2.5 0 0 0 106,191.0938 L144,191.0938 A2.5,2.5 0 0 0 146.5,188.5938 L146.5,164.7969 L136.5,154.7969 L106,154.7969 A2.5,2.5 0 0 0 103.5,157.2969 \" fill=\"#F1F1F1\" style=\"stroke:#181818;stroke-width:0.5;\"/><path d=\"M136.5,154.7969 L136.5,162.2969 A2.5,2.5 0 0 0 139,164.7969 L146.5,164.7969 \" fill=\"#F1F1F1\" style=\"stroke:#181818;stroke-width:0.5;\"/><text fill=\"#000000\" font-family=\"sans-serif\" font-size=\"14\" lengthAdjust=\"spacing\" textLength=\"23\" x=\"113.5\" y=\"177.792\">file</text></g><!--entity class--><g id=\"elem_class\"><ellipse cx=\"23\" cy=\"271.2969\" fill=\"#F1F1F1\" rx=\"12\" ry=\"12\" style=\"stroke:#181818;stroke-width:0.5;\"/><line style=\"stroke:#181818;stroke-width:0.5;\" x1=\"11\" x2=\"35\" y1=\"285.2969\" y2=\"285.2969\"/><text fill=\"#000000\" font-family=\"sans-serif\" font-size=\"14\" lengthAdjust=\"spacing\" textLength=\"34\" x=\"6\" y=\"300.292\">class</text></g><!--entity function--><g id=\"elem_function\"><polygon fill=\"#F1F1F1\" points=\"75,266.2969,85,256.2969,175,256.2969,175,292.5938,165,302.5938,75,302.5938,75,266.2969\" style=\"stroke:#181818;stroke-width:0.5;\"/><line style=\"stroke:#181818;stroke-width:0.5;\" x1=\"165\" x2=\"175\" y1=\"266.2969\" y2=\"256.2969\"/><line style=\"stroke:#181818;stroke-width:0.5;\" x1=\"75\" x2=\"165\" y1=\"266.2969\" y2=\"266.2969\"/><line style=\"stroke:#181818;stroke-width:0.5;\" x1=\"165\" x2=\"165\" y1=\"266.2969\" y2=\"302.5938\"/><text fill=\"#000000\" font-family=\"sans-serif\" font-size=\"14\" lengthAdjust=\"spacing\" textLength=\"60\" x=\"90\" y=\"289.292\">function</text></g><!--entity database--><g id=\"elem_database\"><path d=\"M218,160.2969 C218,150.2969 261,150.2969 261,150.2969 C261,150.2969 304,150.2969 304,160.2969 L304,185.5938 C304,195.5938 261,195.5938 261,195.5938 C261,195.5938 218,195.5938 218,185.5938 L218,160.2969 \" fill=\"#F1F1F1\" style=\"stroke:#181818;stroke-width:0.5;\"/><path d=\"M218,160.2969 C218,170.2969 261,170.2969 261,170.2969 C261,170.2969 304,170.2969 304,160.2969 \" fill=\"none\" style=\"stroke:#181818;stroke-width:0.5;\"/><text fill=\"#000000\" font-family=\"sans-serif\" font-size=\"14\" lengthAdjust=\"spacing\" textLength=\"66\" x=\"228\" y=\"187.292\">database</text></g><!--entity collection--><g id=\"elem_collection\"><rect fill=\"#F1F1F1\" height=\"39.2969\" rx=\"2.5\" ry=\"2.5\" style=\"stroke:#181818;stroke-width:0.5;\" width=\"174\" x=\"210\" y=\"259.7969\"/><polygon fill=\"#F1F1F1\" points=\"367,264.7969,367,278.7969,379,278.7969,379,270.7969,373,264.7969,367,264.7969\" style=\"stroke:#181818;stroke-width:0.5;\"/><line style=\"stroke:#181818;stroke-width:0.5;\" x1=\"373\" x2=\"373\" y1=\"264.7969\" y2=\"270.7969\"/><line style=\"stroke:#181818;stroke-width:0.5;\" x1=\"379\" x2=\"373\" y1=\"270.7969\" y2=\"270.7969\"/><text fill=\"#000000\" font-family=\"sans-serif\" font-size=\"14\" lengthAdjust=\"spacing\" textLength=\"144\" x=\"220\" y=\"285.792\">mongodb collection</text></g><!--link Main to file--><g id=\"link_Main_file\"><path d=\"M178.412,90.4999 C167.349,107.3399 152.161,130.4559 140.809,147.7349 \" fill=\"none\" id=\"Main-to-file\" style=\"stroke:#181818;stroke-width:1.0;\"/><polygon fill=\"#181818\" points=\"136.201,154.7479,143.1012,149.7093,138.0868,146.4146,136.201,154.7479\" style=\"stroke:#181818;stroke-width:1.0;\"/></g><!--link Main to database--><g id=\"link_Main_database\"><path d=\"M207.588,90.4999 C217.695,105.8839 231.245,126.5069 242.167,143.1319 \" fill=\"none\" id=\"Main-to-database\" style=\"stroke:#181818;stroke-width:1.0;\"/><polygon fill=\"#181818\" points=\"246.67,149.9859,244.7842,141.6526,239.7698,144.9473,246.67,149.9859\" style=\"stroke:#181818;stroke-width:1.0;\"/></g><!--link file to function--><g id=\"link_file_function\"><path d=\"M125,191.0529 C125,205.1416 125,225.5124 125,243.0272 \" fill=\"none\" id=\"file-to-function\" style=\"stroke:#181818;stroke-width:1.0;\"/><polygon fill=\"#181818\" points=\"125,256.2867,129,250.2867,125,244.2867,121,250.2867,125,256.2867\" style=\"stroke:#181818;stroke-width:1.0;\"/></g><!--link file to class--><g id=\"link_file_class\"><path d=\"M108.157,191.0529 C90.5451,209.0963 62.876,237.4436 43.8859,256.8991 \" fill=\"none\" id=\"file-to-class\" style=\"stroke:#181818;stroke-width:1.0;\"/><ellipse cx=\"44.4001\" cy=\"256.3721\" fill=\"#FFFFFF\" rx=\"6\" ry=\"6\" style=\"stroke:#181818;stroke-width:1.5;\"/></g><!--link database to collection--><g id=\"link_database_collection\"><path d=\"M268.459,195.4489 C274.408,212.7172 282.728,236.8691 288.851,254.6421 \" fill=\"none\" id=\"database-to-collection\" style=\"stroke:#181818;stroke-width:1.0;\"/><rect fill=\"#FFFFFF\" height=\"10\" style=\"stroke:#181818;stroke-width:1.5;\" width=\"10\" x=\"285.516\" y=\"254.4748\"/></g><!--SRC=[JKvB3i9G2Dnp2X9t9YIUe2VG4nWNz3tQaBo2iRZmzhv-z9K5OMR8p8H64RpAA9O1aazFDx706wl1e5LR5bHAuuEfy3o3UQxqsrAe6q3cu9vdmTy1_0eTE0KcBqNMDxm3rfdSHi_zGO07m1A6H5stXJNuTzog49rRxivSzbAj1j7fuFy5]--></g></svg>"
      ],
      "text/plain": [
       "<IPython.core.display.SVG object>"
      ]
     },
     "execution_count": 2,
     "metadata": {},
     "output_type": "execute_result"
    }
   ],
   "source": [
    "%%plantuml\n",
    "@startuml\n",
    "title Legend\n",
    "\n",
    "component Main\n",
    "file file\n",
    "entity class\n",
    "node function\n",
    "\n",
    "database database\n",
    "artifact collection [\n",
    "    mongodb collection\n",
    "]\n",
    "\n",
    "Main -->> file\n",
    "Main -->> database\n",
    "\n",
    "file --* function\n",
    "file --0 class\n",
    "\n",
    "database --# collection"
   ]
  },
  {
   "cell_type": "markdown",
   "id": "bc7a1492-281d-487b-b2be-c0ee1c882462",
   "metadata": {},
   "source": [
    "## Plantuml Generalities"
   ]
  },
  {
   "cell_type": "markdown",
   "id": "0cceaa09-e296-4275-8936-9f2293ea0984",
   "metadata": {
    "tags": []
   },
   "source": [
    "### Structure of Python files"
   ]
  },
  {
   "cell_type": "code",
   "execution_count": 4,
   "id": "1329b668-da7d-4267-a7fd-bdf173443116",
   "metadata": {
    "tags": []
   },
   "outputs": [
    {
     "name": "stdout",
     "output_type": "stream",
     "text": [
      "Writing output for /media/olivier/Donnees/Documents/Formations/Perso/PI_Planning/b6c3094f-6650-48e4-adbc-5c9dd5932a8e.uml to b6c3094f-6650-48e4-adbc-5c9dd5932a8e.svg\n"
     ]
    },
    {
     "data": {
      "image/svg+xml": [
       "<svg xmlns=\"http://www.w3.org/2000/svg\" xmlns:xlink=\"http://www.w3.org/1999/xlink\" contentStyleType=\"text/css\" height=\"402px\" preserveAspectRatio=\"none\" style=\"width:688px;height:402px;background:#FFFFFF;\" version=\"1.1\" viewBox=\"0 0 688 402\" width=\"688px\" zoomAndPan=\"magnify\"><defs/><g><text fill=\"#000000\" font-family=\"sans-serif\" font-size=\"12\" lengthAdjust=\"spacing\" textLength=\"40\" x=\"16\" y=\"17.1387\">Fichier</text><text fill=\"#000000\" font-family=\"sans-serif\" font-size=\"12\" lengthAdjust=\"spacing\" textLength=\"66\" x=\"26\" y=\"31.1074\">Application</text><text fill=\"#000000\" font-family=\"sans-serif\" font-size=\"12\" font-weight=\"bold\" lengthAdjust=\"spacing\" textLength=\"79\" x=\"36\" y=\"45.0762\">main_menu</text><text fill=\"#000000\" font-family=\"sans-serif\" font-size=\"12\" lengthAdjust=\"spacing\" textLength=\"123\" x=\"270\" y=\"45.0762\">application générale</text><text fill=\"#000000\" font-family=\"sans-serif\" font-size=\"12\" lengthAdjust=\"spacing\" textLength=\"110\" x=\"36\" y=\"59.0449\">Imports standards</text><text fill=\"#000000\" font-family=\"sans-serif\" font-size=\"12\" lengthAdjust=\"spacing\" textLength=\"186\" x=\"270\" y=\"59.0449\">imports des librairies standard</text><text fill=\"#000000\" font-family=\"sans-serif\" font-size=\"12\" font-weight=\"bold\" lengthAdjust=\"spacing\" textLength=\"67\" x=\"46\" y=\"73.0137\">iplantuml</text><text fill=\"#000000\" font-family=\"sans-serif\" font-size=\"12\" lengthAdjust=\"spacing\" textLength=\"150\" x=\"270\" y=\"73.0137\">for uml markup language</text><rect fill=\"#000000\" height=\"3.5\" style=\"stroke:#000000;stroke-width:0.0;\" width=\"3.5\" x=\"71\" y=\"79.8125\"/><text fill=\"#000000\" font-family=\"sans-serif\" font-size=\"12\" font-weight=\"bold\" lengthAdjust=\"spacing\" textLength=\"97\" x=\"78\" y=\"86.9824\">mongoengine</text><text fill=\"#000000\" font-family=\"sans-serif\" font-size=\"12\" lengthAdjust=\"spacing\" textLength=\"135\" x=\"270\" y=\"86.9824\">engine pour mongodb</text><text fill=\"#000000\" font-family=\"sans-serif\" font-size=\"12\" lengthAdjust=\"spacing\" textLength=\"57\" x=\"36\" y=\"100.9512\">Database</text><text fill=\"#0000FF\" font-family=\"sans-serif\" font-size=\"12\" lengthAdjust=\"spacing\" textLength=\"121\" x=\"46\" y=\"114.9199\">connect('PIPlanning')</text><text fill=\"#000000\" font-family=\"sans-serif\" font-size=\"12\" lengthAdjust=\"spacing\" textLength=\"52\" x=\"36\" y=\"128.8887\">Backend</text><text fill=\"#000000\" font-family=\"sans-serif\" font-size=\"12\" font-weight=\"bold\" lengthAdjust=\"spacing\" textLength=\"153\" x=\"46\" y=\"142.8574\">import backend_PI.py</text><text fill=\"#000000\" font-family=\"sans-serif\" font-size=\"12\" lengthAdjust=\"spacing\" textLength=\"276\" x=\"270\" y=\"142.8574\">fonctions pour les appels à base de données</text><text fill=\"#000000\" font-family=\"sans-serif\" font-size=\"12\" font-weight=\"bold\" lengthAdjust=\"spacing\" textLength=\"204\" x=\"56\" y=\"156.8262\">backend_PI_mongo_model.py</text><text fill=\"#000000\" font-family=\"sans-serif\" font-size=\"12\" lengthAdjust=\"spacing\" textLength=\"199\" x=\"270\" y=\"156.8262\">structure de la base de données</text><text fill=\"#000000\" font-family=\"sans-serif\" font-size=\"12\" font-weight=\"bold\" lengthAdjust=\"spacing\" textLength=\"168\" x=\"56\" y=\"170.7949\">backend_PI_Projects.py</text><text fill=\"#000000\" font-family=\"sans-serif\" font-size=\"12\" lengthAdjust=\"spacing\" textLength=\"102\" x=\"270\" y=\"170.7949\">fonctions projets</text><text fill=\"#000000\" font-family=\"sans-serif\" font-size=\"12\" font-weight=\"bold\" lengthAdjust=\"spacing\" textLength=\"155\" x=\"56\" y=\"184.7637\">backend_PI_Teams.py</text><text fill=\"#000000\" font-family=\"sans-serif\" font-size=\"12\" lengthAdjust=\"spacing\" textLength=\"96\" x=\"270\" y=\"184.7637\">fonctions teams</text><text fill=\"#000000\" font-family=\"sans-serif\" font-size=\"12\" font-weight=\"bold\" lengthAdjust=\"spacing\" textLength=\"173\" x=\"56\" y=\"198.7324\">backend_PI_Members.py</text><text fill=\"#000000\" font-family=\"sans-serif\" font-size=\"12\" lengthAdjust=\"spacing\" textLength=\"110\" x=\"270\" y=\"198.7324\">fonction members</text><text fill=\"#000000\" font-family=\"sans-serif\" font-size=\"12\" font-weight=\"bold\" lengthAdjust=\"spacing\" textLength=\"146\" x=\"56\" y=\"212.7012\">backend_PI_Roles.py</text><text fill=\"#000000\" font-family=\"sans-serif\" font-size=\"12\" lengthAdjust=\"spacing\" textLength=\"89\" x=\"270\" y=\"212.7012\">functions roles</text><text fill=\"#000000\" font-family=\"sans-serif\" font-size=\"12\" font-weight=\"bold\" lengthAdjust=\"spacing\" textLength=\"147\" x=\"56\" y=\"226.6699\">backend_PI_tasks.py</text><text fill=\"#000000\" font-family=\"sans-serif\" font-size=\"12\" lengthAdjust=\"spacing\" textLength=\"84\" x=\"270\" y=\"226.6699\">fonction tasks</text><text fill=\"#000000\" font-family=\"sans-serif\" font-size=\"12\" font-weight=\"bold\" lengthAdjust=\"spacing\" textLength=\"118\" x=\"56\" y=\"240.6387\">backend_PI_Utils</text><text fill=\"#000000\" font-family=\"sans-serif\" font-size=\"12\" lengthAdjust=\"spacing\" textLength=\"242\" x=\"270\" y=\"240.6387\">fonction binary convert &amp; center display</text><text fill=\"#000000\" font-family=\"sans-serif\" font-size=\"12\" lengthAdjust=\"spacing\" textLength=\"54\" x=\"36\" y=\"254.6074\">Frontend</text><text fill=\"#000000\" font-family=\"sans-serif\" font-size=\"12\" font-weight=\"bold\" lengthAdjust=\"spacing\" textLength=\"158\" x=\"46\" y=\"268.5762\">import frontend_PI.py</text><text fill=\"#000000\" font-family=\"sans-serif\" font-size=\"12\" lengthAdjust=\"spacing\" textLength=\"157\" x=\"270\" y=\"268.5762\">All functions related to gui</text><text fill=\"#000000\" font-family=\"sans-serif\" font-size=\"12\" font-weight=\"bold\" lengthAdjust=\"spacing\" textLength=\"173\" x=\"56\" y=\"282.5449\">frontend_PI_Projects.py</text><text fill=\"#000000\" font-family=\"sans-serif\" font-size=\"12\" lengthAdjust=\"spacing\" textLength=\"112\" x=\"270\" y=\"282.5449\">Projects interfaces</text><text fill=\"#000000\" font-family=\"sans-serif\" font-size=\"12\" font-weight=\"bold\" lengthAdjust=\"spacing\" textLength=\"160\" x=\"56\" y=\"296.5137\">frontend_PI_Teams.py</text><text fill=\"#000000\" font-family=\"sans-serif\" font-size=\"12\" lengthAdjust=\"spacing\" textLength=\"132\" x=\"270\" y=\"296.5137\">teams user interfaces</text><text fill=\"#000000\" font-family=\"sans-serif\" font-size=\"12\" font-weight=\"bold\" lengthAdjust=\"spacing\" textLength=\"153\" x=\"56\" y=\"310.4824\">frontend_PI_Users.py</text><text fill=\"#000000\" font-family=\"sans-serif\" font-size=\"12\" lengthAdjust=\"spacing\" textLength=\"194\" x=\"270\" y=\"310.4824\">user login and myinfo interfaces</text><text fill=\"#000000\" font-family=\"sans-serif\" font-size=\"12\" font-weight=\"bold\" lengthAdjust=\"spacing\" textLength=\"178\" x=\"56\" y=\"324.4512\">frontend_PI_Members.py</text><text fill=\"#000000\" font-family=\"sans-serif\" font-size=\"12\" lengthAdjust=\"spacing\" textLength=\"122\" x=\"270\" y=\"324.4512\">members interfaces</text><text fill=\"#000000\" font-family=\"sans-serif\" font-size=\"12\" font-weight=\"bold\" lengthAdjust=\"spacing\" textLength=\"151\" x=\"56\" y=\"338.4199\">frontend_PI_Roles.py</text><text fill=\"#000000\" font-family=\"sans-serif\" font-size=\"12\" lengthAdjust=\"spacing\" textLength=\"97\" x=\"270\" y=\"338.4199\">Roles interfaces</text><text fill=\"#000000\" font-family=\"sans-serif\" font-size=\"12\" font-weight=\"bold\" lengthAdjust=\"spacing\" textLength=\"155\" x=\"56\" y=\"352.3887\">frontend_PI_Tasks.py</text><text fill=\"#000000\" font-family=\"sans-serif\" font-size=\"12\" lengthAdjust=\"spacing\" textLength=\"96\" x=\"270\" y=\"352.3887\">tasks interfaces</text><text fill=\"#000000\" font-family=\"sans-serif\" font-size=\"12\" lengthAdjust=\"spacing\" textLength=\"62\" x=\"36\" y=\"366.3574\">load_tests</text><text fill=\"#000000\" font-family=\"sans-serif\" font-size=\"12\" font-weight=\"bold\" lengthAdjust=\"spacing\" textLength=\"111\" x=\"46\" y=\"380.3262\">load_PI_data.py</text><text fill=\"#000000\" font-family=\"sans-serif\" font-size=\"12\" lengthAdjust=\"spacing\" textLength=\"411\" x=\"270\" y=\"380.3262\">Database loading with test data for users, members, teams, project</text><text fill=\"#000000\" font-family=\"sans-serif\" font-size=\"12\" font-weight=\"bold\" lengthAdjust=\"spacing\" textLength=\"157\" x=\"46\" y=\"394.2949\">load_PI_data_tasks.py</text><text fill=\"#000000\" font-family=\"sans-serif\" font-size=\"12\" lengthAdjust=\"spacing\" textLength=\"247\" x=\"270\" y=\"394.2949\">Database loading with test data for tasks</text><rect fill=\"none\" height=\"2\" style=\"stroke:#888888;stroke-width:1.0;\" width=\"2\" x=\"9\" y=\"11.9844\"/><rect fill=\"none\" height=\"2\" style=\"stroke:#888888;stroke-width:1.0;\" width=\"2\" x=\"19\" y=\"25.9531\"/><line style=\"stroke:#888888;stroke-width:1.0;\" x1=\"10\" x2=\"10\" y1=\"14.9844\" y2=\"26.9531\"/><line style=\"stroke:#888888;stroke-width:1.0;\" x1=\"10\" x2=\"18\" y1=\"26.9531\" y2=\"26.9531\"/><line style=\"stroke:#888888;stroke-width:1.0;\" x1=\"20\" x2=\"20\" y1=\"28.9531\" y2=\"40.9219\"/><line style=\"stroke:#888888;stroke-width:1.0;\" x1=\"20\" x2=\"28\" y1=\"40.9219\" y2=\"40.9219\"/><rect fill=\"none\" height=\"2\" style=\"stroke:#888888;stroke-width:1.0;\" width=\"2\" x=\"29\" y=\"53.8906\"/><line style=\"stroke:#888888;stroke-width:1.0;\" x1=\"20\" x2=\"20\" y1=\"28.9531\" y2=\"54.8906\"/><line style=\"stroke:#888888;stroke-width:1.0;\" x1=\"20\" x2=\"28\" y1=\"54.8906\" y2=\"54.8906\"/><line style=\"stroke:#888888;stroke-width:1.0;\" x1=\"30\" x2=\"30\" y1=\"56.8906\" y2=\"68.8594\"/><line style=\"stroke:#888888;stroke-width:1.0;\" x1=\"30\" x2=\"38\" y1=\"68.8594\" y2=\"68.8594\"/><line style=\"stroke:#888888;stroke-width:1.0;\" x1=\"30\" x2=\"30\" y1=\"56.8906\" y2=\"82.8281\"/><line style=\"stroke:#888888;stroke-width:1.0;\" x1=\"30\" x2=\"38\" y1=\"82.8281\" y2=\"82.8281\"/><rect fill=\"none\" height=\"2\" style=\"stroke:#888888;stroke-width:1.0;\" width=\"2\" x=\"29\" y=\"95.7969\"/><line style=\"stroke:#888888;stroke-width:1.0;\" x1=\"20\" x2=\"20\" y1=\"28.9531\" y2=\"96.7969\"/><line style=\"stroke:#888888;stroke-width:1.0;\" x1=\"20\" x2=\"28\" y1=\"96.7969\" y2=\"96.7969\"/><line style=\"stroke:#888888;stroke-width:1.0;\" x1=\"30\" x2=\"30\" y1=\"98.7969\" y2=\"110.7656\"/><line style=\"stroke:#888888;stroke-width:1.0;\" x1=\"30\" x2=\"38\" y1=\"110.7656\" y2=\"110.7656\"/><rect fill=\"none\" height=\"2\" style=\"stroke:#888888;stroke-width:1.0;\" width=\"2\" x=\"29\" y=\"123.7344\"/><line style=\"stroke:#888888;stroke-width:1.0;\" x1=\"20\" x2=\"20\" y1=\"28.9531\" y2=\"124.7344\"/><line style=\"stroke:#888888;stroke-width:1.0;\" x1=\"20\" x2=\"28\" y1=\"124.7344\" y2=\"124.7344\"/><rect fill=\"none\" height=\"2\" style=\"stroke:#888888;stroke-width:1.0;\" width=\"2\" x=\"39\" y=\"137.7031\"/><line style=\"stroke:#888888;stroke-width:1.0;\" x1=\"30\" x2=\"30\" y1=\"126.7344\" y2=\"138.7031\"/><line style=\"stroke:#888888;stroke-width:1.0;\" x1=\"30\" x2=\"38\" y1=\"138.7031\" y2=\"138.7031\"/><line style=\"stroke:#888888;stroke-width:1.0;\" x1=\"40\" x2=\"40\" y1=\"140.7031\" y2=\"152.6719\"/><line style=\"stroke:#888888;stroke-width:1.0;\" x1=\"40\" x2=\"48\" y1=\"152.6719\" y2=\"152.6719\"/><line style=\"stroke:#888888;stroke-width:1.0;\" x1=\"40\" x2=\"40\" y1=\"140.7031\" y2=\"166.6406\"/><line style=\"stroke:#888888;stroke-width:1.0;\" x1=\"40\" x2=\"48\" y1=\"166.6406\" y2=\"166.6406\"/><line style=\"stroke:#888888;stroke-width:1.0;\" x1=\"40\" x2=\"40\" y1=\"140.7031\" y2=\"180.6094\"/><line style=\"stroke:#888888;stroke-width:1.0;\" x1=\"40\" x2=\"48\" y1=\"180.6094\" y2=\"180.6094\"/><line style=\"stroke:#888888;stroke-width:1.0;\" x1=\"40\" x2=\"40\" y1=\"140.7031\" y2=\"194.5781\"/><line style=\"stroke:#888888;stroke-width:1.0;\" x1=\"40\" x2=\"48\" y1=\"194.5781\" y2=\"194.5781\"/><line style=\"stroke:#888888;stroke-width:1.0;\" x1=\"40\" x2=\"40\" y1=\"140.7031\" y2=\"208.5469\"/><line style=\"stroke:#888888;stroke-width:1.0;\" x1=\"40\" x2=\"48\" y1=\"208.5469\" y2=\"208.5469\"/><line style=\"stroke:#888888;stroke-width:1.0;\" x1=\"40\" x2=\"40\" y1=\"140.7031\" y2=\"222.5156\"/><line style=\"stroke:#888888;stroke-width:1.0;\" x1=\"40\" x2=\"48\" y1=\"222.5156\" y2=\"222.5156\"/><line style=\"stroke:#888888;stroke-width:1.0;\" x1=\"40\" x2=\"40\" y1=\"140.7031\" y2=\"236.4844\"/><line style=\"stroke:#888888;stroke-width:1.0;\" x1=\"40\" x2=\"48\" y1=\"236.4844\" y2=\"236.4844\"/><rect fill=\"none\" height=\"2\" style=\"stroke:#888888;stroke-width:1.0;\" width=\"2\" x=\"29\" y=\"249.4531\"/><line style=\"stroke:#888888;stroke-width:1.0;\" x1=\"20\" x2=\"20\" y1=\"28.9531\" y2=\"250.4531\"/><line style=\"stroke:#888888;stroke-width:1.0;\" x1=\"20\" x2=\"28\" y1=\"250.4531\" y2=\"250.4531\"/><rect fill=\"none\" height=\"2\" style=\"stroke:#888888;stroke-width:1.0;\" width=\"2\" x=\"39\" y=\"263.4219\"/><line style=\"stroke:#888888;stroke-width:1.0;\" x1=\"30\" x2=\"30\" y1=\"252.4531\" y2=\"264.4219\"/><line style=\"stroke:#888888;stroke-width:1.0;\" x1=\"30\" x2=\"38\" y1=\"264.4219\" y2=\"264.4219\"/><line style=\"stroke:#888888;stroke-width:1.0;\" x1=\"40\" x2=\"40\" y1=\"266.4219\" y2=\"278.3906\"/><line style=\"stroke:#888888;stroke-width:1.0;\" x1=\"40\" x2=\"48\" y1=\"278.3906\" y2=\"278.3906\"/><line style=\"stroke:#888888;stroke-width:1.0;\" x1=\"40\" x2=\"40\" y1=\"266.4219\" y2=\"292.3594\"/><line style=\"stroke:#888888;stroke-width:1.0;\" x1=\"40\" x2=\"48\" y1=\"292.3594\" y2=\"292.3594\"/><line style=\"stroke:#888888;stroke-width:1.0;\" x1=\"40\" x2=\"40\" y1=\"266.4219\" y2=\"306.3281\"/><line style=\"stroke:#888888;stroke-width:1.0;\" x1=\"40\" x2=\"48\" y1=\"306.3281\" y2=\"306.3281\"/><line style=\"stroke:#888888;stroke-width:1.0;\" x1=\"40\" x2=\"40\" y1=\"266.4219\" y2=\"320.2969\"/><line style=\"stroke:#888888;stroke-width:1.0;\" x1=\"40\" x2=\"48\" y1=\"320.2969\" y2=\"320.2969\"/><line style=\"stroke:#888888;stroke-width:1.0;\" x1=\"40\" x2=\"40\" y1=\"266.4219\" y2=\"334.2656\"/><line style=\"stroke:#888888;stroke-width:1.0;\" x1=\"40\" x2=\"48\" y1=\"334.2656\" y2=\"334.2656\"/><line style=\"stroke:#888888;stroke-width:1.0;\" x1=\"40\" x2=\"40\" y1=\"266.4219\" y2=\"348.2344\"/><line style=\"stroke:#888888;stroke-width:1.0;\" x1=\"40\" x2=\"48\" y1=\"348.2344\" y2=\"348.2344\"/><rect fill=\"none\" height=\"2\" style=\"stroke:#888888;stroke-width:1.0;\" width=\"2\" x=\"29\" y=\"361.2031\"/><line style=\"stroke:#888888;stroke-width:1.0;\" x1=\"20\" x2=\"20\" y1=\"28.9531\" y2=\"362.2031\"/><line style=\"stroke:#888888;stroke-width:1.0;\" x1=\"20\" x2=\"28\" y1=\"362.2031\" y2=\"362.2031\"/><line style=\"stroke:#888888;stroke-width:1.0;\" x1=\"30\" x2=\"30\" y1=\"364.2031\" y2=\"376.1719\"/><line style=\"stroke:#888888;stroke-width:1.0;\" x1=\"30\" x2=\"38\" y1=\"376.1719\" y2=\"376.1719\"/><line style=\"stroke:#888888;stroke-width:1.0;\" x1=\"30\" x2=\"30\" y1=\"364.2031\" y2=\"390.1406\"/><line style=\"stroke:#888888;stroke-width:1.0;\" x1=\"30\" x2=\"38\" y1=\"390.1406\" y2=\"390.1406\"/><!--SRC=[ZLJRJXin47tVhvYdaWlGGYjK8Og00WL4f8Wal4RUtKbmuxLNzYmeelsNll8T-R6ElLcoa9M28gtYyJbpE-CvSIGiEQ4eUewUXr4NBcNo8D56tIwSvhcIYI1fD1-xqEbaGkfnXhheTE0FYDKzJ1SlUl5YXS80lSvomtw1tUjKsDGnN2vjAJfGChP2MeahYEVv639NGbEHAOu1J9iO2to2JDXPaGDVJWinnGhEACxBwAb1FPKQGsRbNyXDOI7SfN58wroGY8LRaeycHXCaHXdx8rO57YT6QqoejTM_xdCSBVLqgttqsSEE0_zC93FKgrH3HH2Nrd7_UZUVX_ZCI7nRN9c2uZAvMQWSBFw1Ju2R02b7MxoW2zwykvMVSKYQlocgogSZMoHKsC1LuaDk-jRyve9SGrx-XXf9GnHP0uEykGdVmon6kyQ0hBGtKUuCj-ILK5GXh3StuKcusNg0O6s2ZqWg5yQd3e-b5dREUkj7PDK-GOAQq48g7O_SF0XyQLdhTOKdItDDubEbwfcZ4eGfa85f8Lzpgl7MjAZE87qM4v7KIg_ptiWHH832STeRQ2DNqoGGbE570VpO89jBFJ6RFBpJTIdd9jORQSDXOu5rSOEcxnYSkKZ7X6uvhymF5kQc_A0hQlMu0voVBZn9UW1F0myh5udlodPLotRPp-toDIJKvFtDx7qaH3cLV_btmWM6rHhvRKAZtYtmv3a_Ytkx-r_sl-uUn4XYhpNICssUD8zcbak5G3B3TjJwrRy5n_iZGJ-ZP6LS-6bhHpVYKS1TeJtk4FofDUorON1H6U52FqfkCQzgYcxkUoK8hWmDSaC1VF1jvqmI3D1oJd3VYyvn8Wf5J4sCh-qGHiFBdU_HxNBX7l9MZNuQ3c3dV3Vu3m00]--></g></svg>"
      ],
      "text/plain": [
       "<IPython.core.display.SVG object>"
      ]
     },
     "execution_count": 4,
     "metadata": {},
     "output_type": "execute_result"
    }
   ],
   "source": [
    "%%plantuml\n",
    "@startsalt\n",
    "{\n",
    "{T\n",
    "+ Fichier\n",
    "++ Application\n",
    "+++ **main_menu** | application générale\n",
    "+++ Imports standards | imports des librairies standard\n",
    "++++ **iplantuml**   | for uml markup language\n",
    "++++ **** **mongoengine** | engine pour mongodb\n",
    "+++ Database\n",
    "++++ <font color=blue>connect('PIPlanning')</font>\n",
    "+++ Backend\n",
    "++++ **import backend_PI.py** | fonctions pour les appels à base de données\n",
    "+++++ **backend_PI_mongo_model.py** | structure de la base de données\n",
    "+++++ **backend_PI_Projects.py** | fonctions projets\n",
    "+++++ **backend_PI_Teams.py** | fonctions teams\n",
    "+++++ **backend_PI_Members.py** | fonction members\n",
    "+++++ **backend_PI_Roles.py** | functions roles\n",
    "+++++ **backend_PI_tasks.py** | fonction tasks\n",
    "+++++ **backend_PI_Utils**    | fonction binary convert & center display\n",
    "+++ Frontend\n",
    "++++ **import frontend_PI.py** | All functions related to gui\n",
    "+++++ **frontend_PI_Projects.py** | Projects interfaces\n",
    "+++++ **frontend_PI_Teams.py** | teams user interfaces\n",
    "+++++ **frontend_PI_Users.py** | user login and myinfo interfaces\n",
    "+++++ **frontend_PI_Members.py** | members interfaces\n",
    "+++++ **frontend_PI_Roles.py** | Roles interfaces\n",
    "+++++ **frontend_PI_Tasks.py** | tasks interfaces\n",
    "+++ load_tests\n",
    "++++ **load_PI_data.py** | Database loading with test data for users, members, teams, project\n",
    "++++ **load_PI_data_tasks.py** |Database loading with test data for tasks\n",
    "}\n",
    "}\n",
    "@endsalt\n",
    "@enduml"
   ]
  },
  {
   "cell_type": "markdown",
   "id": "1b1c7e55-a58c-4934-97ae-ee2d71d66020",
   "metadata": {},
   "source": [
    "### Plantuml Deployement diagram for backend_PI generalities"
   ]
  },
  {
   "cell_type": "code",
   "execution_count": 3,
   "id": "990d1a11-d945-4c70-b5e1-aa768c24d482",
   "metadata": {
    "tags": []
   },
   "outputs": [
    {
     "name": "stdout",
     "output_type": "stream",
     "text": [
      "2023-03-08 11:04:13,258:::ERROR:::Unable to determine git root directory:\n",
      "fatal: ni ceci ni aucun de ses répertoires parents (jusqu'au point de montage /media/olivier) n'est un dépôt git\n",
      "Arrêt à la limite du système de fichiers (GIT_DISCOVERY_ACROSS_FILESYSTEM n'est pas défini).\n",
      "\n",
      "Writing output for /media/olivier/Donnees/Documents/Formations/Perso/PI_Planning/376659d5-47ce-4b7d-b060-c5c332d9c18f.uml to 376659d5-47ce-4b7d-b060-c5c332d9c18f.svg\n"
     ]
    },
    {
     "data": {
      "image/svg+xml": [
       "<svg xmlns=\"http://www.w3.org/2000/svg\" xmlns:xlink=\"http://www.w3.org/1999/xlink\" contentStyleType=\"text/css\" height=\"308px\" preserveAspectRatio=\"none\" style=\"width:1029px;height:308px;background:#FFFFFF;\" version=\"1.1\" viewBox=\"0 0 1029 308\" width=\"1029px\" zoomAndPan=\"magnify\"><defs/><g><text fill=\"#000000\" font-family=\"sans-serif\" font-size=\"14\" font-weight=\"bold\" lengthAdjust=\"spacing\" textLength=\"172\" x=\"421.75\" y=\"22.9951\">backend_PI functions</text><!--entity backend_PI--><g id=\"elem_backend_PI\"><path d=\"M480.5,45.7969 L480.5,77.0938 A2.5,2.5 0 0 0 483,79.5938 L603,79.5938 A2.5,2.5 0 0 0 605.5,77.0938 L605.5,53.2969 L595.5,43.2969 L483,43.2969 A2.5,2.5 0 0 0 480.5,45.7969 \" fill=\"#F1F1F1\" style=\"stroke:#181818;stroke-width:0.5;\"/><path d=\"M595.5,43.2969 L595.5,50.7969 A2.5,2.5 0 0 0 598,53.2969 L605.5,53.2969 \" fill=\"#F1F1F1\" style=\"stroke:#181818;stroke-width:0.5;\"/><text fill=\"#000000\" font-family=\"sans-serif\" font-size=\"14\" lengthAdjust=\"spacing\" textLength=\"105\" x=\"490.5\" y=\"66.292\">backend_PI.py</text></g><!--entity backend_PI_mongo_model--><g id=\"elem_backend_PI_mongo_model\"><path d=\"M6,146.7969 L6,178.0938 A2.5,2.5 0 0 0 8.5,180.5938 L237.5,180.5938 A2.5,2.5 0 0 0 240,178.0938 L240,154.2969 L230,144.2969 L8.5,144.2969 A2.5,2.5 0 0 0 6,146.7969 \" fill=\"#F1F1F1\" style=\"stroke:#181818;stroke-width:0.5;\"/><path d=\"M230,144.2969 L230,151.7969 A2.5,2.5 0 0 0 232.5,154.2969 L240,154.2969 \" fill=\"#F1F1F1\" style=\"stroke:#181818;stroke-width:0.5;\"/><text fill=\"#000000\" font-family=\"sans-serif\" font-size=\"14\" lengthAdjust=\"spacing\" textLength=\"214\" x=\"16\" y=\"167.292\">backend_PI_mongo_model.py</text></g><!--entity backend_PI_Utils--><g id=\"elem_backend_PI_Utils\"><path d=\"M275.5,146.7969 L275.5,178.0938 A2.5,2.5 0 0 0 278,180.5938 L436,180.5938 A2.5,2.5 0 0 0 438.5,178.0938 L438.5,154.2969 L428.5,144.2969 L278,144.2969 A2.5,2.5 0 0 0 275.5,146.7969 \" fill=\"#F1F1F1\" style=\"stroke:#181818;stroke-width:0.5;\"/><path d=\"M428.5,144.2969 L428.5,151.7969 A2.5,2.5 0 0 0 431,154.2969 L438.5,154.2969 \" fill=\"#F1F1F1\" style=\"stroke:#181818;stroke-width:0.5;\"/><text fill=\"#000000\" font-family=\"sans-serif\" font-size=\"14\" lengthAdjust=\"spacing\" textLength=\"143\" x=\"285.5\" y=\"167.292\">backend_PI_Utils.py</text></g><!--entity convert_to_bytes--><g id=\"elem_convert_to_bytes\"><polygon fill=\"#F1F1F1\" points=\"273.5,255.2969,283.5,245.2969,440.5,245.2969,440.5,281.5938,430.5,291.5938,273.5,291.5938,273.5,255.2969\" style=\"stroke:#181818;stroke-width:0.5;\"/><line style=\"stroke:#181818;stroke-width:0.5;\" x1=\"430.5\" x2=\"440.5\" y1=\"255.2969\" y2=\"245.2969\"/><line style=\"stroke:#181818;stroke-width:0.5;\" x1=\"273.5\" x2=\"430.5\" y1=\"255.2969\" y2=\"255.2969\"/><line style=\"stroke:#181818;stroke-width:0.5;\" x1=\"430.5\" x2=\"430.5\" y1=\"255.2969\" y2=\"291.5938\"/><text fill=\"#000000\" font-family=\"sans-serif\" font-size=\"14\" lengthAdjust=\"spacing\" textLength=\"127\" x=\"288.5\" y=\"278.292\">convert_to_bytes</text></g><!--entity mongoengine--><g id=\"elem_mongoengine\"><polygon fill=\"#F1F1F1\" points=\"473.5,149.2969,483.5,139.2969,612.5,139.2969,612.5,175.5938,602.5,185.5938,473.5,185.5938,473.5,149.2969\" style=\"stroke:#181818;stroke-width:0.5;\"/><line style=\"stroke:#181818;stroke-width:0.5;\" x1=\"602.5\" x2=\"612.5\" y1=\"149.2969\" y2=\"139.2969\"/><line style=\"stroke:#181818;stroke-width:0.5;\" x1=\"473.5\" x2=\"602.5\" y1=\"149.2969\" y2=\"149.2969\"/><line style=\"stroke:#181818;stroke-width:0.5;\" x1=\"602.5\" x2=\"602.5\" y1=\"149.2969\" y2=\"185.5938\"/><text fill=\"#000000\" font-family=\"sans-serif\" font-size=\"14\" lengthAdjust=\"spacing\" textLength=\"99\" x=\"488.5\" y=\"172.292\">mongoengine</text></g><!--entity mongopagination--><g id=\"elem_mongopagination\"><polygon fill=\"#F1F1F1\" points=\"647.5,149.2969,657.5,139.2969,870.5,139.2969,870.5,175.5938,860.5,185.5938,647.5,185.5938,647.5,149.2969\" style=\"stroke:#181818;stroke-width:0.5;\"/><line style=\"stroke:#181818;stroke-width:0.5;\" x1=\"860.5\" x2=\"870.5\" y1=\"149.2969\" y2=\"139.2969\"/><line style=\"stroke:#181818;stroke-width:0.5;\" x1=\"647.5\" x2=\"860.5\" y1=\"149.2969\" y2=\"149.2969\"/><line style=\"stroke:#181818;stroke-width:0.5;\" x1=\"860.5\" x2=\"860.5\" y1=\"149.2969\" y2=\"185.5938\"/><text fill=\"#000000\" font-family=\"sans-serif\" font-size=\"14\" lengthAdjust=\"spacing\" textLength=\"183\" x=\"662.5\" y=\"172.292\">mongoengine_pagination</text></g><!--entity datetime--><g id=\"elem_datetime\"><polygon fill=\"#F1F1F1\" points=\"905.5,149.2969,915.5,139.2969,1012.5,139.2969,1012.5,175.5938,1002.5,185.5938,905.5,185.5938,905.5,149.2969\" style=\"stroke:#181818;stroke-width:0.5;\"/><line style=\"stroke:#181818;stroke-width:0.5;\" x1=\"1002.5\" x2=\"1012.5\" y1=\"149.2969\" y2=\"139.2969\"/><line style=\"stroke:#181818;stroke-width:0.5;\" x1=\"905.5\" x2=\"1002.5\" y1=\"149.2969\" y2=\"149.2969\"/><line style=\"stroke:#181818;stroke-width:0.5;\" x1=\"1002.5\" x2=\"1002.5\" y1=\"149.2969\" y2=\"185.5938\"/><text fill=\"#000000\" font-family=\"sans-serif\" font-size=\"14\" lengthAdjust=\"spacing\" textLength=\"67\" x=\"920.5\" y=\"172.292\">datetime</text></g><!--entity PIPlanning--><g id=\"elem_PIPlanning\"><path d=\"M76,255.7969 C76,245.7969 123,245.7969 123,245.7969 C123,245.7969 170,245.7969 170,255.7969 L170,281.0938 C170,291.0938 123,291.0938 123,291.0938 C123,291.0938 76,291.0938 76,281.0938 L76,255.7969 \" fill=\"#F1F1F1\" style=\"stroke:#181818;stroke-width:0.5;\"/><path d=\"M76,255.7969 C76,265.7969 123,265.7969 123,265.7969 C123,265.7969 170,265.7969 170,255.7969 \" fill=\"none\" style=\"stroke:#181818;stroke-width:0.5;\"/><text fill=\"#000000\" font-family=\"sans-serif\" font-size=\"14\" lengthAdjust=\"spacing\" textLength=\"74\" x=\"86\" y=\"282.792\">PIPlanning</text></g><!--link backend_PI to backend_PI_mongo_model--><g id=\"link_backend_PI_backend_PI_mongo_model\"><path d=\"M480.122,77.1179 C406.338,94.5099 283.859,123.3799 203.276,142.3749 \" fill=\"none\" id=\"backend_PI-to-backend_PI_mongo_model\" style=\"stroke:#181818;stroke-width:1.0;\"/><polygon fill=\"#181818\" points=\"195.125,144.2959,203.5999,145.3803,202.2232,139.5403,195.125,144.2959\" style=\"stroke:#181818;stroke-width:1.0;\"/></g><!--link backend_PI to backend_PI_Utils--><g id=\"link_backend_PI_backend_PI_Utils\"><path d=\"M511.025,79.3159 C479.352,96.1739 430.772,122.0309 396.658,140.1889 \" fill=\"none\" id=\"backend_PI-to-backend_PI_Utils\" style=\"stroke:#181818;stroke-width:1.0;\"/><polygon fill=\"#181818\" points=\"389.18,144.1689,397.6515,143.0583,394.8324,137.7618,389.18,144.1689\" style=\"stroke:#181818;stroke-width:1.0;\"/></g><!--link backend_PI_mongo_model to PIPlanning--><g id=\"link_backend_PI_mongo_model_PIPlanning\"><path d=\"M123,180.4699 C123,195.9799 123,219.1393 123,237.6397 \" fill=\"none\" id=\"backend_PI_mongo_model-to-PIPlanning\" style=\"stroke:#181818;stroke-width:1.0;\"/><polygon fill=\"#181818\" points=\"123,245.7678,126,237.7678,120,237.7678,123,245.7678\" style=\"stroke:#181818;stroke-width:1.0;\"/></g><!--link backend_PI to mongoengine--><g id=\"link_backend_PI_mongoengine\"><path d=\"M543,79.5409 C543,92.3099 543,110.1499 543,125.9089 \" fill=\"none\" id=\"backend_PI-to-mongoengine\" style=\"stroke:#181818;stroke-width:1.0;\"/><polygon fill=\"#181818\" points=\"543,139.0409,547,133.0409,543,127.0409,539,133.0409,543,139.0409\" style=\"stroke:#181818;stroke-width:1.0;\"/></g><!--link backend_PI to mongopagination--><g id=\"link_backend_PI_mongopagination\"><path d=\"M580.132,79.3159 C612.675,94.2309 660.589,116.1919 698.638,133.6309 \" fill=\"none\" id=\"backend_PI-to-mongopagination\" style=\"stroke:#181818;stroke-width:1.0;\"/><polygon fill=\"#181818\" points=\"710.613,139.1189,706.8256,132.9824,699.7046,134.1183,703.4919,140.2547,710.613,139.1189\" style=\"stroke:#181818;stroke-width:1.0;\"/></g><!--link backend_PI to datetime--><g id=\"link_backend_PI_datetime\"><path d=\"M605.694,74.6989 C675.111,88.7999 790.145,113.2619 888,139.2969 C889.491,139.6939 890.997,140.1009 892.514,140.5179 \" fill=\"none\" id=\"backend_PI-to-datetime\" style=\"stroke:#181818;stroke-width:1.0;\"/><polygon fill=\"#181818\" points=\"905.247,144.1399,900.5706,138.6507,893.705,140.8561,898.3814,146.3453,905.247,144.1399\" style=\"stroke:#181818;stroke-width:1.0;\"/></g><!--link backend_PI_Utils to convert_to_bytes--><g id=\"link_backend_PI_Utils_convert_to_bytes\"><path d=\"M357,180.4699 C357,194.4006 357,214.502 357,231.856 \" fill=\"none\" id=\"backend_PI_Utils-to-convert_to_bytes\" style=\"stroke:#181818;stroke-width:1.0;\"/><polygon fill=\"#181818\" points=\"357,245.0142,361,239.0142,357,233.0142,353,239.0142,357,245.0142\" style=\"stroke:#181818;stroke-width:1.0;\"/></g><!--SRC=[VL3D2eCm3BxdANeUk4VmxitBJcEKgb72QYfhDl3jLujWjNCzXFBz97oVa5XKZMcVo9skAzM_kHLox05wsbDtKE5jm7MQuP79zEXuS65sQ3DBIfxORqBMvyO8hnOETjKw_k1Bj3ZTp89-XUC1v84O4s0o0J1BhdLp8jCR6PP7JsS4XKO423_J68-ghcfhc8a704XAAOgoF0duJnRZm4bhKPmStEsvx2B-ef8y1thBbHM-qCTAlm00]--></g></svg>"
      ],
      "text/plain": [
       "<IPython.core.display.SVG object>"
      ]
     },
     "execution_count": 3,
     "metadata": {},
     "output_type": "execute_result"
    }
   ],
   "source": [
    "%%plantuml\n",
    "@startuml\n",
    "title backend_PI functions\n",
    "\n",
    "file backend_PI [\n",
    "    backend_PI.py\n",
    "]\n",
    "\n",
    "file backend_PI_mongo_model [\n",
    "    backend_PI_mongo_model.py\n",
    "]\n",
    "\n",
    "file backend_PI_Utils [\n",
    "    backend_PI_Utils.py\n",
    "]\n",
    "\n",
    "node convert_to_bytes\n",
    "\n",
    "node mongoengine\n",
    "node mongopagination [\n",
    "    mongoengine_pagination\n",
    "]\n",
    "node datetime\n",
    "\n",
    "database PIPlanning\n",
    "\n",
    "\n",
    "backend_PI -->> backend_PI_mongo_model\n",
    "backend_PI -->> backend_PI_Utils\n",
    "backend_PI_mongo_model -->> PIPlanning\n",
    "backend_PI --* mongoengine\n",
    "backend_PI --* mongopagination\n",
    "backend_PI --* datetime\n",
    "\n",
    "backend_PI_Utils --* convert_to_bytes\n",
    "\n",
    "@enduml\n"
   ]
  },
  {
   "cell_type": "markdown",
   "id": "f6412204-ca11-41e8-a005-5b957c4868cc",
   "metadata": {},
   "source": [
    "### Plantuml Deployement diagram for frontend_PI generalities"
   ]
  },
  {
   "cell_type": "code",
   "execution_count": 5,
   "id": "791a568b-c114-4573-a1b9-68ce02282d39",
   "metadata": {
    "tags": []
   },
   "outputs": [
    {
     "name": "stdout",
     "output_type": "stream",
     "text": [
      "Writing output for /media/olivier/Donnees/Documents/Formations/Perso/PI_Planning/335fce48-deb4-4ed2-8f6b-11b24736a464.uml to 335fce48-deb4-4ed2-8f6b-11b24736a464.svg\n"
     ]
    },
    {
     "data": {
      "image/svg+xml": [
       "<svg xmlns=\"http://www.w3.org/2000/svg\" xmlns:xlink=\"http://www.w3.org/1999/xlink\" contentStyleType=\"text/css\" height=\"309px\" preserveAspectRatio=\"none\" style=\"width:637px;height:309px;background:#FFFFFF;\" version=\"1.1\" viewBox=\"0 0 637 309\" width=\"637px\" zoomAndPan=\"magnify\"><defs/><g><text fill=\"#000000\" font-family=\"sans-serif\" font-size=\"14\" font-weight=\"bold\" lengthAdjust=\"spacing\" textLength=\"176\" x=\"223.5\" y=\"22.9951\">frontend_PI functions</text><!--entity frontend_PI--><g id=\"elem_frontend_PI\"><path d=\"M399,45.7969 L399,77.0938 A2.5,2.5 0 0 0 401.5,79.5938 L523.5,79.5938 A2.5,2.5 0 0 0 526,77.0938 L526,53.2969 L516,43.2969 L401.5,43.2969 A2.5,2.5 0 0 0 399,45.7969 \" fill=\"#F1F1F1\" style=\"stroke:#181818;stroke-width:0.5;\"/><path d=\"M516,43.2969 L516,50.7969 A2.5,2.5 0 0 0 518.5,53.2969 L526,53.2969 \" fill=\"#F1F1F1\" style=\"stroke:#181818;stroke-width:0.5;\"/><text fill=\"#000000\" font-family=\"sans-serif\" font-size=\"14\" lengthAdjust=\"spacing\" textLength=\"107\" x=\"409\" y=\"66.292\">frontend_PI.py</text></g><!--entity frontend_PI_Utils--><g id=\"elem_frontend_PI_Utils\"><path d=\"M289,146.7969 L289,178.0938 A2.5,2.5 0 0 0 291.5,180.5938 L451.5,180.5938 A2.5,2.5 0 0 0 454,178.0938 L454,154.2969 L444,144.2969 L291.5,144.2969 A2.5,2.5 0 0 0 289,146.7969 \" fill=\"#F1F1F1\" style=\"stroke:#181818;stroke-width:0.5;\"/><path d=\"M444,144.2969 L444,151.7969 A2.5,2.5 0 0 0 446.5,154.2969 L454,154.2969 \" fill=\"#F1F1F1\" style=\"stroke:#181818;stroke-width:0.5;\"/><text fill=\"#000000\" font-family=\"sans-serif\" font-size=\"14\" lengthAdjust=\"spacing\" textLength=\"145\" x=\"299\" y=\"167.292\">frontend_PI_Utils.py</text></g><!--entity PySimpleGUI--><g id=\"elem_PySimpleGUI\"><polygon fill=\"#F1F1F1\" points=\"489,149.2969,499,139.2969,620,139.2969,620,175.5938,610,185.5938,489,185.5938,489,149.2969\" style=\"stroke:#181818;stroke-width:0.5;\"/><line style=\"stroke:#181818;stroke-width:0.5;\" x1=\"610\" x2=\"620\" y1=\"149.2969\" y2=\"139.2969\"/><line style=\"stroke:#181818;stroke-width:0.5;\" x1=\"489\" x2=\"610\" y1=\"149.2969\" y2=\"149.2969\"/><line style=\"stroke:#181818;stroke-width:0.5;\" x1=\"610\" x2=\"610\" y1=\"149.2969\" y2=\"185.5938\"/><text fill=\"#000000\" font-family=\"sans-serif\" font-size=\"14\" lengthAdjust=\"spacing\" textLength=\"91\" x=\"504\" y=\"172.292\">PySimpleGUI</text></g><!--entity my_move_to_center--><g id=\"elem_my_move_to_center\"><polygon fill=\"#F1F1F1\" points=\"16,256.2969,26,246.2969,203,246.2969,203,282.5938,193,292.5938,16,292.5938,16,256.2969\" style=\"stroke:#181818;stroke-width:0.5;\"/><line style=\"stroke:#181818;stroke-width:0.5;\" x1=\"193\" x2=\"203\" y1=\"256.2969\" y2=\"246.2969\"/><line style=\"stroke:#181818;stroke-width:0.5;\" x1=\"16\" x2=\"193\" y1=\"256.2969\" y2=\"256.2969\"/><line style=\"stroke:#181818;stroke-width:0.5;\" x1=\"193\" x2=\"193\" y1=\"256.2969\" y2=\"292.5938\"/><text fill=\"#000000\" font-family=\"sans-serif\" font-size=\"14\" lengthAdjust=\"spacing\" textLength=\"147\" x=\"31\" y=\"279.292\">my_move_to_center</text></g><!--entity get_default_screen_dimensions--><g id=\"elem_get_default_screen_dimensions\"><polygon fill=\"#F1F1F1\" points=\"238.5,256.2969,248.5,246.2969,504.5,246.2969,504.5,282.5938,494.5,292.5938,238.5,292.5938,238.5,256.2969\" style=\"stroke:#181818;stroke-width:0.5;\"/><line style=\"stroke:#181818;stroke-width:0.5;\" x1=\"494.5\" x2=\"504.5\" y1=\"256.2969\" y2=\"246.2969\"/><line style=\"stroke:#181818;stroke-width:0.5;\" x1=\"238.5\" x2=\"494.5\" y1=\"256.2969\" y2=\"256.2969\"/><line style=\"stroke:#181818;stroke-width:0.5;\" x1=\"494.5\" x2=\"494.5\" y1=\"256.2969\" y2=\"292.5938\"/><text fill=\"#000000\" font-family=\"sans-serif\" font-size=\"14\" lengthAdjust=\"spacing\" textLength=\"226\" x=\"253.5\" y=\"279.292\">get_default_screen_dimensions</text></g><!--entity MyWindow--><g id=\"elem_MyWindow\"><ellipse cx=\"577.5\" cy=\"261.2969\" fill=\"#F1F1F1\" rx=\"12\" ry=\"12\" style=\"stroke:#181818;stroke-width:0.5;\"/><line style=\"stroke:#181818;stroke-width:0.5;\" x1=\"565.5\" x2=\"589.5\" y1=\"275.2969\" y2=\"275.2969\"/><text fill=\"#000000\" font-family=\"sans-serif\" font-size=\"14\" lengthAdjust=\"spacing\" textLength=\"76\" x=\"539.5\" y=\"290.292\">MyWindow</text></g><!--link frontend_PI to PySimpleGUI--><g id=\"link_frontend_PI_PySimpleGUI\"><path d=\"M478.525,79.5409 C491.23,93.2129 509.338,112.6989 524.689,129.2169 \" fill=\"none\" id=\"frontend_PI-to-PySimpleGUI\" style=\"stroke:#181818;stroke-width:1.0;\"/><polygon fill=\"#181818\" points=\"533.818,139.0409,532.6641,131.9227,525.6497,130.2501,526.8036,137.3683,533.818,139.0409\" style=\"stroke:#181818;stroke-width:1.0;\"/></g><!--link frontend_PI to frontend_PI_Utils--><g id=\"link_frontend_PI_frontend_PI_Utils\"><path d=\"M446.649,79.5409 C432.687,94.7309 412.127,117.0979 396.04,134.5989 \" fill=\"none\" id=\"frontend_PI-to-frontend_PI_Utils\" style=\"stroke:#181818;stroke-width:1.0;\"/><polygon fill=\"#181818\" points=\"387.169,144.2499,394.1742,142.5391,395.2894,135.4148,388.2842,137.1255,387.169,144.2499\" style=\"stroke:#181818;stroke-width:1.0;\"/></g><!--link frontend_PI_Utils to my_move_to_center--><g id=\"link_frontend_PI_Utils_my_move_to_center\"><path d=\"M328.822,180.4009 C287.605,196.9191 224.552,222.1884 176.613,241.4003 \" fill=\"none\" id=\"frontend_PI_Utils-to-my_move_to_center\" style=\"stroke:#181818;stroke-width:1.0;\"/><polygon fill=\"#181818\" points=\"164.462,246.27,171.5194,247.751,175.6009,241.8062,168.5435,240.3251,164.462,246.27\" style=\"stroke:#181818;stroke-width:1.0;\"/></g><!--link frontend_PI_Utils to get_default_screen_dimensions--><g id=\"link_frontend_PI_Utils_get_default_screen_dimensions\"><path d=\"M371.5,180.6359 C371.5,194.8617 371.5,215.4627 371.5,233.1196 \" fill=\"none\" id=\"frontend_PI_Utils-to-get_default_screen_dimensions\" style=\"stroke:#181818;stroke-width:1.0;\"/><polygon fill=\"#181818\" points=\"371.5,246.1814,375.5,240.1814,371.5,234.1814,367.5,240.1814,371.5,246.1814\" style=\"stroke:#181818;stroke-width:1.0;\"/></g><!--link frontend_PI_Utils to MyWindow--><g id=\"link_frontend_PI_Utils_MyWindow\"><path d=\"M405.056,180.4009 C440.442,198.4374 496.298,226.9075 534.801,246.5328 \" fill=\"none\" id=\"frontend_PI_Utils-to-MyWindow\" style=\"stroke:#181818;stroke-width:1.0;\"/><ellipse cx=\"534.0628\" cy=\"246.1555\" fill=\"#FFFFFF\" rx=\"6\" ry=\"6\" style=\"stroke:#181818;stroke-width:1.5;\"/></g><!--SRC=[VO_12i8m38RlVOgUXObl8Ji80naUH8AigGJQT6oPqhUtKf5j7URuv_l95o5ngEqGM90DDBMs4tT2WKUbBArsLwNJp99z7zMj1A4LScE9vpoNE1ZKJJoJxnqUspe7Fe8FJmG9q66g3Jb-e811Uv-SmDWDY0o6FFAOHHD94lKfNeXDU2MXcNHLxHPtrhl2Jotwtry-P2ctpVsttUeSVkvl]--></g></svg>"
      ],
      "text/plain": [
       "<IPython.core.display.SVG object>"
      ]
     },
     "execution_count": 5,
     "metadata": {},
     "output_type": "execute_result"
    }
   ],
   "source": [
    "%%plantuml\n",
    "@startuml\n",
    "title frontend_PI functions\n",
    "\n",
    "file frontend_PI [\n",
    "    frontend_PI.py\n",
    "]\n",
    "\n",
    "file frontend_PI_Utils [\n",
    "    frontend_PI_Utils.py\n",
    "]\n",
    "node PySimpleGUI\n",
    "node my_move_to_center\n",
    "node get_default_screen_dimensions\n",
    "\n",
    "entity MyWindow\n",
    "\n",
    "frontend_PI --* PySimpleGUI\n",
    "frontend_PI --* frontend_PI_Utils\n",
    "\n",
    "\n",
    "frontend_PI_Utils --* my_move_to_center\n",
    "frontend_PI_Utils --* get_default_screen_dimensions\n",
    "frontend_PI_Utils --0 MyWindow \n",
    "\n",
    "\n",
    "@enduml\n"
   ]
  },
  {
   "cell_type": "markdown",
   "id": "eb98265b-d931-4ec3-8740-36651d7ae6a3",
   "metadata": {},
   "source": [
    "## Plantuml Deployement diagram for Projects"
   ]
  },
  {
   "cell_type": "code",
   "execution_count": 6,
   "id": "98cb25ab-9d02-47e1-8062-b1e8d2b50e1b",
   "metadata": {
    "tags": []
   },
   "outputs": [
    {
     "name": "stdout",
     "output_type": "stream",
     "text": [
      "Writing output for /media/olivier/Donnees/Documents/Formations/Perso/PI_Planning/662ce94e-041a-4b6f-8176-5a999962a27f.uml to 662ce94e-041a-4b6f-8176-5a999962a27f.svg\n"
     ]
    },
    {
     "data": {
      "image/svg+xml": [
       "<svg xmlns=\"http://www.w3.org/2000/svg\" xmlns:xlink=\"http://www.w3.org/1999/xlink\" contentStyleType=\"text/css\" height=\"427px\" preserveAspectRatio=\"none\" style=\"width:1735px;height:427px;background:#FFFFFF;\" version=\"1.1\" viewBox=\"0 0 1735 427\" width=\"1735px\" zoomAndPan=\"magnify\"><defs/><g><text fill=\"#000000\" font-family=\"sans-serif\" font-size=\"14\" font-weight=\"bold\" lengthAdjust=\"spacing\" textLength=\"150\" x=\"785.75\" y=\"22.9951\">Projects functions</text><!--entity node--><g id=\"elem_node\"><rect fill=\"#F1F1F1\" height=\"46.2969\" rx=\"2.5\" ry=\"2.5\" style=\"stroke:#181818;stroke-width:0.5;\" width=\"164\" x=\"1228.5\" y=\"44.2969\"/><rect fill=\"#F1F1F1\" height=\"10\" style=\"stroke:#181818;stroke-width:0.5;\" width=\"15\" x=\"1372.5\" y=\"49.2969\"/><rect fill=\"#F1F1F1\" height=\"2\" style=\"stroke:#181818;stroke-width:0.5;\" width=\"4\" x=\"1370.5\" y=\"51.2969\"/><rect fill=\"#F1F1F1\" height=\"2\" style=\"stroke:#181818;stroke-width:0.5;\" width=\"4\" x=\"1370.5\" y=\"55.2969\"/><text fill=\"#000000\" font-family=\"sans-serif\" font-size=\"14\" lengthAdjust=\"spacing\" textLength=\"124\" x=\"1243.5\" y=\"77.292\">Main_Menu.jpynb</text></g><!--entity backend_PI--><g id=\"elem_backend_PI\"><path d=\"M1069,152.7969 L1069,184.0938 A2.5,2.5 0 0 0 1071.5,186.5938 L1191.5,186.5938 A2.5,2.5 0 0 0 1194,184.0938 L1194,160.2969 L1184,150.2969 L1071.5,150.2969 A2.5,2.5 0 0 0 1069,152.7969 \" fill=\"#F1F1F1\" style=\"stroke:#181818;stroke-width:0.5;\"/><path d=\"M1184,150.2969 L1184,157.7969 A2.5,2.5 0 0 0 1186.5,160.2969 L1194,160.2969 \" fill=\"#F1F1F1\" style=\"stroke:#181818;stroke-width:0.5;\"/><text fill=\"#000000\" font-family=\"sans-serif\" font-size=\"14\" lengthAdjust=\"spacing\" textLength=\"105\" x=\"1079\" y=\"173.292\">backend_PI.py</text></g><!--entity backend_PI_Projects--><g id=\"elem_backend_PI_Projects\"><path d=\"M455,259.7969 L455,291.0938 A2.5,2.5 0 0 0 457.5,293.5938 L643.5,293.5938 A2.5,2.5 0 0 0 646,291.0938 L646,267.2969 L636,257.2969 L457.5,257.2969 A2.5,2.5 0 0 0 455,259.7969 \" fill=\"#F1F1F1\" style=\"stroke:#181818;stroke-width:0.5;\"/><path d=\"M636,257.2969 L636,264.7969 A2.5,2.5 0 0 0 638.5,267.2969 L646,267.2969 \" fill=\"#F1F1F1\" style=\"stroke:#181818;stroke-width:0.5;\"/><text fill=\"#000000\" font-family=\"sans-serif\" font-size=\"14\" lengthAdjust=\"spacing\" textLength=\"171\" x=\"465\" y=\"280.292\">backend_PI_Projects.py</text></g><!--entity frontend_PI--><g id=\"elem_frontend_PI\"><path d=\"M1352,152.7969 L1352,184.0938 A2.5,2.5 0 0 0 1354.5,186.5938 L1476.5,186.5938 A2.5,2.5 0 0 0 1479,184.0938 L1479,160.2969 L1469,150.2969 L1354.5,150.2969 A2.5,2.5 0 0 0 1352,152.7969 \" fill=\"#F1F1F1\" style=\"stroke:#181818;stroke-width:0.5;\"/><path d=\"M1469,150.2969 L1469,157.7969 A2.5,2.5 0 0 0 1471.5,160.2969 L1479,160.2969 \" fill=\"#F1F1F1\" style=\"stroke:#181818;stroke-width:0.5;\"/><text fill=\"#000000\" font-family=\"sans-serif\" font-size=\"14\" lengthAdjust=\"spacing\" textLength=\"107\" x=\"1362\" y=\"173.292\">frontend_PI.py</text></g><!--entity frontend_PI_Projects--><g id=\"elem_frontend_PI_Projects\"><path d=\"M1319,259.7969 L1319,291.0938 A2.5,2.5 0 0 0 1321.5,293.5938 L1509.5,293.5938 A2.5,2.5 0 0 0 1512,291.0938 L1512,267.2969 L1502,257.2969 L1321.5,257.2969 A2.5,2.5 0 0 0 1319,259.7969 \" fill=\"#F1F1F1\" style=\"stroke:#181818;stroke-width:0.5;\"/><path d=\"M1502,257.2969 L1502,264.7969 A2.5,2.5 0 0 0 1504.5,267.2969 L1512,267.2969 \" fill=\"#F1F1F1\" style=\"stroke:#181818;stroke-width:0.5;\"/><text fill=\"#000000\" font-family=\"sans-serif\" font-size=\"14\" lengthAdjust=\"spacing\" textLength=\"173\" x=\"1329\" y=\"280.292\">frontend_PI_Projects.py</text></g><!--entity PIPlanning--><g id=\"elem_PIPlanning\"><path d=\"M1009.5,262.7969 C1009.5,252.7969 1056.5,252.7969 1056.5,252.7969 C1056.5,252.7969 1103.5,252.7969 1103.5,262.7969 L1103.5,288.0938 C1103.5,298.0938 1056.5,298.0938 1056.5,298.0938 C1056.5,298.0938 1009.5,298.0938 1009.5,288.0938 L1009.5,262.7969 \" fill=\"#F1F1F1\" style=\"stroke:#181818;stroke-width:0.5;\"/><path d=\"M1009.5,262.7969 C1009.5,272.7969 1056.5,272.7969 1056.5,272.7969 C1056.5,272.7969 1103.5,272.7969 1103.5,262.7969 \" fill=\"none\" style=\"stroke:#181818;stroke-width:0.5;\"/><text fill=\"#000000\" font-family=\"sans-serif\" font-size=\"14\" lengthAdjust=\"spacing\" textLength=\"74\" x=\"1019.5\" y=\"289.792\">PIPlanning</text></g><!--entity Projects--><g id=\"elem_Projects\"><rect fill=\"#F1F1F1\" height=\"39.2969\" rx=\"2.5\" ry=\"2.5\" style=\"stroke:#181818;stroke-width:0.5;\" width=\"89\" x=\"1012\" y=\"367.7969\"/><polygon fill=\"#F1F1F1\" points=\"1084,372.7969,1084,386.7969,1096,386.7969,1096,378.7969,1090,372.7969,1084,372.7969\" style=\"stroke:#181818;stroke-width:0.5;\"/><line style=\"stroke:#181818;stroke-width:0.5;\" x1=\"1090\" x2=\"1090\" y1=\"372.7969\" y2=\"378.7969\"/><line style=\"stroke:#181818;stroke-width:0.5;\" x1=\"1096\" x2=\"1090\" y1=\"378.7969\" y2=\"378.7969\"/><text fill=\"#000000\" font-family=\"sans-serif\" font-size=\"14\" lengthAdjust=\"spacing\" textLength=\"59\" x=\"1022\" y=\"393.792\">Projects</text></g><!--entity create_project--><g id=\"elem_create_project\"><polygon fill=\"#F1F1F1\" points=\"16,374.2969,26,364.2969,163,364.2969,163,400.5938,153,410.5938,16,410.5938,16,374.2969\" style=\"stroke:#181818;stroke-width:0.5;\"/><line style=\"stroke:#181818;stroke-width:0.5;\" x1=\"153\" x2=\"163\" y1=\"374.2969\" y2=\"364.2969\"/><line style=\"stroke:#181818;stroke-width:0.5;\" x1=\"16\" x2=\"153\" y1=\"374.2969\" y2=\"374.2969\"/><line style=\"stroke:#181818;stroke-width:0.5;\" x1=\"153\" x2=\"153\" y1=\"374.2969\" y2=\"410.5938\"/><text fill=\"#000000\" font-family=\"sans-serif\" font-size=\"14\" lengthAdjust=\"spacing\" textLength=\"107\" x=\"31\" y=\"397.292\">create_project</text></g><!--entity query_project--><g id=\"elem_query_project\"><polygon fill=\"#F1F1F1\" points=\"198.5,374.2969,208.5,364.2969,338.5,364.2969,338.5,400.5938,328.5,410.5938,198.5,410.5938,198.5,374.2969\" style=\"stroke:#181818;stroke-width:0.5;\"/><line style=\"stroke:#181818;stroke-width:0.5;\" x1=\"328.5\" x2=\"338.5\" y1=\"374.2969\" y2=\"364.2969\"/><line style=\"stroke:#181818;stroke-width:0.5;\" x1=\"198.5\" x2=\"328.5\" y1=\"374.2969\" y2=\"374.2969\"/><line style=\"stroke:#181818;stroke-width:0.5;\" x1=\"328.5\" x2=\"328.5\" y1=\"374.2969\" y2=\"410.5938\"/><text fill=\"#000000\" font-family=\"sans-serif\" font-size=\"14\" lengthAdjust=\"spacing\" textLength=\"100\" x=\"213.5\" y=\"397.292\">query_project</text></g><!--entity list_projects--><g id=\"elem_list_projects\"><polygon fill=\"#F1F1F1\" points=\"374,374.2969,384,364.2969,503,364.2969,503,400.5938,493,410.5938,374,410.5938,374,374.2969\" style=\"stroke:#181818;stroke-width:0.5;\"/><line style=\"stroke:#181818;stroke-width:0.5;\" x1=\"493\" x2=\"503\" y1=\"374.2969\" y2=\"364.2969\"/><line style=\"stroke:#181818;stroke-width:0.5;\" x1=\"374\" x2=\"493\" y1=\"374.2969\" y2=\"374.2969\"/><line style=\"stroke:#181818;stroke-width:0.5;\" x1=\"493\" x2=\"493\" y1=\"374.2969\" y2=\"410.5938\"/><text fill=\"#000000\" font-family=\"sans-serif\" font-size=\"14\" lengthAdjust=\"spacing\" textLength=\"89\" x=\"389\" y=\"397.292\">list_projects</text></g><!--entity query_project_name_from_ID--><g id=\"elem_query_project_name_from_ID\"><polygon fill=\"#F1F1F1\" points=\"538,374.2969,548,364.2969,789,364.2969,789,400.5938,779,410.5938,538,410.5938,538,374.2969\" style=\"stroke:#181818;stroke-width:0.5;\"/><line style=\"stroke:#181818;stroke-width:0.5;\" x1=\"779\" x2=\"789\" y1=\"374.2969\" y2=\"364.2969\"/><line style=\"stroke:#181818;stroke-width:0.5;\" x1=\"538\" x2=\"779\" y1=\"374.2969\" y2=\"374.2969\"/><line style=\"stroke:#181818;stroke-width:0.5;\" x1=\"779\" x2=\"779\" y1=\"374.2969\" y2=\"410.5938\"/><text fill=\"#000000\" font-family=\"sans-serif\" font-size=\"14\" lengthAdjust=\"spacing\" textLength=\"211\" x=\"553\" y=\"397.292\">query_project_name_from_ID</text></g><!--entity archive_project--><g id=\"elem_archive_project\"><polygon fill=\"#F1F1F1\" points=\"824.5,374.2969,834.5,364.2969,976.5,364.2969,976.5,400.5938,966.5,410.5938,824.5,410.5938,824.5,374.2969\" style=\"stroke:#181818;stroke-width:0.5;\"/><line style=\"stroke:#181818;stroke-width:0.5;\" x1=\"966.5\" x2=\"976.5\" y1=\"374.2969\" y2=\"364.2969\"/><line style=\"stroke:#181818;stroke-width:0.5;\" x1=\"824.5\" x2=\"966.5\" y1=\"374.2969\" y2=\"374.2969\"/><line style=\"stroke:#181818;stroke-width:0.5;\" x1=\"966.5\" x2=\"966.5\" y1=\"374.2969\" y2=\"410.5938\"/><text fill=\"#000000\" font-family=\"sans-serif\" font-size=\"14\" lengthAdjust=\"spacing\" textLength=\"112\" x=\"839.5\" y=\"397.292\">archive_project</text></g><!--entity create_project_gui--><g id=\"elem_create_project_gui\"><polygon fill=\"#F1F1F1\" points=\"1136,374.2969,1146,364.2969,1311,364.2969,1311,400.5938,1301,410.5938,1136,410.5938,1136,374.2969\" style=\"stroke:#181818;stroke-width:0.5;\"/><line style=\"stroke:#181818;stroke-width:0.5;\" x1=\"1301\" x2=\"1311\" y1=\"374.2969\" y2=\"364.2969\"/><line style=\"stroke:#181818;stroke-width:0.5;\" x1=\"1136\" x2=\"1301\" y1=\"374.2969\" y2=\"374.2969\"/><line style=\"stroke:#181818;stroke-width:0.5;\" x1=\"1301\" x2=\"1301\" y1=\"374.2969\" y2=\"410.5938\"/><text fill=\"#000000\" font-family=\"sans-serif\" font-size=\"14\" lengthAdjust=\"spacing\" textLength=\"135\" x=\"1151\" y=\"397.292\">create_project_gui</text></g><!--entity list_projects_gui--><g id=\"elem_list_projects_gui\"><polygon fill=\"#F1F1F1\" points=\"1346,374.2969,1356,364.2969,1503,364.2969,1503,400.5938,1493,410.5938,1346,410.5938,1346,374.2969\" style=\"stroke:#181818;stroke-width:0.5;\"/><line style=\"stroke:#181818;stroke-width:0.5;\" x1=\"1493\" x2=\"1503\" y1=\"374.2969\" y2=\"364.2969\"/><line style=\"stroke:#181818;stroke-width:0.5;\" x1=\"1346\" x2=\"1493\" y1=\"374.2969\" y2=\"374.2969\"/><line style=\"stroke:#181818;stroke-width:0.5;\" x1=\"1493\" x2=\"1493\" y1=\"374.2969\" y2=\"410.5938\"/><text fill=\"#000000\" font-family=\"sans-serif\" font-size=\"14\" lengthAdjust=\"spacing\" textLength=\"117\" x=\"1361\" y=\"397.292\">list_projects_gui</text></g><!--entity archive_project_gui--><g id=\"elem_archive_project_gui\"><polygon fill=\"#F1F1F1\" points=\"1538.5,374.2969,1548.5,364.2969,1718.5,364.2969,1718.5,400.5938,1708.5,410.5938,1538.5,410.5938,1538.5,374.2969\" style=\"stroke:#181818;stroke-width:0.5;\"/><line style=\"stroke:#181818;stroke-width:0.5;\" x1=\"1708.5\" x2=\"1718.5\" y1=\"374.2969\" y2=\"364.2969\"/><line style=\"stroke:#181818;stroke-width:0.5;\" x1=\"1538.5\" x2=\"1708.5\" y1=\"374.2969\" y2=\"374.2969\"/><line style=\"stroke:#181818;stroke-width:0.5;\" x1=\"1708.5\" x2=\"1708.5\" y1=\"374.2969\" y2=\"410.5938\"/><text fill=\"#000000\" font-family=\"sans-serif\" font-size=\"14\" lengthAdjust=\"spacing\" textLength=\"140\" x=\"1553.5\" y=\"397.292\">archive_project_gui</text></g><!--entity backend_PI_Utils--><g id=\"elem_backend_PI_Utils\"><ellipse cx=\"1206.5\" cy=\"275.2969\" fill=\"#F1F1F1\" rx=\"8\" ry=\"8\" style=\"stroke:#181818;stroke-width:0.5;\"/><text fill=\"#000000\" font-family=\"sans-serif\" font-size=\"14\" lengthAdjust=\"spacing\" textLength=\"120\" x=\"1146.5\" y=\"305.292\">backend_PI_Utils</text></g><!--entity frontend_PI_utils--><g id=\"elem_frontend_PI_utils\"><ellipse cx=\"1615.5\" cy=\"275.2969\" fill=\"#F1F1F1\" rx=\"8\" ry=\"8\" style=\"stroke:#181818;stroke-width:0.5;\"/><text fill=\"#000000\" font-family=\"sans-serif\" font-size=\"14\" lengthAdjust=\"spacing\" textLength=\"121\" x=\"1555\" y=\"305.292\">frontend_PI_utils</text></g><!--link node to backend_PI--><g id=\"link_node_backend_PI\"><path d=\"M1270.33,90.5149 C1240.21,107.1739 1199.24,129.8299 1169.63,146.2099 \" fill=\"none\" id=\"node-to-backend_PI\" style=\"stroke:#181818;stroke-width:1.0;\"/><polygon fill=\"#181818\" points=\"1162.35,150.2319,1170.8026,148.9853,1167.8987,143.7348,1162.35,150.2319\" style=\"stroke:#181818;stroke-width:1.0;\"/></g><!--link node to frontend_PI--><g id=\"link_node_frontend_PI\"><path d=\"M1334.06,90.5149 C1351.08,106.5589 1374,128.1649 1391.18,144.3699 \" fill=\"none\" id=\"node-to-frontend_PI\" style=\"stroke:#181818;stroke-width:1.0;\"/><polygon fill=\"#181818\" points=\"1397.23,150.0749,1393.4652,142.4051,1389.3503,146.7717,1397.23,150.0749\" style=\"stroke:#181818;stroke-width:1.0;\"/></g><!--link backend_PI to PIPlanning--><g id=\"link_backend_PI_PIPlanning\"><path d=\"M1119.12,186.6359 C1107.63,202.7179 1090.32,226.9459 1076.81,245.8579 \" fill=\"none\" id=\"backend_PI-to-PIPlanning\" style=\"stroke:#181818;stroke-width:1.0;\"/><polygon fill=\"#181818\" points=\"1072.03,252.5609,1079.1246,247.7999,1074.2447,244.3089,1072.03,252.5609\" style=\"stroke:#181818;stroke-width:1.0;\"/></g><!--link backend_PI to backend_PI_Projects--><g id=\"link_backend_PI_backend_PI_Projects\"><path d=\"M1068.77,180.6339 C969.024,198.6599 773.265,234.0379 652.958,255.7809 \" fill=\"none\" id=\"backend_PI-to-backend_PI_Projects\" style=\"stroke:#181818;stroke-width:1.0;\"/><polygon fill=\"#181818\" points=\"644.786,257.2569,653.192,258.7863,652.1249,252.8819,644.786,257.2569\" style=\"stroke:#181818;stroke-width:1.0;\"/></g><!--link backend_PI to backend_PI_Utils--><g id=\"link_backend_PI_backend_PI_Utils\"><path d=\"M1143.88,186.6359 C1158.42,206.9859 1182.27,240.3799 1195.96,259.5409 \" fill=\"none\" id=\"backend_PI-to-backend_PI_Utils\" style=\"stroke:#181818;stroke-width:1.0;\"/><polygon fill=\"#181818\" points=\"1200.67,266.1319,1198.4639,257.8776,1193.5804,261.3635,1200.67,266.1319\" style=\"stroke:#181818;stroke-width:1.0;\"/></g><!--link frontend_PI to frontend_PI_Projects--><g id=\"link_frontend_PI_frontend_PI_Projects\"><path d=\"M1415.5,186.6359 C1415.5,203.6839 1415.5,229.8879 1415.5,249.2079 \" fill=\"none\" id=\"frontend_PI-to-frontend_PI_Projects\" style=\"stroke:#181818;stroke-width:1.0;\"/><polygon fill=\"#181818\" points=\"1415.5,257.2809,1418.5,249.2809,1412.5,249.2809,1415.5,257.2809\" style=\"stroke:#181818;stroke-width:1.0;\"/></g><!--link frontend_PI to frontend_PI_utils--><g id=\"link_frontend_PI_frontend_PI_utils\"><path d=\"M1448.08,186.4009 C1491.32,209.1039 1566.05,248.3369 1599.04,265.6549 \" fill=\"none\" id=\"frontend_PI-to-frontend_PI_utils\" style=\"stroke:#181818;stroke-width:1.0;\"/><polygon fill=\"#181818\" points=\"1606.13,269.3769,1600.4479,262.9961,1597.6534,268.3057,1606.13,269.3769\" style=\"stroke:#181818;stroke-width:1.0;\"/></g><!--link PIPlanning to Projects--><g id=\"link_PIPlanning_Projects\"><path d=\"M1056.5,298.0289 C1056.5,316.5723 1056.5,343.1963 1056.5,362.3486 \" fill=\"none\" id=\"PIPlanning-to-Projects\" style=\"stroke:#181818;stroke-width:1.0;\"/><rect fill=\"#FFFFFF\" height=\"10\" style=\"stroke:#181818;stroke-width:1.5;\" width=\"10\" x=\"1051.5\" y=\"362.5395\"/></g><!--link frontend_PI_Projects to create_project_gui--><g id=\"link_frontend_PI_Projects_create_project_gui\"><path d=\"M1385.5,293.4849 C1355.65,310.5851 1309.3,337.1382 1273.82,357.4692 \" fill=\"none\" id=\"frontend_PI_Projects-to-create_project_gui\" style=\"stroke:#181818;stroke-width:1.0;\"/><polygon fill=\"#181818\" points=\"1262.24,364.103,1269.4344,364.5936,1272.6543,358.1413,1265.4599,357.6507,1262.24,364.103\" style=\"stroke:#181818;stroke-width:1.0;\"/></g><!--link frontend_PI_Projects to list_projects_gui--><g id=\"link_frontend_PI_Projects_list_projects_gui\"><path d=\"M1416.91,293.4849 C1418.16,308.7519 1420.02,331.5543 1421.59,350.7361 \" fill=\"none\" id=\"frontend_PI_Projects-to-list_projects_gui\" style=\"stroke:#181818;stroke-width:1.0;\"/><polygon fill=\"#181818\" points=\"1422.67,363.9042,1426.1674,357.598,1421.6914,351.9441,1418.194,358.2503,1422.67,363.9042\" style=\"stroke:#181818;stroke-width:1.0;\"/></g><!--link frontend_PI_Projects to archive_project_gui--><g id=\"link_frontend_PI_Projects_archive_project_gui\"><path d=\"M1448.78,293.4849 C1482.25,310.771 1534.43,337.7165 1573.96,358.13 \" fill=\"none\" id=\"frontend_PI_Projects-to-archive_project_gui\" style=\"stroke:#181818;stroke-width:1.0;\"/><polygon fill=\"#181818\" points=\"1585.52,364.103,1582.0209,357.7977,1574.8549,358.6026,1578.354,364.9078,1585.52,364.103\" style=\"stroke:#181818;stroke-width:1.0;\"/></g><!--link backend_PI_Projects to create_project--><g id=\"link_backend_PI_Projects_create_project\"><path d=\"M478.512,293.3349 C403.938,311.0046 284.035,339.4695 180.5,364.2969 C178.9,364.6807 177.284,365.0685 175.655,365.4594 \" fill=\"none\" id=\"backend_PI_Projects-to-create_project\" style=\"stroke:#181818;stroke-width:1.0;\"/><polygon fill=\"#181818\" points=\"163.001,368.5028,169.77,370.9888,174.6683,365.6966,167.8993,363.2106,163.001,368.5028\" style=\"stroke:#181818;stroke-width:1.0;\"/></g><!--link backend_PI_Projects to query_project--><g id=\"link_backend_PI_Projects_query_project\"><path d=\"M506.747,293.3639 C461.489,311.0176 390.168,338.8378 337.344,359.443 \" fill=\"none\" id=\"backend_PI_Projects-to-query_project\" style=\"stroke:#181818;stroke-width:1.0;\"/><polygon fill=\"#181818\" points=\"325.019,364.2506,332.0624,365.7966,336.1986,359.8897,329.1551,358.3436,325.019,364.2506\" style=\"stroke:#181818;stroke-width:1.0;\"/></g><!--link backend_PI_Projects to list_projects--><g id=\"link_backend_PI_Projects_list_projects\"><path d=\"M533,293.4849 C516.398,309.7899 491.047,334.6884 470.78,354.5933 \" fill=\"none\" id=\"backend_PI_Projects-to-list_projects\" style=\"stroke:#181818;stroke-width:1.0;\"/><polygon fill=\"#181818\" points=\"461.3,363.9042,468.3835,362.5534,469.861,355.4953,462.7776,356.8461,461.3,363.9042\" style=\"stroke:#181818;stroke-width:1.0;\"/></g><!--link backend_PI_Projects to query_project_name_from_ID--><g id=\"link_backend_PI_Projects_query_project_name_from_ID\"><path d=\"M568.156,293.4849 C584.906,309.7899 610.484,334.6884 630.932,354.5933 \" fill=\"none\" id=\"backend_PI_Projects-to-query_project_name_from_ID\" style=\"stroke:#181818;stroke-width:1.0;\"/><polygon fill=\"#181818\" points=\"640.497,363.9042,638.9875,356.8528,631.898,355.5342,633.4075,362.5855,640.497,363.9042\" style=\"stroke:#181818;stroke-width:1.0;\"/></g><!--link backend_PI_Projects to archive_project--><g id=\"link_backend_PI_Projects_archive_project\"><path d=\"M604.803,293.3639 C661.805,311.2783 752.115,339.6617 817.945,360.3511 \" fill=\"none\" id=\"backend_PI_Projects-to-archive_project\" style=\"stroke:#181818;stroke-width:1.0;\"/><polygon fill=\"#181818\" points=\"830.353,364.2506,825.8281,358.6358,818.9049,360.6532,823.4298,366.2679,830.353,364.2506\" style=\"stroke:#181818;stroke-width:1.0;\"/></g><!--SRC=[ZLBBReCm4BplLrZghHBvX9nwuH29IqzLPHbZKgTaJUsb4dzV2Wr-n8xASMPsPXalQHeKQwovA4cEzHDAqWOTW3JNqQ12OcWwnTw0BTz9QEGdXTFXCixOmZj0hnU3LiXFXHrlwZ-X1mxZ_2jBTNpFJ0Ts9fhihK6A8WAaf4n3SjHjjXCaMk6MCkfc48WQpo0iwLv8sWi2MCkGLWbIVDpG3VkQb9rZQD2EReZBg3YAg-BBKbTUlsoyiF93VtlhN1u_JpeJuE74P2KsfggEnw3g00ogWU0rLove9AKop_P8yqfwS12-PHhkRHwgfjK8_6QBv8dbPlqDLDLphicYzhxTeZJRUExOxtSeokA3AgdY6_kNLtnsfP7abtu0]--></g></svg>"
      ],
      "text/plain": [
       "<IPython.core.display.SVG object>"
      ]
     },
     "execution_count": 6,
     "metadata": {},
     "output_type": "execute_result"
    }
   ],
   "source": [
    "%%plantuml\n",
    "@startuml\n",
    "title Projects functions\n",
    "\n",
    "component node [\n",
    "    Main_Menu.jpynb\n",
    "]\n",
    "\n",
    "file backend_PI [\n",
    "    backend_PI.py\n",
    "]\n",
    "\n",
    "\n",
    "file backend_PI_Projects [\n",
    "    backend_PI_Projects.py\n",
    "]\n",
    "\n",
    "\n",
    "file frontend_PI [\n",
    "    frontend_PI.py\n",
    "]\n",
    "\n",
    "\n",
    "file frontend_PI_Projects [\n",
    "    frontend_PI_Projects.py\n",
    "]\n",
    "\n",
    "\n",
    "database PIPlanning\n",
    "artifact Projects\n",
    "\n",
    "node create_project\n",
    "node query_project\n",
    "node list_projects\n",
    "node query_project_name_from_ID\n",
    "node archive_project\n",
    "\n",
    "node create_project_gui\n",
    "node list_projects_gui\n",
    "node archive_project_gui\n",
    "\n",
    "node -->> backend_PI\n",
    "node -->> frontend_PI\n",
    "backend_PI -->> PIPlanning\n",
    "backend_PI -->> backend_PI_Projects\n",
    "backend_PI -->> backend_PI_Utils\n",
    "frontend_PI -->> frontend_PI_Projects\n",
    "frontend_PI -->> frontend_PI_utils\n",
    "\n",
    "PIPlanning --# Projects\n",
    "frontend_PI_Projects --* create_project_gui\n",
    "frontend_PI_Projects --* list_projects_gui\n",
    "frontend_PI_Projects --* archive_project_gui\n",
    "\n",
    "backend_PI_Projects --* create_project\n",
    "backend_PI_Projects --* query_project\n",
    "backend_PI_Projects --* list_projects\n",
    "backend_PI_Projects --* query_project_name_from_ID\n",
    "backend_PI_Projects --* archive_project\n",
    "@enduml\n"
   ]
  },
  {
   "cell_type": "markdown",
   "id": "cf3b4e0c-dcad-44c0-8883-a4f3d8b7e2b2",
   "metadata": {
    "tags": []
   },
   "source": [
    "### Codification couleurs de l'avancement des menus"
   ]
  },
  {
   "cell_type": "code",
   "execution_count": 7,
   "id": "901c423d-84a3-4f3f-ba7d-7f4f005d9976",
   "metadata": {
    "tags": []
   },
   "outputs": [
    {
     "name": "stdout",
     "output_type": "stream",
     "text": [
      "Writing output for /media/olivier/Donnees/Documents/Formations/Perso/PI_Planning/f1540ae6-677c-454f-a590-ae78b55288e8.uml to f1540ae6-677c-454f-a590-ae78b55288e8.svg\n"
     ]
    },
    {
     "data": {
      "image/svg+xml": [
       "<svg xmlns=\"http://www.w3.org/2000/svg\" xmlns:xlink=\"http://www.w3.org/1999/xlink\" contentStyleType=\"text/css\" height=\"373px\" preserveAspectRatio=\"none\" style=\"width:291px;height:373px;background:#FFFFFF;\" version=\"1.1\" viewBox=\"0 0 291 373\" width=\"291px\" zoomAndPan=\"magnify\"><defs/><g><line style=\"stroke:#181818;stroke-width:1.5;\" x1=\"71.5\" x2=\"71.5\" y1=\"63.9688\" y2=\"83.9688\"/><rect fill=\"#008000\" height=\"33.9688\" style=\"stroke:#181818;stroke-width:1.5;\" width=\"123\" x=\"10\" y=\"83.9688\"/><text fill=\"#000000\" font-family=\"sans-serif\" font-size=\"12\" lengthAdjust=\"spacing\" textLength=\"103\" x=\"20\" y=\"105.1074\">Famille complete</text><line style=\"stroke:#181818;stroke-width:1.5;\" x1=\"71.5\" x2=\"81.5\" y1=\"149.9219\" y2=\"149.9219\"/><rect fill=\"#90EE90\" height=\"33.9688\" style=\"stroke:#181818;stroke-width:1.5;\" width=\"81\" x=\"81.5\" y=\"132.9375\"/><text fill=\"#000000\" font-family=\"sans-serif\" font-size=\"12\" lengthAdjust=\"spacing\" textLength=\"61\" x=\"91.5\" y=\"154.0762\">Item done</text><line style=\"stroke:#181818;stroke-width:1.5;\" x1=\"71.5\" x2=\"81.5\" y1=\"198.8906\" y2=\"198.8906\"/><rect fill=\"#FFFFE0\" height=\"33.9688\" style=\"stroke:#181818;stroke-width:1.5;\" width=\"120\" x=\"81.5\" y=\"181.9063\"/><text fill=\"#000000\" font-family=\"sans-serif\" font-size=\"12\" lengthAdjust=\"spacing\" textLength=\"100\" x=\"91.5\" y=\"203.0449\">item in progress</text><line style=\"stroke:#181818;stroke-width:1.5;\" x1=\"71.5\" x2=\"81.5\" y1=\"247.8594\" y2=\"247.8594\"/><rect fill=\"#ADD8E6\" height=\"33.9688\" style=\"stroke:#181818;stroke-width:1.5;\" width=\"199\" x=\"81.5\" y=\"230.875\"/><text fill=\"#000000\" font-family=\"sans-serif\" font-size=\"12\" lengthAdjust=\"spacing\" textLength=\"163\" x=\"91.5\" y=\"252.0137\">item in maintenance/debug</text><line style=\"stroke:#181818;stroke-width:1.5;\" x1=\"71.5\" x2=\"81.5\" y1=\"296.8281\" y2=\"296.8281\"/><rect fill=\"#FA8072\" height=\"33.9688\" style=\"stroke:#181818;stroke-width:1.5;\" width=\"99\" x=\"81.5\" y=\"279.8438\"/><text fill=\"#000000\" font-family=\"sans-serif\" font-size=\"12\" lengthAdjust=\"spacing\" textLength=\"79\" x=\"91.5\" y=\"300.9824\">item blocked</text><line style=\"stroke:#181818;stroke-width:1.5;\" x1=\"71.5\" x2=\"81.5\" y1=\"345.7969\" y2=\"345.7969\"/><rect fill=\"#F1F1F1\" height=\"33.9688\" style=\"stroke:#181818;stroke-width:1.5;\" width=\"109\" x=\"81.5\" y=\"328.8125\"/><text fill=\"#000000\" font-family=\"sans-serif\" font-size=\"12\" lengthAdjust=\"spacing\" textLength=\"89\" x=\"91.5\" y=\"349.9512\">not started yet</text><line style=\"stroke:#181818;stroke-width:1.5;\" x1=\"71.5\" x2=\"71.5\" y1=\"117.9375\" y2=\"345.7969\"/><line style=\"stroke:#181818;stroke-width:1.5;\" x1=\"71.5\" x2=\"145.25\" y1=\"63.9688\" y2=\"63.9688\"/><rect fill=\"#F1F1F1\" height=\"33.9688\" style=\"stroke:#181818;stroke-width:1.5;\" width=\"124\" x=\"83.25\" y=\"10\"/><text fill=\"#000000\" font-family=\"sans-serif\" font-size=\"12\" lengthAdjust=\"spacing\" textLength=\"104\" x=\"93.25\" y=\"31.1387\">Color description</text><line style=\"stroke:#181818;stroke-width:1.5;\" x1=\"145.25\" x2=\"145.25\" y1=\"43.9688\" y2=\"63.9688\"/><!--SRC=[JP31JW8n443l_Of9l029g4YCuKH4K0cR41Uu60xTxRWsj3ERTXR2tzi5ZFJMljTCNyTHT9134LKF9kmuWC5O1bkBPLAztjTD5H1f2pFjhNC89VlQeM1Y2JfR_SZ5-13qO9YkqH6TuyCMRCiiGHqusJ5UAOLhy5_msf8WQIhnpc3HL93MsOxQUQQBMZWkTsXQ0iG2fmmqS4HHOoJJ5gcbqoJhR05x337rm4D_S3zux0yA53tih6b7VA1JaarfOZrsLUTjkO38JIWHZ8qIRD6qdz5LSxtNyDbGwusWtNLMMHVowTyXJ6bl0vD74ZNVP6S9tbdockKaFmrlNwn0ZY6z2JQPUiLltJX9LqisbgeHh5UpssUrq5Grkag3aDI4qu1mJ2p_1G00]--></g></svg>"
      ],
      "text/plain": [
       "<IPython.core.display.SVG object>"
      ]
     },
     "execution_count": 7,
     "metadata": {},
     "output_type": "execute_result"
    }
   ],
   "source": [
    "%%plantuml\n",
    "@startwbs\n",
    "* Color description\n",
    "**[#green] Famille complete\n",
    "***[#lightgreen] Item done\n",
    "***[#lightyellow] item in progress\n",
    "***[#lightblue] item in maintenance/debug    \n",
    "***[#salmon] item blocked\n",
    "*** not started yet\n",
    "@endwbs\n",
    "@enduml"
   ]
  },
  {
   "cell_type": "markdown",
   "id": "73bdcb0d-5695-4b35-b9c0-e9c01c23783d",
   "metadata": {
    "tags": []
   },
   "source": [
    "### Menus"
   ]
  },
  {
   "cell_type": "code",
   "execution_count": 8,
   "id": "e71ea889-3617-436c-8944-d18e37090c8b",
   "metadata": {
    "tags": []
   },
   "outputs": [
    {
     "name": "stdout",
     "output_type": "stream",
     "text": [
      "Writing output for /media/olivier/Donnees/Documents/Formations/Perso/PI_Planning/9e1df16b-d982-48e7-80c2-3cefca862743.uml to 9e1df16b-d982-48e7-80c2-3cefca862743.svg\n"
     ]
    },
    {
     "data": {
      "image/svg+xml": [
       "<svg xmlns=\"http://www.w3.org/2000/svg\" xmlns:xlink=\"http://www.w3.org/1999/xlink\" contentStyleType=\"text/css\" height=\"1010px\" preserveAspectRatio=\"none\" style=\"width:1149px;height:1010px;background:#FFFFFF;\" version=\"1.1\" viewBox=\"0 0 1149 1010\" width=\"1149px\" zoomAndPan=\"magnify\"><defs/><g><line style=\"stroke:#181818;stroke-width:1.5;\" x1=\"55.5\" x2=\"55.5\" y1=\"63.9688\" y2=\"83.9688\"/><rect fill=\"#008000\" height=\"33.9688\" style=\"stroke:#181818;stroke-width:1.5;\" width=\"91\" x=\"10\" y=\"83.9688\"/><text fill=\"#000000\" font-family=\"sans-serif\" font-size=\"12\" lengthAdjust=\"spacing\" textLength=\"71\" x=\"20\" y=\"105.1074\">Initial Popup</text><line style=\"stroke:#181818;stroke-width:1.5;\" x1=\"55.5\" x2=\"65.5\" y1=\"149.9219\" y2=\"149.9219\"/><rect fill=\"#90EE90\" height=\"33.9688\" style=\"stroke:#181818;stroke-width:1.5;\" width=\"244\" x=\"65.5\" y=\"132.9375\"/><text fill=\"#000000\" font-family=\"sans-serif\" font-size=\"12\" lengthAdjust=\"spacing\" textLength=\"224\" x=\"75.5\" y=\"154.0762\">request existing alias to launch menu</text><line style=\"stroke:#181818;stroke-width:1.5;\" x1=\"55.5\" x2=\"55.5\" y1=\"117.9375\" y2=\"149.9219\"/><line style=\"stroke:#181818;stroke-width:1.5;\" x1=\"373.5\" x2=\"373.5\" y1=\"63.9688\" y2=\"83.9688\"/><rect fill=\"#F1F1F1\" height=\"33.9688\" style=\"stroke:#181818;stroke-width:1.5;\" width=\"88\" x=\"329.5\" y=\"83.9688\"/><text fill=\"#000000\" font-family=\"sans-serif\" font-size=\"12\" lengthAdjust=\"spacing\" textLength=\"68\" x=\"339.5\" y=\"105.1074\">Parameters</text><line style=\"stroke:#181818;stroke-width:1.5;\" x1=\"373.5\" x2=\"383.5\" y1=\"149.9219\" y2=\"149.9219\"/><rect fill=\"#008000\" height=\"33.9688\" style=\"stroke:#181818;stroke-width:1.5;\" width=\"61\" x=\"383.5\" y=\"132.9375\"/><text fill=\"#000000\" font-family=\"sans-serif\" font-size=\"12\" lengthAdjust=\"spacing\" textLength=\"41\" x=\"393.5\" y=\"154.0762\">Project</text><line style=\"stroke:#181818;stroke-width:1.5;\" x1=\"414\" x2=\"424\" y1=\"198.8906\" y2=\"198.8906\"/><rect fill=\"#90EE90\" height=\"33.9688\" style=\"stroke:#181818;stroke-width:1.5;\" width=\"105\" x=\"424\" y=\"181.9063\"/><text fill=\"#000000\" font-family=\"sans-serif\" font-size=\"12\" lengthAdjust=\"spacing\" textLength=\"85\" x=\"434\" y=\"203.0449\">Create Project</text><line style=\"stroke:#181818;stroke-width:1.5;\" x1=\"414\" x2=\"424\" y1=\"247.8594\" y2=\"247.8594\"/><rect fill=\"#90EE90\" height=\"33.9688\" style=\"stroke:#181818;stroke-width:1.5;\" width=\"92\" x=\"424\" y=\"230.875\"/><text fill=\"#000000\" font-family=\"sans-serif\" font-size=\"12\" lengthAdjust=\"spacing\" textLength=\"72\" x=\"434\" y=\"252.0137\">List Projects</text><line style=\"stroke:#181818;stroke-width:1.5;\" x1=\"414\" x2=\"424\" y1=\"296.8281\" y2=\"296.8281\"/><rect fill=\"#90EE90\" height=\"33.9688\" style=\"stroke:#181818;stroke-width:1.5;\" width=\"117\" x=\"424\" y=\"279.8438\"/><text fill=\"#000000\" font-family=\"sans-serif\" font-size=\"12\" lengthAdjust=\"spacing\" textLength=\"97\" x=\"434\" y=\"300.9824\">Archive Projects</text><line style=\"stroke:#181818;stroke-width:1.5;\" x1=\"414\" x2=\"414\" y1=\"166.9063\" y2=\"296.8281\"/><line style=\"stroke:#181818;stroke-width:1.5;\" x1=\"373.5\" x2=\"383.5\" y1=\"345.7969\" y2=\"345.7969\"/><rect fill=\"#008000\" height=\"33.9688\" style=\"stroke:#181818;stroke-width:1.5;\" width=\"114\" x=\"383.5\" y=\"328.8125\"/><text fill=\"#000000\" font-family=\"sans-serif\" font-size=\"12\" lengthAdjust=\"spacing\" textLength=\"94\" x=\"393.5\" y=\"349.9512\">Teams  [admin]</text><line style=\"stroke:#181818;stroke-width:1.5;\" x1=\"440.5\" x2=\"450.5\" y1=\"394.7656\" y2=\"394.7656\"/><rect fill=\"#90EE90\" height=\"33.9688\" style=\"stroke:#181818;stroke-width:1.5;\" width=\"217\" x=\"450.5\" y=\"377.7813\"/><text fill=\"#000000\" font-family=\"sans-serif\" font-size=\"12\" lengthAdjust=\"spacing\" textLength=\"197\" x=\"460.5\" y=\"398.9199\">Create Team by project  [admin]</text><line style=\"stroke:#181818;stroke-width:1.5;\" x1=\"440.5\" x2=\"450.5\" y1=\"443.7344\" y2=\"443.7344\"/><rect fill=\"#008000\" height=\"33.9688\" style=\"stroke:#181818;stroke-width:1.5;\" width=\"138\" x=\"450.5\" y=\"426.75\"/><text fill=\"#000000\" font-family=\"sans-serif\" font-size=\"12\" lengthAdjust=\"spacing\" textLength=\"114\" x=\"460.5\" y=\"447.8887\">List Teams [admin]</text><line style=\"stroke:#181818;stroke-width:1.5;\" x1=\"519.5\" x2=\"529.5\" y1=\"492.7031\" y2=\"492.7031\"/><rect fill=\"#90EE90\" height=\"33.9688\" style=\"stroke:#181818;stroke-width:1.5;\" width=\"129\" x=\"529.5\" y=\"475.7188\"/><text fill=\"#000000\" font-family=\"sans-serif\" font-size=\"12\" lengthAdjust=\"spacing\" textLength=\"109\" x=\"539.5\" y=\"496.8574\">All teams  [admin]</text><line style=\"stroke:#181818;stroke-width:1.5;\" x1=\"519.5\" x2=\"529.5\" y1=\"541.6719\" y2=\"541.6719\"/><rect fill=\"#90EE90\" height=\"33.9688\" style=\"stroke:#181818;stroke-width:1.5;\" width=\"136\" x=\"529.5\" y=\"524.6875\"/><text fill=\"#000000\" font-family=\"sans-serif\" font-size=\"12\" lengthAdjust=\"spacing\" textLength=\"116\" x=\"539.5\" y=\"545.8262\">by project  [admin]</text><line style=\"stroke:#181818;stroke-width:1.5;\" x1=\"519.5\" x2=\"519.5\" y1=\"460.7188\" y2=\"541.6719\"/><line style=\"stroke:#181818;stroke-width:1.5;\" x1=\"440.5\" x2=\"450.5\" y1=\"590.6406\" y2=\"590.6406\"/><rect fill=\"#F1F1F1\" height=\"33.9688\" style=\"stroke:#181818;stroke-width:1.5;\" width=\"175\" x=\"450.5\" y=\"573.6563\"/><text fill=\"#000000\" font-family=\"sans-serif\" font-size=\"12\" lengthAdjust=\"spacing\" textLength=\"155\" x=\"460.5\" y=\"594.7949\">Archive Teams by project</text><line style=\"stroke:#181818;stroke-width:1.5;\" x1=\"440.5\" x2=\"440.5\" y1=\"362.7813\" y2=\"590.6406\"/><line style=\"stroke:#181818;stroke-width:1.5;\" x1=\"373.5\" x2=\"383.5\" y1=\"639.6094\" y2=\"639.6094\"/><rect fill=\"#F1F1F1\" height=\"33.9688\" style=\"stroke:#181818;stroke-width:1.5;\" width=\"77\" x=\"383.5\" y=\"622.625\"/><text fill=\"#000000\" font-family=\"sans-serif\" font-size=\"12\" lengthAdjust=\"spacing\" textLength=\"57\" x=\"393.5\" y=\"643.7637\">Members</text><line style=\"stroke:#181818;stroke-width:1.5;\" x1=\"422\" x2=\"432\" y1=\"688.5781\" y2=\"688.5781\"/><rect fill=\"#90EE90\" height=\"33.9688\" style=\"stroke:#181818;stroke-width:1.5;\" width=\"230\" x=\"432\" y=\"671.5938\"/><text fill=\"#000000\" font-family=\"sans-serif\" font-size=\"12\" lengthAdjust=\"spacing\" textLength=\"210\" x=\"442\" y=\"692.7324\">Create Member by project [admin]</text><line style=\"stroke:#181818;stroke-width:1.5;\" x1=\"422\" x2=\"432\" y1=\"737.5469\" y2=\"737.5469\"/><rect fill=\"#90EE90\" height=\"33.9688\" style=\"stroke:#181818;stroke-width:1.5;\" width=\"250\" x=\"432\" y=\"720.5625\"/><text fill=\"#000000\" font-family=\"sans-serif\" font-size=\"12\" lengthAdjust=\"spacing\" textLength=\"230\" x=\"442\" y=\"741.7012\">List Member by project [admin | user]</text><line style=\"stroke:#181818;stroke-width:1.5;\" x1=\"422\" x2=\"432\" y1=\"786.5156\" y2=\"786.5156\"/><rect fill=\"#F1F1F1\" height=\"33.9688\" style=\"stroke:#181818;stroke-width:1.5;\" width=\"185\" x=\"432\" y=\"769.5313\"/><text fill=\"#000000\" font-family=\"sans-serif\" font-size=\"12\" lengthAdjust=\"spacing\" textLength=\"165\" x=\"442\" y=\"790.6699\">Archive Member by project</text><line style=\"stroke:#181818;stroke-width:1.5;\" x1=\"422\" x2=\"422\" y1=\"656.5938\" y2=\"786.5156\"/><line style=\"stroke:#181818;stroke-width:1.5;\" x1=\"373.5\" x2=\"383.5\" y1=\"835.4844\" y2=\"835.4844\"/><rect fill=\"#F1F1F1\" height=\"33.9688\" style=\"stroke:#181818;stroke-width:1.5;\" width=\"53\" x=\"383.5\" y=\"818.5\"/><text fill=\"#000000\" font-family=\"sans-serif\" font-size=\"12\" lengthAdjust=\"spacing\" textLength=\"33\" x=\"393.5\" y=\"839.6387\">Roles</text><line style=\"stroke:#181818;stroke-width:1.5;\" x1=\"410\" x2=\"420\" y1=\"884.4531\" y2=\"884.4531\"/><rect fill=\"#90EE90\" height=\"33.9688\" style=\"stroke:#181818;stroke-width:1.5;\" width=\"140\" x=\"420\" y=\"867.4688\"/><text fill=\"#000000\" font-family=\"sans-serif\" font-size=\"12\" lengthAdjust=\"spacing\" textLength=\"120\" x=\"430\" y=\"888.6074\">Create Role [admin]</text><line style=\"stroke:#181818;stroke-width:1.5;\" x1=\"410\" x2=\"420\" y1=\"933.4219\" y2=\"933.4219\"/><rect fill=\"#F1F1F1\" height=\"33.9688\" style=\"stroke:#181818;stroke-width:1.5;\" width=\"77\" x=\"420\" y=\"916.4375\"/><text fill=\"#000000\" font-family=\"sans-serif\" font-size=\"12\" lengthAdjust=\"spacing\" textLength=\"57\" x=\"430\" y=\"937.5762\">List Roles</text><line style=\"stroke:#181818;stroke-width:1.5;\" x1=\"410\" x2=\"420\" y1=\"982.3906\" y2=\"982.3906\"/><rect fill=\"#F1F1F1\" height=\"33.9688\" style=\"stroke:#181818;stroke-width:1.5;\" width=\"102\" x=\"420\" y=\"965.4063\"/><text fill=\"#000000\" font-family=\"sans-serif\" font-size=\"12\" lengthAdjust=\"spacing\" textLength=\"82\" x=\"430\" y=\"986.5449\">Archive Roles</text><line style=\"stroke:#181818;stroke-width:1.5;\" x1=\"410\" x2=\"410\" y1=\"852.4688\" y2=\"982.3906\"/><line style=\"stroke:#181818;stroke-width:1.5;\" x1=\"373.5\" x2=\"373.5\" y1=\"117.9375\" y2=\"835.4844\"/><line style=\"stroke:#181818;stroke-width:1.5;\" x1=\"729.5\" x2=\"729.5\" y1=\"63.9688\" y2=\"83.9688\"/><rect fill=\"#F1F1F1\" height=\"33.9688\" style=\"stroke:#181818;stroke-width:1.5;\" width=\"55\" x=\"702\" y=\"83.9688\"/><text fill=\"#000000\" font-family=\"sans-serif\" font-size=\"12\" lengthAdjust=\"spacing\" textLength=\"35\" x=\"712\" y=\"105.1074\">Tasks</text><line style=\"stroke:#181818;stroke-width:1.5;\" x1=\"729.5\" x2=\"739.5\" y1=\"149.9219\" y2=\"149.9219\"/><rect fill=\"#F1F1F1\" height=\"33.9688\" style=\"stroke:#181818;stroke-width:1.5;\" width=\"99\" x=\"739.5\" y=\"132.9375\"/><text fill=\"#000000\" font-family=\"sans-serif\" font-size=\"12\" lengthAdjust=\"spacing\" textLength=\"79\" x=\"749.5\" y=\"154.0762\">Create Tasks</text><line style=\"stroke:#181818;stroke-width:1.5;\" x1=\"729.5\" x2=\"739.5\" y1=\"198.8906\" y2=\"198.8906\"/><rect fill=\"#F1F1F1\" height=\"33.9688\" style=\"stroke:#181818;stroke-width:1.5;\" width=\"79\" x=\"739.5\" y=\"181.9063\"/><text fill=\"#000000\" font-family=\"sans-serif\" font-size=\"12\" lengthAdjust=\"spacing\" textLength=\"59\" x=\"749.5\" y=\"203.0449\">List Tasks</text><line style=\"stroke:#181818;stroke-width:1.5;\" x1=\"729.5\" x2=\"729.5\" y1=\"117.9375\" y2=\"198.8906\"/><line style=\"stroke:#181818;stroke-width:1.5;\" x1=\"935\" x2=\"935\" y1=\"63.9688\" y2=\"83.9688\"/><rect fill=\"#90EE90\" height=\"33.9688\" style=\"stroke:#181818;stroke-width:1.5;\" width=\"153\" x=\"858.5\" y=\"83.9688\"/><text fill=\"#000000\" font-family=\"sans-serif\" font-size=\"12\" lengthAdjust=\"spacing\" textLength=\"133\" x=\"868.5\" y=\"105.1074\">My Info [admin | user]</text><line style=\"stroke:#181818;stroke-width:1.5;\" x1=\"935\" x2=\"945\" y1=\"149.9219\" y2=\"149.9219\"/><rect fill=\"#90EE90\" height=\"33.9688\" style=\"stroke:#181818;stroke-width:1.5;\" width=\"166\" x=\"945\" y=\"132.9375\"/><text fill=\"#000000\" font-family=\"sans-serif\" font-size=\"12\" lengthAdjust=\"spacing\" textLength=\"146\" x=\"955\" y=\"154.0762\">Who am I [admin | user]</text><line style=\"stroke:#181818;stroke-width:1.5;\" x1=\"935\" x2=\"945\" y1=\"198.8906\" y2=\"198.8906\"/><rect fill=\"#90EE90\" height=\"33.9688\" style=\"stroke:#181818;stroke-width:1.5;\" width=\"193\" x=\"945\" y=\"181.9063\"/><text fill=\"#000000\" font-family=\"sans-serif\" font-size=\"12\" lengthAdjust=\"spacing\" textLength=\"173\" x=\"955\" y=\"203.0449\">Select Theme [admin | user]</text><line style=\"stroke:#181818;stroke-width:1.5;\" x1=\"935\" x2=\"935\" y1=\"117.9375\" y2=\"198.8906\"/><line style=\"stroke:#181818;stroke-width:1.5;\" x1=\"55.5\" x2=\"935\" y1=\"63.9688\" y2=\"63.9688\"/><rect fill=\"#F1F1F1\" height=\"33.9688\" style=\"stroke:#181818;stroke-width:1.5;\" width=\"54\" x=\"468.25\" y=\"10\"/><text fill=\"#000000\" font-family=\"sans-serif\" font-size=\"12\" lengthAdjust=\"spacing\" textLength=\"34\" x=\"478.25\" y=\"31.1387\">MENU</text><line style=\"stroke:#181818;stroke-width:1.5;\" x1=\"495.25\" x2=\"495.25\" y1=\"43.9688\" y2=\"63.9688\"/><!--SRC=[XPDFRzim3CNl-XG4Taa2j5YxeHXwwjPbMujuC1gdEnGzo0vhQvKbJwBI1TY77_stZPjiH-lzoCSdMXUUfAEdr8iPHFFlAp6RtRt97QAvXokZI4aDiQr2nG8hMkK5TRB3Nm4z0VvMdfJ9GMebFP05BOF92YZH12w3M3fP8g7pRPEkFdRs9sPKduqwNpgKXFy05kpOotwF_j5bXThW3ZBu9YXB3t0drwKozuVjQmxIBLHjat75or7QbfqE3J2UI6kWryOZwf3R4AWrUiPg5I8iq-voH_twA2tniltXz6sYGnNm1u97Dnhh5TtCTMCrxfsg7wi6TdCstizrWq5_18dqZuqsR6auQ3VHVUuwHbl-cH_idWoxt8_20Y_zwh_W4dLz9qc19OvXpWVY0iswVbKYrjBGAbh0XbUah86JuzEtf- -Epr8aUJ9PcKTZdmnajgmKtmQf4gTYyZLUWBV1PGXhZkLK6eYBf-9QRYJS15Dpvr1_JP9e2ijvVmXpir7E6dvy9AvlenQ2RvQMbQK6Fdj_z4aHPt0y4zn6uZC-oA29IpExvfTy3glaoz47iP0c3p9d8pJYqhA1sxAs_0i0]--></g></svg>"
      ],
      "text/plain": [
       "<IPython.core.display.SVG object>"
      ]
     },
     "execution_count": 8,
     "metadata": {},
     "output_type": "execute_result"
    }
   ],
   "source": [
    "%%plantuml\n",
    "@startwbs\n",
    "* MENU\n",
    "**[#green] Initial Popup\n",
    "***[#lightgreen] request existing alias to launch menu\n",
    "** Parameters\n",
    "***[#green] Project\n",
    "****[#lightgreen] Create Project\n",
    "****[#lightgreen] List Projects\n",
    "****[#lightgreen] Archive Projects\n",
    "***[#green] Teams  [admin]\n",
    "****[#lightgreen] Create Team by project  [admin]\n",
    "****[#green] List Teams [admin] \n",
    "*****[#lightgreen] All teams  [admin]\n",
    "*****[#lightgreen] by project  [admin]\n",
    "**** Archive Teams by project\n",
    "*** Members\n",
    "****[#lightgreen]  Create Member by project [admin]\n",
    "****[#lightgreen]  List Member by project [admin | user]\n",
    "**** Archive Member by project\n",
    "*** Roles\n",
    "****[#lightgreen]   Create Role [admin]\n",
    "**** List Roles\n",
    "**** Archive Roles\n",
    "** Tasks\n",
    "*** Create Tasks\n",
    "*** List Tasks\n",
    "**[#lightgreen] My Info [admin | user]\n",
    "***[#lightgreen] Who am I [admin | user]\n",
    "***[#lightgreen] Select Theme [admin | user]\n",
    "    \n",
    "@endwbs\n",
    "@enduml"
   ]
  },
  {
   "cell_type": "markdown",
   "id": "153b8e64-5684-4ef5-980c-cbb024de3de7",
   "metadata": {},
   "source": [
    "# Functions"
   ]
  },
  {
   "cell_type": "markdown",
   "id": "13c89aef-02a3-433e-8598-f498d44417d7",
   "metadata": {},
   "source": [
    "## Functons in files"
   ]
  },
  {
   "cell_type": "raw",
   "id": "af0a3b2c-85a4-42d0-b887-625f320aa74c",
   "metadata": {},
   "source": [
    "grep -Rw def *.py\n",
    "\n",
    "backend_PI_Members.py:def query_member(alias):\n",
    "backend_PI_Members.py:def query_member_alias(Alias):\n",
    "backend_PI_Members.py:def query_members_by_team(team='All'):\n",
    "backend_PI_Members.py:def write_new_member_theme(memberid,theme):\n",
    "backend_PI_Members.py:def create_member(name,firstname,alias,email,teamid,roleid,theme='LightBlue2',password=\"default123\",admin=False):\n",
    "backend_PI_Members.py:def update_member_password(email,password):\n",
    "backend_PI_Members.py:def get_actual_password(email,passwd):\n",
    "backend_PI_Projects.py:def create_project(project, description):\n",
    "backend_PI_Projects.py:def query_project(project):\n",
    "backend_PI_Projects.py:def list_projects():\n",
    "backend_PI_Projects.py:def query_project_name_from_ID(ID):\n",
    "backend_PI_Projects.py:def archive_project(ID):\n",
    "backend_PI_Tasks.py:def create_task(name,memberid,weight,sprintid=None,categoryid=None,description=\"Thanks to describe your task please'\"):\n",
    "backend_PI_Tasks.py:def add_task_description(taskid,description):\n",
    "backend_PI_Tasks.py:# def task_link_desk(taskid,descid)\n",
    "backend_PI_Tasks.py:def list_tasks(projectin='All',teamin='All',piidin='All',sprintid='All'):\n",
    "backend_PI_Teams.py:def create_team(projectID, team, description, logo):\n",
    "backend_PI_Teams.py:def list_teams(project=None):\n",
    "backend_PI_Teams.py:def list_teams_page(page,projectid=None):\n",
    "frontend_PI_Members.py:def create_member_gui(info='Info'):\n",
    "frontend_PI_Members.py:def list_members_gui(teamid,page,linespage=5,order1=8,order2=1,order3=3,info='info'):\n",
    "frontend_PI_Projects.py:def create_project_gui(info):\n",
    "frontend_PI_Projects.py:def list_projects_gui(info):\n",
    "frontend_PI_Projects.py:def archive_project_gui(info):\n",
    "frontend_PI_Tasks.py:def create_task_gui(info='Info'):\n",
    "frontend_PI_Tasks.py:def list_all_teams_gui(page,teams,info='info'):\n",
    "frontend_PI_Tasks.py:def select_project_gui(info='info'):\n",
    "frontend_PI_Teams.py:def create_team_gui(info='Info'):\n",
    "frontend_PI_Teams.py:def list_all_teams_gui(page,teams,info='info'):\n",
    "frontend_PI_Teams.py:def select_project_gui(info='info'):\n",
    "frontend_PI_Users.py:def who_am_i_gui(alias):\n",
    "frontend_PI_Users.py:def change_password(email,firstcon):\n",
    "frontend_PI_Users.py:def select_theme_gui(memberid,theme):\n",
    "frontend_PI_Users.py:def user_alias_gui():\n",
    "frontend_PI_Users.py:def login_window():\n",
    "main_menu.py:def main(theme,projectid,project,admin=False):\n"
   ]
  },
  {
   "cell_type": "markdown",
   "id": "536425dc-f43d-47aa-9906-1e55f16d90c3",
   "metadata": {},
   "source": [
    "## Functons in files with return"
   ]
  },
  {
   "cell_type": "code",
   "execution_count": null,
   "id": "f0c9adbb-925e-4705-b5fd-615bc7a24d4b",
   "metadata": {},
   "outputs": [],
   "source": [
    "grep -RwE \"def|return\" *.py\n",
    "backend_PI_Members.py:def query_member(alias):\n",
    "backend_PI_Members.py:            return(1,'None')\n",
    "backend_PI_Members.py:            return(0,member1)\n",
    "backend_PI_Members.py:        return(0,member1)        \n",
    "backend_PI_Members.py:            return(1,'None')\n",
    "backend_PI_Members.py:            return(0,member1)\n",
    "backend_PI_Members.py:def query_member_alias(Alias):\n",
    "backend_PI_Members.py:            return \"Error: %s\" % (e)\n",
    "backend_PI_Members.py:            return \"Error: %s\" % (e)\n",
    "backend_PI_Members.py:    return(member1.MemberID,member1.MemberName,member1.MemberAlias,member1.MemberFirstName,member1.MemberEmail,member1.MemberTheme,project.ProjectName,project.ProjectID,team.TeamName,team.TeamID,role.RoleName,member1.MemberAdmin,member1.MemberFirstConnection)\n",
    "backend_PI_Members.py:def query_members_by_team(team='All'):\n",
    "backend_PI_Members.py:            return \"Error: %s\" % (e)\n",
    "backend_PI_Members.py:    return(members)\n",
    "backend_PI_Members.py:def write_new_member_theme(memberid,theme):\n",
    "backend_PI_Members.py:def create_member(name,firstname,alias,email,teamid,roleid,theme='LightBlue2',password=\"default123\",admin=False):\n",
    "backend_PI_Members.py:    return newmember.MemberID\n",
    "backend_PI_Members.py:def update_member_password(email,password):\n",
    "backend_PI_Members.py:def get_actual_password(email,passwd):\n",
    "backend_PI_Members.py:    return(a)\n",
    "backend_PI_Projects.py:def create_project(project, description):\n",
    "backend_PI_Projects.py:def query_project(project):\n",
    "backend_PI_Projects.py:    return project\n",
    "backend_PI_Projects.py:def list_projects():\n",
    "backend_PI_Projects.py:    return projects\n",
    "backend_PI_Projects.py:def query_project_name_from_ID(ID):\n",
    "backend_PI_Projects.py:    return project1\n",
    "backend_PI_Projects.py:def archive_project(ID):\n",
    "backend_PI_Tasks.py:def create_task(name,memberid,weight,sprintid=None,categoryid=None,description=\"Thanks to describe your task please'\"):\n",
    "backend_PI_Tasks.py:def add_task_description(taskid,description):\n",
    "backend_PI_Tasks.py:# def task_link_desk(taskid,descid)\n",
    "backend_PI_Tasks.py:def list_tasks(projectin='All',teamin='All',piidin='All',sprintid='All'):\n",
    "backend_PI_Tasks.py:#    return(list_teams)   \n",
    "backend_PI_Teams.py:def create_team(projectID, team, description, logo):\n",
    "backend_PI_Teams.py:def list_teams(project=None):\n",
    "backend_PI_Teams.py:    return(list_teams)\n",
    "backend_PI_Teams.py:def list_teams_page(page,projectid=None):\n",
    "backend_PI_Teams.py:    return teams\n",
    "frontend_PI_Members.py:def create_member_gui(info='Info'):\n",
    "frontend_PI_Members.py:def list_members_gui(teamid,page,linespage=5,order1=8,order2=1,order3=3,info='info'):\n",
    "frontend_PI_Members.py:            return(None)\n",
    "frontend_PI_Projects.py:def create_project_gui(info):\n",
    "frontend_PI_Projects.py:def list_projects_gui(info):\n",
    "frontend_PI_Projects.py:            return(None,None,None)\n",
    "frontend_PI_Projects.py:                    return(ActualProjectID,ActualProjectName,ActualProjectDesc)\n",
    "frontend_PI_Projects.py:def archive_project_gui(info):\n",
    "frontend_PI_Projects.py:            return(None)\n",
    "frontend_PI_Projects.py:                            return(ArchivedProjectName)\n",
    "frontend_PI_Tasks.py:def create_task_gui(info='Info'):\n",
    "frontend_PI_Tasks.py:def list_all_teams_gui(page,teams,info='info'):\n",
    "frontend_PI_Tasks.py:            return(None)\n",
    "frontend_PI_Tasks.py:def select_project_gui(info='info'):\n",
    "frontend_PI_Tasks.py:            return(projectid,projectname)\n",
    "frontend_PI_Teams.py:def create_team_gui(info='Info'):\n",
    "frontend_PI_Teams.py:def list_all_teams_gui(page,teams,info='info'):\n",
    "frontend_PI_Teams.py:            return(None)\n",
    "frontend_PI_Teams.py:def select_project_gui(info='info'):\n",
    "frontend_PI_Teams.py:            return(projectid,projectname)\n",
    "frontend_PI_Users.py:def who_am_i_gui(alias):\n",
    "frontend_PI_Users.py:def change_password(email,firstcon):\n",
    "frontend_PI_Users.py:            return(msg,firstcon)\n",
    "frontend_PI_Users.py:    return(msg,firstcon)\n",
    "frontend_PI_Users.py:def select_theme_gui(memberid,theme):\n",
    "frontend_PI_Users.py:            return(theme)\n",
    "frontend_PI_Users.py:                return(theme)    \n",
    "frontend_PI_Users.py:def user_alias_gui():\n",
    "frontend_PI_Users.py:            return(MemberAlias) \n",
    "frontend_PI_Users.py:                    return(MemberAlias)                    \n",
    "frontend_PI_Users.py:            return(MemberAlias)\n",
    "frontend_PI_Users.py:def login_window():\n",
    "frontend_PI_Users.py:            return(MemberEmail)\n",
    "frontend_PI_Users.py:                            return('None')\n",
    "frontend_PI_Users.py:                        return(MemberAlias)\n",
    "main_menu.py:def main(theme,projectid,project,admin=False):\n"
   ]
  },
  {
   "cell_type": "markdown",
   "id": "c5c8048b-35e2-40c9-9ce0-f27444866511",
   "metadata": {
    "tags": []
   },
   "source": [
    "# Jupyter Lab hints"
   ]
  },
  {
   "cell_type": "markdown",
   "id": "844ec715-072b-4f00-ab20-4451340e6c45",
   "metadata": {},
   "source": [
    "### Jupyter files need to be exported to python files.\n",
    "To do so:<br>\n",
    "In the jupyter files, inside jupyter lab:<br>\n",
    "- Check to put in comment all unitary tests fields<br>\n",
    "- check that all prints have a debug mode\n",
    "- Check ol_log to be set in 2 or 1 where it is necessary\n",
    "- Restart kernel and remove all outputs to clean the file\n",
    "- In FIle menu, Save and export to scriptable executable file"
   ]
  },
  {
   "cell_type": "markdown",
   "id": "5e27bea8-196b-412e-9848-dddb621c0f7e",
   "metadata": {},
   "source": [
    "### Jupyter lab unitary testing"
   ]
  },
  {
   "cell_type": "markdown",
   "id": "a1b9a128-34e4-4232-b273-67a2cbb9a047",
   "metadata": {},
   "source": [
    "In jupyter lab, every function cab ba called in the file hosting the function.\n",
    "- Adapt debug mode in global_variables.py\n",
    "- Adapt debug mode in part of code you need\n",
    "- Run firt field for imports\n",
    "- Run the function field\n",
    "- Add a field bellow with the call to the field to check"
   ]
  },
  {
   "cell_type": "code",
   "execution_count": null,
   "id": "139bc183-71d6-4b23-ac4a-e5b5e9edf2ee",
   "metadata": {},
   "outputs": [],
   "source": []
  }
 ],
 "metadata": {
  "kernelspec": {
   "display_name": "Python 3 (ipykernel)",
   "language": "python",
   "name": "python3"
  },
  "language_info": {
   "codemirror_mode": {
    "name": "ipython",
    "version": 3
   },
   "file_extension": ".py",
   "mimetype": "text/x-python",
   "name": "python",
   "nbconvert_exporter": "python",
   "pygments_lexer": "ipython3",
   "version": "3.10.7"
  }
 },
 "nbformat": 4,
 "nbformat_minor": 5
}
