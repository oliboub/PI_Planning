{
 "cells": [
  {
   "cell_type": "markdown",
   "id": "da0583ad-21f7-4ebe-ab59-7bf3db298f40",
   "metadata": {},
   "source": [
    "# frontend_PI_Utils"
   ]
  },
  {
   "cell_type": "code",
   "execution_count": null,
   "id": "5c8e2916-9c1f-4a14-a67e-ab0b9d6f021b",
   "metadata": {},
   "outputs": [],
   "source": [
    "import os\n",
    "import global_variables as g\n",
    "g.init()\n",
    "import PySimpleGUI as sg\n",
    "from screeninfo import get_monitors\n",
    "\n",
    "### set display in center of standard screen\n",
    "\n",
    "class MyWindow(sg.Window):\n",
    "    def __init__(self, *args, **kwargs):\n",
    "        super().__init__(*args, **kwargs)\n",
    "\n",
    "    def get_default_screen_dimensions(self):\n",
    "        default_monitor = [monitor for monitor in get_monitors() if monitor.is_primary][0]\n",
    "        screen_width, screen_height = default_monitor.width, default_monitor.height\n",
    "        return screen_width, screen_height\n",
    "\n",
    "    def my_move_to_center(self):\n",
    "        if not self._is_window_created('tried Window.move_to_center'):\n",
    "            return\n",
    "        screen_width, screen_height = self.get_default_screen_dimensions()\n",
    "        win_width, win_height = self.size\n",
    "        x, y = (screen_width - win_width)//2, (screen_height - win_height)//2\n",
    "        self.move(x, y)"
   ]
  },
  {
   "cell_type": "code",
   "execution_count": null,
   "id": "19a556ef-9637-428b-a8e2-0de059e5a6ba",
   "metadata": {},
   "outputs": [],
   "source": [
    "if g.DEBUG_OL >= 1:\n",
    "    print(os.getcwd(),__name__,'imported')"
   ]
  }
 ],
 "metadata": {
  "kernelspec": {
   "display_name": "Python 3 (ipykernel)",
   "language": "python",
   "name": "python3"
  },
  "language_info": {
   "codemirror_mode": {
    "name": "ipython",
    "version": 3
   },
   "file_extension": ".py",
   "mimetype": "text/x-python",
   "name": "python",
   "nbconvert_exporter": "python",
   "pygments_lexer": "ipython3",
   "version": "3.10.7"
  }
 },
 "nbformat": 4,
 "nbformat_minor": 5
}
