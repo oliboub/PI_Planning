{
 "cells": [
  {
   "cell_type": "markdown",
   "id": "da77d076-7a62-4c34-8fd4-fc08e79549a4",
   "metadata": {},
   "source": [
    "# PI  Teams management"
   ]
  },
  {
   "cell_type": "markdown",
   "id": "510278b4-0c36-4880-8c92-bfaf701db79b",
   "metadata": {},
   "source": [
    "## Prerequisites"
   ]
  },
  {
   "cell_type": "code",
   "execution_count": 1,
   "id": "875606f3-7d21-4e8e-91bc-a4d1433ec8df",
   "metadata": {
    "tags": []
   },
   "outputs": [
    {
     "name": "stdout",
     "output_type": "stream",
     "text": [
      "backend_PI_mongo_model imported\n",
      "backend_PI_Projects imported\n",
      "backend_PI_Teams imported\n",
      "backend_PI_Members imported\n",
      "backend_PI_Utils imported\n"
     ]
    },
    {
     "data": {
      "text/plain": [
       "MongoClient(host=['localhost:27017'], document_class=dict, tz_aware=False, connect=True, read_preference=Primary())"
      ]
     },
     "execution_count": 1,
     "metadata": {},
     "output_type": "execute_result"
    }
   ],
   "source": [
    "import PySimpleGUI as sg\n",
    "from backend_PI import * # Import tout ce qui est spécifique au projet\n",
    "from frontend_PI import *\n",
    "\n",
    "connect('PIPlanning')"
   ]
  },
  {
   "cell_type": "markdown",
   "id": "cfa12026-c7b7-46fe-af4e-9efd385f8be7",
   "metadata": {
    "tags": []
   },
   "source": [
    "------\n",
    "## Create Team"
   ]
  },
  {
   "cell_type": "code",
   "execution_count": 24,
   "id": "559c7bc9-32bb-4521-a0f2-0faedf3f8785",
   "metadata": {},
   "outputs": [],
   "source": [
    "def create_team_gui(info='Info'):\n",
    "    sg.set_options(element_padding=(5, 10))\n",
    "\n",
    "    projects_list=list_projects()\n",
    "    comboproj = []\n",
    "    for project in projects_list:\n",
    "        comboproj.append(project.ProjectName)\n",
    "    print(comboproj)\n",
    "        \n",
    "    info_layout = [sg.T(info,font='Calibri 11',justification=\"left\")]\n",
    " \n",
    "    left_layout = [\n",
    "        [sg.T('Project Selection', size=(20, 1),font='Calibri 11'), sg.Combo(comboproj,key='-PROJECT-',size=(20, 1),font='Calibri 11')],\n",
    "        [sg.T('Team Name', size=(20, 1),font='Calibri 11'), sg.I(key='-TEAM-',font='Calibri 11')],\n",
    "        [sg.T('Team Description', size=(20, 1),font='Calibri 11'), sg.I(key='-DESC-',font='Calibri 11')],\n",
    "        #[sg.Ok(), sg.Cancel()]\n",
    "    ]\n",
    "    right_layout=[[sg.T('Select image'),\n",
    "                 sg.I(key='-IMG-',enable_events=True),\n",
    "                 sg.FileBrowse(file_types=(('All files',['*.jpeg','*.jpg','*.png']),(\"JPEG Files\",\"*.jpeg\"),(\"JPG Files\",\"*.jpg\"),(\"PNG Files\",\"*.png\")))],\n",
    "                 [sg.Image(key='-PHOTO-', data=convert_to_bytes('imagesDB/ilovemycompany.jpeg',resize=(250,250)))]]\n",
    "    \n",
    "#    layout=[[sg.Frame(\"Contact data\",left_layout, vertical_alignment='center',pad=((10,10),(10,10))),sg.VerticalSeparator(),sg.Col(right_layout,element_justification='center')],\n",
    "#           [sg.B('Add',enable_events=True),sg.Cancel()]]\n",
    "    \n",
    "    layout = [info_layout,[sg.Frame(\"Team Data\", left_layout, vertical_alignment='top', pad=((10, 10), (10, 10))),\n",
    "             sg.VerticalSeparator(), sg.Col(right_layout, element_justification='center')],\n",
    "            [sg.B('Add', enable_events=True), sg.Cancel()]]\n",
    " \n",
    "\n",
    "    window = MyWindow('Create Team', layout,finalize=True)\n",
    "    window.my_move_to_center()\n",
    "    logo=\"\"\n",
    "    \n",
    "    while True:\n",
    "        event, values = window.read()\n",
    "        if event == sg.WIN_CLOSED or event == 'Cancel':\n",
    "            window.close()\n",
    "            break\n",
    " \n",
    "        elif event == '-IMG-':\n",
    "            logo='imagesDB/'+values['-IMG-'].split(\"/\")[-1]\n",
    "            print(logo)\n",
    "            window['-PHOTO-'].update(data=convert_to_bytes(values['-IMG-'],resize=(250,250)))\n",
    " \n",
    "            \n",
    "        elif event == 'Add':\n",
    "            for project1 in projects_list:\n",
    "                if project1.ProjectName == values['-PROJECT-']:\n",
    "                    projectID = project1.ProjectID\n",
    "            description = values['-DESC-']\n",
    "            team=values['-TEAM-']\n",
    "#            print(projectID,description,team)\n",
    "            if not logo:\n",
    "                logo='imagesDB/ilovemycompany.jpeg'\n",
    "            print(logo)\n",
    "                \n",
    "            create_team(projectID,team, description, logo)\n",
    "            layout1=[[sg.T('Team:',font='Calibri 11'),sg.T(team,font='Calibri 11',text_color='blue'),sg.T('for projet:',font='Calibri 11'),sg.T(values['-PROJECT-'],font='Calibri 11',text_color='blue'),sg.T(' créée.',font='Calibri 11')],\n",
    "                    [sg.Ok()]]\n",
    "            window1 = MyWindow('info', layout1,element_justification='c',finalize=True)\n",
    "            window1.my_move_to_center()\n",
    "            \n",
    "            \n",
    "            event, values = window1.read()\n",
    "            if event == sg.WIN_CLOSED or event == 'Cancel' or event==\"Ok\":\n",
    "                window1.close()\n",
    "                window.close()\n",
    "                break"
   ]
  },
  {
   "cell_type": "markdown",
   "id": "9f18432f-7cda-41c5-be58-610e1b3474ab",
   "metadata": {
    "tags": []
   },
   "source": [
    "create_team_gui('Please enter informations regarding this team')"
   ]
  },
  {
   "cell_type": "markdown",
   "id": "c5e785d7-30ca-428a-8eb3-6196b54e1d40",
   "metadata": {},
   "source": [
    "## List All Teams"
   ]
  },
  {
   "cell_type": "code",
   "execution_count": 18,
   "id": "bac4b6c4-cd18-4b1f-9cac-dcfc563ad289",
   "metadata": {},
   "outputs": [],
   "source": [
    "def list_all_teams_gui(page,teams,info='info'):\n",
    "#    global page\n",
    "    sg.set_options(element_padding=(5, 5))\n",
    "#    list_teams=list_teams_all()\n",
    "    layout = [[sg.T(info,font='Calibri 11',justification=\"left\")],\n",
    "              [sg.T('Team Name',font='Calibri 11', size=(20, 1)),\n",
    "               sg.T('Team Description',font='Calibri 11', size=(30, 1)),\n",
    "               sg.T('Associated Project',font='Calibri 11', size=(20, 1)),\n",
    "               sg.T('Team Logo',font='Calibri 11')]]\n",
    "    idx=0\n",
    "    for team in teams.items:\n",
    "        print(team.TeamID,team.ProjectID)\n",
    "        projectname = Projects.objects(ProjectID=team.ProjectID).first()\n",
    "        if projectname is None:\n",
    "            projectname='Non allocated'\n",
    "        project=projectname.ProjectName\n",
    "                \n",
    "#        print(team.TeamLogo)\n",
    "        if team.TeamLogo != None:\n",
    "            photo=team.TeamLogo\n",
    "        else:\n",
    "            photo ='imagesDB/ilovemycompany.jpeg'\n",
    "#        print(TeamPhoto)\n",
    "\n",
    "        row = [sg.I(team.TeamName,disabled=True,font='Calibri 11', size=(20,1)),\n",
    "               sg.I(team.TeamDescription,disabled=True, font='Calibri 11',size=(30,1)),\n",
    "               sg.I(project,disabled=True, font='Calibri 11',size=(20,1)),\n",
    "               sg.Image(key='-PHOTO-', data=convert_to_bytes(photo, resize=(75, 75)))],\n",
    "        layout.append(row)\n",
    "        idx+=1\n",
    "        \n",
    "    pagination = [[sg.B('<<', disabled=not teams.has_prev),\n",
    "                   sg.B(\"<\", disabled=not teams.has_prev),\n",
    "                   sg.T(text=page, key='-PAGE-', size=(2, 1)),\n",
    "                   sg.B(\">\", disabled=not teams.has_next),\n",
    "                   sg.B(\">>\", disabled=not teams.has_next)\n",
    "                   ]]\n",
    "    layout += [[sg.Col(pagination, justification='right')]]\n",
    "    layout += [[sg.B('Return')]]\n",
    "               \n",
    "    window = MyWindow('List of Teams', layout,keep_on_top=True, element_justification = 'center',finalize=True)\n",
    "    window.my_move_to_center()\n",
    "    \n",
    "    while True:\n",
    "        event1, values1 = window.read()\n",
    "        print(event1,values1)\n",
    "        if event1 == sg.WIN_CLOSED or event1 == 'Return':\n",
    "#            print('event1',event1)\n",
    "            window.close()\n",
    "            return(None)\n",
    "            break  \n",
    "        elif event1 == \">\":\n",
    "            if teams.has_next:\n",
    "                page += 1\n",
    "                window.close()\n",
    "                teams = list_teams_page(page)\n",
    "                list_all_teams_gui(page,teams,'ceci est l\"info de base')\n",
    "        elif event1 == \"<\":\n",
    "            if teams.has_prev:\n",
    "                page -= 1\n",
    "                window.close()\n",
    "                teams = list_teams_page(page)\n",
    "                list_all_teams_gui(page,teams,'ceci est l\"info de base')\n",
    "        elif event1 == \"<<\":\n",
    "            if teams.has_prev:\n",
    "                page = 1\n",
    "                window.close()\n",
    "                teams = list_teams_page(page)\n",
    "                list_all_teams_gui(page,teams,'ceci est l\"info de base')\n",
    "        elif event1 == \">>\":\n",
    "            if teams.has_next:\n",
    "                page = teams.pages\n",
    "                window.close()\n",
    "                teams = list_teams_page(page)\n",
    "                list_all_teams_gui(page,teams,'ceci est l\"info de base')\n"
   ]
  },
  {
   "cell_type": "markdown",
   "id": "e588ff69-13f2-49f4-a2ce-406b36a59191",
   "metadata": {},
   "source": [
    "## Select teams by Project"
   ]
  },
  {
   "cell_type": "code",
   "execution_count": 19,
   "id": "0486714d-cb91-4a8f-acd0-9b795f52fad9",
   "metadata": {},
   "outputs": [],
   "source": [
    "def select_project_gui(info='info'):\n",
    "    projects_list=list_projects()\n",
    "    \n",
    "    comboproj = []\n",
    "    for project in projects_list:\n",
    "        comboproj.append(project.ProjectName)\n",
    "    print(comboproj)\n",
    "        \n",
    "    layout = [\n",
    "        [sg.T(info,font='Calibri 11',justification=\"left\")],\n",
    "        [sg.T('Project Selection', size=(20, 1),font='Calibri 11'), sg.Combo(comboproj,key='-PROJECT-',size=(20, 1),font='Calibri 11')],\n",
    "        [sg.Ok(), sg.Cancel()]\n",
    "    ]\n",
    "    window = MyWindow('Select Project', layout,finalize=True)\n",
    "    window.my_move_to_center()\n",
    "\n",
    "    while True:\n",
    "        event, values = window.read()\n",
    "        if event == sg.WIN_CLOSED or event == 'Cancel':\n",
    "            window.close()\n",
    "            break\n",
    "        elif event == 'Ok':\n",
    "            projectname=values['-PROJECT-']\n",
    "            projects = Projects.objects(ProjectName=projectname).first()\n",
    "            projectid=projects.ProjectID\n",
    "            \n",
    "#            print(__name__,projectname,projectid,'\\n----------\\n')\n",
    "            window.close()\n",
    "\n",
    "            return(projectid,projectname)"
   ]
  },
  {
   "cell_type": "markdown",
   "id": "1f8bfbd9-ff54-4f13-a594-49604d4f0540",
   "metadata": {
    "tags": []
   },
   "source": [
    "page = 1\n",
    "projectid=None\n",
    "projectid,projectname=select_project_gui() # a lan cer pour chercher les equipes d'un projet\n",
    "\n",
    "print(__name__,projectid,projectname)\n",
    "print(__name__,'projectname:',projectname)\n",
    "teams=list_teams_page(1,projectid)\n",
    "for a in teams.items:\n",
    "    print(a.TeamName,'\\t',a.TeamDescription,'\\t',a.TeamLogo,'\\t',a.ProjectID)\n",
    "if projectid == None:\n",
    "    info='Liste de toutes les equipes'\n",
    "else:\n",
    "    info='Liste de toutes les equipes du projet '+ projectname\n",
    "list_all_teams_gui(page,teams,info)"
   ]
  },
  {
   "cell_type": "code",
   "execution_count": null,
   "id": "0454c126-d6ec-4232-b1f1-f7bbde51a0fc",
   "metadata": {},
   "outputs": [],
   "source": [
    "print(__name__,'imported')"
   ]
  }
 ],
 "metadata": {
  "kernelspec": {
   "display_name": "Python 3 (ipykernel)",
   "language": "python",
   "name": "python3"
  },
  "language_info": {
   "codemirror_mode": {
    "name": "ipython",
    "version": 3
   },
   "file_extension": ".py",
   "mimetype": "text/x-python",
   "name": "python",
   "nbconvert_exporter": "python",
   "pygments_lexer": "ipython3",
   "version": "3.10.7"
  }
 },
 "nbformat": 4,
 "nbformat_minor": 5
}
