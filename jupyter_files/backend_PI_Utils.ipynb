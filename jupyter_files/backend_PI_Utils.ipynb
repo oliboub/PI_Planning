{
 "cells": [
  {
   "cell_type": "markdown",
   "id": "3f327f5a-4a9a-4f6f-9a9a-7adab26a29b6",
   "metadata": {},
   "source": [
    "# backend_PI_Utils.py"
   ]
  },
  {
   "cell_type": "code",
   "execution_count": null,
   "id": "6dfb7aa4-5df3-4d5a-aeb8-a75d4820e2cb",
   "metadata": {},
   "outputs": [],
   "source": [
    "import os\n",
    "import global_variables as g\n",
    "g.init()\n",
    "import PIL.Image\n",
    "import io\n",
    "import base64"
   ]
  },
  {
   "cell_type": "code",
   "execution_count": null,
   "id": "a93b33b8-c828-4aa7-bc51-18f84908990b",
   "metadata": {},
   "outputs": [],
   "source": [
    "def convert_to_bytes(file_or_bytes, resize=None):\n",
    "    if g.DEBUG_OL >= 1:\n",
    "        print('convert_to_bytes(',file_or_bytes, resize,')')\n",
    "    '''\n",
    "    Will convert into bytes and optionally resize an image that is a file or a base64 bytes object.\n",
    "    Turns into  PNG format in the process so that can be displayed by tkinter\n",
    "    :param file_or_bytes: either a string filename or a bytes base64 image object\n",
    "    :type file_or_bytes:  (Union[str, bytes])\n",
    "    :param resize:  optional new size\n",
    "    :type resize: (Tuple[int, int] or None)\n",
    "    :return: (bytes) a byte-string object\n",
    "    :rtype: (bytes)\n",
    "    '''\n",
    "    if isinstance(file_or_bytes, str):\n",
    "        img = PIL.Image.open(file_or_bytes)\n",
    "    else:\n",
    "        try:\n",
    "            img = PIL.Image.open(io.BytesIO(base64.b64decode(file_or_bytes)))\n",
    "        except Exception as e:\n",
    "            dataBytesIO = io.BytesIO(file_or_bytes)\n",
    "            img = PIL.Image.open(dataBytesIO)\n",
    "\n",
    "    cur_width, cur_height = img.size\n",
    "    if resize:\n",
    "        new_width, new_height = resize\n",
    "        scale = min(new_height/cur_height, new_width/cur_width)\n",
    "        img = img.resize((int(cur_width*scale), int(cur_height*scale)), PIL.Image.ANTIALIAS)\n",
    "    bio = io.BytesIO()\n",
    "    img.save(bio, format=\"PNG\")\n",
    "    del img\n",
    "    return bio.getvalue()"
   ]
  },
  {
   "cell_type": "code",
   "execution_count": null,
   "id": "370e483a-7041-4255-b349-fc3626e444ba",
   "metadata": {},
   "outputs": [],
   "source": [
    "if g.DEBUG_OL >= 1:\n",
    "    print(os.getcwd(),__name__,'imported')"
   ]
  }
 ],
 "metadata": {
  "kernelspec": {
   "display_name": "Python 3 (ipykernel)",
   "language": "python",
   "name": "python3"
  },
  "language_info": {
   "codemirror_mode": {
    "name": "ipython",
    "version": 3
   },
   "file_extension": ".py",
   "mimetype": "text/x-python",
   "name": "python",
   "nbconvert_exporter": "python",
   "pygments_lexer": "ipython3",
   "version": "3.10.7"
  }
 },
 "nbformat": 4,
 "nbformat_minor": 5
}
