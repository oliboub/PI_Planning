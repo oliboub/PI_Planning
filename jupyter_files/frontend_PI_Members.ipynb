{
 "cells": [
  {
   "cell_type": "markdown",
   "id": "7353a83f-5b0c-475a-8d60-8d8c790d43af",
   "metadata": {},
   "source": [
    "## PI Members Management"
   ]
  },
  {
   "cell_type": "code",
   "execution_count": 1,
   "id": "82f91078-9c4b-4dd0-8964-cf473e0e3741",
   "metadata": {},
   "outputs": [
    {
     "name": "stdout",
     "output_type": "stream",
     "text": [
      "backend_PI_mongo_model imported\n",
      "/media/olivier/Donnees/Documents/Formations/Perso/PI_Planning/jupyter_files backend_PI_Utils imported\n",
      "/media/olivier/Donnees/Documents/Formations/Perso/PI_Planning/jupyter_files global_variables imported\n",
      "/media/olivier/Donnees/Documents/Formations/Perso/PI_Planning/jupyter_files backend_PI_Members imported\n",
      "backend_PI_Projects imported\n",
      "/media/olivier/Donnees/Documents/Formations/Perso/PI_Planning/jupyter_files backend_PI_Teams imported\n",
      "/media/olivier/Donnees/Documents/Formations/Perso/PI_Planning/jupyter_files frontend_PI_Utils imported\n"
     ]
    },
    {
     "data": {
      "text/plain": [
       "MongoClient(host=['localhost:27017'], document_class=dict, tz_aware=False, connect=True, read_preference=Primary())"
      ]
     },
     "execution_count": 1,
     "metadata": {},
     "output_type": "execute_result"
    }
   ],
   "source": [
    "import PySimpleGUI as sg\n",
    "from backend_PI import * # Import tout ce qui est spécifique au projet\n",
    "\n",
    "connect('PIPlanning')"
   ]
  },
  {
   "cell_type": "markdown",
   "id": "3f3dfba1-ac59-4500-9359-210df91b164b",
   "metadata": {},
   "source": [
    "## create_member_gui"
   ]
  },
  {
   "cell_type": "code",
   "execution_count": null,
   "id": "b0cef63b-0b0a-40f3-b64d-b85c285d65b2",
   "metadata": {},
   "outputs": [],
   "source": [
    "def create_member_gui(info='Info'):\n",
    "    sg.set_options(element_padding=(5, 10))\n",
    "\n",
    "    projects_list=list_projects()\n",
    "    comboproj = []\n",
    "    for project in projects_list:\n",
    "        comboproj.append(project.ProjectName)\n",
    "    print(comboproj)\n",
    "    \n",
    "    team=[]\n",
    "    combomembers=[]\n",
    "    \n",
    "    info_layout = [sg.T(info,font='Calibri 11',justification=\"left\")]\n",
    " \n",
    "    left_layout = [\n",
    "        [sg.T('Project Selection', size=(20, 1),font='Calibri 11'), sg.Combo(comboproj,key='-PROJ-',enable_events=True,size=(20, 1),font='Calibri 11')],\n",
    "        [sg.T('Team Name', size=(20, 1),key='-TXTTEAM-',font='Calibri 11',visible=False), sg.Combo(team,key='-TEAM-',enable_events=True,visible=False,size=(20, 1),font='Calibri 11')],\n",
    "    ]\n",
    "    \n",
    "    bottom_layout=[[sg.T('Task Name',key='-TNAME-',size=(15,1),font='Calibri 11',visible=False),\n",
    "                    sg.I(\"\",key='-TNAMEI-',visible=False,size=(20,1))],\n",
    "                  [sg.T('Task Member',key='-TMEMBER-',size=(15,1),font='Calibri 11',visible=False),\n",
    "                   sg.Combo(combomembers,key='-TMEMBERI-',enable_events=True,size=(20, 1),font='Calibri 11',visible=False)]\n",
    "                  ]\n",
    "    \n",
    "#    layout = [info_layout,[sg.Frame(\"Select perimeter\", left_layout, vertical_alignment='top', pad=((10, 10), (10, 10)))],\n",
    "#            [sg.B('Add', enable_events=True), sg.Cancel()]]\n",
    "             \n",
    "    layout = [info_layout,[sg.Frame(\"Select perimeter\", left_layout, vertical_alignment='top', pad=((10, 10), (10, 10)))],\n",
    "              [sg.Frame(\"Task\", bottom_layout,key='-TASKS-', vertical_alignment='top',pad=((10, 10), (10, 10)),visible=False)],\n",
    "              [sg.B('Add', enable_events=True), sg.Cancel()]]\n",
    "        \n",
    "    window = MyWindow('Create task', layout,finalize=True)\n",
    "    window.my_move_to_center()\n",
    "    \n",
    "    while True:\n",
    "        event, values = window.read()\n",
    "#        print(event,values)\n",
    "        \n",
    "        if event == sg.WIN_CLOSED or event == 'Cancel':\n",
    "#            print(event)\n",
    "            window.close()\n",
    "            break\n",
    " \n",
    "        elif '-PROJ-' in event:\n",
    "#           print(values['-PROJ-'])\n",
    "            project=values['-PROJ-']\n",
    "            list_teams = []\n",
    "            teams_list=list_teams(project)\n",
    "            for i in range(len(teams_list)):\n",
    "#                print(teams_list[i][1])\n",
    "                list_teams.append(teams_list[i][1])\n",
    "            print(list_teams)\n",
    "            window['-TXTTEAM-'].update(visible=True)\n",
    "            window['-TEAM-'].update(values=list_teams,visible=True)\n",
    "            \n",
    "\n",
    "              \n",
    "        elif '-TEAM-' in event:\n",
    "            team=values['-TEAM-']\n",
    "            print(team)\n",
    "\n",
    "            tasks_lists=list_tasks(project,team,'All','All')\n",
    "            \n",
    "            combomembers=query_members_by_team(team)\n",
    "            print(combomembers)\n",
    "            \n",
    "            titre='Lists of tasks for project: '+project+' and team:'+team\n",
    "            window['-TASKS-'].update(value=titre,visible=True)\n",
    "            window['-TNAME-'].update(visible=True)\n",
    "            window['-TNAMEI-'].update(visible=True)\n",
    "            window['-TMEMBER-'].update(visible=True)\n",
    "            window['-TMEMBERI-'].update(values=combomembers,visible=True)\n",
    "            \n",
    "        elif event == 'Add':\n",
    "            print(event,values)\n",
    "            pass"
   ]
  },
  {
   "cell_type": "markdown",
   "id": "71a42241-3cf0-459e-a200-ecf02a4f3202",
   "metadata": {},
   "source": [
    "## list_members_gui(teamid,page,linespage,info='info')\n",
    "**WIP**"
   ]
  },
  {
   "cell_type": "code",
   "execution_count": 42,
   "id": "bbde054d-b388-492d-a1dc-593d60e3740f",
   "metadata": {
    "tags": []
   },
   "outputs": [],
   "source": [
    "def list_members_gui(teamid,page,linespage,info='info'):\n",
    "    if g.DEBUG_OL >= 1:\n",
    "        print('--- function: list_members_gui(',teamid,page,linespage,info,')')\n",
    " \n",
    "    #    global page\n",
    "    members=[]\n",
    "    members=query_members_by_team(teamid)\n",
    "    items=len(members)\n",
    "    if g.DEBUG_OL >= 1:\n",
    "        print('items:',items)\n",
    "        \n",
    "    sg.set_options(element_padding=(5, 5))\n",
    "#    list_teams=list_teams_all()\n",
    "    layout = [[sg.T(info,font='Calibri 11',justification=\"left\")],\n",
    "              [sg.T('Member Name',font='Calibri 11', size=(20, 1)),\n",
    "               sg.T('Member Firstname',font='Calibri 11',size=(20, 1)),\n",
    "               sg.T('Member Alias',font='Calibri 11', size=(30, 1)),\n",
    "               sg.T('Member Role',font='Calibri 11', size=(20, 1)),\n",
    "               sg.T('Member Email',font='Calibri 11', size=(20, 1)),\n",
    "              ]]\n",
    "    idx=0\n",
    "    for member in members:\n",
    "        if g.DEBUG_OL >= 2:\n",
    "            print('MemberID',member[0],'\\tProjectID',member[6],'\\tTeam:',member[7])\n",
    "\n",
    "        row = [sg.I(member[1],disabled=True, font='Calibri 11', size=(20,1)),\n",
    "               sg.I(member[3],disabled=True, font='Calibri 11',size=(30,1)),\n",
    "               sg.I(member[2],disabled=True, font='Calibri 11',size=(20,1)),\n",
    "               sg.I(member[9],disabled=True, font='Calibri 11',size=(20,1)),\n",
    "               sg.I(member[4],disabled=True, font='Calibri 11',size=(20,1)),\n",
    "              ]\n",
    "        layout.append(row)\n",
    "        idx+=1\n",
    "   \n",
    "    pagination = [[sg.B('<<', key='-BEGINING-'),\n",
    "                   sg.B(\"<\", key='-BACK-'),\n",
    "                   sg.T(text=page, key='-PAGE-', size=(2, 1)),\n",
    "                   sg.B(\">\", key='-NEXT-'),\n",
    "                   sg.B(\">>\", key='-END-')\n",
    "                   ]]\n",
    "    layout += [[sg.Col(pagination, justification='right')]]\n",
    "    layout += [[sg.B('Return')]]\n",
    "               \n",
    "    window = MyWindow('List of Members of team '+members[0][8], layout,keep_on_top=True, element_justification = 'center',finalize=True)\n",
    "    window.my_move_to_center()\n",
    "    \n",
    "    while True:\n",
    "        event1, values1 = window.read()\n",
    "        if g.DEBUG_OL >= 2:\n",
    "            print(event1,values1)\n",
    "        if event1 == sg.WIN_CLOSED or event1 == 'Return':\n",
    "            window.close()\n",
    "            return(None)\n",
    "            break\n",
    "            \n",
    "        elif event1 == \">\":\n",
    "            if teams.has_next:\n",
    "                page += 1\n",
    "                window.close()\n",
    "                teams = list_members_page(page,team.ProjectID)\n",
    "                list_all_teams_gui(page,teams,'ceci est l\"info de base')\n",
    "        elif event1 == \"<\":\n",
    "            if teams.has_prev:\n",
    "                page -= 1\n",
    "                window.close()\n",
    "                teams = list_members_page(page,team.ProjectID)\n",
    "                list_all_teams_gui(page,teams,'ceci est l\"info de base')\n",
    "        elif event1 == \"<<\":\n",
    "            if teams.has_prev:\n",
    "                page = 1\n",
    "                window.close()\n",
    "                teams = list_members_page(page,team.ProjectID)\n",
    "                list_all_teams_gui(page,teams,'ceci est l\"info de base')\n",
    "        elif event1 == \">>\":\n",
    "            if teams.has_next:\n",
    "                page = teams.pages\n",
    "                window.close()\n",
    "                teams = list_members_page(page,team.ProjectID)\n",
    "                list_all_teams_gui(page,teams,'ceci est l\"info de base')\n"
   ]
  },
  {
   "cell_type": "code",
   "execution_count": 43,
   "id": "4a805560-f16d-4af3-afb7-a57ee4a849b8",
   "metadata": {
    "tags": []
   },
   "outputs": [
    {
     "name": "stdout",
     "output_type": "stream",
     "text": [
      "--- function: list_members_gui( 1 1 5 info )\n",
      "--- function: query_members_by_team( 1 )\n",
      "teamid: 1 Qtt members found: 3\n",
      "[1]\n",
      "[1, 2]\n",
      "[1, 2, 5]\n",
      "1\n",
      "--- function: query_member_alias( 1 )\n",
      "MemberID: 1\n",
      "User Alias: oliboub\n",
      "User Name: Boubert\n",
      "User First Name: Olivier\n",
      "User Email: oliboub@gmail.com\n",
      "Project allocated: PIPlanning\n",
      "Project Team allocated: PI\n",
      "User Theme: LightBrown4\n",
      "Team Role: Solution Owner\n",
      "Member admin: False\n",
      "Member First Connection: False\n",
      "[1, 'Boubert', 'oliboub', 'Olivier', 'oliboub@gmail.com', 'LightBrown4', 'PIPlanning', 1, 'PI', 'Solution Owner', False, False]\n",
      "2\n",
      "--- function: query_member_alias( 2 )\n",
      "MemberID: 2\n",
      "User Alias: MacFly\n",
      "User Name: TVV\n",
      "User First Name: MC\n",
      "User Email: mctvv@live.com\n",
      "Project allocated: PIPlanning\n",
      "Project Team allocated: PI\n",
      "User Theme: LightBlue2\n",
      "Team Role: Scrum Master\n",
      "Member admin: False\n",
      "Member First Connection: True\n",
      "[2, 'TVV', 'MacFly', 'MC', 'mctvv@live.com', 'LightBlue2', 'PIPlanning', 1, 'PI', 'Scrum Master', False, True]\n",
      "5\n",
      "--- function: query_member_alias( 5 )\n",
      "MemberID: 5\n",
      "User Alias: superadmin\n",
      "User Name: admin\n",
      "User First Name: admin\n",
      "User Email: admin@gmail.com\n",
      "Project allocated: PIPlanning\n",
      "Project Team allocated: PI\n",
      "User Theme: LightBlue2\n",
      "Team Role: admin\n",
      "Member admin: True\n",
      "Member First Connection: False\n",
      "[5, 'admin', 'superadmin', 'admin', 'admin@gmail.com', 'LightBlue2', 'PIPlanning', 1, 'PI', 'admin', True, False]\n",
      "items: 3\n",
      "MemberID 1 \tProjectID PIPlanning \tTeam: 1\n",
      "MemberID 2 \tProjectID PIPlanning \tTeam: 1\n",
      "MemberID 5 \tProjectID PIPlanning \tTeam: 1\n",
      "-NEXT- {0: 'Boubert', 1: 'Olivier', 2: 'oliboub', 3: 'Solution Owner', 4: 'oliboub@gmail.com', 5: 'TVV', 6: 'MC', 7: 'MacFly', 8: 'Scrum Master', 9: 'mctvv@live.com', 10: 'admin', 11: 'admin', 12: 'superadmin', 13: 'admin', 14: 'admin@gmail.com'}\n",
      "-BACK- {0: 'Boubert', 1: 'Olivier', 2: 'oliboub', 3: 'Solution Owner', 4: 'oliboub@gmail.com', 5: 'TVV', 6: 'MC', 7: 'MacFly', 8: 'Scrum Master', 9: 'mctvv@live.com', 10: 'admin', 11: 'admin', 12: 'superadmin', 13: 'admin', 14: 'admin@gmail.com'}\n",
      "Return {0: 'Boubert', 1: 'Olivier', 2: 'oliboub', 3: 'Solution Owner', 4: 'oliboub@gmail.com', 5: 'TVV', 6: 'MC', 7: 'MacFly', 8: 'Scrum Master', 9: 'mctvv@live.com', 10: 'admin', 11: 'admin', 12: 'superadmin', 13: 'admin', 14: 'admin@gmail.com'}\n"
     ]
    }
   ],
   "source": [
    "list_members_gui(1,1,5)"
   ]
  },
  {
   "cell_type": "code",
   "execution_count": 27,
   "id": "124eb460-a8d4-4e69-bd5e-277aa4c7195c",
   "metadata": {},
   "outputs": [
    {
     "name": "stdout",
     "output_type": "stream",
     "text": [
      "__main__ imported\n"
     ]
    }
   ],
   "source": [
    "print(__name__,'imported')"
   ]
  },
  {
   "cell_type": "code",
   "execution_count": null,
   "id": "1edc777a-ae30-44fd-a80e-6367b701ce1b",
   "metadata": {},
   "outputs": [],
   "source": []
  }
 ],
 "metadata": {
  "kernelspec": {
   "display_name": "Python 3 (ipykernel)",
   "language": "python",
   "name": "python3"
  },
  "language_info": {
   "codemirror_mode": {
    "name": "ipython",
    "version": 3
   },
   "file_extension": ".py",
   "mimetype": "text/x-python",
   "name": "python",
   "nbconvert_exporter": "python",
   "pygments_lexer": "ipython3",
   "version": "3.10.7"
  }
 },
 "nbformat": 4,
 "nbformat_minor": 5
}
