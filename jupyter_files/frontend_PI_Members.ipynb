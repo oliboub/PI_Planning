{
 "cells": [
  {
   "cell_type": "markdown",
   "id": "7353a83f-5b0c-475a-8d60-8d8c790d43af",
   "metadata": {},
   "source": [
    "## PI Members Management"
   ]
  },
  {
   "cell_type": "code",
   "execution_count": null,
   "id": "82f91078-9c4b-4dd0-8964-cf473e0e3741",
   "metadata": {},
   "outputs": [],
   "source": [
    "import PySimpleGUI as sg\n",
    "from backend_PI import * # Import tout ce qui est spécifique au projet\n",
    "\n",
    "connect('PIPlanning')"
   ]
  },
  {
   "cell_type": "markdown",
   "id": "3f3dfba1-ac59-4500-9359-210df91b164b",
   "metadata": {},
   "source": [
    "## create_member_gui"
   ]
  },
  {
   "cell_type": "code",
   "execution_count": null,
   "id": "b0cef63b-0b0a-40f3-b64d-b85c285d65b2",
   "metadata": {},
   "outputs": [],
   "source": [
    "def create_member_gui(info='Info'):\n",
    "    sg.set_options(element_padding=(5, 10))\n",
    "\n",
    "    projects_list=list_projects()\n",
    "    comboproj = []\n",
    "    for project in projects_list:\n",
    "        comboproj.append(project.ProjectName)\n",
    "    print(comboproj)\n",
    "    \n",
    "    team=[]\n",
    "    combomembers=[]\n",
    "    \n",
    "    info_layout = [sg.T(info,font='Calibri 11',justification=\"left\")]\n",
    " \n",
    "    left_layout = [\n",
    "        [sg.T('Project Selection', size=(20, 1),font='Calibri 11'), sg.Combo(comboproj,key='-PROJ-',enable_events=True,size=(20, 1),font='Calibri 11')],\n",
    "        [sg.T('Team Name', size=(20, 1),key='-TXTTEAM-',font='Calibri 11',visible=False), sg.Combo(team,key='-TEAM-',enable_events=True,visible=False,size=(20, 1),font='Calibri 11')],\n",
    "    ]\n",
    "    \n",
    "    bottom_layout=[[sg.T('Task Name',key='-TNAME-',size=(15,1),font='Calibri 11',visible=False),\n",
    "                    sg.I(\"\",key='-TNAMEI-',visible=False,size=(20,1))],\n",
    "                  [sg.T('Task Member',key='-TMEMBER-',size=(15,1),font='Calibri 11',visible=False),\n",
    "                   sg.Combo(combomembers,key='-TMEMBERI-',enable_events=True,size=(20, 1),font='Calibri 11',visible=False)]\n",
    "                  ]\n",
    "    \n",
    "#    layout = [info_layout,[sg.Frame(\"Select perimeter\", left_layout, vertical_alignment='top', pad=((10, 10), (10, 10)))],\n",
    "#            [sg.B('Add', enable_events=True), sg.Cancel()]]\n",
    "             \n",
    "    layout = [info_layout,[sg.Frame(\"Select perimeter\", left_layout, vertical_alignment='top', pad=((10, 10), (10, 10)))],\n",
    "              [sg.Frame(\"Task\", bottom_layout,key='-TASKS-', vertical_alignment='top',pad=((10, 10), (10, 10)),visible=False)],\n",
    "              [sg.B('Add', enable_events=True), sg.Cancel()]]\n",
    "        \n",
    "    window = MyWindow('Create task', layout,finalize=True)\n",
    "    window.my_move_to_center()\n",
    "    \n",
    "    while True:\n",
    "        event, values = window.read()\n",
    "#        print(event,values)\n",
    "        \n",
    "        if event == sg.WIN_CLOSED or event == 'Cancel':\n",
    "#            print(event)\n",
    "            window.close()\n",
    "            break\n",
    " \n",
    "        elif '-PROJ-' in event:\n",
    "#           print(values['-PROJ-'])\n",
    "            project=values['-PROJ-']\n",
    "            list_teams = []\n",
    "            teams_list=list_teams_by_project(project)\n",
    "            for i in range(len(teams_list)):\n",
    "#                print(teams_list[i][1])\n",
    "                list_teams.append(teams_list[i][1])\n",
    "            print(list_teams)\n",
    "            window['-TXTTEAM-'].update(visible=True)\n",
    "            window['-TEAM-'].update(values=list_teams,visible=True)\n",
    "            \n",
    "\n",
    "              \n",
    "        elif '-TEAM-' in event:\n",
    "            team=values['-TEAM-']\n",
    "            print(team)\n",
    "\n",
    "            tasks_lists=list_tasks(project,team,'All','All')\n",
    "            \n",
    "            combomembers=query_members_by_team(team)\n",
    "            print(combomembers)\n",
    "            \n",
    "            titre='Lists of tasks for project: '+project+' and team:'+team\n",
    "            window['-TASKS-'].update(value=titre,visible=True)\n",
    "            window['-TNAME-'].update(visible=True)\n",
    "            window['-TNAMEI-'].update(visible=True)\n",
    "            window['-TMEMBER-'].update(visible=True)\n",
    "            window['-TMEMBERI-'].update(values=combomembers,visible=True)\n",
    "            \n",
    "        elif event == 'Add':\n",
    "            print(event,values)\n",
    "            pass"
   ]
  },
  {
   "cell_type": "code",
   "execution_count": null,
   "id": "85ad328a-c610-4e9f-ae9e-a22544a468eb",
   "metadata": {},
   "outputs": [],
   "source": []
  },
  {
   "cell_type": "code",
   "execution_count": null,
   "id": "124eb460-a8d4-4e69-bd5e-277aa4c7195c",
   "metadata": {},
   "outputs": [],
   "source": [
    "print(__name__,'imported')"
   ]
  }
 ],
 "metadata": {
  "kernelspec": {
   "display_name": "Python 3 (ipykernel)",
   "language": "python",
   "name": "python3"
  },
  "language_info": {
   "codemirror_mode": {
    "name": "ipython",
    "version": 3
   },
   "file_extension": ".py",
   "mimetype": "text/x-python",
   "name": "python",
   "nbconvert_exporter": "python",
   "pygments_lexer": "ipython3",
   "version": "3.10.7"
  }
 },
 "nbformat": 4,
 "nbformat_minor": 5
}
