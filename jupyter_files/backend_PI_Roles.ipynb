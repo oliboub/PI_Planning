{
 "cells": [
  {
   "cell_type": "markdown",
   "id": "ec96e2c2-9eb1-4bac-a9da-bb03f95c4ae4",
   "metadata": {},
   "source": [
    "# backend_PI_Roles"
   ]
  },
  {
   "cell_type": "markdown",
   "id": "a536450a-a70c-4380-b540-46aca059bb05",
   "metadata": {},
   "source": [
    "## prerequisites"
   ]
  },
  {
   "cell_type": "code",
   "execution_count": 2,
   "id": "f8bf3488-6a7d-4dea-8c2c-b71bf566ade0",
   "metadata": {
    "tags": []
   },
   "outputs": [
    {
     "name": "stdout",
     "output_type": "stream",
     "text": [
      "/media/olivier/Donnees/Documents/Formations/Perso/PI_Planning/jupyter_files backend_PI_Utils imported\n",
      "/media/olivier/Donnees/Documents/Formations/Perso/PI_Planning/jupyter_files backend_PI_mongo_model imported\n"
     ]
    }
   ],
   "source": [
    "import os\n",
    "import bcrypt\n",
    "from datetime import datetime\n",
    "import PySimpleGUI as sg\n",
    "from backend_PI_Utils import * # Import tout ce qui est spécifique au projet\n",
    "from backend_PI_mongo_model import * # Import tout ce qui est spécifique au projet\n",
    "#from backend_PI import * # Import tout ce qui est spécifique au projet\n",
    "#from frontend_PI import *"
   ]
  },
  {
   "cell_type": "code",
   "execution_count": 3,
   "id": "3559ac0d-2256-499c-90ef-a20b8b3fe892",
   "metadata": {
    "tags": []
   },
   "outputs": [
    {
     "name": "stdout",
     "output_type": "stream",
     "text": [
      "/media/olivier/Donnees/Documents/Formations/Perso/PI_Planning/jupyter_files global_variables imported\n"
     ]
    },
    {
     "data": {
      "text/plain": [
       "MongoClient(host=['localhost:27017'], document_class=dict, tz_aware=False, connect=True, read_preference=Primary())"
      ]
     },
     "execution_count": 3,
     "metadata": {},
     "output_type": "execute_result"
    }
   ],
   "source": [
    "import global_variables as g\n",
    "g.init()\n",
    "connect('PIPlanning')"
   ]
  },
  {
   "cell_type": "markdown",
   "id": "6f1488a8-b041-40bd-9239-4c941fcc0944",
   "metadata": {},
   "source": [
    "## create_role(role,description)"
   ]
  },
  {
   "cell_type": "code",
   "execution_count": 6,
   "id": "4643fcf0-9353-4457-8efc-52c46cfd5507",
   "metadata": {
    "tags": []
   },
   "outputs": [],
   "source": [
    "def create_role(newrole,description):\n",
    "    if g.DEBUG_OL >= 1:\n",
    "        print('--- function: create_role(',newrole,description,')')\n",
    "    newrole=newrole.title()\n",
    "    now = datetime.now()\n",
    "    creationdate = now.strftime(\"%d/%m/%Y %H:%M:%S\")\n",
    "    role = Roles()\n",
    "    role.RoleName =  newrole\n",
    "    role.RoleDescription = description\n",
    "    role.Archived=False\n",
    "    role.CreationDate = creationdate\n",
    "    role.LastUpdate = creationdate\n",
    "    role.save()\n",
    "    \n",
    "    createdrole=Roles.objects(RoleName=newrole).first()\n",
    "    if g.DEBUG_OL >= 2:\n",
    "        print('New role created with roleID=',createdrole.RoleID)\n",
    "    \n",
    "    return createdrole.RoleID"
   ]
  },
  {
   "cell_type": "code",
   "execution_count": 7,
   "id": "ce2ebd45-a95e-40a0-ad13-cf231176579c",
   "metadata": {
    "tags": []
   },
   "outputs": [
    {
     "name": "stdout",
     "output_type": "stream",
     "text": [
      "--- function: create_role( busines owner HR Business owner for SAP HR )\n"
     ]
    },
    {
     "data": {
      "text/plain": [
       "15"
      ]
     },
     "execution_count": 7,
     "metadata": {},
     "output_type": "execute_result"
    }
   ],
   "source": [
    "#create_role(\"busines owner HR\",\"Business owner for SAP HR\")"
   ]
  },
  {
   "cell_type": "markdown",
   "id": "a7250b3a-b647-415a-8d16-44a8e427ed61",
   "metadata": {},
   "source": [
    "## archive_role(roleid,newstatus)"
   ]
  },
  {
   "cell_type": "code",
   "execution_count": null,
   "id": "c313cf98-59d7-4676-b79d-a44bec9bb2ed",
   "metadata": {
    "tags": []
   },
   "outputs": [],
   "source": [
    "def archive_role(roleid,newstatus):\n",
    "    if g.DEBUG_OL >= 1:\n",
    "        print('--- function: archive_role(',roleid,newstatus,')')\n",
    "    item=Roles.objects(RoleID=roleid).first()\n",
    "    if g.DEBUG_OL >= 2:\n",
    "        print('archive role name:',item.RoleName)\n",
    "    now = datetime.now()\n",
    "    item.Archived = newstatus\n",
    "    item.LastUpdate = now.strftime(\"%d/%m/%Y %H:%M:%S\")\n",
    "    item.save()"
   ]
  },
  {
   "cell_type": "code",
   "execution_count": null,
   "id": "f677e7b4-04e6-4893-b280-e626504b141b",
   "metadata": {
    "tags": []
   },
   "outputs": [],
   "source": [
    "#archive_status_role(1,False)"
   ]
  },
  {
   "cell_type": "markdown",
   "id": "4e178eae-1f79-4627-9116-f9003684993b",
   "metadata": {},
   "source": [
    "## update_role(roleid,rolename,roledescription)"
   ]
  },
  {
   "cell_type": "code",
   "execution_count": null,
   "id": "26e0af00-f5c9-4376-86c0-683692a5196a",
   "metadata": {},
   "outputs": [],
   "source": [
    "def update_role(roleid,rolename,roledescription):\n",
    "    if g.DEBUG_OL >= 1:\n",
    "        print('--- function: update_role(',roleid,rolename,roledescription,')')\n",
    "    now = datetime.now()\n",
    "    item=Roles.objects(RoleID=roleid).first()\n",
    "    item.RoleName = rolename\n",
    "    item.RoleDescription = roledescription\n",
    "    item.LastUpdate = now.strftime(\"%d/%m/%Y %H:%M:%S\")\n",
    "    item.save()"
   ]
  },
  {
   "cell_type": "code",
   "execution_count": null,
   "id": "a6fb1eb9-5723-49a5-9484-8558f955834a",
   "metadata": {},
   "outputs": [],
   "source": [
    "print(os.getcwd(),__name__,'imported')"
   ]
  }
 ],
 "metadata": {
  "kernelspec": {
   "display_name": "Python 3 (ipykernel)",
   "language": "python",
   "name": "python3"
  },
  "language_info": {
   "codemirror_mode": {
    "name": "ipython",
    "version": 3
   },
   "file_extension": ".py",
   "mimetype": "text/x-python",
   "name": "python",
   "nbconvert_exporter": "python",
   "pygments_lexer": "ipython3",
   "version": "3.10.7"
  }
 },
 "nbformat": 4,
 "nbformat_minor": 5
}
