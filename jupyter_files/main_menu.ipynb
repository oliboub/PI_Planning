{
 "cells": [
  {
   "cell_type": "markdown",
   "id": "7d0abc5c",
   "metadata": {},
   "source": [
    "# Main Menu for Safe PI Planning"
   ]
  },
  {
   "cell_type": "markdown",
   "id": "e773ac43-ebcf-48d5-a72d-68ace69f483d",
   "metadata": {},
   "source": [
    "## Imports"
   ]
  },
  {
   "cell_type": "code",
   "execution_count": 1,
   "id": "888f9104",
   "metadata": {
    "tags": []
   },
   "outputs": [
    {
     "name": "stdout",
     "output_type": "stream",
     "text": [
      "/media/olivier/Donnees/Documents/Formations/Perso/PI_Planning/jupyter_files global_variables imported\n",
      "backend_PI_mongo_model imported\n",
      "/media/olivier/Donnees/Documents/Formations/Perso/PI_Planning/jupyter_files backend_PI_Utils imported\n",
      "fonction: query_member( oliboub )\n",
      "fonction: get_actual_password( admin@gmail.com password)\n",
      "/media/olivier/Donnees/Documents/Formations/Perso/PI_Planning/jupyter_files backend_PI_Members imported\n",
      "backend_PI_Projects imported\n",
      "backend_PI_Teams imported\n",
      "/media/olivier/Donnees/Documents/Formations/Perso/PI_Planning/jupyter_files frontend_PI_Utils imported\n",
      "frontend_PI_Teams imported\n",
      "frontend_PI_Projects imported\n",
      "/media/olivier/Donnees/Documents/Formations/Perso/PI_Planning/jupyter_files frontend_PI_Users imported\n",
      "frontend_PI_Members imported\n",
      "Debug mode active level : 1\n"
     ]
    }
   ],
   "source": [
    "import global_variables as g\n",
    "g.init()\n",
    "import PySimpleGUI as sg\n",
    "from backend_PI import * # Import tout ce qui est spécifique au projet\n",
    "from frontend_PI import *\n",
    "\n",
    "connect('PIPlanning')\n",
    "\n",
    "if g.DEBUG_OL >= 1:\n",
    "    print(\"Debug mode active level :\",g.DEBUG_OL)"
   ]
  },
  {
   "cell_type": "markdown",
   "id": "6ae5e8f2",
   "metadata": {
    "tags": []
   },
   "source": [
    "## Documentation\n",
    "### see doc_plantuml.jpynb"
   ]
  },
  {
   "cell_type": "markdown",
   "id": "c5134ab8",
   "metadata": {},
   "source": [
    "-------\n",
    "## Main"
   ]
  },
  {
   "cell_type": "code",
   "execution_count": 2,
   "id": "24568b1b",
   "metadata": {
    "tags": []
   },
   "outputs": [
    {
     "name": "stdout",
     "output_type": "stream",
     "text": [
      "Helvetica 11 1\n",
      "function: login_window()\n",
      "fonction: query_member( oliboub@gmail.com )\n",
      "fonction: get_actual_password( oliboub@gmail.com password)\n",
      "fonction: query_member_alias( oliboub )\n",
      "function main:( LightBlue2 1 False )\n",
      "function: select_theme_gui( 1 LightBlue2 )\n",
      "fonction: write_new_member_theme( DarkGreen )\n",
      "function main:( DarkGreen 1 False )\n",
      "function: who_am_i_gui( oliboub )\n",
      "fonction: query_member_alias( oliboub )\n"
     ]
    }
   ],
   "source": [
    "def main(theme,projectid,admin=False):\n",
    "    if g.DEBUG_OL >= 1:\n",
    "        print('function main:(',theme,projectid,admin,')')\n",
    "    menu_admin = [\n",
    "        ['Parameters',\n",
    "         ['Project', ['Create Project', 'List Project', 'Archive Project'],\n",
    "         ['Teams',['Create Team','List Teams',['List All Teams','List Teams by Project'],'Archive Team'],\n",
    "         ['Members',['Create member','List members','Archive member']]]]\n",
    "        ],\n",
    "         ['My Info',['Who am I','Select Theme']],\n",
    "        ['Exit', ['Quit']]\n",
    "    ]\n",
    "    \n",
    "    menu_std = [\n",
    "        ['My Project', ['List my team','List our team members','list teams members']],['Tasks',['Create task','List tasks']],\n",
    "        ['My Info',['Who am I','Select Theme']],\n",
    "        ['Exit', ['Quit']]\n",
    "    ]\n",
    "   \n",
    "    if admin == True:\n",
    "        layout = [[sg.Menu(menu_admin)],\n",
    "              [sg.Image(data=convert_to_bytes('../imagesDB/safe.png', resize=(490, 220)))]] \n",
    "    else:\n",
    "        layout = [[sg.Menu(menu_std)],\n",
    "              [sg.Image(data=convert_to_bytes('../imagesDB/safe.png', resize=(490, 220)))]] \n",
    "    \n",
    "    #background_color='#6c69df'\n",
    "    window = MyWindow('PI PLanning',layout,icon='../imagesDB/agile.ico',finalize=True)\n",
    "    window.my_move_to_center()\n",
    "    \n",
    "    while True:\n",
    "        event, values = window.read()\n",
    "        \n",
    "        if event == sg.WIN_CLOSED or event == 'Quit':\n",
    "            window.close()\n",
    "            break\n",
    "\n",
    "#--- Projects\n",
    "        if event == 'Create Project':\n",
    "            info='Create new project'\n",
    "            create_project_gui(info)\n",
    "        if event == 'List Project':\n",
    "            info='List of active projects'\n",
    "            ActualProjectID,ActualProjectName, ActualProjectDesc=list_projects_gui(info)\n",
    "            if g.DEBUG_OL >= 2:\n",
    "                print('ActualProjectID:',ActualProjectID,'\\tActualProjectName;',ActualProjectName,'\\tActualProjectDesc:',ActualProjectDesc)\n",
    "        if event == 'Archive Project':\n",
    "            info='Archivage de projet non utilisé'\n",
    "            ArchivedProjectName=archive_project_gui(info)\n",
    "            if g.DEBUG_OL >= 2:\n",
    "                print('ArchivedProjectName;',ArchivedProjectName)\n",
    "        \n",
    "#--- Teams\n",
    "        if event == 'Create Team':\n",
    "            info='Créer votre nouvelle equipe'\n",
    "            create_team_gui(info)\n",
    "\n",
    "        if event == \"List All Teams\":\n",
    "            info='List of All active Teams even if non allocated to project'\n",
    "            teams=list_teams_page(1)\n",
    "            if g.DEBUG_OL >= 2:\n",
    "                print(teams)\n",
    "            list_all_teams_gui(1,teams,info)\n",
    "\n",
    "        if event == \"List Teams by Project\":\n",
    "            info='Select project top display associated teams'\n",
    "            projectid=None\n",
    "            projectid,projectname=select_project_gui() # a lan cer pour chercher les equipes d'un projet\n",
    "            teams=list_teams_page(1,projectid)\n",
    "\n",
    "            if g.DEBUG_OL >= 2:\n",
    "                print(__name__,projectid,projectname)\n",
    "                for a in teams.items:\n",
    "                    print(a.TeamName,'\\t',a.TeamDescription,'\\t',a.TeamLogo,'\\t',a.ProjectID)\n",
    "            info='Liste de toutes les equipes du projet '+ projectname\n",
    "            list_all_teams_gui(1,teams,info)\n",
    "\n",
    "        if event == \"List my team\":\n",
    "            info='info'\n",
    "            project=query_project_name_from_ID(projectid)\n",
    "            \n",
    "            if g.DEBUG_OL >= 2:\n",
    "                print(__name__,projectid,project.ProjectName)\n",
    "            teams=list_teams_page(1,projectid)\n",
    "            if g.DEBUG_OL >= 2:\n",
    "                for a in teams.items:\n",
    "                    print(a.TeamName,'\\t',a.TeamDescription,'\\t',a.TeamLogo,'\\t',a.ProjectID)\n",
    "            info='Liste de toutes les equipes du projet '+ project.ProjectName\n",
    "            list_all_teams_gui(1,teams,info)\n",
    " \n",
    "#--- My Info\n",
    "        if event == \"Who am I\":\n",
    "            who_am_i_gui(UserAlias)\n",
    "        \n",
    "        if event == \"Select Theme\":\n",
    "            theme1=select_theme_gui(memberid,theme)\n",
    "            if g.DEBUG_OL >= 2:\n",
    "                print(theme1)\n",
    "            sg.theme(theme1)\n",
    "            window.close()\n",
    "            main(theme1,projectid)\n",
    "\n",
    "if __name__ == '__main__':\n",
    "    \n",
    "    theme=g.THEME\n",
    "    \n",
    "    page = 1\n",
    "\n",
    "    #    UserAlias=user_alias_gui()\n",
    "    UserAlias=login_window()\n",
    "    if g.DEBUG_OL >= 2:\n",
    "        print(UserAlias)\n",
    "    \n",
    "    if UserAlias != 'None':\n",
    "        memberid,name,firstname,email,theme,project,projectid,team,role,admin,firstcon=query_member_alias(UserAlias)\n",
    "        sg.theme(theme)\n",
    "        main(theme,projectid,admin)\n",
    "    else:\n",
    "        toto=\"Bye\"\n",
    "        sg.popup(toto,title=\"info\",auto_close=True, auto_close_duration=2,)"
   ]
  },
  {
   "cell_type": "code",
   "execution_count": null,
   "id": "fff353fe",
   "metadata": {},
   "outputs": [],
   "source": []
  }
 ],
 "metadata": {
  "kernelspec": {
   "display_name": "Python 3 (ipykernel)",
   "language": "python",
   "name": "python3"
  },
  "language_info": {
   "codemirror_mode": {
    "name": "ipython",
    "version": 3
   },
   "file_extension": ".py",
   "mimetype": "text/x-python",
   "name": "python",
   "nbconvert_exporter": "python",
   "pygments_lexer": "ipython3",
   "version": "3.10.7"
  },
  "vscode": {
   "interpreter": {
    "hash": "607db476e417971f05b607c2dd14e77ee8262c2c4c20dea422522c60605a222a"
   }
  }
 },
 "nbformat": 4,
 "nbformat_minor": 5
}
