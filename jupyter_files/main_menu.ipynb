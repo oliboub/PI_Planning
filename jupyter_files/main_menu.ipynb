{
 "cells": [
  {
   "cell_type": "markdown",
   "id": "7d0abc5c",
   "metadata": {},
   "source": [
    "# Main Menu for PI PLanning"
   ]
  },
  {
   "cell_type": "markdown",
   "id": "e773ac43-ebcf-48d5-a72d-68ace69f483d",
   "metadata": {},
   "source": [
    "## Imports"
   ]
  },
  {
   "cell_type": "code",
   "execution_count": 1,
   "id": "888f9104",
   "metadata": {
    "tags": []
   },
   "outputs": [
    {
     "name": "stdout",
     "output_type": "stream",
     "text": [
      "backend_PI_mongo_model imported\n",
      "backend_PI_Utils imported\n",
      "backend_PI_Projects imported\n",
      "backend_PI_Teams imported\n",
      "backend_PI_Members imported\n",
      "frontend_PI_Utils imported\n",
      "frontend_PI_Teams imported\n",
      "frontend_PI_Projects imported\n",
      "frontend_PI_Users imported\n",
      "frontend_PI_Members imported\n"
     ]
    },
    {
     "data": {
      "text/plain": [
       "MongoClient(host=['localhost:27017'], document_class=dict, tz_aware=False, connect=True, read_preference=Primary())"
      ]
     },
     "execution_count": 1,
     "metadata": {},
     "output_type": "execute_result"
    }
   ],
   "source": [
    "import PySimpleGUI as sg\n",
    "from backend_PI import * # Import tout ce qui est spécifique au projet\n",
    "from frontend_PI import *\n",
    "\n",
    "connect('PIPlanning')"
   ]
  },
  {
   "cell_type": "markdown",
   "id": "6ae5e8f2",
   "metadata": {
    "tags": []
   },
   "source": [
    "## Documentation\n",
    "### see doc_plantuml.jpynb"
   ]
  },
  {
   "cell_type": "markdown",
   "id": "c5134ab8",
   "metadata": {},
   "source": [
    "-------\n",
    "## Main"
   ]
  },
  {
   "cell_type": "code",
   "execution_count": 2,
   "id": "24568b1b",
   "metadata": {},
   "outputs": [
    {
     "name": "stdout",
     "output_type": "stream",
     "text": [
      "oliboub@gmail.com\n",
      "fonction: query_member( oliboub@gmail.com )\n",
      "Email\n",
      "Boubert\n",
      "fonction: get_actual_password( oliboub@gmail.com password)\n",
      "It matches\n",
      "True\n",
      "oliboub\n",
      "oliboub\n",
      "fonction: query_member_alias( oliboub )\n",
      "LightBlue2\n",
      "function: who_am_i_gui( oliboub )\n",
      "fonction: query_member_alias( oliboub )\n",
      "Boubert Olivier oliboub@gmail.com PIPlanning PI Solution Owner False True\n"
     ]
    }
   ],
   "source": [
    "def main(theme):\n",
    "    print(theme)\n",
    "    menu = [\n",
    "        ['Parameters',\n",
    "         ['Project', ['Create Project', 'List Project', 'Archive Project'],\n",
    "         ['Teams',['Create Team','List Teams',['List All Teams','List Teams by Project'],'Archive Team'],\n",
    "         ['Members',['Create member','Archive member']]]]\n",
    "        ],\n",
    "         ['My Info',['Who am I','Select Theme']],\n",
    "        ['Exit', ['Quit']]\n",
    "    ]\n",
    "    \n",
    "    #background_color='#6c69df'\n",
    "    layout = [[sg.Menu(menu)],\n",
    "              [sg.Image(data=convert_to_bytes('../imagesDB/safe.png', resize=(490, 220)))]] \n",
    "    window = MyWindow('PI PLanning',layout,icon='../imagesDB/agile.ico',finalize=True)\n",
    "    window.my_move_to_center()\n",
    "    \n",
    "    while True:\n",
    "        event, values = window.read()\n",
    "        \n",
    "        if event == sg.WIN_CLOSED or event == 'Quit':\n",
    "            window.close()\n",
    "            break\n",
    "\n",
    "#--- Projects\n",
    "        if event == 'Create Project':\n",
    "            info='Create new project'\n",
    "            create_project_gui(info)\n",
    "        if event == 'List Project':\n",
    "            info='List of active projects'\n",
    "            ActualProjectID,ActualProjectName, ActualProjectDesc=list_projects_gui(info)\n",
    "            print('ActualProjectID:',ActualProjectID,'\\tActualProjectName;',ActualProjectName,'\\tActualProjectDesc:',ActualProjectDesc)\n",
    "        if event == 'Archive Project':\n",
    "            info='Archivage de projet non utilisé'\n",
    "            ArchivedProjectName=archive_project_gui(info)\n",
    "            print('ArchivedProjectName;',ArchivedProjectName)\n",
    "        \n",
    "#--- Teams\n",
    "        if event == 'Create Team':\n",
    "            info='Créer votre nouvelle equipe'\n",
    "            create_team_gui(info)\n",
    "\n",
    "        if event == \"List All Teams\":\n",
    "            info='List of All active Teams even if non allocated to project'\n",
    "            teams=list_teams_page(1)\n",
    "            print(teams)\n",
    "            list_all_teams_gui(1,teams,info)\n",
    "\n",
    "        if event == \"List Teams by Project\":\n",
    "            info='Select project top display associated teams'\n",
    "            projectid=None\n",
    "            projectid,projectname=select_project_gui() # a lan cer pour chercher les equipes d'un projet\n",
    "\n",
    "            print(__name__,projectid,projectname)\n",
    "            teams=list_teams_page(1,projectid)\n",
    "            for a in teams.items:\n",
    "                print(a.TeamName,'\\t',a.TeamDescription,'\\t',a.TeamLogo,'\\t',a.ProjectID)\n",
    "            info='Liste de toutes les equipes du projet '+ projectname\n",
    "            list_all_teams_gui(1,teams,info)\n",
    "            \n",
    "\n",
    "#--- My Info\n",
    "        if event == \"Who am I\":\n",
    "            who_am_i_gui(UserAlias)\n",
    "        \n",
    "        if event == \"Select Theme\":\n",
    "            theme1=select_theme_gui(memberid,theme,)\n",
    "            print(theme1)\n",
    "            sg.theme(theme1)\n",
    "            window.close()\n",
    "            main(theme1)\n",
    "\n",
    "if __name__ == '__main__':\n",
    "    theme='LightBlue2'\n",
    "    global font\n",
    "    font='Calibri 11'\n",
    "    page = 1\n",
    "#    UserAlias=user_alias_gui()\n",
    "    UserAlias=login_window()\n",
    "    print(UserAlias)\n",
    "    \n",
    "    if UserAlias != 'None':\n",
    "        memberid,name,firstname,email,theme,project,team,role,admin,firstcon=query_member_alias(UserAlias)\n",
    "        sg.theme(theme)\n",
    "        main(theme)\n",
    "    else:\n",
    "        toto=\"Bye\"\n",
    "        sg.popup(toto,title=\"info\",auto_close=True, auto_close_duration=2,)"
   ]
  },
  {
   "cell_type": "code",
   "execution_count": null,
   "id": "fff353fe",
   "metadata": {},
   "outputs": [],
   "source": []
  }
 ],
 "metadata": {
  "kernelspec": {
   "display_name": "Python 3 (ipykernel)",
   "language": "python",
   "name": "python3"
  },
  "language_info": {
   "codemirror_mode": {
    "name": "ipython",
    "version": 3
   },
   "file_extension": ".py",
   "mimetype": "text/x-python",
   "name": "python",
   "nbconvert_exporter": "python",
   "pygments_lexer": "ipython3",
   "version": "3.10.7"
  },
  "vscode": {
   "interpreter": {
    "hash": "916dbcbb3f70747c44a77c7bcd40155683ae19c65e1c03b4aa3499c5328201f1"
   }
  }
 },
 "nbformat": 4,
 "nbformat_minor": 5
}
