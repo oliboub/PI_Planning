{
 "cells": [
  {
   "cell_type": "markdown",
   "id": "7d0abc5c",
   "metadata": {},
   "source": [
    "# Main Menu for Safe PI Planning"
   ]
  },
  {
   "cell_type": "markdown",
   "id": "e773ac43-ebcf-48d5-a72d-68ace69f483d",
   "metadata": {},
   "source": [
    "## Imports"
   ]
  },
  {
   "cell_type": "code",
   "execution_count": 1,
   "id": "d04a5a97-ba1b-4bb1-8eda-5e153bd3b56b",
   "metadata": {
    "tags": []
   },
   "outputs": [
    {
     "name": "stdout",
     "output_type": "stream",
     "text": [
      "/media/olivier/Donnees/Documents/Formations/Perso/PI_Planning/jupyter_files global_variables imported\n",
      "/media/olivier/Donnees/Documents/Formations/Perso/PI_Planning/jupyter_files backend_PI_Utils imported\n",
      "/media/olivier/Donnees/Documents/Formations/Perso/PI_Planning/jupyter_files backend_PI_mongo_model imported\n",
      "/media/olivier/Donnees/Documents/Formations/Perso/PI_Planning/jupyter_files backend_PI_Members imported\n",
      "/media/olivier/Donnees/Documents/Formations/Perso/PI_Planning/jupyter_files backend_PI_Projects imported\n",
      "/media/olivier/Donnees/Documents/Formations/Perso/PI_Planning/jupyter_files backend_PI_Roles imported\n",
      "/media/olivier/Donnees/Documents/Formations/Perso/PI_Planning/jupyter_files frontend_PI_Utils imported\n",
      "/media/olivier/Donnees/Documents/Formations/Perso/PI_Planning/jupyter_files backend_PI_Teams imported\n"
     ]
    }
   ],
   "source": [
    "import os\n",
    "import time\n",
    "import bcrypt\n",
    "from datetime import datetime\n",
    "import PySimpleGUI as sg\n",
    "import global_variables as g\n",
    "g.init()\n",
    "#time.sleep(1)\n",
    "from backend_PI_Utils import * # Import tout ce qui est spécifique au projet\n",
    "from backend_PI_mongo_model import * # Import tout ce qui est spécifique au projet\n",
    "time.sleep(1)\n",
    "from backend_PI_Members import * # Import tout ce qui est spécifique au projet\n",
    "from backend_PI_Projects import * # Import tout ce qui est spécifique au projet\n",
    "from backend_PI_Roles import * # Import tout ce qui est spécifique au projet\n",
    "from backend_PI_Tasks import * # Import tout ce qui est spécifique au projet\n",
    "from backend_PI_Teams import * # Import tout ce qui est spécifique au projet"
   ]
  },
  {
   "cell_type": "code",
   "execution_count": 2,
   "id": "075852ac-eb3a-4f1c-81d9-e2b6971a5349",
   "metadata": {
    "tags": []
   },
   "outputs": [
    {
     "name": "stdout",
     "output_type": "stream",
     "text": [
      "/media/olivier/Donnees/Documents/Formations/Perso/PI_Planning/jupyter_files frontend_PI_Members imported\n",
      "/media/olivier/Donnees/Documents/Formations/Perso/PI_Planning/jupyter_files frontend_PI_Users imported\n",
      "/media/olivier/Donnees/Documents/Formations/Perso/PI_Planning/jupyter_files frontend_PI_Projects imported\n",
      "/media/olivier/Donnees/Documents/Formations/Perso/PI_Planning/jupyter_files frontend_PI_Teams imported\n",
      "/media/olivier/Donnees/Documents/Formations/Perso/PI_Planning/jupyter_files frontend_PI_Tasks imported\n",
      "/media/olivier/Donnees/Documents/Formations/Perso/PI_Planning/jupyter_files frontend_PI_Roles imported\n"
     ]
    }
   ],
   "source": [
    "from frontend_PI_Utils import *\n",
    "from frontend_PI_Members import *\n",
    "from frontend_PI_Users import *\n",
    "from frontend_PI_Projects import *\n",
    "from frontend_PI_Teams import *\n",
    "from frontend_PI_Tasks import *\n",
    "from frontend_PI_Roles import *\n",
    "time.sleep(1)"
   ]
  },
  {
   "cell_type": "code",
   "execution_count": 3,
   "id": "07c215df-761e-4527-9869-defaa9211ea3",
   "metadata": {
    "tags": []
   },
   "outputs": [
    {
     "data": {
      "text/plain": [
       "MongoClient(host=['localhost:27017'], document_class=dict, tz_aware=False, connect=True, read_preference=Primary())"
      ]
     },
     "execution_count": 3,
     "metadata": {},
     "output_type": "execute_result"
    }
   ],
   "source": [
    "connect('PIPlanning')"
   ]
  },
  {
   "cell_type": "code",
   "execution_count": 4,
   "id": "7fff1bf3-1241-4f5c-9072-e7487b879bfb",
   "metadata": {
    "tags": []
   },
   "outputs": [
    {
     "name": "stdout",
     "output_type": "stream",
     "text": [
      "Debug mode active level : 1\n"
     ]
    }
   ],
   "source": [
    "if g.DEBUG_OL >= 1:\n",
    "    print(\"Debug mode active level :\",g.DEBUG_OL)"
   ]
  },
  {
   "cell_type": "markdown",
   "id": "6ae5e8f2",
   "metadata": {
    "tags": []
   },
   "source": [
    "## Documentation\n",
    "### see doc_plantuml.jpynb"
   ]
  },
  {
   "cell_type": "markdown",
   "id": "c5134ab8",
   "metadata": {},
   "source": [
    "-------\n",
    "## Main"
   ]
  },
  {
   "cell_type": "code",
   "execution_count": 5,
   "id": "24568b1b",
   "metadata": {
    "tags": []
   },
   "outputs": [
    {
     "name": "stdout",
     "output_type": "stream",
     "text": [
      "Helvetica 11 1\n",
      "function: login_window()\n",
      "--- function: query_member( admin@gmail.com )\n",
      "--- function: get_actual_password( admin@gmail.com password)\n",
      "--- function: query_member_alias( superadmin )\n",
      "--- function main:( LightGreen2 1 PIPlanning True )\n",
      "--- function: list_roles_gui( 1 5 List of all existing roles )\n",
      "False\n",
      "13 True\n",
      "--- function: archive_status_role( 13 True )\n",
      "--- function: list_roles_gui( 1 5 List of all existing roles )\n",
      "True\n",
      "13 False\n",
      "--- function: archive_status_role( 13 False )\n",
      "--- function: list_roles_gui( 1 5 List of all existing roles )\n"
     ]
    },
    {
     "ename": "NameError",
     "evalue": "name 'list_teams_page' is not defined",
     "output_type": "error",
     "traceback": [
      "\u001b[0;31m---------------------------------------------------------------------------\u001b[0m",
      "\u001b[0;31mNameError\u001b[0m                                 Traceback (most recent call last)",
      "Cell \u001b[0;32mIn[5], line 144\u001b[0m\n\u001b[1;32m    142\u001b[0m     memberid,name,alias,firstname,email,theme,project,projectid,team,teamid,role,admin,firstcon\u001b[38;5;241m=\u001b[39mquery_member_alias(UserAlias)\n\u001b[1;32m    143\u001b[0m     sg\u001b[38;5;241m.\u001b[39mtheme(theme)\n\u001b[0;32m--> 144\u001b[0m     \u001b[43mmain\u001b[49m\u001b[43m(\u001b[49m\u001b[43mtheme\u001b[49m\u001b[43m,\u001b[49m\u001b[43mprojectid\u001b[49m\u001b[43m,\u001b[49m\u001b[43mproject\u001b[49m\u001b[43m,\u001b[49m\u001b[43madmin\u001b[49m\u001b[43m)\u001b[49m\n\u001b[1;32m    145\u001b[0m \u001b[38;5;28;01melse\u001b[39;00m:\n\u001b[1;32m    146\u001b[0m     toto\u001b[38;5;241m=\u001b[39m\u001b[38;5;124m\"\u001b[39m\u001b[38;5;124mBye\u001b[39m\u001b[38;5;124m\"\u001b[39m\n",
      "Cell \u001b[0;32mIn[5], line 62\u001b[0m, in \u001b[0;36mmain\u001b[0;34m(theme, projectid, project, admin)\u001b[0m\n\u001b[1;32m     60\u001b[0m \u001b[38;5;28;01mif\u001b[39;00m event \u001b[38;5;241m==\u001b[39m \u001b[38;5;124m\"\u001b[39m\u001b[38;5;124mList All Teams\u001b[39m\u001b[38;5;124m\"\u001b[39m:\n\u001b[1;32m     61\u001b[0m     info\u001b[38;5;241m=\u001b[39m\u001b[38;5;124m'\u001b[39m\u001b[38;5;124mList of All active Teams even if non allocated to project\u001b[39m\u001b[38;5;124m'\u001b[39m\n\u001b[0;32m---> 62\u001b[0m     teams\u001b[38;5;241m=\u001b[39m\u001b[43mlist_teams_page\u001b[49m(\u001b[38;5;241m1\u001b[39m)\n\u001b[1;32m     63\u001b[0m     \u001b[38;5;28;01mif\u001b[39;00m g\u001b[38;5;241m.\u001b[39mDEBUG_OL \u001b[38;5;241m>\u001b[39m\u001b[38;5;241m=\u001b[39m \u001b[38;5;241m2\u001b[39m:\n\u001b[1;32m     64\u001b[0m         \u001b[38;5;28mprint\u001b[39m(teams)\n",
      "\u001b[0;31mNameError\u001b[0m: name 'list_teams_page' is not defined"
     ]
    }
   ],
   "source": [
    "def main(theme,projectid,project,admin=False):\n",
    "    if g.DEBUG_OL >= 1:\n",
    "        print('--- function main:(',theme,projectid,project,admin,')')\n",
    "    menu_admin = [\n",
    "        ['Parameters',\n",
    "         ['Project', ['Create Project', 'List Project', 'Archive Project'],\n",
    "         ['Teams',['Create Team','List Teams',['List All Teams','List Teams by Project'],'Archive Team'],\n",
    "         ['Members',['Create member','List project members','Archive member'],\n",
    "         ['Manage Roles']]]],\n",
    "        ],\n",
    "         ['My Info',['Who am I','Select Theme']],\n",
    "        ['Exit', ['Quit']]\n",
    "    ]\n",
    "    \n",
    "    menu_std = [\n",
    "        ['My Project', ['List project teams','List project members','---','List our team members']],['Tasks',['Create task','List tasks']],\n",
    "        ['My Info',['Who am I','Select Theme']],\n",
    "        ['Exit', ['Quit']]\n",
    "    ]\n",
    "   \n",
    "    if admin == True:\n",
    "        layout = [[sg.Menu(menu_admin)],\n",
    "              [sg.Image(data=convert_to_bytes('../imagesDB/safe.png', resize=(490, 220)))]] \n",
    "    else:\n",
    "        layout = [[sg.Menu(menu_std)],\n",
    "              [sg.Image(data=convert_to_bytes('../imagesDB/safe.png', resize=(490, 220)))]] \n",
    "    \n",
    "    #background_color='#6c69df'\n",
    "    window = MyWindow('PI PLanning',layout,icon='../imagesDB/agile.ico',finalize=True)\n",
    "    window.my_move_to_center()\n",
    "    \n",
    "    while True:\n",
    "        event, values = window.read()\n",
    "        \n",
    "        if event == sg.WIN_CLOSED or event == 'Quit':\n",
    "            window.close()\n",
    "            break\n",
    "\n",
    "#--- Projects\n",
    "        if event == 'Create Project':\n",
    "            info='Create new project'\n",
    "            create_project_gui(info)\n",
    "            \n",
    "        if event == 'List Project':\n",
    "            info='List of active projects'\n",
    "            ActualProjectID,ActualProjectName, ActualProjectDesc=list_projects_gui(info)\n",
    "            if g.DEBUG_OL >= 2:\n",
    "                print('ActualProjectID:',ActualProjectID,'\\tActualProjectName;',ActualProjectName,'\\tActualProjectDesc:',ActualProjectDesc)\n",
    "        \n",
    "        if event == 'Archive Project':\n",
    "            info='Archivage de projet non utilisé'\n",
    "            ArchivedProjectName=archive_project_gui(info)\n",
    "            if g.DEBUG_OL >= 2:\n",
    "                print('ArchivedProjectName;',ArchivedProjectName)\n",
    "        \n",
    "#--- Teams\n",
    "        if event == 'Create Team':\n",
    "            info='Créer votre nouvelle equipe'\n",
    "            create_team_gui(info)\n",
    "\n",
    "        if event == \"List All Teams\":\n",
    "            info='List of All active Teams even if non allocated to project'\n",
    "            teams=list_teams_page(1)\n",
    "            if g.DEBUG_OL >= 2:\n",
    "                print(teams)\n",
    "            list_all_teams_gui(1,teams,info)\n",
    "\n",
    "        if event == \"List Teams by Project\":\n",
    "            info='Select project top display associated teams'\n",
    "            projectid=None\n",
    "            projectid,projectname=select_project_gui() # a lancer pour chercher les equipes d'un projet\n",
    "            teams=list_teams_page(1,projectid)\n",
    "\n",
    "            if g.DEBUG_OL >= 2:\n",
    "                print(__name__,projectid,projectname)\n",
    "                for a in teams.items:\n",
    "                    print(a.TeamName,'\\t',a.TeamDescription,'\\t',a.TeamLogo,'\\t',a.ProjectID)\n",
    "            info='Liste de toutes les equipes du projet '+ projectname\n",
    "            list_all_teams_gui(1,teams,info)\n",
    "            \n",
    "        if event == \"Archive Team\":\n",
    "            if g.DEBUG_OL >= 2:\n",
    "                print(__name__,projectid,projectname) \n",
    "            teams=list_teams_page(1)\n",
    "                    \n",
    "\n",
    "        if event == \"List project teams\":\n",
    "            if g.DEBUG_OL >= 2:\n",
    "                print(__name__,projectid,project)\n",
    "            teams=list_teams_page(1,projectid)\n",
    "            if g.DEBUG_OL >= 2:\n",
    "                for a in teams.items:\n",
    "                    print(a.TeamName,'\\t',a.TeamDescription,'\\t',a.TeamLogo,'\\t',a.ProjectID)\n",
    "            info='Lists of teams for your project: '+project\n",
    "            list_all_teams_gui(1,teams,info)\n",
    " \n",
    "\n",
    "        if event == 'Create member':\n",
    "            if g.DEBUG_OL >= 2:\n",
    "                print(__name__)\n",
    "            idx=create_member_gui('Create a new member allocated to a project and a team')\n",
    " \n",
    "        if event == 'List our team members':\n",
    "            if g.DEBUG_OL >= 2:\n",
    "                print(__name__)\n",
    "            idx=list_members_gui(teamid,1,5,8,1,3,info='List of team members')\n",
    " \n",
    "        if event == 'List project members':\n",
    "            if g.DEBUG_OL >= 2:\n",
    "                print(__name__)\n",
    "            idx=list_members_gui('All',1,5,8,1,3,info='List of project members')\n",
    " \n",
    "\n",
    "        if event == 'Manage Roles':\n",
    "            if g.DEBUG_OL >= 2:\n",
    "                print(__name__)\n",
    "            idx=list_roles_gui(1,5,'List of all existing roles')\n",
    "\n",
    "    #--- My Info\n",
    "        if event == \"Who am I\":\n",
    "            who_am_i_gui(UserAlias)\n",
    "        \n",
    "        if event == \"Select Theme\":\n",
    "            theme1=select_theme_gui(memberid,theme)\n",
    "            if g.DEBUG_OL >= 2:\n",
    "                print(theme1)\n",
    "            sg.theme(theme1)\n",
    "            window.close()\n",
    "            main(theme1,projectid,project,admin)\n",
    "\n",
    "if __name__ == '__main__':\n",
    "    \n",
    "    theme=g.THEME\n",
    "    \n",
    "    page = 1\n",
    "\n",
    "    #    UserAlias=user_alias_gui()\n",
    "    UserAlias=login_window()\n",
    "    if g.DEBUG_OL >= 2:\n",
    "        print(UserAlias)\n",
    "    \n",
    "    if UserAlias != 'None':\n",
    "        memberid,name,alias,firstname,email,theme,project,projectid,team,teamid,role,admin,firstcon=query_member_alias(UserAlias)\n",
    "        sg.theme(theme)\n",
    "        main(theme,projectid,project,admin)\n",
    "    else:\n",
    "        toto=\"Bye\"\n",
    "        sg.popup(toto,title=\"info\",auto_close=True, auto_close_duration=2,)"
   ]
  },
  {
   "cell_type": "code",
   "execution_count": null,
   "id": "da239b81-aef3-4ab4-9cce-3d7032b86173",
   "metadata": {},
   "outputs": [],
   "source": []
  }
 ],
 "metadata": {
  "kernelspec": {
   "display_name": "Python 3 (ipykernel)",
   "language": "python",
   "name": "python3"
  },
  "language_info": {
   "codemirror_mode": {
    "name": "ipython",
    "version": 3
   },
   "file_extension": ".py",
   "mimetype": "text/x-python",
   "name": "python",
   "nbconvert_exporter": "python",
   "pygments_lexer": "ipython3",
   "version": "3.10.7"
  },
  "vscode": {
   "interpreter": {
    "hash": "607db476e417971f05b607c2dd14e77ee8262c2c4c20dea422522c60605a222a"
   }
  }
 },
 "nbformat": 4,
 "nbformat_minor": 5
}
