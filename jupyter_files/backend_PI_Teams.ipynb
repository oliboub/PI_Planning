{
 "cells": [
  {
   "cell_type": "markdown",
   "id": "d24d143e-57c5-4843-b119-39778a7de0be",
   "metadata": {},
   "source": [
    "# backend_PI_Teams"
   ]
  },
  {
   "cell_type": "markdown",
   "id": "5cab7f6a-3204-45c6-82e8-7d0ab3bc71c3",
   "metadata": {},
   "source": [
    "## Prerequisites"
   ]
  },
  {
   "cell_type": "code",
   "execution_count": 1,
   "id": "d425414d-fd41-4060-8dbd-f987c3f28c8a",
   "metadata": {
    "tags": []
   },
   "outputs": [
    {
     "name": "stdout",
     "output_type": "stream",
     "text": [
      "/media/olivier/Donnees/Documents/Formations/Perso/PI_Planning/jupyter_files backend_PI_Utils imported\n",
      "/media/olivier/Donnees/Documents/Formations/Perso/PI_Planning/jupyter_files backend_PI_mongo_model imported\n"
     ]
    }
   ],
   "source": [
    "import os\n",
    "import bcrypt\n",
    "from datetime import datetime\n",
    "import PySimpleGUI as sg\n",
    "from backend_PI_Utils import * # Import tout ce qui est spécifique au projet\n",
    "from backend_PI_mongo_model import * # Import tout ce qui est spécifique au projet\n"
   ]
  },
  {
   "cell_type": "code",
   "execution_count": 2,
   "id": "f6ad6f4c-a54f-4f6f-9b8d-577d4ff7ccbb",
   "metadata": {},
   "outputs": [
    {
     "name": "stdout",
     "output_type": "stream",
     "text": [
      "/media/olivier/Donnees/Documents/Formations/Perso/PI_Planning/jupyter_files global_variables imported\n"
     ]
    },
    {
     "data": {
      "text/plain": [
       "MongoClient(host=['localhost:27017'], document_class=dict, tz_aware=False, connect=True, read_preference=Primary())"
      ]
     },
     "execution_count": 2,
     "metadata": {},
     "output_type": "execute_result"
    }
   ],
   "source": [
    "import global_variables as g\n",
    "g.init()\n",
    "connect('PIPlanning')"
   ]
  },
  {
   "cell_type": "markdown",
   "id": "aa3f6850-7eb8-45b5-8f8e-858ab6d99ac3",
   "metadata": {},
   "source": [
    "## create_team(projectID, team, description, logo)"
   ]
  },
  {
   "cell_type": "code",
   "execution_count": null,
   "id": "855b86a0-cb3e-4511-b119-5166573e70f5",
   "metadata": {},
   "outputs": [],
   "source": [
    "def create_team(projectID, newteam, description, logo):\n",
    "    if g.DEBUG_OL >= 1:\n",
    "        print('--- function: create_team(',projectID,',',newteam,',',description,',',logo,')')\n",
    "    now = datetime.now()\n",
    "    creationdate = now.strftime(\"%d/%m/%Y %H:%M:%S\")\n",
    "    team1=Teams()\n",
    "    team1.ProjectID = projectID\n",
    "    team1.TeamName = newteam\n",
    "    team1.TeamDescription = description\n",
    "    team1.TeamLogo = logo\n",
    "    team1.CreationDate = creationdate\n",
    "    team1.LastUpdate = creationdate\n",
    "    team1.save()\n",
    "\n",
    "    createdteam=Teams.objects(TeamName=newteam).first()\n",
    "    if g.DEBUG_OL >= 2:\n",
    "        print('New team created with TeamID=',createdteam.TeamID)\n",
    "    \n",
    "    return createdteam.TeamID"
   ]
  },
  {
   "cell_type": "code",
   "execution_count": null,
   "id": "da7b0545-c957-444a-9092-8732d0818913",
   "metadata": {},
   "outputs": [],
   "source": [
    "#create_team(1, 'Absolut','The best of drinking','../imagesDB/absolut_vodka.jpg')"
   ]
  },
  {
   "cell_type": "markdown",
   "id": "a9b9a028-b845-4ce4-8d13-f316b6b154ee",
   "metadata": {},
   "source": [
    "# archive_team(teamid,newstatus)"
   ]
  },
  {
   "cell_type": "code",
   "execution_count": null,
   "id": "35602d80-2d0f-4cff-a193-7377a181a68a",
   "metadata": {},
   "outputs": [],
   "source": [
    "def archive_team(teamid,newstatus):\n",
    "    if g.DEBUG_OL >= 1:\n",
    "        print('--- function: archive_team(',teamid,newstatus,')')\n",
    "    item=Teams.objects(TeamID=teamid).first()\n",
    "    if g.DEBUG_OL >= 2:\n",
    "        print('archive team name:',item.TeamName)\n",
    "    now = datetime.now()\n",
    "    item.Archived = newstatus\n",
    "    item.LastUpdate = now.strftime(\"%d/%m/%Y %H:%M:%S\")\n",
    "    item.save()"
   ]
  },
  {
   "cell_type": "markdown",
   "id": "102375ca-f558-4156-908e-3da2f72cff60",
   "metadata": {},
   "source": [
    "## update_team(projectid,teamid,teamname,teamdescription,teamlogo)"
   ]
  },
  {
   "cell_type": "code",
   "execution_count": null,
   "id": "d40f90ae-8a26-416e-adde-283c2f0e6026",
   "metadata": {},
   "outputs": [],
   "source": [
    "def update_team(projectid,teamid,teamname,teamdescription,teamlogo):\n",
    "    if g.DEBUG_OL >= 1:\n",
    "        print('--- function: update_team(',projectid,teamid,teamname,teamdescription,teamlogo,')')\n",
    "    now = datetime.now()\n",
    "    item=Teams.objects(TeamID=teamid).first()\n",
    "    item.TeamName = teamname\n",
    "    item.TeamDescription = teamdescription\n",
    "    item.ProjectID = projectid\n",
    "#    item.TeamLogo = teamlogo\n",
    "    item.LastUpdate = now.strftime(\"%d/%m/%Y %H:%M:%S\")\n",
    "    item.save()"
   ]
  },
  {
   "cell_type": "markdown",
   "id": "3c6d08e1-3a27-43e4-ac30-34cf296b2951",
   "metadata": {},
   "source": [
    "## update_team_logo(teamid,teamlogo)"
   ]
  },
  {
   "cell_type": "code",
   "execution_count": 1,
   "id": "59f1e5be-3f9b-4f51-b2c2-4cb0278f49a5",
   "metadata": {
    "tags": []
   },
   "outputs": [],
   "source": [
    "def update_team_logo(teamid,teamlogo):\n",
    "    if g.DEBUG_OL >= 1:\n",
    "        print('--- function: update_team_logo(',teamid,teamlogo,')')\n",
    "    now = datetime.now()\n",
    "    item=Teams.objects(TeamID=teamid).first()\n",
    "    item.TeamLogo = teamlogo\n",
    "    item.LastUpdate = now.strftime(\"%d/%m/%Y %H:%M:%S\")\n",
    "    item.save()"
   ]
  },
  {
   "cell_type": "markdown",
   "id": "671eb84e-ed2f-4c37-bc12-bfd3257c063f",
   "metadata": {},
   "source": [
    "## list_teams(project=None)\n",
    "\n",
    "Project can be:\n",
    "- **None** for all projects 'Dfefault'\n",
    "- **projectID**\n",
    "- **ProjectName**"
   ]
  },
  {
   "cell_type": "code",
   "execution_count": 3,
   "id": "71a1c10e-253c-454d-9484-7e034c4e48d1",
   "metadata": {
    "tags": []
   },
   "outputs": [],
   "source": [
    "def list_teams(project=None):\n",
    "    if g.DEBUG_OL >= 1:\n",
    "        print('--- function: list_teams(',project,')')\n",
    "#        print(type(project))\n",
    "    if project ==  None:\n",
    "        team = Teams.objects()\n",
    "    else:\n",
    "        if type(project) is int:\n",
    "            pid=project\n",
    "        else:\n",
    "            projectinfo=Projects.objects(ProjectName=project).first()\n",
    "            pid=projectinfo.ProjectID\n",
    "        team = Teams.objects(Archived=False,ProjectID=pid)\n",
    "        if g.DEBUG_OL >= 2:\n",
    "            print('Team\\t\\t - \\t Project')\n",
    "    team1= []\n",
    "    list_teams=[]\n",
    "    for team1 in team:\n",
    "        projectname = Projects.objects(ProjectID=team1.ProjectID).first()\n",
    "        if projectname is None:\n",
    "            projectname='Non allocated'\n",
    "        if team1.TeamLogo != None:\n",
    "            photo=team1.TeamLogo\n",
    "        else:\n",
    "            photo ='../imagesDB/ilovemycompany.jpeg'\n",
    "\n",
    "        \n",
    "        if g.DEBUG_OL >= 2:\n",
    "            print(\"ProjectID:\",team1.ProjectID,\"\\tProjectName:\",projectname.ProjectName,\"\\tTeamID:\",team1.TeamID,'\\tTeamName:',team1.TeamName,'\\tlogo:',photo,'\\tlastupdate:',team1.LastUpdate,'\\tArchived:',team1.Archived)\n",
    "        teams=[team1.ProjectID,projectname.ProjectName,team1.TeamID,team1.TeamName,team1.TeamDescription,photo,team1.LastUpdate,team1.Archived]\n",
    "        list_teams.append(teams)\n",
    "#    if g.DEBUG_OL >= 2:\n",
    "#        for i in list_teams:\n",
    "#            print(i)\n",
    "#    print(list_teams[0][1])\n",
    "    return(list_teams)\n"
   ]
  },
  {
   "cell_type": "code",
   "execution_count": null,
   "id": "a18ab9a8-e3db-4119-935f-f34f8419054c",
   "metadata": {
    "tags": []
   },
   "outputs": [],
   "source": [
    "#list_teams(\"titi\")"
   ]
  },
  {
   "cell_type": "code",
   "execution_count": null,
   "id": "b4ace9cc-d9ea-435e-b9d4-982e5b2e9b68",
   "metadata": {},
   "outputs": [],
   "source": [
    "print(os.getcwd(),__name__,'imported')"
   ]
  }
 ],
 "metadata": {
  "kernelspec": {
   "display_name": "Python 3 (ipykernel)",
   "language": "python",
   "name": "python3"
  },
  "language_info": {
   "codemirror_mode": {
    "name": "ipython",
    "version": 3
   },
   "file_extension": ".py",
   "mimetype": "text/x-python",
   "name": "python",
   "nbconvert_exporter": "python",
   "pygments_lexer": "ipython3",
   "version": "3.10.7"
  }
 },
 "nbformat": 4,
 "nbformat_minor": 5
}
