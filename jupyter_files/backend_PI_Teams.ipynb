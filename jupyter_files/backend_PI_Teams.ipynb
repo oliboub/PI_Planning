{
 "cells": [
  {
   "cell_type": "markdown",
   "id": "d24d143e-57c5-4843-b119-39778a7de0be",
   "metadata": {},
   "source": [
    "# backend_PI_Teams"
   ]
  },
  {
   "cell_type": "markdown",
   "id": "5cab7f6a-3204-45c6-82e8-7d0ab3bc71c3",
   "metadata": {},
   "source": [
    "## Prerequisites"
   ]
  },
  {
   "cell_type": "code",
   "execution_count": null,
   "id": "d425414d-fd41-4060-8dbd-f987c3f28c8a",
   "metadata": {
    "tags": []
   },
   "outputs": [],
   "source": [
    "import os\n",
    "import bcrypt\n",
    "from datetime import datetime\n",
    "import PySimpleGUI as sg\n",
    "from backend_PI_Utils import * # Import tout ce qui est spécifique au projet\n",
    "from backend_PI_mongo_model import * # Import tout ce qui est spécifique au projet\n"
   ]
  },
  {
   "cell_type": "code",
   "execution_count": null,
   "id": "f6ad6f4c-a54f-4f6f-9b8d-577d4ff7ccbb",
   "metadata": {},
   "outputs": [],
   "source": [
    "import global_variables as g\n",
    "g.init()\n",
    "connect('PIPlanning')"
   ]
  },
  {
   "cell_type": "markdown",
   "id": "aa3f6850-7eb8-45b5-8f8e-858ab6d99ac3",
   "metadata": {},
   "source": [
    "## create_team(projectID, team, description, logo)"
   ]
  },
  {
   "cell_type": "code",
   "execution_count": null,
   "id": "855b86a0-cb3e-4511-b119-5166573e70f5",
   "metadata": {},
   "outputs": [],
   "source": [
    "def create_team(projectID, team, description, logo):\n",
    "    if g.DEBUG_OL >= 1:\n",
    "        print('--- function: create_team(',projectID,',',team,',',description,',',logo,')')\n",
    "    now = datetime.now()\n",
    "    creationdate = now.strftime(\"%d/%m/%Y %H:%M:%S\")\n",
    "    team1=Teams()\n",
    "    team1.ProjectID = projectID\n",
    "    team1.TeamName = team\n",
    "    team1.TeamDescription = description\n",
    "    team1.TeamLogo = logo\n",
    "    team1.CreationDate = creationdate\n",
    "    team1.LastUpdate = creationdate\n",
    "    team1.save()\n"
   ]
  },
  {
   "cell_type": "code",
   "execution_count": null,
   "id": "da7b0545-c957-444a-9092-8732d0818913",
   "metadata": {},
   "outputs": [],
   "source": [
    "# test"
   ]
  },
  {
   "cell_type": "markdown",
   "id": "671eb84e-ed2f-4c37-bc12-bfd3257c063f",
   "metadata": {},
   "source": [
    "## list_teams(project=None)\n",
    "\n",
    "Project can be:\n",
    "- **None** for all projects 'Dfefault'\n",
    "- **projectID**\n",
    "- **ProjectName**"
   ]
  },
  {
   "cell_type": "code",
   "execution_count": null,
   "id": "71a1c10e-253c-454d-9484-7e034c4e48d1",
   "metadata": {
    "tags": []
   },
   "outputs": [],
   "source": [
    "def list_teams(project=None):\n",
    "    if g.DEBUG_OL >= 1:\n",
    "        print('--- function: list_teams(',project,')')\n",
    "        print(type(project))\n",
    "    if project ==  None:\n",
    "        team = Teams.objects(Archived=False)\n",
    "    else:\n",
    "        if type(project) is int:\n",
    "            pid=project\n",
    "        else:\n",
    "            projectinfo=Projects.objects(ProjectName=project).first()\n",
    "            pid=projectinfo.ProjectID\n",
    "        team = Teams.objects(Archived=False,ProjectID=pid)\n",
    "        if g.DEBUG_OL >= 2:\n",
    "            print('Team\\t\\t - \\t Project')\n",
    "    team1= []\n",
    "    list_teams=[]\n",
    "    for team1 in team:\n",
    "        projectname = Projects.objects(ProjectID=team1.ProjectID).first()\n",
    "        if projectname is None:\n",
    "            projectname='Non allocated'\n",
    "        if g.DEBUG_OL >= 2:\n",
    "            print(\"ProjectName:\",projectname.ProjectName,\"\\tProjectID:\",team1.ProjectID,\"\\tTeamID:\",team1.TeamID)\n",
    "        teams=[projectname.ProjectName,team1.TeamName,team1.TeamDescription,team1.TeamLogo]\n",
    "        list_teams.append(teams)\n",
    "#    if g.DEBUG_OL >= 2:\n",
    "#        for i in list_teams:\n",
    "#            print(i)\n",
    "#    print(list_teams[0][1])\n",
    "    return(list_teams)\n"
   ]
  },
  {
   "cell_type": "code",
   "execution_count": null,
   "id": "a18ab9a8-e3db-4119-935f-f34f8419054c",
   "metadata": {
    "tags": []
   },
   "outputs": [],
   "source": [
    "#list_teams(\"titi\")"
   ]
  },
  {
   "cell_type": "markdown",
   "id": "dc01cd5a-7fa9-4c75-b38e-e6c75cdb5a1a",
   "metadata": {},
   "source": [
    "## list_teams_page(page,projectid=None)"
   ]
  },
  {
   "cell_type": "code",
   "execution_count": null,
   "id": "d8076512-d010-4d2d-bdf6-948898cacf98",
   "metadata": {},
   "outputs": [],
   "source": [
    "def list_teams_page(page,projectid=None):\n",
    "    if g.DEBUG_OL >= 1:\n",
    "        print('--- function: list_teams_page(',page,projectid,')')\n",
    "    if projectid == None:\n",
    "        teams = Teams.objects(Archived=False).paginate(page,5)\n",
    "    else:\n",
    "        teams = Teams.objects(ProjectID=projectid,Archived=False).paginate(page,5)\n",
    "           \n",
    "    if g.DEBUG_OL >= 2:\n",
    "        for a in teams.items:\n",
    "            print(a.TeamName,'\\t',a.TeamDescription,'\\t',a.TeamLogo,'\\t',a.ProjectID)\n",
    "    return teams"
   ]
  },
  {
   "cell_type": "code",
   "execution_count": null,
   "id": "3e0fe063-b7f6-402c-beb7-200ff737bae6",
   "metadata": {
    "tags": []
   },
   "outputs": [],
   "source": [
    "#list_teams_page(1,1)"
   ]
  },
  {
   "cell_type": "code",
   "execution_count": null,
   "id": "b4ace9cc-d9ea-435e-b9d4-982e5b2e9b68",
   "metadata": {},
   "outputs": [],
   "source": [
    "print(os.getcwd(),__name__,'imported')"
   ]
  }
 ],
 "metadata": {
  "kernelspec": {
   "display_name": "Python 3 (ipykernel)",
   "language": "python",
   "name": "python3"
  },
  "language_info": {
   "codemirror_mode": {
    "name": "ipython",
    "version": 3
   },
   "file_extension": ".py",
   "mimetype": "text/x-python",
   "name": "python",
   "nbconvert_exporter": "python",
   "pygments_lexer": "ipython3",
   "version": "3.10.7"
  }
 },
 "nbformat": 4,
 "nbformat_minor": 5
}
