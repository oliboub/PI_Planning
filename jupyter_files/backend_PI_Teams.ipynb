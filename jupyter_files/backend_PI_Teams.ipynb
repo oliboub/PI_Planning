{
 "cells": [
  {
   "cell_type": "markdown",
   "id": "d24d143e-57c5-4843-b119-39778a7de0be",
   "metadata": {},
   "source": [
    "# backend_PI_Teams"
   ]
  },
  {
   "cell_type": "markdown",
   "id": "5cab7f6a-3204-45c6-82e8-7d0ab3bc71c3",
   "metadata": {},
   "source": [
    "## Prerequisites"
   ]
  },
  {
   "cell_type": "code",
   "execution_count": 1,
   "id": "e408babc-0815-489d-9b79-8c1a66af20a0",
   "metadata": {
    "tags": []
   },
   "outputs": [
    {
     "name": "stdout",
     "output_type": "stream",
     "text": [
      "/media/olivier/Donnees/Documents/Formations/Perso/PI_Planning/jupyter_files global_variables imported\n",
      "backend_PI_mongo_model imported\n"
     ]
    },
    {
     "data": {
      "text/plain": [
       "MongoClient(host=['localhost:27017'], document_class=dict, tz_aware=False, connect=True, read_preference=Primary())"
      ]
     },
     "execution_count": 1,
     "metadata": {},
     "output_type": "execute_result"
    }
   ],
   "source": [
    "import global_variables as g\n",
    "g.init()\n",
    "import bcrypt\n",
    "import os\n",
    "from mongoengine import *\n",
    "from backend_PI_mongo_model import *\n",
    "from datetime import datetime\n",
    "\n",
    "connect('PIPlanning')"
   ]
  },
  {
   "cell_type": "markdown",
   "id": "aa3f6850-7eb8-45b5-8f8e-858ab6d99ac3",
   "metadata": {},
   "source": [
    "## create_team(projectID, team, description, logo)"
   ]
  },
  {
   "cell_type": "code",
   "execution_count": null,
   "id": "855b86a0-cb3e-4511-b119-5166573e70f5",
   "metadata": {},
   "outputs": [],
   "source": [
    "def create_team(projectID, team, description, logo):\n",
    "    if g.DEBUG_OL >= 1:\n",
    "        print('--- function: create_team(',projectID,',',team,',',description,',',logo,')')\n",
    "    now = datetime.now()\n",
    "    creationdate = now.strftime(\"%d/%m/%Y %H:%M:%S\")\n",
    "    team1=Teams()\n",
    "    team1.ProjectID = projectID\n",
    "    team1.TeamName = team\n",
    "    team1.TeamDescription = description\n",
    "    team1.TeamLogo = logo\n",
    "    team1.CreationDate = creationdate\n",
    "    team1.LastUpdate = creationdate\n",
    "    team1.save()\n"
   ]
  },
  {
   "cell_type": "code",
   "execution_count": null,
   "id": "da7b0545-c957-444a-9092-8732d0818913",
   "metadata": {},
   "outputs": [],
   "source": [
    "# test"
   ]
  },
  {
   "cell_type": "markdown",
   "id": "671eb84e-ed2f-4c37-bc12-bfd3257c063f",
   "metadata": {},
   "source": [
    "## list_teams_all(projectid=None)"
   ]
  },
  {
   "cell_type": "code",
   "execution_count": 4,
   "id": "71a1c10e-253c-454d-9484-7e034c4e48d1",
   "metadata": {
    "tags": []
   },
   "outputs": [],
   "source": [
    "def list_teams_all(projectid=None):\n",
    "    if g.DEBUG_OL >= 1:\n",
    "        print('--- function: list_teams_all(',projectid,')')\n",
    "    if projectid ==  None:\n",
    "        team = Teams.objects(Archived=False)\n",
    "    else:\n",
    "        team = Teams.objects(Archived=False,ProjectID=projectid)\n",
    "    if g.DEBUG_OL >= 2:\n",
    "        print('Team\\t\\t - \\t Project')\n",
    "    team1= []\n",
    "    list_teams=[]\n",
    "    for team1 in team:\n",
    "        projectname = Projects.objects(ProjectID=team1.ProjectID).first()\n",
    "        if projectname is None:\n",
    "            projectname='Non allocated'\n",
    "        if g.DEBUG_OL >= 2:\n",
    "            print(\"ProjectName:\",projectname.ProjectName,\"\\tProjectID:\",team1.ProjectID,\"\\tTeamID:\",team1.TeamID)\n",
    "        teams=[projectname.ProjectName,team1.TeamName,team1.TeamDescription,team1.TeamLogo]\n",
    "        list_teams.append(teams)\n",
    "#    if g.DEBUG_OL >= 2:\n",
    "#        for i in list_teams:\n",
    "#            print(i)\n",
    "#    print(list_teams[0][1])\n",
    "    return(list_teams)\n"
   ]
  },
  {
   "cell_type": "code",
   "execution_count": 6,
   "id": "a18ab9a8-e3db-4119-935f-f34f8419054c",
   "metadata": {
    "tags": []
   },
   "outputs": [
    {
     "name": "stdout",
     "output_type": "stream",
     "text": [
      "fonction: list_teams_all( 2 )\n",
      "Team\t\t - \t Project\n",
      "ProjectName: titi \tProjectID: 2 \tTeamID: 4\n",
      "ProjectName: titi \tProjectID: 2 \tTeamID: 6\n"
     ]
    },
    {
     "data": {
      "text/plain": [
       "[['titi', 'OKCorral', 'Developpers of reports menu', None],\n",
       " ['titi', 'System2023', 'System team of 2023', None]]"
      ]
     },
     "execution_count": 6,
     "metadata": {},
     "output_type": "execute_result"
    }
   ],
   "source": [
    "#list_teams_all(2)"
   ]
  },
  {
   "cell_type": "markdown",
   "id": "b5581875-afb1-44ab-97ea-394d05f71ee0",
   "metadata": {},
   "source": [
    "## list_teams_by_project(pname)"
   ]
  },
  {
   "cell_type": "code",
   "execution_count": 7,
   "id": "e8220c8a-3db6-4c41-bca6-4d5501c288dc",
   "metadata": {
    "tags": []
   },
   "outputs": [],
   "source": [
    "def list_teams_by_project(pname):\n",
    "    if g.DEBUG_OL >= 1:\n",
    "        print('--- function: list_teams_by_project(',pname,')')\n",
    "    list_teams=[]\n",
    "    project=Projects.objects(ProjectName=pname).first()\n",
    "    pid=project.ProjectID\n",
    "    team = Teams.objects(Archived=False,ProjectID=pid)\n",
    "#    print(\"Project:\",pname)\n",
    "#    print('Teams')\n",
    " \n",
    "    for team1 in team:\n",
    "#        print(pname,team1.TeamName,team1.TeamID,team1.ProjectID,team1.TeamDescription,team1.TeamLogo)\n",
    "        teams=[pname,team1.TeamName,team1.TeamDescription,team1.TeamLogo]\n",
    "        list_teams.append(teams)\n",
    "#    print(list_teams)\n",
    "    return(list_teams)"
   ]
  },
  {
   "cell_type": "code",
   "execution_count": 9,
   "id": "13c15262-7d6d-479f-be0f-f142f6965f60",
   "metadata": {
    "tags": []
   },
   "outputs": [
    {
     "name": "stdout",
     "output_type": "stream",
     "text": [
      "fonction: list_teams_all\n"
     ]
    },
    {
     "data": {
      "text/plain": [
       "[['titi', 'OKCorral', 'Developpers of reports menu', None],\n",
       " ['titi', 'System2023', 'System team of 2023', None]]"
      ]
     },
     "execution_count": 9,
     "metadata": {},
     "output_type": "execute_result"
    }
   ],
   "source": [
    "#list_teams_by_project(\"titi\")"
   ]
  },
  {
   "cell_type": "markdown",
   "id": "dc01cd5a-7fa9-4c75-b38e-e6c75cdb5a1a",
   "metadata": {},
   "source": [
    "## list_teams_page(page,projectid=None)"
   ]
  },
  {
   "cell_type": "code",
   "execution_count": null,
   "id": "d8076512-d010-4d2d-bdf6-948898cacf98",
   "metadata": {},
   "outputs": [],
   "source": [
    "def list_teams_page(page,projectid=None):\n",
    "    if g.DEBUG_OL >= 1:\n",
    "        print('--- function: list_teams_page(',page,projectid,')')\n",
    "    if projectid == None:\n",
    "        teams = Teams.objects(Archived=False).paginate(page,5)\n",
    "    else:\n",
    "        teams = Teams.objects(ProjectID=projectid,Archived=False).paginate(page,5)\n",
    "           \n",
    "#    for a in teams.items:\n",
    "#        print(a.TeamName,'\\t',a.TeamDescription,'\\t',a.TeamLogo,'\\t',a.ProjectID)\n",
    "    return teams"
   ]
  },
  {
   "cell_type": "code",
   "execution_count": null,
   "id": "b4ace9cc-d9ea-435e-b9d4-982e5b2e9b68",
   "metadata": {},
   "outputs": [],
   "source": [
    "print(os.getcwd(),__name__,'imported')"
   ]
  }
 ],
 "metadata": {
  "kernelspec": {
   "display_name": "Python 3 (ipykernel)",
   "language": "python",
   "name": "python3"
  },
  "language_info": {
   "codemirror_mode": {
    "name": "ipython",
    "version": 3
   },
   "file_extension": ".py",
   "mimetype": "text/x-python",
   "name": "python",
   "nbconvert_exporter": "python",
   "pygments_lexer": "ipython3",
   "version": "3.10.7"
  }
 },
 "nbformat": 4,
 "nbformat_minor": 5
}
