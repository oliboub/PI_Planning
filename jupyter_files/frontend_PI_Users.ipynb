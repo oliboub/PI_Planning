{
 "cells": [
  {
   "cell_type": "markdown",
   "id": "82b3bd70-fe72-4b70-9de3-9a7702454780",
   "metadata": {},
   "source": [
    "## PI User Management"
   ]
  },
  {
   "cell_type": "code",
   "execution_count": 1,
   "id": "58d07b15-9a6f-489b-9e9f-e7249bfcaa00",
   "metadata": {},
   "outputs": [
    {
     "name": "stdout",
     "output_type": "stream",
     "text": [
      "backend_PI_mongo_model imported\n",
      "backend_PI_Utils imported\n",
      "backend_PI_Projects imported\n",
      "backend_PI_Teams imported\n",
      "backend_PI_Members imported\n",
      "frontend_PI_Utils imported\n",
      "frontend_PI_Teams imported\n",
      "frontend_PI_Projects imported\n",
      "frontend_PI_Users imported\n",
      "frontend_PI_Members imported\n"
     ]
    },
    {
     "data": {
      "text/plain": [
       "MongoClient(host=['localhost:27017'], document_class=dict, tz_aware=False, connect=True, read_preference=Primary())"
      ]
     },
     "execution_count": 1,
     "metadata": {},
     "output_type": "execute_result"
    }
   ],
   "source": [
    "import PySimpleGUI as sg\n",
    "from backend_PI import * # Import tout ce qui est spécifique au projet\n",
    "from frontend_PI import *\n",
    "\n",
    "global font\n",
    "font='Calibri 11'\n",
    "    \n",
    "connect('PIPlanning')"
   ]
  },
  {
   "cell_type": "markdown",
   "id": "3c61c420-26e0-470a-863a-17435b737926",
   "metadata": {
    "tags": []
   },
   "source": [
    "------\n",
    "### My Info\n",
    "#### Who am I"
   ]
  },
  {
   "cell_type": "code",
   "execution_count": 2,
   "id": "a1e9b794-e407-4dbb-800d-0259ff21e90a",
   "metadata": {
    "tags": []
   },
   "outputs": [],
   "source": [
    "def who_am_i_gui(alias):\n",
    "    print('function: who_am_i_gui(',alias,')')\n",
    "    font='Calibri 11'\n",
    "#    print(theme)\n",
    "#    sg.theme(theme)\n",
    "    memberid,name,firstname,email,theme,project,team,role,admin,firstcon=query_member_alias(alias)\n",
    "    print(name,firstname,email,project,team,role,admin,firstcon)\n",
    "    left_layout=[\n",
    "        [sg.T('Alias Name', size=(10,1),font=font),sg.I(alias,key='-ALIAS-', size=(50,1),font=font)],\n",
    "        [sg.T('First name', size=(10,1),font=font),sg.I(firstname,key='-FIRST-', size=(50,1),font=font)],\n",
    "        [sg.T('Last name', size=(10,1),font=font),sg.I(name,key='-LAST-', size=(50,1),font=font)],\n",
    "        [sg.T('Email', size=(10,1),font=font),sg.I(email,key='-EMAIL-', size=(50,1),font=font)]\n",
    "    ]\n",
    "    right_layout=[\n",
    "        [sg.T('Project', size=(10,1),font=font),sg.I(project,key='-PROJ-', size=(50,1),font=font)],\n",
    "        [sg.T('Team', size=(10,1),font=font),sg.I(team,key='-TEAM-', size=(50,1),font=font)],\n",
    "        [sg.T('Team Role', size=(10,1),font=font),sg.I(role,key='-ROLE-', size=(50,1),font=font)],\n",
    "    ]\n",
    "    bottom_left=[[sg.T('UI Theme:', size=(10,1),font=font),sg.I(theme,key='-THEME-',size=(50,1),font=font)]]\n",
    "    bottom_right=[[sg.T('Admin:', size=(10,1),font=font),sg.I('Yes',key='-ADMIN-',disabled=True,size=(10,1),font=font)]]\n",
    "    bottom_sright=[[sg.B('Change password',key='-PASSWD-',size=(10,1),font=font)]]\n",
    "    \n",
    "    layout=[[[sg.Frame('User info',left_layout, vertical_alignment='center',pad=((15,15),(15,15))),\n",
    "             sg.VerticalSeparator(),\n",
    "             sg.Frame('Allocated Project Info',right_layout,element_justification='center',vertical_alignment='top',pad=((15,15),(15,15)))],\n",
    "             sg.Frame('Application', bottom_left,element_justification='center',vertical_alignment='top',pad=((15,15),(15,15))),\n",
    "             sg.B('Change password',key='-PASSWD-',size=(10,2)),\n",
    "            sg.Frame('Admin',bottom_right,key='-FADMN-',element_justification='center',visible=False,vertical_alignment='top',pad=((15,15),(15,15)))],\n",
    "             [sg.B('Return')]]\n",
    "    \n",
    "    window=MyWindow('Who am I',layout,finalize=True)\n",
    "    window.my_move_to_center()\n",
    " \n",
    "    if admin == True:\n",
    "        window['-FADMN-'].update(visible=True)\n",
    "    \n",
    "    while True:\n",
    "        event, values = window.read()\n",
    "        if event == sg.WIN_CLOSED or event == ('Return'):\n",
    "            window.close()\n",
    "            break\n",
    "            \n",
    "        if event == ('-PASSWD-'):\n",
    "            print('PAsswd')\n",
    "            msg,firstcon = change_password(email,firstcon)\n",
    "            print(msg)\n",
    "            pass\n",
    "            "
   ]
  },
  {
   "cell_type": "code",
   "execution_count": 3,
   "id": "1725cba8-de15-41b8-b975-f88cd001bb9e",
   "metadata": {
    "tags": []
   },
   "outputs": [],
   "source": [
    "#who_am_i_gui('superadmin')"
   ]
  },
  {
   "cell_type": "markdown",
   "id": "671e29f3-ebb0-4fb6-8d01-0f3835148ba6",
   "metadata": {},
   "source": [
    "------\n",
    "## Change Password"
   ]
  },
  {
   "cell_type": "code",
   "execution_count": 14,
   "id": "aefaba91-dfe8-45b6-9311-9a4fdb4f6487",
   "metadata": {
    "tags": []
   },
   "outputs": [],
   "source": [
    "def change_password(email,firstcon):\n",
    "    print('function: change_password(',email,firstcon,')')\n",
    "    font='Calibri 11'\n",
    "    msg = 'Init'\n",
    "    layout=[\n",
    "        [sg.T('** First connection **',key='-FIRST-',size=(60,1),visible=False,justification='center',font=font)],\n",
    "        [sg.T(email,size=(17,1),font=font),sg.T('please change your password',size=(25,1),font=font)],\n",
    "        [sg.T('Old Passwd', key='-OLD1-',size=(15,1),visible=False,font=font),sg.I(\"\",key='-OLDPWD-',  password_char='*',visible=False,size=(50,1),font=font)],\n",
    "        [sg.T('New Passwd', size=(15,1),font=font),sg.I(\"\",key='-NEWPWD-', password_char='*', size=(50,1),font=font)],\n",
    "        [sg.T('Verify Passwd', size=(15,1),font=font),sg.I(\"\",key='-CHKNEWPWD-', password_char='*', size=(50,1),font=font)],\n",
    "        [sg.Ok(),sg.Cancel()]]\n",
    " \n",
    "    window1=MyWindow('Change Password',layout,finalize=True)\n",
    "    window1.my_move_to_center()\n",
    " \n",
    "    if firstcon == False:\n",
    "        window1['-OLD1-'].update(visible=True)\n",
    "        window1['-OLDPWD-'].update(visible=True)\n",
    "    if firstcon == True:\n",
    "        window1['-FIRST-'].update(visible=True)\n",
    "\n",
    "    while True:\n",
    "        event1, values1 = window1.read()\n",
    "        if event1 == sg.WIN_CLOSED or event1 == 'Cancel':\n",
    "            print('Cancel')\n",
    "            window1.close()\n",
    "            msg='Cancel:'\n",
    "            return(msg,firstcon)\n",
    "            \n",
    "        elif event1 == 'Ok':\n",
    "            if firstcon == False:\n",
    "                print(\"firstcon = false\")\n",
    "                checkpwd=get_actual_password(email,values1['-OLDPWD-'])\n",
    "                if checkpwd == False:\n",
    "                    msg='error, actual password not matching'\n",
    "                            \n",
    "                else:    \n",
    "                    print('check old passwd OK')\n",
    "                    if values1['-NEWPWD-'] == values1['-OLDPWD-'] and firstcon == True:\n",
    "                        msg='error: old and new paswd are equivalents'\n",
    "#                window1.close()\n",
    " \n",
    "                    elif values1['-CHKNEWPWD-'] != values1['-NEWPWD-']:\n",
    "                        msg='error: new paswd are differents'\n",
    "#                window1.close()\n",
    "           \n",
    "                    elif values1['-CHKNEWPWD-'] == '':\n",
    "                        msg='error: new paswd is empty'\n",
    "#                window1.close()\n",
    " \n",
    "                    elif len(values1['-NEWPWD-']) < 8:\n",
    "#                        print(len(values1['-NEWPWD-']))\n",
    "                        msg='error: Minimal size must be 8 caracters'\n",
    "#                window1.close()\n",
    "\n",
    "                    else:\n",
    "                        msg='ok: Passwd migth be updated'\n",
    "#                    print(values1['-CHKNEWPWD-'],values1['-NEWPWD-'])\n",
    "#                window1.close()\n",
    "#            pass\n",
    "            print(\"msg:\",msg)\n",
    "            matches = []\n",
    "            errorlist= ['error, actual password not matching','error: old and new paswd are equivalents','error: new paswd are differents','error: new paswd is empty','error: Minimal size must be 8 caracters','Cancel:']\n",
    "            matches = [match for match in errorlist if msg in match]\n",
    "            print('matches:',matches)\n",
    "            if matches :\n",
    "                layout2=[[sg.T(msg,size=(60,1),justification='center',font=font)],[sg.B('Return')]]\n",
    "                window2=MyWindow('Error',layout2,finalize=True)\n",
    "                window2.my_move_to_center()\n",
    "                \n",
    "                while True:\n",
    "                    event2, values2 = window2.read()\n",
    "                    if event2 == sg.WIN_CLOSED or event2 == 'Cancel' or event2 == 'Return':\n",
    "                        print('Cancel')\n",
    "                        window2.close()\n",
    "                        break\n",
    " \n",
    "            elif not matches:\n",
    "                print('Passwd OK')\n",
    "                aa=update_member_password(email,values1['-NEWPWD-'])\n",
    "                print('Passwd updated')\n",
    "                msg=('Ok: Password updated succesfully')\n",
    "                firstcon=False\n",
    "                window1.close()\n",
    "                layout2=[[sg.T(msg,size=(60,1),justification='center',font=font)],[sg.B('Return')]]\n",
    "                window2=MyWindow('Ok',layout2,finalize=True)\n",
    "                window2.my_move_to_center()\n",
    "                \n",
    "                while True:\n",
    "                    event2, values2 = window2.read()\n",
    "                    if event2 == sg.WIN_CLOSED or event2 == 'Cancel' or event2 == 'Return':\n",
    "                        print('Cancel')\n",
    "                        window2.close()\n",
    "                        break\n",
    "                break\n",
    "    \n",
    "    return(msg,firstcon)"
   ]
  },
  {
   "cell_type": "code",
   "execution_count": 15,
   "id": "18473ba0-63de-4de5-ad30-30e522a14dbb",
   "metadata": {
    "tags": []
   },
   "outputs": [
    {
     "name": "stdout",
     "output_type": "stream",
     "text": [
      "function: change_password( oliboub@gmail.com True )\n",
      "msg: Init\n",
      "matches: []\n",
      "Passwd OK\n",
      "fonction: update_member_passwd( oliboub@gmail.com password )\n",
      "Passwd updated\n",
      "Cancel\n"
     ]
    },
    {
     "data": {
      "text/plain": [
       "('Ok: Password updated succesfully', False)"
      ]
     },
     "execution_count": 15,
     "metadata": {},
     "output_type": "execute_result"
    }
   ],
   "source": [
    "# change_password('oliboub@gmail.com',True)"
   ]
  },
  {
   "cell_type": "markdown",
   "id": "fb6a562e-6429-4c91-86dc-bd92417cfab9",
   "metadata": {
    "tags": []
   },
   "source": [
    "### Select Theme"
   ]
  },
  {
   "cell_type": "code",
   "execution_count": 6,
   "id": "3f7a4ea1-c1de-4ba8-b8cb-c0dff803385b",
   "metadata": {},
   "outputs": [],
   "source": [
    "def select_theme_gui(memberid,theme):\n",
    "#    print('memberid:',memberid,' - theme',theme)\n",
    "    sg.theme(theme)\n",
    "\n",
    "    layout = [[sg.T('This is your layout')],\n",
    "              [sg.Button('Ok'), sg.Button('Change Theme'), sg.Button('Exit')]]\n",
    "    window=MyWindow('Pattern for changing theme', layout,finalize=True)\n",
    "    window.my_move_to_center()\n",
    "    \n",
    "    while True:\n",
    "        event, value = window.read()\n",
    "        if event == sg.WINDOW_CLOSED or event == 'Exit':\n",
    "            window.close()\n",
    "            return(theme)\n",
    "        \n",
    "        if event == 'Change Theme':      # Theme button clicked, so get new theme and restart window\n",
    "            window1 = MyWindow('Choose Theme',\n",
    "            [[sg.Combo(sg.theme_list(), readonly=True, k='-THEME LIST-'),\n",
    "             sg.OK(), sg.Cancel()]],\n",
    "             finalize=True)\n",
    "            window1.my_move_to_center()\n",
    "                \n",
    "            event, value = window1.read(close=True)\n",
    "            \n",
    "            if event == 'OK':\n",
    " # ---- Switch to your new theme! ---- IMPORTANT PART OF THE PROGRA<\n",
    "                window.close()\n",
    "                theme=value['-THEME LIST-']\n",
    "                write_new_member_theme(memberid,theme)\n",
    "                sg.theme(theme)\n",
    "                return(theme)    "
   ]
  },
  {
   "cell_type": "markdown",
   "id": "3df8dfdd-a41d-4303-9157-4fb182d2f562",
   "metadata": {
    "tags": []
   },
   "source": [
    "### Call User Alias"
   ]
  },
  {
   "cell_type": "code",
   "execution_count": 3,
   "id": "f3cb5314-f9af-4da8-8066-4f822f41361c",
   "metadata": {
    "tags": []
   },
   "outputs": [],
   "source": [
    "def user_alias_gui():\n",
    "    print('function: user_alias_gui()')\n",
    "    layout=[\n",
    "        [sg.T('Alias Name', size=(10,1)),sg.I(key='-ALIAS-', default_text='oliboub', size=(50,1))],\n",
    "        [sg.OK(),sg.Cancel()]\n",
    "    ]\n",
    "    \n",
    "    window=MyWindow('Enter your alias',layout,finalize=True)\n",
    "    window.my_move_to_center()\n",
    "    \n",
    "    while True:\n",
    "        event, value = window.read()\n",
    "        if event == sg.WIN_CLOSED or event == ('Cancel'):\n",
    "            window.close()\n",
    "            MemberAlias='None'\n",
    "            return(MemberAlias) \n",
    "            break\n",
    "        \n",
    "        elif event =='OK':\n",
    "            print(value['-ALIAS-'])\n",
    "            window.close()\n",
    "            MemberAlias= value['-ALIAS-']\n",
    "            break\n",
    "    \n",
    "    if MemberAlias != 'None':\n",
    "        valid,result=query_member(MemberAlias)\n",
    "        if valid == 1:\n",
    "            layout=[\n",
    "                [sg.T(\"Alias is not existing in database.\\nThanks to check with your administrator\")],\n",
    "                [sg.Cancel()]]\n",
    "            window1=MyWindow('Error',layout,finalize=True)\n",
    "            window1.my_move_to_center()\n",
    "            \n",
    "            while True:\n",
    "                event1, value1 = window1.read()\n",
    "                if event1 == sg.WIN_CLOSED or event1 == ('Cancel'):\n",
    "                    window1.close()\n",
    "                    MemberAlias='None'\n",
    "                    return(MemberAlias)                    \n",
    "                    break\n",
    "\n",
    "      \n",
    "        else:\n",
    "            print(result.MemberFirstConnection)\n",
    "            print(result.MemberName)\n",
    "            toto=\"Welcome back \"+result.MemberFirstName\n",
    "            sg.popup(toto,title=\"info\",auto_close=True, auto_close_duration=2,)\n",
    "            return(MemberAlias)"
   ]
  },
  {
   "cell_type": "markdown",
   "id": "1b505bba-9ac0-4224-bfb9-1a2e7b45f1d2",
   "metadata": {},
   "source": [
    "## Login_Window"
   ]
  },
  {
   "cell_type": "code",
   "execution_count": 17,
   "id": "eddb18e0-db61-4c69-a72a-9551cdf06997",
   "metadata": {
    "tags": []
   },
   "outputs": [],
   "source": [
    "def login_window():\n",
    "    print('function: login_window()')    \n",
    "    x=3\n",
    "    layout=[\n",
    "        [sg.T('Email', font=font, size=(10,1)),sg.I(key='-EMAIL-', default_text='oliboub@gmail.com',font=font, size=(50,1))],\n",
    "        [sg.T('Password', font=font,size=(10,1)),sg.I(key='-PASSWD-',font=font, password_char='*', size=(50,1))],\n",
    "        [sg.OK(),sg.Cancel()]\n",
    "    ]\n",
    "    \n",
    "    window=MyWindow('Login Session',layout,finalize=True)\n",
    "    window.my_move_to_center()\n",
    "    \n",
    "    while True:\n",
    "        event, value = window.read()\n",
    "        if event == sg.WIN_CLOSED or event == ('Cancel'):\n",
    "            window.close()\n",
    "            MemberEmail='None'\n",
    "            return(MemberEmail)\n",
    "            break\n",
    "        \n",
    "        elif event =='OK':\n",
    "            print(value['-EMAIL-'])\n",
    "#            window.close()\n",
    "            MemberEmail= value['-EMAIL-']\n",
    "\n",
    "            if MemberEmail != 'None':\n",
    "                valid,result=query_member(MemberEmail)\n",
    "                if valid == 1:\n",
    "                    layout=[\n",
    "                        [sg.T(\"Email is not existing in database.\\nThanks to check with your administrator\")],\n",
    "                        [sg.Cancel()]]\n",
    "\n",
    "                    window1=MyWindow('Error',layout,finalize=True)\n",
    "                    window1.my_move_to_center()\n",
    "\n",
    "                    while True:\n",
    "                        event1, value1 = window1.read()\n",
    "                        if event1 == sg.WIN_CLOSED or event1 == ('Cancel'):\n",
    "                            window1.close()\n",
    "                            break\n",
    "       \n",
    "                else:\n",
    "                    checkpasswd=get_actual_password(value['-EMAIL-'],value['-PASSWD-'])\n",
    "                    print(checkpasswd)\n",
    "                    if checkpasswd == False:\n",
    "                        layout=[\n",
    "                            [sg.T(\"Wrong password. \",size=(20,1),font=font),sg.T(x,size=(3,1),font=font),sg.T('Remaining tries',size=(15,1),font=font)],\n",
    "                            [sg.Cancel()]]\n",
    "\n",
    "                        window1=MyWindow('Error',layout,finalize=True)\n",
    "                        window1.my_move_to_center()\n",
    "\n",
    "                        while True:\n",
    "                            event1, value1 = window1.read()\n",
    "                            if event1 == sg.WIN_CLOSED or event1 == ('Cancel'):\n",
    "                                window1.close()\n",
    "                                break\n",
    "\n",
    "                        if x == 0:\n",
    "                            window.close()\n",
    "                            return('None')\n",
    "                        x -= 1\n",
    "\n",
    "                    else:\n",
    "                        print(result.MemberFirstConnection)\n",
    "                        MemberAlias= result.MemberAlias\n",
    "                        print(MemberAlias)\n",
    "                        window.close()\n",
    "                        if result.MemberFirstConnection == True:\n",
    "                            result = change_password(MemberEmail,True)\n",
    "                            toto=\"Welcome  \"+MemberAlias\n",
    "                            sg.popup(toto,title=\"info\",auto_close=True, auto_close_duration=2,)\n",
    "                        else:\n",
    "                            toto=\"Welcome back \"+MemberAlias\n",
    "                            sg.popup(toto,title=\"info\",auto_close=True, auto_close_duration=2,)\n",
    "                        return(MemberAlias)"
   ]
  },
  {
   "cell_type": "code",
   "execution_count": 19,
   "id": "1fd1268e-6db7-4c6a-b895-880b5f61c568",
   "metadata": {
    "tags": []
   },
   "outputs": [
    {
     "name": "stdout",
     "output_type": "stream",
     "text": [
      "function: login_window()\n",
      "oliboub@gmail.com\n",
      "fonction: query_member( oliboub@gmail.com )\n",
      "Email\n",
      "Boubert\n",
      "fonction: get_actual_password( oliboub@gmail.com password)\n",
      "It matches\n",
      "True\n",
      "False\n",
      "oliboub\n"
     ]
    },
    {
     "data": {
      "text/plain": [
       "'oliboub'"
      ]
     },
     "execution_count": 19,
     "metadata": {},
     "output_type": "execute_result"
    }
   ],
   "source": [
    "#global font\n",
    "#font='Calibri 11'\n",
    "# login_window()"
   ]
  },
  {
   "cell_type": "code",
   "execution_count": 10,
   "id": "f903a166-0a0f-4a2f-8513-b180c969921b",
   "metadata": {},
   "outputs": [
    {
     "name": "stdout",
     "output_type": "stream",
     "text": [
      "__main__ imported\n"
     ]
    }
   ],
   "source": [
    "print(__name__,'imported')"
   ]
  }
 ],
 "metadata": {
  "kernelspec": {
   "display_name": "Python 3 (ipykernel)",
   "language": "python",
   "name": "python3"
  },
  "language_info": {
   "codemirror_mode": {
    "name": "ipython",
    "version": 3
   },
   "file_extension": ".py",
   "mimetype": "text/x-python",
   "name": "python",
   "nbconvert_exporter": "python",
   "pygments_lexer": "ipython3",
   "version": "3.10.7"
  }
 },
 "nbformat": 4,
 "nbformat_minor": 5
}
