{
 "cells": [
  {
   "cell_type": "markdown",
   "id": "f125956c-b0dd-4899-8c11-185a7c7a3a15",
   "metadata": {},
   "source": [
    "# backend_PI_Members"
   ]
  },
  {
   "cell_type": "markdown",
   "id": "04420b69-8f7f-41e7-8acd-1aa77d57b85b",
   "metadata": {},
   "source": [
    "## prerequisites"
   ]
  },
  {
   "cell_type": "code",
   "execution_count": 1,
   "id": "7abfe4dc-0955-4533-a102-2b9034424b9b",
   "metadata": {},
   "outputs": [
    {
     "name": "stdout",
     "output_type": "stream",
     "text": [
      "/media/olivier/Donnees/Documents/Formations/Perso/PI_Planning/jupyter_files global_variables imported\n",
      "backend_PI_mongo_model imported\n"
     ]
    },
    {
     "data": {
      "text/plain": [
       "MongoClient(host=['localhost:27017'], document_class=dict, tz_aware=False, connect=True, read_preference=Primary())"
      ]
     },
     "execution_count": 1,
     "metadata": {},
     "output_type": "execute_result"
    }
   ],
   "source": [
    "import global_variables as g\n",
    "g.init()\n",
    "import bcrypt\n",
    "import os\n",
    "from mongoengine import *\n",
    "from backend_PI_mongo_model import *\n",
    "from datetime import datetime\n",
    "\n",
    "connect('PIPlanning')"
   ]
  },
  {
   "cell_type": "markdown",
   "id": "7e3861b4-9171-4ee0-859f-17dd5d612936",
   "metadata": {},
   "source": [
    "## query_member(alias)"
   ]
  },
  {
   "cell_type": "code",
   "execution_count": 10,
   "id": "2eb74157-9949-48c1-90a3-a8ea47ba5207",
   "metadata": {},
   "outputs": [],
   "source": [
    "def query_member(alias):\n",
    "    if g.DEBUG_OL >= 1:\n",
    "        print('--- function: query_member(',alias,')')\n",
    "    if g.DEBUG_OL >= 2:\n",
    "#    if alias.find('@'):\n",
    "        print(alias.find(\"@\"))\n",
    "    if alias.find('@') > -1:\n",
    "        if g.DEBUG_OL >= 2:\n",
    "            print('Email')\n",
    "        member1 = Members.objects(Archived=False,MemberEmail=alias).first()\n",
    "        if member1 is None:\n",
    "            if g.DEBUG_OL >= 2:\n",
    "                print('None')\n",
    "            return(1,'None')\n",
    "        else:\n",
    "            if g.DEBUG_OL >= 2:\n",
    "                print(member1.MemberName)\n",
    "            return(0,member1)\n",
    "        return(0,member1)        \n",
    "    else:\n",
    "        if g.DEBUG_OL >= 2:\n",
    "            print('alias')\n",
    "        member1 = Members.objects(Archived=False,MemberAlias=alias).first()\n",
    "        if member1 is None:\n",
    "            if g.DEBUG_OL >= 2:\n",
    "                print('None')\n",
    "            return(1,'None')\n",
    "        else:\n",
    "            if g.DEBUG_OL >= 2:\n",
    "                print(member1.MemberName)\n",
    "            return(0,member1)"
   ]
  },
  {
   "cell_type": "code",
   "execution_count": 11,
   "id": "540d749c-d650-49e8-abbc-0af2ef465181",
   "metadata": {},
   "outputs": [
    {
     "name": "stdout",
     "output_type": "stream",
     "text": [
      "fonction: query_member( oliboub )\n"
     ]
    },
    {
     "data": {
      "text/plain": [
       "(0, <Members: Members object>)"
      ]
     },
     "execution_count": 11,
     "metadata": {},
     "output_type": "execute_result"
    }
   ],
   "source": [
    "#query_member('oliboub')"
   ]
  },
  {
   "cell_type": "markdown",
   "id": "39683971-4a33-44fe-b2ea-e71d1fe74807",
   "metadata": {},
   "source": [
    "## query_members_alias(alias)"
   ]
  },
  {
   "cell_type": "code",
   "execution_count": null,
   "id": "c59b7e0b-6827-4314-989a-164dec1f3f0b",
   "metadata": {},
   "outputs": [],
   "source": [
    "def query_member_alias(Alias):\n",
    "    if g.DEBUG_OL >= 1:\n",
    "        print('--- function: query_member_alias(',Alias,')')\n",
    "    try:\n",
    "        member1 = Members.objects(Archived=False,MemberAlias=Alias).first()\n",
    "    except Exception as e:\n",
    "        return \"Error: %s\" % (e)\n",
    "        end()\n",
    "#    print('member1.MemberID',member1.MemberID)\n",
    "#    print('member1.MemberName:',member1.MemberName)\n",
    "#    linkrole=LinkMemberRole.objects(MemberID=member1.MemberID).first()\n",
    "#    print(member1.MemberRole)\n",
    "#    print(linkrole.RoleID)\n",
    "    role=Roles.objects(RoleID=member1.MemberRole).first()\n",
    "#    print(role.RoleName)\n",
    "    link=LinkMemberTeam.objects(MemberID=member1.MemberID).first()\n",
    "#    print(link.TeamID)\n",
    "    team=Teams.objects(TeamID=link.TeamID).first()\n",
    "#    print(team.TeamName)\n",
    "#    print(team.ProjectID)\n",
    "    project=Projects.objects(ProjectID=team.ProjectID).first()\n",
    "    debug_ol=0\n",
    "    if g.DEBUG_OL >= 2:\n",
    "        print('MemberID:',member1.MemberID)\n",
    "        print('User Alias:',member1.MemberAlias)\n",
    "        print('User Name:',member1.MemberName)\n",
    "        print('User First Name:',member1.MemberFirstName)\n",
    "        print('User Email:',member1.MemberEmail)\n",
    "        print('Project allocated:',project.ProjectName)\n",
    "        print('Project Team allocated:',team.TeamName)\n",
    "        print('User Theme:',member1.MemberTheme)\n",
    "        print('Team Role:',role.RoleName)\n",
    "        print('Member admin:',member1.MemberAdmin)\n",
    "        print('Member First Connection:',member1.MemberFirstConnection)\n",
    "        \n",
    "    \n",
    "    return(member1.MemberID,member1.MemberName,member1.MemberFirstName,member1.MemberEmail,member1.MemberTheme,project.ProjectName,project.ProjectID,team.TeamName,role.RoleName,member1.MemberAdmin,member1.MemberFirstConnection)"
   ]
  },
  {
   "cell_type": "code",
   "execution_count": null,
   "id": "d346e4af-b890-44e8-a438-72afc3950b3a",
   "metadata": {},
   "outputs": [],
   "source": [
    "#query_member_alias('superadmin')"
   ]
  },
  {
   "cell_type": "markdown",
   "id": "5c951c36-993c-462f-b5aa-d4b224dc937e",
   "metadata": {},
   "source": [
    "## query_members_by_team(team)\n",
    "Team might be:\n",
    "- **All** for all\n",
    "- **TeamName**\n",
    "- **TeamID**\n"
   ]
  },
  {
   "cell_type": "code",
   "execution_count": 2,
   "id": "e5f35324-2119-421b-a21e-6cabdbcae6c9",
   "metadata": {},
   "outputs": [],
   "source": [
    "def query_members_by_team(team='All'):\n",
    "    if g.DEBUG_OL >= 1:\n",
    "        print('--- function: query_members_by_team(',team,')')\n",
    "    members = []\n",
    "    if team is None:\n",
    "        if g.DEBUG_OL >= 2:\n",
    "            print('Please add a teamname as parameter')\n",
    "        return('[]')\n",
    "\n",
    "    else:\n",
    "        if team != 'All':\n",
    "            if type(team) is int:\n",
    "                teams=Teams.objects(TeamID=team).first()\n",
    "            else:\n",
    "                teams=Teams.objects(TeamName=team).first()\n",
    "            if g.DEBUG_OL >= 2:\n",
    "                print(teams)\n",
    "\n",
    "            if teams is None:\n",
    "                if g.DEBUG_OL >= 2:\n",
    "                    print(\"'None' value provided for item of farkling routine\")\n",
    "                return('[]')\n",
    "\n",
    "            else:\n",
    "                link=LinkMemberTeam.objects(TeamID=teams.TeamID)\n",
    "                if g.DEBUG_OL >= 2:\n",
    "                    print('link:',link)\n",
    "        else:\n",
    "            link=LinkMemberTeam.objects()\n",
    "            \n",
    "        for i in range(len(link)):\n",
    "            member1=Members.objects(MemberID=link[i].MemberID).first()\n",
    "            #if g.DEBUG_OL >= 2:\n",
    "            #    print(, link[i].MemberIDmember1.MemberName)\n",
    "            members.append(member1.MemberName)\n",
    "        if g.DEBUG_OL >= 2:\n",
    "            print(members)\n",
    "        return(members)\n",
    "#        for i in range(len(member1)):\n",
    "#            print(member1[i])\n",
    "#            members=member1[i][1]\n",
    "#        print(members)\n",
    "#        return(members)"
   ]
  },
  {
   "cell_type": "code",
   "execution_count": 10,
   "id": "f4ae37b1-24f8-4c4c-a3ed-2296a268779c",
   "metadata": {},
   "outputs": [
    {
     "name": "stdout",
     "output_type": "stream",
     "text": [
      "--- function: query_members_by_team( Sprinters )\n",
      "Teams object\n",
      "link: [<LinkMemberTeam: LinkMemberTeam object>, <LinkMemberTeam: LinkMemberTeam object>]\n",
      "['Tartuffe', 'scrumol']\n"
     ]
    },
    {
     "data": {
      "text/plain": [
       "['Tartuffe', 'scrumol']"
      ]
     },
     "execution_count": 10,
     "metadata": {},
     "output_type": "execute_result"
    }
   ],
   "source": [
    "#query_members_by_team('Sprinters')"
   ]
  },
  {
   "cell_type": "markdown",
   "id": "c3ce01c6-b2f5-4257-abde-65fcefc0ddc6",
   "metadata": {},
   "source": [
    "## write_new_member_theme(memberid,theme)"
   ]
  },
  {
   "cell_type": "code",
   "execution_count": null,
   "id": "d1fb4f7e-2487-4cab-a9a8-48c5dbc201b7",
   "metadata": {},
   "outputs": [],
   "source": [
    "def write_new_member_theme(memberid,theme):\n",
    "    if g.DEBUG_OL >= 1:\n",
    "        print('--- function: write_new_member_theme(',theme,')')\n",
    "    member1 = Members.objects(MemberID=memberid).first()\n",
    "    member1.MemberTheme=theme\n",
    "    member1.save() "
   ]
  },
  {
   "cell_type": "markdown",
   "id": "f736e223-03c6-44c4-99db-1086ca8d0a85",
   "metadata": {},
   "source": [
    "## create_member(MemberName,FirstName.Email,MemberTheme)'lightblue2',ProjectName,TeamName,RoleName,admin=False)"
   ]
  },
  {
   "cell_type": "code",
   "execution_count": null,
   "id": "fcbf8cae-11a5-4e92-a512-1b0f2bcb635b",
   "metadata": {},
   "outputs": [],
   "source": [
    "def create_member(name,firstname,alias,email,theme,photo,projectid,teamid,roleid,password=\"default123\",admin=False):\n",
    "    if g.DEBUG_OL >= 1:\n",
    "        print('--- function: create_member(',name,firstname,password,alias,email,theme,photo,projectid,teamid,roleid,admin,')')\n",
    "    now = datetime.now()\n",
    "    creationdate = now.strftime(\"%d/%m/%Y %H:%M:%S\")\n",
    "    member = Members()\n",
    "    MemberName =  nameame\n",
    "    MemberFirstName = firstname\n",
    "    MemberEmail = email\n",
    "    MemberAlias = alias\n",
    "    MemberRole = roleid\n",
    "    MemberTheme = theme\n",
    "    MemberAvatar = photo\n",
    "    hashAndSalt = bcrypt.hashpw(password.encode(), bcrypt.gensalt())\n",
    "    MemberPassword = hashAndSalt\n",
    "    MemberAdmin = admin\n",
    "    Archived = False\n",
    "    CreationDate = creationdate\n",
    "    LastUpdate = creationdate\n",
    "    member.save()"
   ]
  },
  {
   "cell_type": "markdown",
   "id": "3a23686e-7fc9-4dca-8792-1d81629ba2e8",
   "metadata": {
    "tags": []
   },
   "source": [
    "## update_member_password(email,password)"
   ]
  },
  {
   "cell_type": "code",
   "execution_count": null,
   "id": "e05c8ab9-dc61-4588-a98f-6ece0e54b8f3",
   "metadata": {
    "tags": []
   },
   "outputs": [],
   "source": [
    "def update_member_password(email,password):\n",
    "    if g.DEBUG_OL >= 1:\n",
    "        print('--- function: update_member_passwd(',email,'password',')',)\n",
    "    member1 = Members.objects(Archived=False,MemberEmail=email).first()\n",
    "    debug_ol=0\n",
    "    if g.DEBUG_OL >= 2:\n",
    "        print('------ Before')\n",
    "        print('MemberID:',member1.MemberID)\n",
    "        print('User Alias:',member1.MemberAlias)\n",
    "        print('User Name:',member1.MemberName)\n",
    "        print('User First Name:',member1.MemberFirstName)\n",
    "        print('User Email:',member1.MemberEmail)\n",
    "        print('Member First Connection:',member1.MemberFirstConnection)\n",
    "        print('Member Last Update:',member1.LastUpdate)\n",
    "        print('Member Password:',member1.MemberPassword)\n",
    "   \n",
    "    now = datetime.now()\n",
    "    creationdate = now.strftime(\"%d/%m/%Y %H:%M:%S\")\n",
    "    hashAndSalt = bcrypt.hashpw(password.encode('utf-8'), bcrypt.gensalt())\n",
    "    \n",
    "##    Static mode\n",
    "##    member1.update(MemberPassword = hashAndSalt,member1.update(MemberFirstConnection = False,member1.update(LastUpdate = creationdate)\n",
    "    \n",
    "\n",
    "## Dynamic mode\n",
    "    fields = {\n",
    "        'MemberPassword': hashAndSalt,\n",
    "        'MemberFirstConnection': False,\n",
    "        'LastUpdate': creationdate\n",
    "    }\n",
    "    member1.update(**fields)\n",
    "\n",
    "    member1 = Members.objects(Archived=False,MemberEmail=email).first()\n",
    "    if g.DEBUG_OL >= 2:\n",
    "        print('------ After')\n",
    "        print('MemberID:',member1.MemberID)\n",
    "        print('User Alias:',member1.MemberAlias)\n",
    "        print('User Name:',member1.MemberName)\n",
    "        print('User First Name:',member1.MemberFirstName)\n",
    "        print('User Email:',member1.MemberEmail)\n",
    "        print('Member First Connection:',member1.MemberFirstConnection)\n",
    "        print('Member Last Update:',member1.LastUpdate)\n",
    "        print('Member Password:',member1.MemberPassword)"
   ]
  },
  {
   "cell_type": "code",
   "execution_count": null,
   "id": "968e0826-1cef-45f0-bf90-b43dd13a0581",
   "metadata": {},
   "outputs": [],
   "source": [
    "#update_member_password('oliboub@gmail.com','aaaaaaaa')"
   ]
  },
  {
   "cell_type": "markdown",
   "id": "c10eee07-729f-41c9-aa84-b947a505d89e",
   "metadata": {},
   "source": [
    "## get_actual_password(email,passwd)"
   ]
  },
  {
   "cell_type": "code",
   "execution_count": 2,
   "id": "718d5169-9c9b-4c97-8d8c-07648b279193",
   "metadata": {},
   "outputs": [],
   "source": [
    "def get_actual_password(email,passwd):\n",
    "    if g.DEBUG_OL >= 1:\n",
    "        print('--- function: get_actual_password(',email,'password)',)\n",
    "    password=passwd.encode('utf-8')\n",
    "    strikepwd= bcrypt.hashpw(password, bcrypt.gensalt())\n",
    "    \n",
    "    member1 = Members.objects(Archived=False,MemberEmail=email).first()\n",
    "\n",
    "    if g.DEBUG_OL >= 2:\n",
    "        print('strikepwd:',strikepwd)\n",
    "        print('MemberID:',member1.MemberID)\n",
    "        print('User Alias:',member1.MemberAlias)\n",
    "        print('User Name:',member1.MemberName)\n",
    "        print('User First Name:',member1.MemberFirstName)\n",
    "        print('User Email:',member1.MemberEmail)\n",
    "        print('Member First Connection:',member1.MemberFirstConnection)\n",
    "        print('Member Last Update:',member1.LastUpdate)\n",
    "        print('Member Password:',member1.MemberPassword)\n",
    "    \n",
    "    if bcrypt.hashpw(password, member1.MemberPassword) == member1.MemberPassword:\n",
    "        if g.DEBUG_OL >= 2:\n",
    "            print(\"It matches\")\n",
    "        a=True\n",
    "    else:\n",
    "        if g.DEBUG_OL >= 2:\n",
    "            print(\"It does not match\")\n",
    "        a=False\n",
    "    return(a)"
   ]
  },
  {
   "cell_type": "code",
   "execution_count": 3,
   "id": "9cc584ec-afab-4c0f-b3c1-100f02c2da6f",
   "metadata": {},
   "outputs": [
    {
     "name": "stdout",
     "output_type": "stream",
     "text": [
      "fonction: get_actual_password( admin@gmail.com password)\n"
     ]
    },
    {
     "data": {
      "text/plain": [
       "True"
      ]
     },
     "execution_count": 3,
     "metadata": {},
     "output_type": "execute_result"
    }
   ],
   "source": [
    "#get_actual_password('admin@gmail.com','aaaaaaaa')"
   ]
  },
  {
   "cell_type": "code",
   "execution_count": null,
   "id": "dfcd7680-8233-4405-a052-09f6e9de5d51",
   "metadata": {},
   "outputs": [],
   "source": [
    "print(os.getcwd(),__name__,'imported')"
   ]
  }
 ],
 "metadata": {
  "kernelspec": {
   "display_name": "Python 3 (ipykernel)",
   "language": "python",
   "name": "python3"
  },
  "language_info": {
   "codemirror_mode": {
    "name": "ipython",
    "version": 3
   },
   "file_extension": ".py",
   "mimetype": "text/x-python",
   "name": "python",
   "nbconvert_exporter": "python",
   "pygments_lexer": "ipython3",
   "version": "3.10.7"
  }
 },
 "nbformat": 4,
 "nbformat_minor": 5
}
