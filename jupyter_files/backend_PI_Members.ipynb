{
 "cells": [
  {
   "cell_type": "markdown",
   "id": "8304b227-7f90-498f-ab2d-faee3b1744ef",
   "metadata": {},
   "source": [
    "# backend_PI_Members"
   ]
  },
  {
   "cell_type": "markdown",
   "id": "5cef6d7f-06b4-41be-88d1-e740d25be95c",
   "metadata": {},
   "source": [
    "## prerequisites"
   ]
  },
  {
   "cell_type": "code",
   "execution_count": 1,
   "id": "6f021a13-79d3-4949-9aeb-ad814e70b155",
   "metadata": {
    "tags": []
   },
   "outputs": [
    {
     "name": "stdout",
     "output_type": "stream",
     "text": [
      "backend_PI_mongo_model imported\n"
     ]
    },
    {
     "data": {
      "text/plain": [
       "MongoClient(host=['localhost:27017'], document_class=dict, tz_aware=False, connect=True, read_preference=Primary())"
      ]
     },
     "execution_count": 1,
     "metadata": {},
     "output_type": "execute_result"
    }
   ],
   "source": [
    "import bcrypt\n",
    "import os\n",
    "from backend_PI import * # Import tout ce qui est spécifique au projet\n",
    "from frontend_PI import *from datetime import datetime\n",
    "\n",
    "connect('PIPlanning')"
   ]
  },
  {
   "cell_type": "markdown",
   "id": "442811aa-2a2a-43cb-9afb-4d9ed2e92a3a",
   "metadata": {},
   "source": [
    "## query_members_alias(alias)"
   ]
  },
  {
   "cell_type": "code",
   "execution_count": 1,
   "id": "b8364a18-2dd6-4fff-a32b-87eb32f8c957",
   "metadata": {
    "tags": []
   },
   "outputs": [],
   "source": [
    "#\n",
    "### members\n",
    "def query_member_alias(Alias):\n",
    "    print('fonction: query_member_alias(',Alias,')')\n",
    "    try:\n",
    "        member1 = Members.objects(Archived=False,MemberAlias=Alias).first()\n",
    "    except Exception as e:\n",
    "        return \"Error: %s\" % (e)\n",
    "        end()\n",
    "#    print('member1.MemberID',member1.MemberID)\n",
    "#    print('member1.MemberName:',member1.MemberName)\n",
    "#    linkrole=LinkMemberRole.objects(MemberID=member1.MemberID).first()\n",
    "#    print(member1.MemberRole)\n",
    "#    print(linkrole.RoleID)\n",
    "    role=Roles.objects(RoleID=member1.MemberRole).first()\n",
    "#    print(role.RoleName)\n",
    "    link=LinkMemberTeam.objects(MemberID=member1.MemberID).first()\n",
    "#    print(link.TeamID)\n",
    "    team=Teams.objects(TeamID=link.TeamID).first()\n",
    "#    print(team.TeamName)\n",
    "#    print(team.ProjectID)\n",
    "    project=Projects.objects(ProjectID=team.ProjectID).first()\n",
    "    debug_ol=0\n",
    "    if debug_ol == 1:\n",
    "        print('MemberID:',member1.MemberID)\n",
    "        print('User Alias:',member1.MemberAlias)\n",
    "        print('User Name:',member1.MemberName)\n",
    "        print('User First Name:',member1.MemberFirstName)\n",
    "        print('User Email:',member1.MemberEmail)\n",
    "        print('Project allocated:',project.ProjectName)\n",
    "        print('Project Team allocated:',team.TeamName)\n",
    "        print('User Theme:',member1.MemberTheme)\n",
    "        print('Team Role:',role.RoleName)\n",
    "        print('Member admin:',member1.MemberAdmin)\n",
    "        print('Member First Connection:',member1.MemberFirstConnection)\n",
    "        \n",
    "    \n",
    "    return(member1.MemberID,member1.MemberName,member1.MemberFirstName,member1.MemberEmail,member1.MemberTheme,project.ProjectName,team.TeamName,role.RoleName,member1.MemberAdmin,member1.MemberFirstConnection)\n"
   ]
  },
  {
   "cell_type": "code",
   "execution_count": 15,
   "id": "d97b87b6-0c04-441b-95e1-75983b225951",
   "metadata": {
    "tags": []
   },
   "outputs": [
    {
     "name": "stdout",
     "output_type": "stream",
     "text": [
      "fonction: query_member_alias( superadmin )\n",
      "MemberID: 5\n",
      "User Alias: superadmin\n",
      "User Name: admin\n",
      "User First Name: admin\n",
      "User Email: admin@gmail.com\n",
      "Project allocated: PIPlanning\n",
      "Project Team allocated: PI\n",
      "User Theme: LightBlue2\n",
      "Team Role: admin\n",
      "Member admin: True\n"
     ]
    },
    {
     "data": {
      "text/plain": [
       "(5,\n",
       " 'admin',\n",
       " 'admin',\n",
       " 'admin@gmail.com',\n",
       " 'LightBlue2',\n",
       " 'PIPlanning',\n",
       " 'PI',\n",
       " 'admin',\n",
       " True)"
      ]
     },
     "execution_count": 15,
     "metadata": {},
     "output_type": "execute_result"
    }
   ],
   "source": [
    "#query_member_alias('superadmin')"
   ]
  },
  {
   "cell_type": "markdown",
   "id": "10aabdd8-cfb4-43ad-93d3-589b5994947e",
   "metadata": {
    "tags": []
   },
   "source": [
    "## query_members_by_team"
   ]
  },
  {
   "cell_type": "code",
   "execution_count": 4,
   "id": "77621ece-04cf-429a-860b-7a92cfcfef74",
   "metadata": {
    "tags": []
   },
   "outputs": [],
   "source": [
    "def query_members_by_team(teamname='All'):\n",
    "    print('fonction: query_members_by_team(',teamname,')')\n",
    "    members = []\n",
    "    if teamname == None:\n",
    "        print('Please add a teamname as parameter')\n",
    "        return('[]')\n",
    "\n",
    "    else:\n",
    "        if teamname != 'All':\n",
    "            teams=Teams.objects(TeamName=teamname).first()\n",
    "            print(teams)\n",
    "\n",
    "            if teams == None:\n",
    "                print(\"'None' value provided for item of farkling routine\")\n",
    "                return('[]')\n",
    "\n",
    "            else:\n",
    "                link=LinkMemberTeam.objects(TeamID=teams.TeamID)\n",
    "                print(link)\n",
    "        else:\n",
    "            link=LinkMemberTeam.objects()\n",
    "            \n",
    "        for i in range(len(link)):\n",
    "#            print(link[i].MemberID)\n",
    "            member1=Members.objects(MemberID=link[i].MemberID).first()\n",
    "#            print(member1.MemberName)\n",
    "            members.append(member1.MemberName)\n",
    "        print(members)\n",
    "        return(members)\n",
    "#        for i in range(len(member1)):\n",
    "#            print(member1[i])\n",
    "#            members=member1[i][1]\n",
    "#        print(members)\n",
    "#        return(members)\n"
   ]
  },
  {
   "cell_type": "code",
   "execution_count": 5,
   "id": "ab060eca-a659-4956-918c-202c2087b876",
   "metadata": {
    "tags": []
   },
   "outputs": [
    {
     "name": "stdout",
     "output_type": "stream",
     "text": [
      "fonction: query_members_by_team( All )\n",
      "['Boubert', 'TVV', 'Tartuffe']\n"
     ]
    },
    {
     "data": {
      "text/plain": [
       "['Boubert', 'TVV', 'Tartuffe']"
      ]
     },
     "execution_count": 5,
     "metadata": {},
     "output_type": "execute_result"
    }
   ],
   "source": [
    "#query_members_by_team('All')"
   ]
  },
  {
   "cell_type": "markdown",
   "id": "83836fdc-c44a-41fb-93f2-95bd9eade40d",
   "metadata": {},
   "source": [
    "## query_member(alias)"
   ]
  },
  {
   "cell_type": "code",
   "execution_count": 1,
   "id": "816de036-8c04-4fc0-b509-12bad3fb1a24",
   "metadata": {
    "tags": []
   },
   "outputs": [],
   "source": [
    "def query_member(alias):\n",
    "    print('fonction: query_member(',alias,')')\n",
    "#    if alias.find('@'):\n",
    "    print(alias.find(\"@\"))\n",
    "    if alias.find('@') > -1:\n",
    "        print('Email')\n",
    "        member1 = Members.objects(Archived=False,MemberEmail=alias).first()\n",
    "        if member1 is None:\n",
    "            print('None')\n",
    "            return(1,'None')\n",
    "        else:\n",
    "            print(member1.MemberName)\n",
    "            return(0,member1)\n",
    "        return(0,member1)        \n",
    "    else:\n",
    "        print('alias')\n",
    "        member1 = Members.objects(Archived=False,MemberAlias=alias).first()\n",
    "        if member1 is None:\n",
    "            print('None')\n",
    "            return(1,'None')\n",
    "        else:\n",
    "            print(member1.MemberName)\n",
    "            return(0,member1)"
   ]
  },
  {
   "cell_type": "code",
   "execution_count": 9,
   "id": "dcfb24ba-8752-4b28-8810-389f6ad076f6",
   "metadata": {
    "tags": []
   },
   "outputs": [
    {
     "name": "stdout",
     "output_type": "stream",
     "text": [
      "fonction: query_member( oliboub )\n",
      "Boubert\n"
     ]
    },
    {
     "data": {
      "text/plain": [
       "(0, <Members: Members object>)"
      ]
     },
     "execution_count": 9,
     "metadata": {},
     "output_type": "execute_result"
    }
   ],
   "source": [
    "#query_member('oliboub')"
   ]
  },
  {
   "cell_type": "markdown",
   "id": "f0fab4fc-b0b0-4476-bd76-b1bdb2ea9ebc",
   "metadata": {},
   "source": [
    "## write_new_member_theme(memberid,theme)"
   ]
  },
  {
   "cell_type": "code",
   "execution_count": null,
   "id": "16f39942-5d42-4eec-82d7-43409e9a8b84",
   "metadata": {},
   "outputs": [],
   "source": [
    "def write_new_member_theme(memberid,theme):\n",
    "    print('fonction: write_new_member_theme(',theme,')')\n",
    "    member1 = Members.objects(MemberID=memberid).first()\n",
    "    member1.MemberTheme=theme\n",
    "    member1.save()   "
   ]
  },
  {
   "cell_type": "code",
   "execution_count": null,
   "id": "44d25bb8-b3a3-4e76-a6b7-f71410e36479",
   "metadata": {},
   "outputs": [],
   "source": [
    "## create_member(MemberName,FirstName.Email,MemberTheme)'lightblue2',ProjectName,TeamName,RoleName,admin=False)"
   ]
  },
  {
   "cell_type": "code",
   "execution_count": 3,
   "id": "07649c2f-57da-4f67-b022-e1b5039d81c1",
   "metadata": {},
   "outputs": [],
   "source": [
    "def create_member(name,firstname,alias,email,theme,photo,projectid,teamid,roleid,password=\"default123\",admin=False):\n",
    "    print('fonction: create_member(',name,firstname,password,alias,email,theme,photo,projectid,teamid,roleid,admin,')')\n",
    "    now = datetime.now()\n",
    "    creationdate = now.strftime(\"%d/%m/%Y %H:%M:%S\")\n",
    "    member = Members()\n",
    "    MemberName =  nameame\n",
    "    MemberFirstName = firstname\n",
    "    MemberEmail = email\n",
    "    MemberAlias = alias\n",
    "    MemberRole = roleid\n",
    "    MemberTheme = theme\n",
    "    MemberAvatar = photo\n",
    "    hashAndSalt = bcrypt.hashpw(password.encode(), bcrypt.gensalt())\n",
    "    MemberPassword = hashAndSalt\n",
    "    MemberAdmin = admin\n",
    "    Archived = False\n",
    "    CreationDate = creationdate\n",
    "    LastUpdate = creationdate\n",
    "    member.save()"
   ]
  },
  {
   "cell_type": "code",
   "execution_count": 38,
   "id": "878c3293-1178-44d0-8f6b-25d1a9938a54",
   "metadata": {},
   "outputs": [],
   "source": [
    "def update_member_password(email,password):\n",
    "    print('fonction: update_member_passwd(',email,'password',')',)\n",
    "    member1 = Members.objects(Archived=False,MemberEmail=email).first()\n",
    "    debug_ol=0\n",
    "    if debug_ol == 1:\n",
    "        print('------ Before')\n",
    "        print('MemberID:',member1.MemberID)\n",
    "        print('User Alias:',member1.MemberAlias)\n",
    "        print('User Name:',member1.MemberName)\n",
    "        print('User First Name:',member1.MemberFirstName)\n",
    "        print('User Email:',member1.MemberEmail)\n",
    "        print('Member First Connection:',member1.MemberFirstConnection)\n",
    "        print('Member Last Update:',member1.LastUpdate)\n",
    "        print('Member Password:',member1.MemberPassword)\n",
    "   \n",
    "    now = datetime.now()\n",
    "    creationdate = now.strftime(\"%d/%m/%Y %H:%M:%S\")\n",
    "    hashAndSalt = bcrypt.hashpw(password.encode('utf-8'), bcrypt.gensalt())\n",
    "    \n",
    "##    Static mode\n",
    "##    member1.update(MemberPassword = hashAndSalt,member1.update(MemberFirstConnection = False,member1.update(LastUpdate = creationdate)\n",
    "    \n",
    "\n",
    "## Dynamic mode\n",
    "    fields = {\n",
    "        'MemberPassword': hashAndSalt,\n",
    "        'MemberFirstConnection': False,\n",
    "        'LastUpdate': creationdate\n",
    "    }\n",
    "    member1.update(**fields)\n",
    "\n",
    "    member1 = Members.objects(Archived=False,MemberEmail=email).first()\n",
    "    if debug_ol == 1:\n",
    "        print('------ After')\n",
    "        print('MemberID:',member1.MemberID)\n",
    "        print('User Alias:',member1.MemberAlias)\n",
    "        print('User Name:',member1.MemberName)\n",
    "        print('User First Name:',member1.MemberFirstName)\n",
    "        print('User Email:',member1.MemberEmail)\n",
    "        print('Member First Connection:',member1.MemberFirstConnection)\n",
    "        print('Member Last Update:',member1.LastUpdate)\n",
    "        print('Member Password:',member1.MemberPassword)\n",
    "\n",
    "    "
   ]
  },
  {
   "cell_type": "code",
   "execution_count": 37,
   "id": "ed8e9457-05fe-4550-8bc2-bd453fedc3d0",
   "metadata": {
    "tags": []
   },
   "outputs": [
    {
     "name": "stdout",
     "output_type": "stream",
     "text": [
      "fonction: update_member_passwd( oliboub@gmail.com password )\n",
      "------ Before\n",
      "MemberID: 1\n",
      "User Alias: oliboub\n",
      "User Name: Boubert\n",
      "User First Name: Olivier\n",
      "User Email: oliboub@gmail.com\n",
      "Member First Connection: False\n",
      "Member Last Update: 2023-08-03 13:12:31\n",
      "Member Password: b'$2b$12$ONMYvFk0/O5MCqjUVPNrR.9PWLRo6gb37p/CV7mHouaKARiFfWFke'\n",
      "------ After\n",
      "MemberID: 1\n",
      "User Alias: oliboub\n",
      "User Name: Boubert\n",
      "User First Name: Olivier\n",
      "User Email: oliboub@gmail.com\n",
      "Member First Connection: False\n",
      "Member Last Update: 2023-08-03 13:39:10\n",
      "Member Password: b'$2b$12$3v4dAKo0ofGmr9hdhCMaUey899wDCm1j.wcU5ySkUZqpbN11F7Fj2'\n"
     ]
    }
   ],
   "source": [
    "#update_member_password('oliboub@gmail.com','aaaaaaaa')"
   ]
  },
  {
   "cell_type": "code",
   "execution_count": 26,
   "id": "ef6cb9df-2b35-45d1-923f-55bd30b16320",
   "metadata": {
    "tags": []
   },
   "outputs": [],
   "source": [
    "def get_actual_password(email,passwd):\n",
    "    print('fonction: get_actual_password(',email,'password)',)\n",
    "    password=passwd.encode('utf-8')\n",
    "    strikepwd= bcrypt.hashpw(password, bcrypt.gensalt())\n",
    "    \n",
    "    member1 = Members.objects(Archived=False,MemberEmail=email).first()\n",
    "    debug_ol=0\n",
    "    if debug_ol == 1:\n",
    "        print('strikepwd:',strikepwd)\n",
    "        print('MemberID:',member1.MemberID)\n",
    "        print('User Alias:',member1.MemberAlias)\n",
    "        print('User Name:',member1.MemberName)\n",
    "        print('User First Name:',member1.MemberFirstName)\n",
    "        print('User Email:',member1.MemberEmail)\n",
    "        print('Member First Connection:',member1.MemberFirstConnection)\n",
    "        print('Member Last Update:',member1.LastUpdate)\n",
    "        print('Member Password:',member1.MemberPassword)\n",
    "    \n",
    "    if bcrypt.hashpw(password, member1.MemberPassword) == member1.MemberPassword:\n",
    "        print(\"It matches\")\n",
    "        a=True\n",
    "    else:\n",
    "        print(\"It does not match\")\n",
    "        a=False\n",
    "    return(a)"
   ]
  },
  {
   "cell_type": "code",
   "execution_count": 36,
   "id": "209be5e3-bccc-4599-a344-96399df6b7b3",
   "metadata": {
    "tags": []
   },
   "outputs": [
    {
     "name": "stdout",
     "output_type": "stream",
     "text": [
      "fonction: get_actual_password( admin@gmail.com )\n",
      "strikepwd: b'$2b$12$AGz6.7wtEc7OYqrdK3eCnOm/8PyUWGGm8Ho.XtEEYNSJczdt0C8l.'\n",
      "MemberID: 5\n",
      "User Alias: superadmin\n",
      "User Name: admin\n",
      "User First Name: admin\n",
      "User Email: admin@gmail.com\n",
      "Member First Connection: False\n",
      "Member Last Update: 2023-08-03 13:36:20\n",
      "Member Password: b'$2b$12$u1tmNvRGoGfjit/NzFJZbOYVP2Oyisx3YQ0LfiOlsWO8FSj2eCJ8u'\n",
      "It matches\n"
     ]
    }
   ],
   "source": [
    "#get_actual_password('admin@gmail.com','aaaaaaaa')"
   ]
  },
  {
   "cell_type": "code",
   "execution_count": 19,
   "id": "8636492b-f20b-4a1f-bea8-aab8ab82de4a",
   "metadata": {},
   "outputs": [
    {
     "name": "stdout",
     "output_type": "stream",
     "text": [
      "__main__ imported\n"
     ]
    }
   ],
   "source": [
    "print(os.getcwd(),__name__,'imported')"
   ]
  },
  {
   "cell_type": "code",
   "execution_count": null,
   "id": "e2e8cccd-fd4a-4c2b-8e9d-b5bc1b5b9622",
   "metadata": {},
   "outputs": [],
   "source": []
  }
 ],
 "metadata": {
  "kernelspec": {
   "display_name": "Python 3 (ipykernel)",
   "language": "python",
   "name": "python3"
  },
  "language_info": {
   "codemirror_mode": {
    "name": "ipython",
    "version": 3
   },
   "file_extension": ".py",
   "mimetype": "text/x-python",
   "name": "python",
   "nbconvert_exporter": "python",
   "pygments_lexer": "ipython3",
   "version": "3.10.7"
  }
 },
 "nbformat": 4,
 "nbformat_minor": 5
}
