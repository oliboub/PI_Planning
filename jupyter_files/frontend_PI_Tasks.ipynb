{
 "cells": [
  {
   "cell_type": "markdown",
   "id": "da77d076-7a62-4c34-8fd4-fc08e79549a4",
   "metadata": {},
   "source": [
    "# Sprint Tasks management"
   ]
  },
  {
   "cell_type": "markdown",
   "id": "510278b4-0c36-4880-8c92-bfaf701db79b",
   "metadata": {},
   "source": [
    "## Prerequisites"
   ]
  },
  {
   "cell_type": "code",
   "execution_count": 1,
   "id": "8074bc13-fc52-4bb2-8416-787c18dc0e53",
   "metadata": {
    "tags": []
   },
   "outputs": [
    {
     "name": "stdout",
     "output_type": "stream",
     "text": [
      "/media/olivier/Donnees/Documents/Formations/Perso/PI_Planning/jupyter_files global_variables imported\n",
      "/media/olivier/Donnees/Documents/Formations/Perso/PI_Planning/jupyter_files backend_PI_Utils imported\n",
      "/media/olivier/Donnees/Documents/Formations/Perso/PI_Planning/jupyter_files backend_PI_mongo_model imported\n",
      "/media/olivier/Donnees/Documents/Formations/Perso/PI_Planning/jupyter_files backend_PI_Members imported\n",
      "/media/olivier/Donnees/Documents/Formations/Perso/PI_Planning/jupyter_files backend_PI_Projects imported\n",
      "/media/olivier/Donnees/Documents/Formations/Perso/PI_Planning/jupyter_files backend_PI_Roles imported\n",
      "/media/olivier/Donnees/Documents/Formations/Perso/PI_Planning/jupyter_files backend_PI_Tasks imported\n",
      "/media/olivier/Donnees/Documents/Formations/Perso/PI_Planning/jupyter_files backend_PI_Teams imported\n"
     ]
    }
   ],
   "source": [
    "import os\n",
    "import time\n",
    "import bcrypt\n",
    "from datetime import datetime\n",
    "import PySimpleGUI as sg\n",
    "import global_variables as g\n",
    "g.init()\n",
    "#time.sleep(1)\n",
    "from backend_PI_Utils import * # Import tout ce qui est spécifique au projet\n",
    "from backend_PI_mongo_model import * # Import tout ce qui est spécifique au projet\n",
    "time.sleep(1)\n",
    "from backend_PI_Members import * # Import tout ce qui est spécifique au projet\n",
    "from backend_PI_Projects import * # Import tout ce qui est spécifique au projet\n",
    "from backend_PI_Roles import * # Import tout ce qui est spécifique au projet\n",
    "from backend_PI_Tasks import * # Import tout ce qui est spécifique au projet\n",
    "from backend_PI_Teams import * # Import tout ce qui est spécifique au projet"
   ]
  },
  {
   "cell_type": "code",
   "execution_count": 2,
   "id": "e2815ce6-6ce7-410e-b86c-a780d9c700af",
   "metadata": {},
   "outputs": [
    {
     "name": "stdout",
     "output_type": "stream",
     "text": [
      "/media/olivier/Donnees/Documents/Formations/Perso/PI_Planning/jupyter_files frontend_PI_Utils imported\n"
     ]
    }
   ],
   "source": [
    "from frontend_PI_Utils import *"
   ]
  },
  {
   "cell_type": "code",
   "execution_count": 3,
   "id": "c6321860-7401-4017-9bd9-f6a87cbd082d",
   "metadata": {},
   "outputs": [
    {
     "data": {
      "text/plain": [
       "MongoClient(host=['localhost:27017'], document_class=dict, tz_aware=False, connect=True, read_preference=Primary())"
      ]
     },
     "execution_count": 3,
     "metadata": {},
     "output_type": "execute_result"
    }
   ],
   "source": [
    "connect('PIPlanning')"
   ]
  },
  {
   "cell_type": "markdown",
   "id": "cfa12026-c7b7-46fe-af4e-9efd385f8be7",
   "metadata": {
    "tags": []
   },
   "source": [
    "------\n",
    "## Create Task"
   ]
  },
  {
   "cell_type": "code",
   "execution_count": 12,
   "id": "559c7bc9-32bb-4521-a0f2-0faedf3f8785",
   "metadata": {},
   "outputs": [],
   "source": [
    "def create_task_gui(memberid,projectid=None,familyid=4,info='Info'):\n",
    "    if g.DEBUG_OL >= 1:    \n",
    "        print('fonction: create_task_gui(',memberid,info,')')\n",
    " \n",
    "    sg.set_options(element_padding=(5, 10))\n",
    "\n",
    "    projects_list=list_projects()\n",
    "    comboproj = []\n",
    "    for project in projects_list:\n",
    "        comboproj.append(project.ProjectName)\n",
    "    if g.DEBUG_OL >= 1: \n",
    "        print(comboproj)\n",
    "    \n",
    "    team=[]\n",
    "    combomembers=[]\n",
    "    \n",
    "    info_layout = [sg.T(info,font='Calibri 11',justification=\"left\")]\n",
    " \n",
    "    left_layout = [\n",
    "        [sg.T('Project Selection', size=(20, 1),font='Calibri 11'), sg.Combo(comboproj,key='-PROJ-',enable_events=True,size=(20, 1),font='Calibri 11')],\n",
    "        [sg.T('Team Name', size=(20, 1),key='-TXTTEAM-',font='Calibri 11',visible=False), sg.Combo(team,key='-TEAM-',enable_events=True,visible=False,size=(20, 1),font='Calibri 11')],\n",
    "    ]\n",
    "    \n",
    "    bottom_layout=[[sg.T('Task Name',key='-TNAME-',size=(15,1),font='Calibri 11',visible=False),\n",
    "                    sg.I(\"\",key='-TNAMEI-',visible=False,size=(20,1))],\n",
    "                  [sg.T('Task Member',key='-TMEMBER-',size=(15,1),font='Calibri 11',visible=False),\n",
    "                   sg.Combo(combomembers,key='-TMEMBERI-',enable_events=True,size=(20, 1),font='Calibri 11',visible=False)]\n",
    "                  ]\n",
    "    \n",
    "#    layout = [info_layout,[sg.Frame(\"Select perimeter\", left_layout, vertical_alignment='top', pad=((10, 10), (10, 10)))],\n",
    "#            [sg.B('Add', enable_events=True), sg.Cancel()]]\n",
    "             \n",
    "    layout = [info_layout,[sg.Frame(\"Select perimeter\", left_layout, vertical_alignment='top', pad=((10, 10), (10, 10)))],\n",
    "              [sg.Frame(\"Task\", bottom_layout,key='-TASKS-', vertical_alignment='top',pad=((10, 10), (10, 10)),visible=False)],\n",
    "              [sg.B('Add', enable_events=True), sg.Cancel()]]\n",
    "        \n",
    "    window = MyWindow('Create task', layout,finalize=True)\n",
    "    window.my_move_to_center()\n",
    "    \n",
    "    while True:\n",
    "        event, values = window.read()\n",
    "        if g.DEBUG_OL >= 1:\n",
    "            print(event,values)\n",
    "        \n",
    "        if event == sg.WIN_CLOSED or event == 'Cancel':\n",
    "#            print(event)\n",
    "            window.close()\n",
    "            break\n",
    " \n",
    "        elif '-PROJ-' in event:\n",
    "            if g.DEBUG_OL >= 1: \n",
    "                print(values['-PROJ-'])\n",
    "            project=values['-PROJ-']\n",
    "            teams_list = []\n",
    "            teams=[]\n",
    "            teams_list=list_teams(project)\n",
    "            for i in range(len(teams_list)):\n",
    "#                print(teams_list[i][1])\n",
    "                teams.append(teams_list[i][1])\n",
    "            print(teams)\n",
    "            window['-TXTTEAM-'].update(visible=True)\n",
    "            window['-TEAM-'].update(values=teams,visible=True)\n",
    "            \n",
    "\n",
    "              \n",
    "        elif '-TEAM-' in event:\n",
    "            team=values['-TEAM-']\n",
    "            if g.DEBUG_OL >= 1: \n",
    "                print(team)\n",
    "\n",
    "            tasks_lists=list_tasks(project,team,'All','All')\n",
    "            \n",
    "            combomembers=query_members_by_team(team)\n",
    "            print(combomembers)\n",
    "            \n",
    "            titre='Lists of tasks for project: '+project+' and team:'+team\n",
    "            window['-TASKS-'].update(value=titre,visible=True)\n",
    "            window['-TNAME-'].update(visible=True)\n",
    "            window['-TNAMEI-'].update(visible=True)\n",
    "            window['-TMEMBER-'].update(visible=True)\n",
    "            window['-TMEMBERI-'].update(values=combomembers,visible=True)\n",
    "            \n",
    "        elif event == 'Add':\n",
    "            print(event,values)\n",
    "            pass"
   ]
  },
  {
   "cell_type": "code",
   "execution_count": 13,
   "id": "c19f0792-0d43-4fd8-a2cf-1e3c80e93846",
   "metadata": {
    "tags": []
   },
   "outputs": [
    {
     "name": "stdout",
     "output_type": "stream",
     "text": [
      "fonction: create_task_gui( 1 Creation d'une tache dans un project et affectée à une équipe )\n",
      "--- function: list_projects( None )\n",
      "['PIPlanning', 'Titi', 'Toto', 'Tata', 'Tutu']\n",
      "-PROJ- {'-PROJ-': 'Titi', '-TEAM-': '', '-TNAMEI-': '', '-TMEMBERI-': ''}\n",
      "Titi\n",
      "--- function: list_teams( Titi )\n",
      "['Titi', 'Titi', 'Titi']\n",
      "Cancel {'-PROJ-': 'Titi', '-TEAM-': '', '-TNAMEI-': '', '-TMEMBERI-': ''}\n"
     ]
    }
   ],
   "source": [
    "#memberid=1\n",
    "#create_task_gui(memberid,\"Creation d'une tache dans un project et affectée à une équipe\")"
   ]
  },
  {
   "cell_type": "markdown",
   "id": "c5e785d7-30ca-428a-8eb3-6196b54e1d40",
   "metadata": {},
   "source": [
    "## List All Tasks"
   ]
  },
  {
   "cell_type": "code",
   "execution_count": null,
   "id": "bac4b6c4-cd18-4b1f-9cac-dcfc563ad289",
   "metadata": {},
   "outputs": [],
   "source": [
    "def list_all_tasks_gui(memberid,page,teams,info='info'):\n",
    "    if g.DEBUG_OL >= 1:    \n",
    "        print('fonction: list_all_tasks_gui(',memberid,info,')')\n",
    "\n",
    "    sg.set_options(element_padding=(5, 5))\n",
    "#\n"
   ]
  },
  {
   "cell_type": "code",
   "execution_count": null,
   "id": "0454c126-d6ec-4232-b1f1-f7bbde51a0fc",
   "metadata": {},
   "outputs": [],
   "source": [
    "if g.DEBUG_OL >= 1:\n",
    "    print(os.getcwd(),__name__,'imported')"
   ]
  }
 ],
 "metadata": {
  "kernelspec": {
   "display_name": "Python 3 (ipykernel)",
   "language": "python",
   "name": "python3"
  },
  "language_info": {
   "codemirror_mode": {
    "name": "ipython",
    "version": 3
   },
   "file_extension": ".py",
   "mimetype": "text/x-python",
   "name": "python",
   "nbconvert_exporter": "python",
   "pygments_lexer": "ipython3",
   "version": "3.10.7"
  }
 },
 "nbformat": 4,
 "nbformat_minor": 5
}
