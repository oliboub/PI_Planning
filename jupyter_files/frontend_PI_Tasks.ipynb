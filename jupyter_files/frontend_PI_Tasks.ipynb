{
 "cells": [
  {
   "cell_type": "markdown",
   "id": "da77d076-7a62-4c34-8fd4-fc08e79549a4",
   "metadata": {},
   "source": [
    "# Sprint Tasks management"
   ]
  },
  {
   "cell_type": "markdown",
   "id": "510278b4-0c36-4880-8c92-bfaf701db79b",
   "metadata": {},
   "source": [
    "## Prerequisites"
   ]
  },
  {
   "cell_type": "code",
   "execution_count": 1,
   "id": "875606f3-7d21-4e8e-91bc-a4d1433ec8df",
   "metadata": {
    "tags": []
   },
   "outputs": [
    {
     "name": "stdout",
     "output_type": "stream",
     "text": [
      "backend_PI_mongo_model imported\n",
      "backend_PI_Utils imported\n",
      "backend_PI_Projects imported\n",
      "backend_PI_Teams imported\n",
      "fonction: query_member_team_project( oliboub )\n",
      "fonction: query_members_by_team( All )\n",
      "['Boubert', 'TVV', 'Tartuffe']\n",
      "fonction: query_member( oliboub )\n",
      "Boubert\n",
      "backend_PI_Members imported\n",
      "frontend_PI_Utils imported\n",
      "frontend_PI_Teams imported\n",
      "frontend_PI_Projects imported\n",
      "frontend_PI_Users imported\n",
      "frontend_PI_Members imported\n"
     ]
    },
    {
     "data": {
      "text/plain": [
       "MongoClient(host=['localhost:27017'], document_class=dict, tz_aware=False, connect=True, read_preference=Primary())"
      ]
     },
     "execution_count": 1,
     "metadata": {},
     "output_type": "execute_result"
    }
   ],
   "source": [
    "import PySimpleGUI as sg\n",
    "from backend_PI import * # Import tout ce qui est spécifique au projet\n",
    "from frontend_PI import *\n",
    "\n",
    "connect('PIPlanning')"
   ]
  },
  {
   "cell_type": "markdown",
   "id": "cfa12026-c7b7-46fe-af4e-9efd385f8be7",
   "metadata": {
    "tags": []
   },
   "source": [
    "------\n",
    "## Create Tasks"
   ]
  },
  {
   "cell_type": "code",
   "execution_count": 27,
   "id": "559c7bc9-32bb-4521-a0f2-0faedf3f8785",
   "metadata": {},
   "outputs": [],
   "source": [
    "def create_task_gui(info='Info'):\n",
    "    sg.set_options(element_padding=(5, 10))\n",
    "\n",
    "    projects_list=list_projects()\n",
    "    comboproj = []\n",
    "    for project in projects_list:\n",
    "        comboproj.append(project.ProjectName)\n",
    "    print(comboproj)\n",
    "    \n",
    "    team=[]\n",
    "    combomembers=[]\n",
    "    \n",
    "    info_layout = [sg.T(info,font='Calibri 11',justification=\"left\")]\n",
    " \n",
    "    left_layout = [\n",
    "        [sg.T('Project Selection', size=(20, 1),font='Calibri 11'), sg.Combo(comboproj,key='-PROJ-',enable_events=True,size=(20, 1),font='Calibri 11')],\n",
    "        [sg.T('Team Name', size=(20, 1),key='-TXTTEAM-',font='Calibri 11',visible=False), sg.Combo(team,key='-TEAM-',enable_events=True,visible=False,size=(20, 1),font='Calibri 11')],\n",
    "    ]\n",
    "    \n",
    "    bottom_layout=[[sg.T('Task Name',key='-TNAME-',size=(15,1),font='Calibri 11',visible=False),\n",
    "                    sg.I(\"\",key='-TNAMEI-',visible=False,size=(20,1))],\n",
    "                  [sg.T('Task Member',key='-TMEMBER-',size=(15,1),font='Calibri 11',visible=False),\n",
    "                   sg.Combo(combomembers,key='-TMEMBERI-',enable_events=True,size=(20, 1),font='Calibri 11',visible=False)]\n",
    "                  ]\n",
    "    \n",
    "#    layout = [info_layout,[sg.Frame(\"Select perimeter\", left_layout, vertical_alignment='top', pad=((10, 10), (10, 10)))],\n",
    "#            [sg.B('Add', enable_events=True), sg.Cancel()]]\n",
    "             \n",
    "    layout = [info_layout,[sg.Frame(\"Select perimeter\", left_layout, vertical_alignment='top', pad=((10, 10), (10, 10)))],\n",
    "              [sg.Frame(\"Task\", bottom_layout,key='-TASKS-', vertical_alignment='top',pad=((10, 10), (10, 10)),visible=False)],\n",
    "              [sg.B('Add', enable_events=True), sg.Cancel()]]\n",
    "        \n",
    "    window = MyWindow('Create task', layout,finalize=True)\n",
    "    window.my_move_to_center()\n",
    "    \n",
    "    while True:\n",
    "        event, values = window.read()\n",
    "#        print(event,values)\n",
    "        \n",
    "        if event == sg.WIN_CLOSED or event == 'Cancel':\n",
    "#            print(event)\n",
    "            window.close()\n",
    "            break\n",
    " \n",
    "        elif '-PROJ-' in event:\n",
    "#           print(values['-PROJ-'])\n",
    "            project=values['-PROJ-']\n",
    "            list_teams = []\n",
    "            teams_list=list_teams_by_project(project)\n",
    "            for i in range(len(teams_list)):\n",
    "#                print(teams_list[i][1])\n",
    "                list_teams.append(teams_list[i][1])\n",
    "            print(list_teams)\n",
    "            window['-TXTTEAM-'].update(visible=True)\n",
    "            window['-TEAM-'].update(values=list_teams,visible=True)\n",
    "            \n",
    "\n",
    "              \n",
    "        elif '-TEAM-' in event:\n",
    "            team=values['-TEAM-']\n",
    "            print(team)\n",
    "\n",
    "            tasks_lists=list_tasks(project,team,'All','All')\n",
    "            \n",
    "            combomembers=query_members_by_team(team)\n",
    "            print(combomembers)\n",
    "            \n",
    "            titre='Lists of tasks for project: '+project+' and team:'+team\n",
    "            window['-TASKS-'].update(value=titre,visible=True)\n",
    "            window['-TNAME-'].update(visible=True)\n",
    "            window['-TNAMEI-'].update(visible=True)\n",
    "            window['-TMEMBER-'].update(visible=True)\n",
    "            window['-TMEMBERI-'].update(values=combomembers,visible=True)\n",
    "            \n",
    "        elif event == 'Add':\n",
    "            print(event,values)\n",
    "            pass"
   ]
  },
  {
   "cell_type": "code",
   "execution_count": 28,
   "id": "c19f0792-0d43-4fd8-a2cf-1e3c80e93846",
   "metadata": {
    "tags": []
   },
   "outputs": [
    {
     "name": "stdout",
     "output_type": "stream",
     "text": [
      "fonction: list_projects()\n",
      "['PIPlanning', 'titi', 'toto']\n",
      "fonction: list_teams_all\n",
      "['PI', 'Sprinters', 'tintin', 'Super Star']\n",
      "PI\n",
      "fonction: list_tasks( PIPlanning PI All All )\n",
      "['PIPlanning', 'PI', 1, 1, 'oliboub', \"Création d'une collection de logs d'activité\", 0.6, 0.0, 'Not plan', 'General activity']\n",
      "[\"use case: en cas d'audit et de besoin d'analyse, nous devons etre capable de donner toutes les logs d'acivités à un data scientist\", datetime.datetime(2023, 2, 24, 11, 33, 40)]\n",
      "['On essaye de penser data science as concept', datetime.datetime(2023, 2, 24, 11, 33, 40)]\n",
      "\n",
      "----\n",
      "\n",
      "['PIPlanning', 'PI', 2, 2, 'oliboub', 'Chanter sous la pluie', 0.9, 0.0, 'Plan', 'Projects activity']\n",
      "['Il ne faut pas faire attendre le mammouth', datetime.datetime(2023, 2, 24, 16, 59, 35)]\n",
      "\n",
      "----\n",
      "\n",
      "['PIPlanning', 'PI', 5, 2, 'oliboub', \"s'assurer que les creation prenne en compte les dates\", 1.5, 0.0, 'Plan', 'Projects activity']\n",
      "\n",
      "----\n",
      "\n",
      "['PIPlanning', 'PI', 1, 1, 'MacFly', 'faire le menu pour affichage des tasks', 2.3, 0.0, 'Plan', 'Members activity']\n",
      "\n",
      "----\n",
      "\n",
      "['PIPlanning', 'PI', None, None, 'MacFly', \"essayer d'avancer sur les taches\", 2.3, 0.0, 'Not plan', 'General activity']\n",
      "\n",
      "----\n",
      "\n",
      "['PIPlanning', 'PI', 2, 2, 'oliboub', 'Faire un menu différent pour les admins', 0.9, 0.0, 'Plan', 'Projects activity']\n",
      "\n",
      "----\n",
      "\n",
      "['PIPlanning', 'PI', 5, 2, 'oliboub', \"d'office pas trop top\", 1.5, 0.0, 'Plan', 'Projects activity']\n",
      "[\"Thanks to describe your task please'\", datetime.datetime(2023, 2, 24, 16, 19, 53)]\n",
      "[\"** et encore, je ne t'ai pas tout dit\", datetime.datetime(2023, 2, 24, 16, 37, 16)]\n",
      "\n",
      "----\n",
      "\n",
      "fonction: query_members_by_team( PI )\n",
      "Teams object\n",
      "[<LinkMemberTeam: LinkMemberTeam object>, <LinkMemberTeam: LinkMemberTeam object>]\n",
      "['Boubert', 'TVV']\n",
      "['Boubert', 'TVV']\n",
      "Add {'-PROJ-': 'PIPlanning', '-TEAM-': 'PI', '-TNAMEI-': 'toto', '-TMEMBERI-': 'Boubert'}\n"
     ]
    }
   ],
   "source": [
    "#create_task_gui(\"Creation d'une tache dans un project et affectée à une équipe\")"
   ]
  },
  {
   "cell_type": "markdown",
   "id": "c5e785d7-30ca-428a-8eb3-6196b54e1d40",
   "metadata": {},
   "source": [
    "## List All Tasks"
   ]
  },
  {
   "cell_type": "code",
   "execution_count": null,
   "id": "bac4b6c4-cd18-4b1f-9cac-dcfc563ad289",
   "metadata": {},
   "outputs": [],
   "source": [
    "def list_all_teams_gui(page,teams,info='info'):\n",
    "#    global page\n",
    "    sg.set_options(element_padding=(5, 5))\n",
    "#    list_teams=list_teams_all()\n",
    "    layout = [[sg.T(info,font='Calibri 11',justification=\"left\")],\n",
    "              [sg.T('Team Name',font='Calibri 11', size=(20, 1)),\n",
    "               sg.T('Team Description',font='Calibri 11', size=(30, 1)),\n",
    "               sg.T('Associated Project',font='Calibri 11', size=(20, 1)),\n",
    "               sg.T('Team Logo',font='Calibri 11')]]\n",
    "    idx=0\n",
    "    for team in teams.items:\n",
    "        print(team.TeamID,team.ProjectID)\n",
    "        projectname = Projects.objects(ProjectID=team.ProjectID).first()\n",
    "        if projectname is None:\n",
    "            projectname='Non allocated'\n",
    "        project=projectname.ProjectName\n",
    "                \n",
    "#        print(team.TeamLogo)\n",
    "        if team.TeamLogo != None:\n",
    "            photo=team.TeamLogo\n",
    "        else:\n",
    "            photo ='imagesDB/ilovemycompany.jpeg'\n",
    "#        print(TeamPhoto)\n",
    "\n",
    "        row = [sg.I(team.TeamName,disabled=True,font='Calibri 11', size=(20,1)),\n",
    "               sg.I(team.TeamDescription,disabled=True, font='Calibri 11',size=(30,1)),\n",
    "               sg.I(project,disabled=True, font='Calibri 11',size=(20,1)),\n",
    "               sg.Image(key='-PHOTO-', data=convert_to_bytes(photo, resize=(75, 75)))],\n",
    "        layout.append(row)\n",
    "        idx+=1\n",
    "        \n",
    "    pagination = [[sg.B('<<', disabled=not teams.has_prev),\n",
    "                   sg.B(\"<\", disabled=not teams.has_prev),\n",
    "                   sg.T(text=page, key='-PAGE-', size=(2, 1)),\n",
    "                   sg.B(\">\", disabled=not teams.has_next),\n",
    "                   sg.B(\">>\", disabled=not teams.has_next)\n",
    "                   ]]\n",
    "    layout += [[sg.Col(pagination, justification='right')]]\n",
    "    layout += [[sg.B('Return')]]\n",
    "               \n",
    "    window = MyWindow('List of Teams', layout,keep_on_top=True, element_justification = 'center',finalize=True)\n",
    "    window.my_move_to_center()\n",
    "    \n",
    "    while True:\n",
    "        event1, values1 = window.read()\n",
    "        print(event1,values1)\n",
    "        if event1 == sg.WIN_CLOSED or event1 == 'Return':\n",
    "#            print('event1',event1)\n",
    "            window.close()\n",
    "            return(None)\n",
    "            break  \n",
    "        elif event1 == \">\":\n",
    "            if teams.has_next:\n",
    "                page += 1\n",
    "                window.close()\n",
    "                teams = list_teams_page(page)\n",
    "                list_all_teams_gui(page,teams,'ceci est l\"info de base')\n",
    "        elif event1 == \"<\":\n",
    "            if teams.has_prev:\n",
    "                page -= 1\n",
    "                window.close()\n",
    "                teams = list_teams_page(page)\n",
    "                list_all_teams_gui(page,teams,'ceci est l\"info de base')\n",
    "        elif event1 == \"<<\":\n",
    "            if teams.has_prev:\n",
    "                page = 1\n",
    "                window.close()\n",
    "                teams = list_teams_page(page)\n",
    "                list_all_teams_gui(page,teams,'ceci est l\"info de base')\n",
    "        elif event1 == \">>\":\n",
    "            if teams.has_next:\n",
    "                page = teams.pages\n",
    "                window.close()\n",
    "                teams = list_teams_page(page)\n",
    "                list_all_teams_gui(page,teams,'ceci est l\"info de base')\n"
   ]
  },
  {
   "cell_type": "markdown",
   "id": "e588ff69-13f2-49f4-a2ce-406b36a59191",
   "metadata": {},
   "source": [
    "## Select teams by Project"
   ]
  },
  {
   "cell_type": "code",
   "execution_count": null,
   "id": "0486714d-cb91-4a8f-acd0-9b795f52fad9",
   "metadata": {},
   "outputs": [],
   "source": [
    "def select_project_gui(info='info'):\n",
    "    projects_list=list_projects()\n",
    "    \n",
    "    comboproj = []\n",
    "    for project in projects_list:\n",
    "        comboproj.append(project.ProjectName)\n",
    "    print(comboproj)\n",
    "        \n",
    "    layout = [\n",
    "        [sg.T(info,font='Calibri 11',justification=\"left\")],\n",
    "        [sg.T('Project Selection', size=(20, 1),font='Calibri 11'), sg.Combo(comboproj,key='-PROJECT-',size=(20, 1),font='Calibri 11')],\n",
    "        [sg.Ok(), sg.Cancel()]\n",
    "    ]\n",
    "    window = MyWindow('Select Project', layout,finalize=True)\n",
    "    window.my_move_to_center()\n",
    "\n",
    "    while True:\n",
    "        event, values = window.read()\n",
    "        if event == sg.WIN_CLOSED or event == 'Cancel':\n",
    "            window.close()\n",
    "            break\n",
    "        elif event == 'Ok':\n",
    "            projectname=values['-PROJECT-']\n",
    "            projects = Projects.objects(ProjectName=projectname).first()\n",
    "            projectid=projects.ProjectID\n",
    "            \n",
    "#            print(__name__,projectname,projectid,'\\n----------\\n')\n",
    "            window.close()\n",
    "\n",
    "            return(projectid,projectname)"
   ]
  },
  {
   "cell_type": "markdown",
   "id": "1f8bfbd9-ff54-4f13-a594-49604d4f0540",
   "metadata": {
    "tags": []
   },
   "source": [
    "page = 1\n",
    "projectid=None\n",
    "projectid,projectname=select_project_gui() # a lan cer pour chercher les equipes d'un projet\n",
    "\n",
    "print(__name__,projectid,projectname)\n",
    "print(__name__,'projectname:',projectname)\n",
    "teams=list_teams_page(1,projectid)\n",
    "for a in teams.items:\n",
    "    print(a.TeamName,'\\t',a.TeamDescription,'\\t',a.TeamLogo,'\\t',a.ProjectID)\n",
    "if projectid == None:\n",
    "    info='Liste de toutes les equipes'\n",
    "else:\n",
    "    info='Liste de toutes les equipes du projet '+ projectname\n",
    "list_all_teams_gui(page,teams,info)"
   ]
  },
  {
   "cell_type": "code",
   "execution_count": null,
   "id": "0454c126-d6ec-4232-b1f1-f7bbde51a0fc",
   "metadata": {},
   "outputs": [],
   "source": [
    "print(__name__,'imported')"
   ]
  }
 ],
 "metadata": {
  "kernelspec": {
   "display_name": "Python 3 (ipykernel)",
   "language": "python",
   "name": "python3"
  },
  "language_info": {
   "codemirror_mode": {
    "name": "ipython",
    "version": 3
   },
   "file_extension": ".py",
   "mimetype": "text/x-python",
   "name": "python",
   "nbconvert_exporter": "python",
   "pygments_lexer": "ipython3",
   "version": "3.10.7"
  }
 },
 "nbformat": 4,
 "nbformat_minor": 5
}
