{
 "cells": [
  {
   "cell_type": "markdown",
   "id": "da77d076-7a62-4c34-8fd4-fc08e79549a4",
   "metadata": {},
   "source": [
    "# Sprint Tasks management"
   ]
  },
  {
   "cell_type": "markdown",
   "id": "510278b4-0c36-4880-8c92-bfaf701db79b",
   "metadata": {},
   "source": [
    "## Prerequisites"
   ]
  },
  {
   "cell_type": "code",
   "execution_count": null,
   "id": "8074bc13-fc52-4bb2-8416-787c18dc0e53",
   "metadata": {
    "tags": []
   },
   "outputs": [],
   "source": [
    "import os\n",
    "import time\n",
    "import bcrypt\n",
    "from datetime import datetime\n",
    "import PySimpleGUI as sg\n",
    "import global_variables as g\n",
    "g.init()\n",
    "#time.sleep(1)\n",
    "from backend_PI_Utils import * # Import tout ce qui est spécifique au projet\n",
    "from backend_PI_mongo_model import * # Import tout ce qui est spécifique au projet\n",
    "time.sleep(1)\n",
    "from backend_PI_Members import * # Import tout ce qui est spécifique au projet\n",
    "from backend_PI_Projects import * # Import tout ce qui est spécifique au projet\n",
    "from backend_PI_Roles import * # Import tout ce qui est spécifique au projet\n",
    "from backend_PI_Tasks import * # Import tout ce qui est spécifique au projet\n",
    "from backend_PI_Teams import * # Import tout ce qui est spécifique au projet"
   ]
  },
  {
   "cell_type": "code",
   "execution_count": null,
   "id": "e2815ce6-6ce7-410e-b86c-a780d9c700af",
   "metadata": {},
   "outputs": [],
   "source": [
    "from frontend_PI_Utils import *"
   ]
  },
  {
   "cell_type": "code",
   "execution_count": null,
   "id": "c6321860-7401-4017-9bd9-f6a87cbd082d",
   "metadata": {},
   "outputs": [],
   "source": [
    "connect('PIPlanning')"
   ]
  },
  {
   "cell_type": "markdown",
   "id": "cfa12026-c7b7-46fe-af4e-9efd385f8be7",
   "metadata": {
    "tags": []
   },
   "source": [
    "------\n",
    "## Create Tasks"
   ]
  },
  {
   "cell_type": "code",
   "execution_count": null,
   "id": "559c7bc9-32bb-4521-a0f2-0faedf3f8785",
   "metadata": {},
   "outputs": [],
   "source": [
    "def create_task_gui(info='Info'):\n",
    "    sg.set_options(element_padding=(5, 10))\n",
    "\n",
    "    projects_list=list_projects()\n",
    "    comboproj = []\n",
    "    for project in projects_list:\n",
    "        comboproj.append(project.ProjectName)\n",
    "    print(comboproj)\n",
    "    \n",
    "    team=[]\n",
    "    combomembers=[]\n",
    "    \n",
    "    info_layout = [sg.T(info,font='Calibri 11',justification=\"left\")]\n",
    " \n",
    "    left_layout = [\n",
    "        [sg.T('Project Selection', size=(20, 1),font='Calibri 11'), sg.Combo(comboproj,key='-PROJ-',enable_events=True,size=(20, 1),font='Calibri 11')],\n",
    "        [sg.T('Team Name', size=(20, 1),key='-TXTTEAM-',font='Calibri 11',visible=False), sg.Combo(team,key='-TEAM-',enable_events=True,visible=False,size=(20, 1),font='Calibri 11')],\n",
    "    ]\n",
    "    \n",
    "    bottom_layout=[[sg.T('Task Name',key='-TNAME-',size=(15,1),font='Calibri 11',visible=False),\n",
    "                    sg.I(\"\",key='-TNAMEI-',visible=False,size=(20,1))],\n",
    "                  [sg.T('Task Member',key='-TMEMBER-',size=(15,1),font='Calibri 11',visible=False),\n",
    "                   sg.Combo(combomembers,key='-TMEMBERI-',enable_events=True,size=(20, 1),font='Calibri 11',visible=False)]\n",
    "                  ]\n",
    "    \n",
    "#    layout = [info_layout,[sg.Frame(\"Select perimeter\", left_layout, vertical_alignment='top', pad=((10, 10), (10, 10)))],\n",
    "#            [sg.B('Add', enable_events=True), sg.Cancel()]]\n",
    "             \n",
    "    layout = [info_layout,[sg.Frame(\"Select perimeter\", left_layout, vertical_alignment='top', pad=((10, 10), (10, 10)))],\n",
    "              [sg.Frame(\"Task\", bottom_layout,key='-TASKS-', vertical_alignment='top',pad=((10, 10), (10, 10)),visible=False)],\n",
    "              [sg.B('Add', enable_events=True), sg.Cancel()]]\n",
    "        \n",
    "    window = MyWindow('Create task', layout,finalize=True)\n",
    "    window.my_move_to_center()\n",
    "    \n",
    "    while True:\n",
    "        event, values = window.read()\n",
    "#        print(event,values)\n",
    "        \n",
    "        if event == sg.WIN_CLOSED or event == 'Cancel':\n",
    "#            print(event)\n",
    "            window.close()\n",
    "            break\n",
    " \n",
    "        elif '-PROJ-' in event:\n",
    "#           print(values['-PROJ-'])\n",
    "            project=values['-PROJ-']\n",
    "            list_teams = []\n",
    "            teams_list=list_teams_by_project(project)\n",
    "            for i in range(len(teams_list)):\n",
    "#                print(teams_list[i][1])\n",
    "                list_teams.append(teams_list[i][1])\n",
    "            print(list_teams)\n",
    "            window['-TXTTEAM-'].update(visible=True)\n",
    "            window['-TEAM-'].update(values=list_teams,visible=True)\n",
    "            \n",
    "\n",
    "              \n",
    "        elif '-TEAM-' in event:\n",
    "            team=values['-TEAM-']\n",
    "            print(team)\n",
    "\n",
    "            tasks_lists=list_tasks(project,team,'All','All')\n",
    "            \n",
    "            combomembers=query_members_by_team(team)\n",
    "            print(combomembers)\n",
    "            \n",
    "            titre='Lists of tasks for project: '+project+' and team:'+team\n",
    "            window['-TASKS-'].update(value=titre,visible=True)\n",
    "            window['-TNAME-'].update(visible=True)\n",
    "            window['-TNAMEI-'].update(visible=True)\n",
    "            window['-TMEMBER-'].update(visible=True)\n",
    "            window['-TMEMBERI-'].update(values=combomembers,visible=True)\n",
    "            \n",
    "        elif event == 'Add':\n",
    "            print(event,values)\n",
    "            pass"
   ]
  },
  {
   "cell_type": "code",
   "execution_count": null,
   "id": "c19f0792-0d43-4fd8-a2cf-1e3c80e93846",
   "metadata": {
    "tags": []
   },
   "outputs": [],
   "source": [
    "#create_task_gui(\"Creation d'une tache dans un project et affectée à une équipe\")"
   ]
  },
  {
   "cell_type": "markdown",
   "id": "c5e785d7-30ca-428a-8eb3-6196b54e1d40",
   "metadata": {},
   "source": [
    "## List All Tasks"
   ]
  },
  {
   "cell_type": "code",
   "execution_count": null,
   "id": "bac4b6c4-cd18-4b1f-9cac-dcfc563ad289",
   "metadata": {},
   "outputs": [],
   "source": [
    "def list_all_teams_gui(page,teams,info='info'):\n",
    "#    global page\n",
    "    sg.set_options(element_padding=(5, 5))\n",
    "#    list_teams=list_teams_all()\n",
    "    layout = [[sg.T(info,font='Calibri 11',justification=\"left\")],\n",
    "              [sg.T('Team Name',font='Calibri 11', size=(20, 1)),\n",
    "               sg.T('Team Description',font='Calibri 11', size=(30, 1)),\n",
    "               sg.T('Associated Project',font='Calibri 11', size=(20, 1)),\n",
    "               sg.T('Team Logo',font='Calibri 11')]]\n",
    "    idx=0\n",
    "    for team in teams.items:\n",
    "        print(team.TeamID,team.ProjectID)\n",
    "        projectname = Projects.objects(ProjectID=team.ProjectID).first()\n",
    "        if projectname is None:\n",
    "            projectname='Non allocated'\n",
    "        project=projectname.ProjectName\n",
    "                \n",
    "#        print(team.TeamLogo)\n",
    "        if team.TeamLogo != None:\n",
    "            photo=team.TeamLogo\n",
    "        else:\n",
    "            photo ='imagesDB/ilovemycompany.jpeg'\n",
    "#        print(TeamPhoto)\n",
    "\n",
    "        row = [sg.I(team.TeamName,disabled=True,font='Calibri 11', size=(20,1)),\n",
    "               sg.I(team.TeamDescription,disabled=True, font='Calibri 11',size=(30,1)),\n",
    "               sg.I(project,disabled=True, font='Calibri 11',size=(20,1)),\n",
    "               sg.Image(key='-PHOTO-', data=convert_to_bytes(photo, resize=(75, 75)))],\n",
    "        layout.append(row)\n",
    "        idx+=1\n",
    "        \n",
    "    pagination = [[sg.B('<<', disabled=not teams.has_prev),\n",
    "                   sg.B(\"<\", disabled=not teams.has_prev),\n",
    "                   sg.T(text=page, key='-PAGE-', size=(2, 1)),\n",
    "                   sg.B(\">\", disabled=not teams.has_next),\n",
    "                   sg.B(\">>\", disabled=not teams.has_next)\n",
    "                   ]]\n",
    "    layout += [[sg.Col(pagination, justification='right')]]\n",
    "    layout += [[sg.B('Return')]]\n",
    "               \n",
    "    window = MyWindow('List of Teams', layout,keep_on_top=True, element_justification = 'center',finalize=True)\n",
    "    window.my_move_to_center()\n",
    "    \n",
    "    while True:\n",
    "        event1, values1 = window.read()\n",
    "        print(event1,values1)\n",
    "        if event1 == sg.WIN_CLOSED or event1 == 'Return':\n",
    "#            print('event1',event1)\n",
    "            window.close()\n",
    "            return(None)\n",
    "            break  \n",
    "        elif event1 == \">\":\n",
    "            if teams.has_next:\n",
    "                page += 1\n",
    "                window.close()\n",
    "                teams = list_teams_page(page)\n",
    "                list_all_teams_gui(page,teams,'ceci est l\"info de base')\n",
    "        elif event1 == \"<\":\n",
    "            if teams.has_prev:\n",
    "                page -= 1\n",
    "                window.close()\n",
    "                teams = list_teams_page(page)\n",
    "                list_all_teams_gui(page,teams,'ceci est l\"info de base')\n",
    "        elif event1 == \"<<\":\n",
    "            if teams.has_prev:\n",
    "                page = 1\n",
    "                window.close()\n",
    "                teams = list_teams_page(page)\n",
    "                list_all_teams_gui(page,teams,'ceci est l\"info de base')\n",
    "        elif event1 == \">>\":\n",
    "            if teams.has_next:\n",
    "                page = teams.pages\n",
    "                window.close()\n",
    "                teams = list_teams_page(page)\n",
    "                list_all_teams_gui(page,teams,'ceci est l\"info de base')\n"
   ]
  },
  {
   "cell_type": "markdown",
   "id": "e588ff69-13f2-49f4-a2ce-406b36a59191",
   "metadata": {},
   "source": [
    "## Select teams by Project"
   ]
  },
  {
   "cell_type": "code",
   "execution_count": null,
   "id": "0486714d-cb91-4a8f-acd0-9b795f52fad9",
   "metadata": {},
   "outputs": [],
   "source": [
    "def select_project_gui(info='info'):\n",
    "    projects_list=list_projects()\n",
    "    \n",
    "    comboproj = []\n",
    "    for project in projects_list:\n",
    "        comboproj.append(project.ProjectName)\n",
    "    print(comboproj)\n",
    "        \n",
    "    layout = [\n",
    "        [sg.T(info,font='Calibri 11',justification=\"left\")],\n",
    "        [sg.T('Project Selection', size=(20, 1),font='Calibri 11'), sg.Combo(comboproj,key='-PROJECT-',size=(20, 1),font='Calibri 11')],\n",
    "        [sg.Ok(), sg.Cancel()]\n",
    "    ]\n",
    "    window = MyWindow('Select Project', layout,finalize=True)\n",
    "    window.my_move_to_center()\n",
    "\n",
    "    while True:\n",
    "        event, values = window.read()\n",
    "        if event == sg.WIN_CLOSED or event == 'Cancel':\n",
    "            window.close()\n",
    "            break\n",
    "        elif event == 'Ok':\n",
    "            projectname=values['-PROJECT-']\n",
    "            projects = Projects.objects(ProjectName=projectname).first()\n",
    "            projectid=projects.ProjectID\n",
    "            \n",
    "#            print(__name__,projectname,projectid,'\\n----------\\n')\n",
    "            window.close()\n",
    "\n",
    "            return(projectid,projectname)"
   ]
  },
  {
   "cell_type": "markdown",
   "id": "1f8bfbd9-ff54-4f13-a594-49604d4f0540",
   "metadata": {
    "tags": []
   },
   "source": [
    "page = 1\n",
    "projectid=None\n",
    "projectid,projectname=select_project_gui() # a lan cer pour chercher les equipes d'un projet\n",
    "\n",
    "print(__name__,projectid,projectname)\n",
    "print(__name__,'projectname:',projectname)\n",
    "teams=list_teams_page(1,projectid)\n",
    "for a in teams.items:\n",
    "    print(a.TeamName,'\\t',a.TeamDescription,'\\t',a.TeamLogo,'\\t',a.ProjectID)\n",
    "if projectid == None:\n",
    "    info='Liste de toutes les equipes'\n",
    "else:\n",
    "    info='Liste de toutes les equipes du projet '+ projectname\n",
    "list_all_teams_gui(page,teams,info)"
   ]
  },
  {
   "cell_type": "code",
   "execution_count": null,
   "id": "0454c126-d6ec-4232-b1f1-f7bbde51a0fc",
   "metadata": {},
   "outputs": [],
   "source": [
    "print(os.getcwd(),__name__,'imported')"
   ]
  }
 ],
 "metadata": {
  "kernelspec": {
   "display_name": "Python 3 (ipykernel)",
   "language": "python",
   "name": "python3"
  },
  "language_info": {
   "codemirror_mode": {
    "name": "ipython",
    "version": 3
   },
   "file_extension": ".py",
   "mimetype": "text/x-python",
   "name": "python",
   "nbconvert_exporter": "python",
   "pygments_lexer": "ipython3",
   "version": "3.10.7"
  }
 },
 "nbformat": 4,
 "nbformat_minor": 5
}
