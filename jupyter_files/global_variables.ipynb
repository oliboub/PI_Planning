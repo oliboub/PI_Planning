{
 "cells": [
  {
   "cell_type": "markdown",
   "id": "4135b195-3a52-4b2a-b47f-44836eee53b6",
   "metadata": {},
   "source": [
    "# global_variables"
   ]
  },
  {
   "cell_type": "code",
   "execution_count": 1,
   "id": "16ae553a-bb37-41ee-bab5-83b1ac38d5fe",
   "metadata": {},
   "outputs": [],
   "source": [
    "import os\n",
    "\n",
    "def init():\n",
    "    global DEBUG_OL\n",
    "    DEBUG_OL=1\n",
    "\n",
    "    # DEBUG_OL\n",
    "    # 0 means no print\n",
    "    # 1 means print call to function only\n",
    "    # 2 means print all\n",
    "    # -1 Special cases\n",
    "\n",
    "    \n",
    "    global FONT\n",
    "    FONT='Helvetica 11'\n",
    "    \n",
    "    global THEME\n",
    "    THEME = 'LightBlue2'\n",
    "    \n",
    "    global linespage # lines by pages when display lists\n",
    "    linespage = 5"
   ]
  },
  {
   "cell_type": "code",
   "execution_count": 2,
   "id": "23a24e20-351f-48c6-99e4-0f8004325b48",
   "metadata": {},
   "outputs": [
    {
     "name": "stdout",
     "output_type": "stream",
     "text": [
      "/media/olivier/Donnees/Documents/Formations/Perso/PI_Planning/jupyter_files __main__ imported\n"
     ]
    }
   ],
   "source": [
    "print(os.getcwd(),__name__,'imported')"
   ]
  },
  {
   "cell_type": "code",
   "execution_count": null,
   "id": "52583bd1-1ef8-4873-96d7-9b21e16f4ad7",
   "metadata": {},
   "outputs": [],
   "source": []
  }
 ],
 "metadata": {
  "kernelspec": {
   "display_name": "Python 3 (ipykernel)",
   "language": "python",
   "name": "python3"
  },
  "language_info": {
   "codemirror_mode": {
    "name": "ipython",
    "version": 3
   },
   "file_extension": ".py",
   "mimetype": "text/x-python",
   "name": "python",
   "nbconvert_exporter": "python",
   "pygments_lexer": "ipython3",
   "version": "3.10.7"
  }
 },
 "nbformat": 4,
 "nbformat_minor": 5
}
