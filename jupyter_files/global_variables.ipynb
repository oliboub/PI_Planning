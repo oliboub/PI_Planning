{
 "cells": [
  {
   "cell_type": "markdown",
   "id": "4135b195-3a52-4b2a-b47f-44836eee53b6",
   "metadata": {},
   "source": [
    "# global_variables"
   ]
  },
  {
   "cell_type": "code",
   "execution_count": null,
   "id": "16ae553a-bb37-41ee-bab5-83b1ac38d5fe",
   "metadata": {},
   "outputs": [],
   "source": [
    "import os\n",
    "\n",
    "def init():\n",
    "    global DEBUG_OL\n",
    "    DEBUG_OL=1\n",
    "\n",
    "    # DEBUG_OL\n",
    "    # 0 means no print\n",
    "    # 1 means print call to function only\n",
    "    # 2 means print all\n",
    "    # -1 Special cases\n",
    "\n",
    "    \n",
    "    global FONT\n",
    "    FONT='Helvetica 11'\n",
    "    \n",
    "    global THEME\n",
    "    THEME = 'LightBlue2'\n",
    "    \n",
    "    global linespage # lines by pages when display lists\n",
    "    linespage = 5\n",
    "    \n",
    "print(os.getcwd(),__name__,'imported')"
   ]
  }
 ],
 "metadata": {
  "kernelspec": {
   "display_name": "Python 3 (ipykernel)",
   "language": "python",
   "name": "python3"
  },
  "language_info": {
   "codemirror_mode": {
    "name": "ipython",
    "version": 3
   },
   "file_extension": ".py",
   "mimetype": "text/x-python",
   "name": "python",
   "nbconvert_exporter": "python",
   "pygments_lexer": "ipython3",
   "version": "3.10.7"
  }
 },
 "nbformat": 4,
 "nbformat_minor": 5
}
