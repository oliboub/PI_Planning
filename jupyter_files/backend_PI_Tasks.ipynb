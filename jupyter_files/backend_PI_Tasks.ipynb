{
 "cells": [
  {
   "cell_type": "markdown",
   "id": "4ad5073a-1c4c-4589-92dd-37437bcf4387",
   "metadata": {},
   "source": [
    "# backend_PI_Tasks"
   ]
  },
  {
   "cell_type": "markdown",
   "id": "5d2827d8-3ffb-41b9-82a9-41833d636819",
   "metadata": {},
   "source": [
    "## Prerequisites"
   ]
  },
  {
   "cell_type": "markdown",
   "id": "190c6fa2-104f-4b55-994a-13c5ef848d49",
   "metadata": {},
   "source": [
    "### Imports"
   ]
  },
  {
   "cell_type": "code",
   "execution_count": 1,
   "id": "9c6d2de8-9f05-42f9-b39d-3faf506ca8d9",
   "metadata": {},
   "outputs": [
    {
     "name": "stdout",
     "output_type": "stream",
     "text": [
      "/media/olivier/Donnees/Documents/Formations/Perso/PI_Planning/jupyter_files global_variables imported\n",
      "/media/olivier/Donnees/Documents/Formations/Perso/PI_Planning/jupyter_files backend_PI_Utils imported\n",
      "/media/olivier/Donnees/Documents/Formations/Perso/PI_Planning/jupyter_files backend_PI_mongo_model imported\n"
     ]
    }
   ],
   "source": [
    "import os\n",
    "import bcrypt\n",
    "from datetime import datetime\n",
    "import PySimpleGUI as sg\n",
    "from backend_PI_Utils import * # Import tout ce qui est spécifique au projet\n",
    "from backend_PI_mongo_model import * # Import tout ce qui est spécifique au projet\n",
    "#from backend_PI import * # Import tout ce qui est spécifique au projet\n",
    "#from frontend_PI import *"
   ]
  },
  {
   "cell_type": "code",
   "execution_count": 2,
   "id": "ef70fcfe-02e7-4244-ad8b-db459a573ea1",
   "metadata": {},
   "outputs": [
    {
     "data": {
      "text/plain": [
       "MongoClient(host=['localhost:27017'], document_class=dict, tz_aware=False, connect=True, read_preference=Primary())"
      ]
     },
     "execution_count": 2,
     "metadata": {},
     "output_type": "execute_result"
    }
   ],
   "source": [
    "import global_variables as g\n",
    "g.init()\n",
    "connect('PIPlanning')"
   ]
  },
  {
   "cell_type": "markdown",
   "id": "bae33163-374d-403b-8f06-070a188dc84d",
   "metadata": {},
   "source": [
    "## Create Task"
   ]
  },
  {
   "cell_type": "markdown",
   "id": "ed922fab-b791-4ef4-83e7-659c73433853",
   "metadata": {},
   "source": [
    "'''\n",
    "Ths function intend to create a task linked to a sprint or to the backlog\n",
    "Backlog means no sprint, with default not plan and no status\n",
    "This create_task also creates the first description.\n",
    "\n",
    "Inputs: \n",
    "- Name of task\n",
    "- allocated memberID\n",
    "- weight of this task in an agile definition\n",
    "- sprintID (not mandatory)\n",
    "- category (not mandatory) - can be a family of activity in a team\n",
    "- familyid (Epic, Objective,Feature, Sroty, defect)\n",
    "- description (not mandatory , but necessary)\n",
    "'''"
   ]
  },
  {
   "cell_type": "code",
   "execution_count": null,
   "id": "5bcb0670-4799-4cb8-9037-cebac36ff230",
   "metadata": {
    "tags": []
   },
   "outputs": [],
   "source": [
    "### Tasks\n",
    "def create_task(name,memberid,weight,sprintid=None,categoryid=None,familyid=4,description=\"Thanks to describe your task please'\"):\n",
    "    if g.DEBUG_OL >= 1:    \n",
    "        print('fonction: create_task(',name,memberid,weight,sprintid,categoryid,familyid,')')\n",
    "    now = datetime.now()\n",
    "    creationdate = now.strftime(\"%d/%m/%Y %H:%M:%S\")\n",
    "    task1=Tasks()\n",
    "    task1.TaskStatusID = 1\n",
    "    task1.TaskCategoryID = 1\n",
    "    task1.TaskFamilyID = familyid\n",
    "    task1.SprintID = 0\n",
    "    if sprintid != None:\n",
    "        task1.SprintID = sprintid\n",
    "        task1.TaskStatusID = 2\n",
    "        if categoryid != None:\n",
    "            task1.TaskCategoryID = categoryid\n",
    "    task1.TaskName = name\n",
    "    task1.MemberID = memberid\n",
    "    task1.TaskWeight = weight\n",
    "    task1.TaskProgress = 0\n",
    "    task1.CreatedByID = memberid\n",
    "    task1.CreationDate = creationdate\n",
    "    task1.UpdatedByID = memberid\n",
    "    task1.LastUpdate = creationdate\n",
    "    task1.save()\n",
    "    \n",
    "    taskid=task1.TaskID\n",
    "    if g.DEBUG_OL >= 2:  \n",
    "        print('task1.TaskID',taskid)\n",
    "\n",
    "    desc1=TasksDescription()\n",
    "    desc1.TaskDescription=description\n",
    "    desc1.CreatedByID = memberid\n",
    "    desc1.CreationDate=creationdate\n",
    "    desc1.UpdatedByID = memberid\n",
    "    desc1.LastUpdate=creationdate\n",
    "    desc1.save()\n",
    "    \n",
    "    descid=desc1.TaskDescriptionID\n",
    "    if g.DEBUG_OL >= 2:  \n",
    "        print('desc1.TaskDescriptionID',descid)\n",
    "\n",
    "    link1=TasksDescriptionLink()\n",
    "    link1.TaskID=taskid\n",
    "    link1.TaskDescriptionID=descid\n",
    "    link1.CreatedByID = memberid\n",
    "    link1.CreationDate=creationdate\n",
    "    link1.UpdatedByID = memberid\n",
    "    link1.LastUpdate=creationdate\n",
    "    link1.save()\n",
    "\n",
    "    if g.DEBUG_OL >= 2:  \n",
    "        print('link1.TaskDescriptionLinkID',link1.TaskDescriptionLinkID)\n"
   ]
  },
  {
   "cell_type": "code",
   "execution_count": null,
   "id": "132bf5e2-f3d4-44a2-85f3-c1a0e4790592",
   "metadata": {
    "tags": []
   },
   "outputs": [],
   "source": [
    "#create_task('Story consistency check',1,1,None,6,3,'As portfolio manager I need to check of stories are in sprint but with status as backlog, and to check if status is plan but not associated to sprint')"
   ]
  },
  {
   "cell_type": "code",
   "execution_count": null,
   "id": "6d2798da-8fc5-410d-a473-47d035317529",
   "metadata": {
    "tags": []
   },
   "outputs": [],
   "source": [
    "#create_task(name,memberid,weight,sprintid=None,categoryid=None,familyid=0,description=\"Thanks to describe your task please'\")\n",
    "\n",
    "#create_task('tache pour tester les taches',1,2,1,2,4,'ceci est la description de la tache')\n",
    "#create_task(\"d'office pas trop top\",1,1.5,2,1)\n",
    "#create_task(\"faire le menu pour affichage des tasks\",2,2,1,3,3,3)"
   ]
  },
  {
   "cell_type": "code",
   "execution_count": null,
   "id": "14d7e209-bcce-4e3b-a163-36a6186425ec",
   "metadata": {
    "tags": []
   },
   "outputs": [],
   "source": [
    "#create_task(\"essayer d'avancer sur les taches\",2,2.3)\n",
    "#create_task(\"Penser à deviner la matrice\",2,2.3)\n",
    "#create_task(\"Remove category of tasks, like the category is linked to the team activity\",3,2.3,5)"
   ]
  },
  {
   "cell_type": "markdown",
   "id": "5a6679f7-c54d-403a-aded-28eb8f5894cd",
   "metadata": {},
   "source": [
    "## Add task description"
   ]
  },
  {
   "cell_type": "markdown",
   "id": "9ec520e3-f902-460c-aa4c-a70e5e42099d",
   "metadata": {},
   "source": [
    "'''\n",
    "in case the lifecycle of a task, we need to add information time to time\n",
    "this function allows to add a description to a task with creation date\n",
    "inputs:\n",
    "- taskID\n",
    "- Description\n",
    "'''"
   ]
  },
  {
   "cell_type": "code",
   "execution_count": null,
   "id": "51f561ab-b239-417c-bcd1-5cd37c3b89db",
   "metadata": {
    "tags": []
   },
   "outputs": [],
   "source": [
    "def add_task_description(taskid,description,memberid):\n",
    "    if g.DEBUG_OL >= 1:    \n",
    "        print('fonction: add_task_description(',taskid,description,memberid,')')\n",
    "    now = datetime.now()\n",
    "    creationdate = now.strftime(\"%d/%m/%Y %H:%M:%S\")\n",
    "    desc1=TasksDescription()\n",
    "    desc1.TaskDescription=description\n",
    "    desc1.CreatedByID = memberid\n",
    "    desc1.CreationDate=creationdate\n",
    "    desc1.UpdatedByID = memberid\n",
    "    desc1.LastUpdate=creationdate\n",
    "    desc1.save()\n",
    "\n",
    "    descid=desc1.TaskDescriptionID\n",
    "    if g.DEBUG_OL >= 2:  \n",
    "        print('desc1.TaskDescriptionID',descid) \n",
    "        \n",
    "    link1=TasksDescriptionLink()\n",
    "    link1.TaskID=taskid\n",
    "    link1.TaskDescriptionID=descid\n",
    "    link1.CreatedByID = memberid\n",
    "    link1.CreationDate=creationdate\n",
    "    link1.UpdatedByID = memberid\n",
    "    link1.LastUpdate=creationdate\n",
    "    link1.save()\n",
    "    if g.DEBUG_OL >= 2: \n",
    "        print('taskid',taskid,'\\tdescid',descid,'\\tlinkid',link1.TaskDescriptionLinkID)"
   ]
  },
  {
   "cell_type": "code",
   "execution_count": null,
   "id": "22d09726-a31c-486e-b0e3-aff370fa19a9",
   "metadata": {
    "tags": []
   },
   "outputs": [],
   "source": [
    "#add_task_description(2,\"** et encore, je ne t'ai pas tout dit\",1)\n",
    "#add_task_description(1,\"Je pense qu'il faudrait discuter avec le BO sur le cas de figure\",2)"
   ]
  },
  {
   "cell_type": "code",
   "execution_count": null,
   "id": "dc7c75ca-deb8-4fe4-912d-996d27c045aa",
   "metadata": {
    "tags": []
   },
   "outputs": [],
   "source": [
    "#add_task_description(8,'Il ne faut pas faire attendre le mammouth')"
   ]
  },
  {
   "cell_type": "markdown",
   "id": "d4b94a74-bcc1-4a98-9409-b1012a51d7af",
   "metadata": {},
   "source": [
    "------\n",
    "## list_tasks(memberid,projectin=None,teamin=None,piidin=None,sprintid=None)"
   ]
  },
  {
   "cell_type": "markdown",
   "id": "5640bec7-7e03-4bb6-9375-4b71d92b7a9f",
   "metadata": {},
   "source": [
    "'''\n",
    "Can be selected with different variables alone or cumulated:\n",
    "- ProjectID\n",
    "- PiID\n",
    "- SprintID\n",
    "'''"
   ]
  },
  {
   "cell_type": "code",
   "execution_count": 36,
   "id": "e2c69220-20f2-4c93-b04a-2d087c5d3d81",
   "metadata": {},
   "outputs": [],
   "source": [
    "def list_tasks(memberid,projectin=None,teamin=None,piidin=None,sprintid=None):\n",
    "    if g.DEBUG_OL >= 1:    \n",
    "        print('fonction: list_tasks(',memberid,projectin,teamin,piidin,sprintid,')')\n",
    "    if sprintid == None:\n",
    "        task = Tasks.objects(Archived=False,TaskStatusID=1)\n",
    "    else:\n",
    "        task = Tasks.objects(Archived=False,SprintID=sprintid)\n",
    "\n",
    "#    print('Team\\t\\t - \\t Project')\n",
    "    task1= []\n",
    "    desc1 = []\n",
    "    list_of_tasks=[]\n",
    "    list_descs=[]\n",
    "\n",
    "    for task1 in task:\n",
    "        if g.DEBUG_OL >= 2:    \n",
    "            print('\\n--------------------------')\n",
    "            print('taskid:',task1.TaskID,'name:',task1.TaskName,'memberid:',task1.MemberID,'weight:',task1.TaskWeight,'progress:',task1.TaskProgress,'sprintid:',task1.SprintID,'statusid:',task1.TaskStatusID,'categoryid',task1.TaskCategoryID)\n",
    "\n",
    "#get sprint\n",
    "        piid1 = None\n",
    "        sprint1 =[]\n",
    "        \n",
    "        if task1.SprintID == None or task1.SprintID == 0:\n",
    "            sprint=None\n",
    "            piid1=None\n",
    "            \n",
    "        else:\n",
    "            sprint1=Sprints.objects(Archived=False,SprintID=task1.SprintID).first()\n",
    "            piid1=sprint1.PiID\n",
    "            if sprint1.SprintSeq != None: \n",
    "                sprint=sprint1.SprintSeq\n",
    "            if g.DEBUG_OL >= 2:\n",
    "                print('Sprint Start Date:',sprint1.SprintStartDate,'\\tSprint1 Duration:','\\tSprint Days:',sprint1.SprintDays,'\\tpiid',piid1,'\\tsprint:',sprint)\n",
    "\n",
    "#get taskname\n",
    "        taskname=task1.TaskName\n",
    "        taskid=task1.TaskID\n",
    "# get sprintid\n",
    "#        sprint=task1.SprintID\n",
    "    \n",
    "# get weight\n",
    "        weight=task1.TaskWeight\n",
    "        progress=task1.TaskProgress\n",
    "    \n",
    "## get member\n",
    "        member1= Members.objects(MemberID=task1.MemberID).first()\n",
    "        member=member1.MemberAlias\n",
    "        \n",
    "## get team        \n",
    "        teaml=LinkMemberTeam.objects(MemberID=task1.MemberID).first()\n",
    "        teami=Teams.objects(TeamID=teaml.TeamID).first()\n",
    "        team=teami.TeamName\n",
    "\n",
    "## get status\n",
    "        status1=TasksStatus.objects(TaskStatusID=task1.TaskStatusID).first()\n",
    "        status=status1.TaskStatusName\n",
    "\n",
    "## get piid\n",
    "        if piid1 != None:\n",
    "\n",
    "        ## get project\n",
    "            projecti=Projects.objects(ProjectID=teami.TeamID).first()\n",
    "            project=projecti.ProjectName\n",
    "        ## get piid\n",
    "            piid2=PiPlan.objects(PiID=piid1).first()\n",
    "            piid=piid2.PiNumber\n",
    "        else:\n",
    "            piid=None\n",
    "            project=None\n",
    "            \n",
    "## get category\n",
    "        categ1=TasksCategory.objects(TaskCategoryID=task1.TaskCategoryID).first()\n",
    "        category=categ1.TaskCategoryName\n",
    "\n",
    "## get category\n",
    "        famil1=TasksFamily.objects(TaskFamilyID=task1.TaskFamilyID).first()\n",
    "        family=famil1.TaskFamilyName\n",
    "        \n",
    "        \n",
    "## get Result\n",
    "        if g.DEBUG_OL >= 2:   \n",
    "            print('taskid:',taskid,'- Task name:',taskname,'\\tProject:',project,'- Teamname:',team,'- Member:',member,'\\tPI:',piid,'- Sprint:',sprint,'\\tTask Weight:',weight,'- Task progress',progress,'- Status:',status,'\\tCategory:',category,'- Family:',family)\n",
    "        detail_tasks=[taskid,taskname,project,team,member,piid,sprint,weight,progress,status,category,family]\n",
    "        list_of_tasks.append(detail_tasks)\n",
    "        \n",
    "    return(list_of_tasks)"
   ]
  },
  {
   "cell_type": "code",
   "execution_count": 33,
   "id": "2eacc96d-35c2-46aa-90d1-001a5a030d24",
   "metadata": {},
   "outputs": [
    {
     "name": "stdout",
     "output_type": "stream",
     "text": [
      "fonction: list_tasks( 1 None None None 1 )\n",
      "taskid: 1 - Task name: Création d'une collection de logs d'activité \tProject: PIPlanning - Teamname: PI - Member: oliboub \tPI: 1 - Sprint: 1 \tTask Weight: 0.6 - Task progress 0.0 - Status: Frozen \tCategory: Admin activity - Family: Epic\n",
      "taskid: 5 - Task name: tache pour tester les taches \tProject: PIPlanning - Teamname: PI - Member: oliboub \tPI: 1 - Sprint: 1 \tTask Weight: 2.0 - Task progress 0.0 - Status: Plan \tCategory: Projects activity - Family: Story\n"
     ]
    },
    {
     "data": {
      "text/plain": [
       "[[1,\n",
       "  \"Création d'une collection de logs d'activité\",\n",
       "  'PIPlanning',\n",
       "  'PI',\n",
       "  'oliboub',\n",
       "  1,\n",
       "  1,\n",
       "  0.6,\n",
       "  0.0,\n",
       "  'Frozen',\n",
       "  'Admin activity',\n",
       "  'Epic'],\n",
       " [5,\n",
       "  'tache pour tester les taches',\n",
       "  'PIPlanning',\n",
       "  'PI',\n",
       "  'oliboub',\n",
       "  1,\n",
       "  1,\n",
       "  2.0,\n",
       "  0.0,\n",
       "  'Plan',\n",
       "  'Projects activity',\n",
       "  'Story']]"
      ]
     },
     "execution_count": 33,
     "metadata": {},
     "output_type": "execute_result"
    }
   ],
   "source": [
    "## list_tasks(memberid,projectin=None,teamin=None,piidin=None,sprintid=None):\n",
    "\n",
    "# list_tasks(1,None,None,None,None)\n",
    "#list_tasks(1,None,None,None,1)\n",
    "#list_tasks(1,None,1,1,1)"
   ]
  },
  {
   "cell_type": "markdown",
   "id": "b846dee8-4f61-493b-a3b0-f0d41d7d5043",
   "metadata": {},
   "source": [
    "------\n",
    "## def list_task_descriptions(memberid,taskid=None)"
   ]
  },
  {
   "cell_type": "code",
   "execution_count": 15,
   "id": "df6ee50c-7827-4246-acf8-933a9ab5b0c5",
   "metadata": {
    "tags": []
   },
   "outputs": [],
   "source": [
    "def list_task_descriptions(memberid,taskid=None):\n",
    "    if g.DEBUG_OL >= 1:\n",
    "        print('fonction: list_tasks_descriptions(',memberid,taskid,')')\n",
    "        desclink=TasksDescriptionLink.objects(TaskID=taskid)\n",
    "        desc1 = []\n",
    "        \n",
    "        \n",
    "        \n",
    "        if desclink != None:\n",
    "            if g.DEBUG_OL >= 2:\n",
    "                print(len(desclink))\n",
    "                \n",
    "            for i in desclink:\n",
    "                desc=TasksDescription.objects(TaskDescriptionID=i.TaskDescriptionID).first()\n",
    "                if g.DEBUG_OL >= 2:   \n",
    "                    print('TaskID',taskid,'DescID',desc.TaskDescriptionID,'Description:',desc.TaskDescription,'\\tLast update:',desc.LastUpdate,'- UpdatedBYID:',desc.UpdatedByID)\n",
    "                desclist = [taskid,desc.TaskDescriptionID,desc.TaskDescription,desc.LastUpdate,desc.UpdatedByID]\n",
    "                desc1.append(desclist)\n",
    "        else:\n",
    "            if g.DEBUG_OL >= 2:   \n",
    "                print('None')\n",
    "            return(None)\n",
    "            \n",
    "    return(desc1)     "
   ]
  },
  {
   "cell_type": "code",
   "execution_count": 16,
   "id": "ca89aad2-c590-4090-a90f-294f683adae3",
   "metadata": {
    "tags": []
   },
   "outputs": [
    {
     "name": "stdout",
     "output_type": "stream",
     "text": [
      "fonction: list_tasks_descriptions( 1 1 )\n"
     ]
    },
    {
     "data": {
      "text/plain": [
       "[[1,\n",
       "  1,\n",
       "  \"use case: en cas d'audit et de besoin d'analyse, nous devons etre capable de donner toutes les logs d'acivités à un data scientist\",\n",
       "  datetime.datetime(2023, 4, 13, 9, 36, 56),\n",
       "  5],\n",
       " [1,\n",
       "  2,\n",
       "  'On essaye de penser data science as concept',\n",
       "  datetime.datetime(2023, 4, 13, 9, 36, 56),\n",
       "  5],\n",
       " [1,\n",
       "  6,\n",
       "  \"Je pense qu'il faudrait discuter avec le BO sur le cas de figure\",\n",
       "  datetime.datetime(2023, 4, 13, 9, 49, 18),\n",
       "  2]]"
      ]
     },
     "execution_count": 16,
     "metadata": {},
     "output_type": "execute_result"
    }
   ],
   "source": [
    "## list_task_descriptions(memberid,taskid)\n",
    "\n",
    "#list_task_descriptions(1,1)"
   ]
  },
  {
   "cell_type": "markdown",
   "id": "03e5d801-8142-426c-b303-5ddaa3c2344f",
   "metadata": {},
   "source": [
    "------\n",
    "## check_tasks_consistency(ProjectID=None,TeamID=None,Archived=False)"
   ]
  },
  {
   "cell_type": "code",
   "execution_count": 55,
   "id": "58bba31e-1455-46a1-bc86-c8df989296e0",
   "metadata": {
    "tags": []
   },
   "outputs": [],
   "source": [
    "def check_tasks_consistency(memberid,projectid=None,teamid=None,piid=None,sprintid=None):\n",
    "    if g.DEBUG_OL >= 1:\n",
    "        print('fonction: check_tasks_consistency(',projectid,teamid,piid,sprintid,')')\n",
    "    result=[]\n",
    "    result=list_tasks(memberid,projectid,teamid,piid,sprintid)\n",
    "    for i in range(len(result)):\n",
    "        if g.DEBUG_OL >= 2:\n",
    "            print(i,result[i][1], result[i][6], result[i][9])\n",
    "        if result[i][6] == 1 and result[i][9] != 'Backlog':\n",
    "            print('Warning: TaskID:',result[i][0],' is not consistent - task not allocated to sprint, but not in backlog!')\n",
    "        if result[i][6] != None and result[i][9] == 'Backlog':\n",
    "            print('Warning: TaskID:',result[i][0],'is not consistent - task allocated to sprint, but still in backlog!')\n",
    "        else:\n",
    "            print('TaskID:',result[i][0],'with name: ',result[i][1], '\\t\\tis consistent.')"
   ]
  },
  {
   "cell_type": "code",
   "execution_count": 56,
   "id": "7c77c29d-8f9c-4bda-9920-a48e66378f68",
   "metadata": {
    "tags": []
   },
   "outputs": [
    {
     "name": "stdout",
     "output_type": "stream",
     "text": [
      "fonction: check_tasks_consistency( None None None None )\n",
      "fonction: list_tasks( 1 None None None None )\n",
      "TaskID: 2 with name:  Create menu to create a task \t\tis consistent.\n",
      "TaskID: 4 with name:  Faire un menu différent pour les admins \t\tis consistent.\n",
      "TaskID: 6 with name:  Story consistency check \t\tis consistent.\n"
     ]
    }
   ],
   "source": [
    "## check_tasks_consistency(projectid=None,teamid=None,archived=False)\n",
    "#check_tasks_consistency(1)"
   ]
  },
  {
   "cell_type": "code",
   "execution_count": null,
   "id": "1bedb605-8518-44d4-a12a-bb5673839c52",
   "metadata": {},
   "outputs": [],
   "source": [
    "if g.DEBUG_OL >= 1:\n",
    "    print(os.getcwd(),__name__,'imported') "
   ]
  }
 ],
 "metadata": {
  "kernelspec": {
   "display_name": "Python 3 (ipykernel)",
   "language": "python",
   "name": "python3"
  },
  "language_info": {
   "codemirror_mode": {
    "name": "ipython",
    "version": 3
   },
   "file_extension": ".py",
   "mimetype": "text/x-python",
   "name": "python",
   "nbconvert_exporter": "python",
   "pygments_lexer": "ipython3",
   "version": "3.10.7"
  }
 },
 "nbformat": 4,
 "nbformat_minor": 5
}
