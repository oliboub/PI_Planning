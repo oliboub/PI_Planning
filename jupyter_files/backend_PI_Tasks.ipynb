{
 "cells": [
  {
   "cell_type": "markdown",
   "id": "4ad5073a-1c4c-4589-92dd-37437bcf4387",
   "metadata": {},
   "source": [
    "# backend_PI_Tasks"
   ]
  },
  {
   "cell_type": "markdown",
   "id": "5d2827d8-3ffb-41b9-82a9-41833d636819",
   "metadata": {},
   "source": [
    "## Prerequisites"
   ]
  },
  {
   "cell_type": "markdown",
   "id": "190c6fa2-104f-4b55-994a-13c5ef848d49",
   "metadata": {},
   "source": [
    "### Imports"
   ]
  },
  {
   "cell_type": "code",
   "execution_count": null,
   "id": "9c6d2de8-9f05-42f9-b39d-3faf506ca8d9",
   "metadata": {},
   "outputs": [],
   "source": [
    "import os\n",
    "import bcrypt\n",
    "from datetime import datetime\n",
    "import PySimpleGUI as sg\n",
    "from backend_PI_Utils import * # Import tout ce qui est spécifique au projet\n",
    "from backend_PI_mongo_model import * # Import tout ce qui est spécifique au projet\n",
    "#from backend_PI import * # Import tout ce qui est spécifique au projet\n",
    "#from frontend_PI import *"
   ]
  },
  {
   "cell_type": "code",
   "execution_count": null,
   "id": "ef70fcfe-02e7-4244-ad8b-db459a573ea1",
   "metadata": {},
   "outputs": [],
   "source": [
    "import global_variables as g\n",
    "g.init()\n",
    "connect('PIPlanning')"
   ]
  },
  {
   "cell_type": "markdown",
   "id": "bae33163-374d-403b-8f06-070a188dc84d",
   "metadata": {},
   "source": [
    "## Create Task"
   ]
  },
  {
   "cell_type": "code",
   "execution_count": 3,
   "id": "afe69b07-7f4b-460b-b6ac-28c77f05ae39",
   "metadata": {},
   "outputs": [
    {
     "data": {
      "text/plain": [
       "'\\nThs function intend to create a task linked to a sprint or to the backlog\\nBacklog means no sprint, with default not plan and no status\\nThis create_task also creates the first description.\\n\\nInputs: \\n- Name of task\\n- allocated memberID\\n- weight of this task in an agile definition\\n- sprintID (not mandatory)\\n- category (not mandatory) - can be a family of activity in a team\\n- description (not mandatory , but necessary)\\n'"
      ]
     },
     "execution_count": 3,
     "metadata": {},
     "output_type": "execute_result"
    }
   ],
   "source": [
    "'''\n",
    "Ths function intend to create a task linked to a sprint or to the backlog\n",
    "Backlog means no sprint, with default not plan and no status\n",
    "This create_task also creates the first description.\n",
    "\n",
    "Inputs: \n",
    "- Name of task\n",
    "- allocated memberID\n",
    "- weight of this task in an agile definition\n",
    "- sprintID (not mandatory)\n",
    "- category (not mandatory) - can be a family of activity in a team\n",
    "- description (not mandatory , but necessary)\n",
    "'''"
   ]
  },
  {
   "cell_type": "code",
   "execution_count": 4,
   "id": "5bcb0670-4799-4cb8-9037-cebac36ff230",
   "metadata": {
    "tags": []
   },
   "outputs": [],
   "source": [
    "### Tasks\n",
    "def create_task(name,memberid,weight,sprintid=None,categoryid=None,description=\"Thanks to describe your task please'\"):\n",
    "    print('fonction: create_task(',name,memberid,weight,sprintid,categoryid,')')\n",
    "    now = datetime.now()\n",
    "    creationdate = now.strftime(\"%d/%m/%Y %H:%M:%S\")\n",
    "    task1=Tasks()\n",
    "    if sprintid != None:\n",
    "        task1.SprintID = sprintid\n",
    "        task1.TaskStatusID = 1\n",
    "        if categoryid != None:\n",
    "            task1.TaskCategoryID = categoryid\n",
    "    task1.TaskName = name\n",
    "    task1.MemberID = memberid\n",
    "    task1.TaskWeight = weight\n",
    "    task1.TaskProgress = 0\n",
    "    task1.CreationDate = creationdate\n",
    "    task1.LastUpdate = creationdate\n",
    "    task1.save()\n",
    "    taskid=task1.TaskID\n",
    "    print(taskid)\n",
    "\n",
    "    desc1=TasksDescription()\n",
    "    desc1.TaskDescription=description\n",
    "    desc1.CreationDate=creationdate\n",
    "    desc1.LastUpdate=creationdate\n",
    "    desc1.save()\n",
    "    descid=desc1.TaskDescriptionID\n",
    "    print(descid)\n",
    "\n",
    "    link1=TasksDescriptionLink()\n",
    "    link1.TaskID=taskid\n",
    "    link1.TaskDescriptionID=descid\n",
    "    link1.save()\n",
    "    print(link1.TaskDescriptionLinkID)\n"
   ]
  },
  {
   "cell_type": "markdown",
   "id": "5a6679f7-c54d-403a-aded-28eb8f5894cd",
   "metadata": {},
   "source": [
    "## Add task description"
   ]
  },
  {
   "cell_type": "code",
   "execution_count": 5,
   "id": "5e5f949c-4449-4a4d-9a78-753beb4eee95",
   "metadata": {},
   "outputs": [
    {
     "data": {
      "text/plain": [
       "'\\nin case the lifecycle of a task, we need to add information time to time\\nthis function allows to add a description to a task with creation date\\ninputs:\\n- taskID\\n- Description\\n'"
      ]
     },
     "execution_count": 5,
     "metadata": {},
     "output_type": "execute_result"
    }
   ],
   "source": [
    "'''\n",
    "in case the lifecycle of a task, we need to add information time to time\n",
    "this function allows to add a description to a task with creation date\n",
    "inputs:\n",
    "- taskID\n",
    "- Description\n",
    "'''"
   ]
  },
  {
   "cell_type": "code",
   "execution_count": 6,
   "id": "51f561ab-b239-417c-bcd1-5cd37c3b89db",
   "metadata": {
    "tags": []
   },
   "outputs": [],
   "source": [
    "def add_task_description(taskid,description):\n",
    "    now = datetime.now()\n",
    "    creationdate = now.strftime(\"%d/%m/%Y %H:%M:%S\")\n",
    "    desc1=TasksDescription()\n",
    "    desc1.TaskDescription=description\n",
    "    desc1.CreationDate=creationdate\n",
    "    desc1.LastUpdate=creationdate\n",
    "    desc1.save()\n",
    "    descid=desc1.TaskDescriptionID\n",
    " \n",
    "    link1=TasksDescriptionLink()\n",
    "    link1.TaskID=taskid\n",
    "    link1.TaskDescriptionID=descid\n",
    "    link1.save()\n",
    "    print('taskid',taskid,'\\tdescid',descid,'\\tlinkid',link1.TaskDescriptionLinkID)"
   ]
  },
  {
   "cell_type": "markdown",
   "id": "fb429498-fe48-476d-8fe8-24520409cb3e",
   "metadata": {},
   "source": [
    "def task_link_desk(taskid,descid)\n",
    "    link1=TasksDescriptionLinks()\n",
    "    link1.TaskID=taskid\n",
    "    link1.TaskDescriptionID=descid"
   ]
  },
  {
   "cell_type": "markdown",
   "id": "b3f34e01-af45-41e9-ad03-99134437b7fa",
   "metadata": {
    "tags": []
   },
   "source": [
    "add_task_description(15,\"** et encore, je ne t'ai pas tout dit\")"
   ]
  },
  {
   "cell_type": "markdown",
   "id": "d4b94a74-bcc1-4a98-9409-b1012a51d7af",
   "metadata": {},
   "source": [
    "## List Task"
   ]
  },
  {
   "cell_type": "code",
   "execution_count": 7,
   "id": "b04eaef8-5c40-4ca6-bd33-39560ee9a5f3",
   "metadata": {},
   "outputs": [
    {
     "data": {
      "text/plain": [
       "'\\nCan be selected with different variables alone or cumulated:\\n- ProjectID\\n- PiID\\n- SprintID\\n'"
      ]
     },
     "execution_count": 7,
     "metadata": {},
     "output_type": "execute_result"
    }
   ],
   "source": [
    "'''\n",
    "Can be selected with different variables alone or cumulated:\n",
    "- ProjectID\n",
    "- PiID\n",
    "- SprintID\n",
    "'''"
   ]
  },
  {
   "cell_type": "code",
   "execution_count": 21,
   "id": "e2c69220-20f2-4c93-b04a-2d087c5d3d81",
   "metadata": {},
   "outputs": [],
   "source": [
    "def list_tasks(projectin='All',teamin='All',piidin='All',sprintid='All'):\n",
    "    print('fonction: list_tasks(',projectin,teamin,piidin,sprintid,')')\n",
    "    if sprintid == 'All':\n",
    "        task = Tasks.objects(Archived=False)\n",
    "    elif sprintid == None:\n",
    "        task = Tasks.objects(Archived=False,TaskCategoryID=5)\n",
    "    else:\n",
    "        task = Tasks.objects(Archived=False,SprintID=sprintid)\n",
    "\n",
    "#    print('Team\\t\\t - \\t Project')\n",
    "    task1= []\n",
    "    desc1 = []\n",
    "    list_tasks=[]\n",
    "    list_descs=[]\n",
    "\n",
    "    for task1 in task:\n",
    "#        print('task1.TaskStatusID',task1.TaskStatusID)\n",
    "#        print(task1.TaskID,task1.TaskName,task1.MemberID,task1.TaskWeight,task1.TaskProgress,task1.TaskStatusID,task1.TaskCategoryID)\n",
    "\n",
    "#get sprint\n",
    "        piid1 = None\n",
    "        if task1.SprintID !=None:\n",
    "            sprint1=Sprints.objects(Archived=False,SprintID=task1.SprintID).first()\n",
    "            piid1=sprint1.PiID\n",
    "            if sprint1.SprintSeq != None: \n",
    "                sprint=sprint1.SprintSeq\n",
    "        else:\n",
    "            sprint=None\n",
    "#        print('Sprint Start Date:',sprint1.SprintStartDate,'\\tSprint1 Duration:',sprint1.SprintDays,sprint,piid1)\n",
    "\n",
    "#get taskname\n",
    "        taskname=task1.TaskName\n",
    "\n",
    "# get sprintid\n",
    "#        sprint=task1.SprintID\n",
    "    \n",
    "# get weight\n",
    "        weight=task1.TaskWeight\n",
    "    \n",
    "## get member\n",
    "        member1= Members.objects(MemberID=task1.MemberID).first()\n",
    "        member=member1.MemberAlias\n",
    "## get team        \n",
    "        teaml=LinkMemberTeam.objects(MemberID=task1.MemberID).first()\n",
    "        teami=Teams.objects(TeamID=teaml.TeamID).first()\n",
    "        team=teami.TeamName\n",
    "## get project\n",
    "        projecti=Projects.objects(ProjectID=teami.TeamID).first()\n",
    "        project=projecti.ProjectName\n",
    "\n",
    "## get status\n",
    "        status1=TasksStatus.objects(TaskStatusID=task1.TaskStatusID).first()\n",
    "        status=status1.TaskStatusName\n",
    "\n",
    "## get piid\n",
    "        if piid1 != None:\n",
    "            piid2=PiPlan.objects(PiID=piid1).first()\n",
    "            piid=piid2.PiNumber\n",
    "        else:\n",
    "            piid=None\n",
    "## get category\n",
    "        categ1=TasksCategory.objects(TaskCategoryID=task1.TaskCategoryID).first()\n",
    "        category=categ1.TaskCategoryName\n",
    "        \n",
    "## get Descriptions\n",
    "#        print('\\nProject:',project,'\\tTeamname:',team,'\\tMember:',member,'\\tSprint:',sprint,'\\tTask name:',taskname,'\\tTask Weight:',weight,'\\tTask progress',task1.TaskProgress,'\\tStatus:',status,'\\tCategory:',category)\n",
    "\n",
    "        desclink=TasksDescriptionLink.objects(TaskID=task1.TaskID)\n",
    "        desc1 = []\n",
    "        if desclink != None:\n",
    "#            print(len(desclink))\n",
    "            for i in desclink:\n",
    " #               print('desclink.TaskID',i.TaskID,'\\desclink.TaskDescriptionID',i.TaskDescriptionID)\n",
    "                desc=TasksDescription.objects(TaskDescriptionID=i.TaskDescriptionID).first()\n",
    " #               print('Description:',desc.TaskDescription,'\\tLast update:',desc.LastUpdate)\n",
    "                desclist = [desc.TaskDescription,desc.LastUpdate]\n",
    "                desc1.append(desclist)\n",
    "#        else:\n",
    "#            print('None')\n",
    "#        print(projectin,project,teamin,team,piid,piidin)\n",
    "    \n",
    "        if projectin == 'All' or projectin == project:\n",
    "            if teamin == 'All' or team == teamin:\n",
    "                if piidin == 'All' or piidin == piid:\n",
    "                    task1=[project,team,piid,sprint,member,taskname,weight,task1.TaskProgress,status,category]\n",
    "                    list_tasks.append(task1)\n",
    "                    list_descs.append(desc1)\n",
    "                if piid == None and piidin == None:\n",
    "                    task1=[project,team,piid,sprint,member,taskname,weight,'None',status,category]\n",
    "                    list_tasks.append(task1)\n",
    "                    list_descs.append(desc1)\n",
    "\n",
    "#       print(task1)\n",
    "#        print(desc1)\n",
    "#        list_tasks.append(task1)\n",
    "#        list_descs.append(desc1)\n",
    "        \n",
    "#        if projectname is None:\n",
    "#            projectname='Non allocated'\n",
    "#        print(projectname.ProjectName)\n",
    "#        teams=[projectname.ProjectName,team1.TeamName,team1.TeamDescription,team1.TeamLogo]\n",
    "#        list_teams.append(teams)\n",
    "    for i in range(len(list_tasks)):\n",
    "        print(list_tasks[i])\n",
    "        for j in range(len(list_descs[i])):\n",
    "            print(list_descs[i][j])\n",
    "        print('\\n----\\n')\n",
    "#    print(list_teams[0][1])\n",
    "#    return(list_teams)   \n"
   ]
  },
  {
   "cell_type": "code",
   "execution_count": 9,
   "id": "6d2798da-8fc5-410d-a473-47d035317529",
   "metadata": {
    "tags": []
   },
   "outputs": [],
   "source": [
    "#create_task(name,memberid,weight,sprintid=None,categoryid=None)\n",
    "#create_task('Faire un menu différent poru les admins',1,0.9,6,1,'ceci est la description de ouf')\n",
    "#create_task(\"d'office pas trop top\",1,1.5,2,1)\n",
    "#create_task(\"faire le menu pour affichage des tasks\",2,2.3,1,3)"
   ]
  },
  {
   "cell_type": "code",
   "execution_count": 25,
   "id": "14d7e209-bcce-4e3b-a163-36a6186425ec",
   "metadata": {
    "tags": []
   },
   "outputs": [
    {
     "name": "stdout",
     "output_type": "stream",
     "text": [
      "fonction: create_task( Remove category of tasks, like the category is linked to the team activity 3 2.3 5 None )\n",
      "16\n",
      "16\n",
      "8\n"
     ]
    }
   ],
   "source": [
    "#create_task(\"essayer d'avancer sur les taches\",2,2.3)\n",
    "#create_task(\"Penser à deviner la matrice\",2,2.3)\n",
    "#create_task(\"Remove category of tasks, like the category is linked to the team activity\",3,2.3,5)"
   ]
  },
  {
   "cell_type": "markdown",
   "id": "f786efb5-54b9-4c6c-9f0a-cab82c09649e",
   "metadata": {
    "tags": []
   },
   "source": [
    "add_task_description(8,'Il ne faut pas faire attendre le mammouth')"
   ]
  },
  {
   "cell_type": "code",
   "execution_count": 30,
   "id": "2eacc96d-35c2-46aa-90d1-001a5a030d24",
   "metadata": {},
   "outputs": [
    {
     "name": "stdout",
     "output_type": "stream",
     "text": [
      "fonction: list_tasks( All PI All All )\n",
      "['PIPlanning', 'PI', 1, 1, 'oliboub', \"Création d'une collection de logs d'activité\", 0.6, 0.0, 'Not plan', 'General activity']\n",
      "[\"use case: en cas d'audit et de besoin d'analyse, nous devons etre capable de donner toutes les logs d'acivités à un data scientist\", datetime.datetime(2023, 2, 24, 11, 33, 40)]\n",
      "['On essaye de penser data science as concept', datetime.datetime(2023, 2, 24, 11, 33, 40)]\n",
      "\n",
      "----\n",
      "\n",
      "['PIPlanning', 'PI', 2, 2, 'oliboub', 'Chanter sous la pluie', 0.9, 0.0, 'Plan', 'Projects activity']\n",
      "['Il ne faut pas faire attendre le mammouth', datetime.datetime(2023, 2, 24, 16, 59, 35)]\n",
      "\n",
      "----\n",
      "\n",
      "['PIPlanning', 'PI', 5, 2, 'oliboub', \"s'assurer que les creation prenne en compte les dates\", 1.5, 0.0, 'Plan', 'Projects activity']\n",
      "\n",
      "----\n",
      "\n",
      "['PIPlanning', 'PI', 1, 1, 'MacFly', 'faire le menu pour affichage des tasks', 2.3, 0.0, 'Plan', 'Members activity']\n",
      "\n",
      "----\n",
      "\n",
      "['PIPlanning', 'PI', None, None, 'MacFly', \"essayer d'avancer sur les taches\", 2.3, 0.0, 'Not plan', 'General activity']\n",
      "\n",
      "----\n",
      "\n",
      "['PIPlanning', 'PI', 2, 2, 'oliboub', 'Faire un menu différent pour les admins', 0.9, 0.0, 'Plan', 'Projects activity']\n",
      "\n",
      "----\n",
      "\n",
      "['PIPlanning', 'PI', 5, 2, 'oliboub', \"d'office pas trop top\", 1.5, 0.0, 'Plan', 'Projects activity']\n",
      "[\"Thanks to describe your task please'\", datetime.datetime(2023, 2, 24, 16, 19, 53)]\n",
      "[\"** et encore, je ne t'ai pas tout dit\", datetime.datetime(2023, 2, 24, 16, 37, 16)]\n",
      "\n",
      "----\n",
      "\n"
     ]
    }
   ],
   "source": [
    "#list_tasks(projectin=None,teamin='All',piidin='All',sprintid='All')\n",
    "#list_tasks('All','PI','All','All')"
   ]
  },
  {
   "cell_type": "code",
   "execution_count": null,
   "id": "1bedb605-8518-44d4-a12a-bb5673839c52",
   "metadata": {},
   "outputs": [],
   "source": []
  }
 ],
 "metadata": {
  "kernelspec": {
   "display_name": "Python 3 (ipykernel)",
   "language": "python",
   "name": "python3"
  },
  "language_info": {
   "codemirror_mode": {
    "name": "ipython",
    "version": 3
   },
   "file_extension": ".py",
   "mimetype": "text/x-python",
   "name": "python",
   "nbconvert_exporter": "python",
   "pygments_lexer": "ipython3",
   "version": "3.10.7"
  }
 },
 "nbformat": 4,
 "nbformat_minor": 5
}
