{
 "cells": [
  {
   "cell_type": "markdown",
   "id": "e84df12a-fd41-4973-a2f4-6cfc10046ed4",
   "metadata": {},
   "source": [
    "# backend_PI_Projects"
   ]
  },
  {
   "cell_type": "markdown",
   "id": "83010bc9-8780-491d-b7f4-5a4f4521b97a",
   "metadata": {},
   "source": [
    "## prerequisites"
   ]
  },
  {
   "cell_type": "code",
   "execution_count": null,
   "id": "e9c889b5-e3bd-4044-a481-575f038ad27f",
   "metadata": {},
   "outputs": [],
   "source": [
    "#import bcrypt\n",
    "import os\n",
    "from backend_PI import * # Import tout ce qui est spécifique au projet\n",
    "from frontend_PI import *\n",
    "from datetime import datetime\n",
    "\n",
    "connect('PIPlanning')"
   ]
  },
  {
   "cell_type": "markdown",
   "id": "43702e58-7d20-4246-b411-8d8a32fe8bbc",
   "metadata": {},
   "source": [
    "## create_project(project, description)"
   ]
  },
  {
   "cell_type": "code",
   "execution_count": null,
   "id": "8673e488-c4ab-4fe5-896f-c1ee8f98aa6a",
   "metadata": {},
   "outputs": [],
   "source": [
    "def create_project(project, description):\n",
    "    print('fonction: create_project(project,description)')\n",
    "    now = datetime.now()\n",
    "    creationdate = now.strftime(\"%d/%m/%Y %H:%M:%S\")\n",
    "    proj1=Projects()\n",
    "    proj1.ProjectName = project\n",
    "    proj1.ProjectDescription = description\n",
    "    proj1.CreationDate = creationdate\n",
    "    proj1.LastUpdate = creationdate\n",
    "    proj1.save()"
   ]
  },
  {
   "cell_type": "markdown",
   "id": "e24e9906-1172-4360-a3f6-87348910fc13",
   "metadata": {},
   "source": [
    "## query_project(project)"
   ]
  },
  {
   "cell_type": "code",
   "execution_count": null,
   "id": "07eb9e97-78ba-49b9-b7f0-478eeb840efc",
   "metadata": {},
   "outputs": [],
   "source": [
    "def query_project(project):\n",
    "    print('fonction: query_project(project)')\n",
    "    project = Projects.objects(ProjectName=project).first()\n",
    "    return project"
   ]
  },
  {
   "cell_type": "markdown",
   "id": "2e0ab2aa-62f3-442c-b0e6-69eafe24266f",
   "metadata": {},
   "source": [
    "## list_projects()"
   ]
  },
  {
   "cell_type": "code",
   "execution_count": null,
   "id": "6d6c99aa-f2ce-41f1-8861-41adef412c3b",
   "metadata": {},
   "outputs": [],
   "source": [
    "def list_projects():\n",
    "    print('fonction: list_projects()')\n",
    "    projects = Projects.objects(Archived=False)\n",
    "    return projects"
   ]
  },
  {
   "cell_type": "markdown",
   "id": "4f690744-4b56-403a-9404-7a9fe2632b4f",
   "metadata": {},
   "source": [
    "## query_project_name_from_ID(ID"
   ]
  },
  {
   "cell_type": "code",
   "execution_count": null,
   "id": "79ccae72-5501-4583-8288-9ce3b0a95116",
   "metadata": {},
   "outputs": [],
   "source": [
    "def query_project_name_from_ID(ID):\n",
    "    print('fonction: query_project_name_from_ID(ID)')\n",
    "    project = Projects.objects(ProjectID=ID).first()\n",
    "    return project"
   ]
  },
  {
   "cell_type": "markdown",
   "id": "01caaa67-6857-42f0-bf9f-e2585395bf19",
   "metadata": {},
   "source": [
    "## archive_project(ID)"
   ]
  },
  {
   "cell_type": "code",
   "execution_count": null,
   "id": "d5ea18d2-e4b2-45f7-bdd3-37d9920a62ef",
   "metadata": {},
   "outputs": [],
   "source": [
    "def archive_project(ID):\n",
    "    print('fonction: archive_project(ID)')\n",
    "    project1 = Projects.objects(ProjectID=ID).first()\n",
    "    print('archive_project(ID) fonction:',project1.ProjectName)\n",
    "    project1.Archived = True\n",
    "    project1.save()\n"
   ]
  },
  {
   "cell_type": "code",
   "execution_count": null,
   "id": "eadeec4d-dbde-4aed-b010-2c859d3dcb3e",
   "metadata": {},
   "outputs": [],
   "source": [
    "print(os.getcwd(),__name__,'imported')"
   ]
  }
 ],
 "metadata": {
  "kernelspec": {
   "display_name": "Python 3 (ipykernel)",
   "language": "python",
   "name": "python3"
  },
  "language_info": {
   "codemirror_mode": {
    "name": "ipython",
    "version": 3
   },
   "file_extension": ".py",
   "mimetype": "text/x-python",
   "name": "python",
   "nbconvert_exporter": "python",
   "pygments_lexer": "ipython3",
   "version": "3.10.7"
  }
 },
 "nbformat": 4,
 "nbformat_minor": 5
}
