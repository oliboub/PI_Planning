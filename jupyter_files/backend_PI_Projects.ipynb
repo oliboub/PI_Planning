{
 "cells": [
  {
   "cell_type": "markdown",
   "id": "e84df12a-fd41-4973-a2f4-6cfc10046ed4",
   "metadata": {
    "tags": []
   },
   "source": [
    "# backend_PI_Projects"
   ]
  },
  {
   "cell_type": "markdown",
   "id": "83010bc9-8780-491d-b7f4-5a4f4521b97a",
   "metadata": {},
   "source": [
    "## prerequisites"
   ]
  },
  {
   "cell_type": "code",
   "execution_count": null,
   "id": "741868c8-7f9b-4628-86d4-3db0ea90e267",
   "metadata": {},
   "outputs": [],
   "source": [
    "import os\n",
    "import bcrypt\n",
    "from datetime import datetime\n",
    "import PySimpleGUI as sg\n",
    "from backend_PI_Utils import * # Import tout ce qui est spécifique au projet\n",
    "from backend_PI_mongo_model import * # Import tout ce qui est spécifique au projet\n",
    "#from backend_PI import * # Import tout ce qui est spécifique au projet\n",
    "#from frontend_PI import *"
   ]
  },
  {
   "cell_type": "code",
   "execution_count": null,
   "id": "76b108d2-1009-4746-8095-660f1d0b0496",
   "metadata": {},
   "outputs": [],
   "source": [
    "import global_variables as g\n",
    "g.init()\n",
    "connect('PIPlanning')"
   ]
  },
  {
   "cell_type": "markdown",
   "id": "43702e58-7d20-4246-b411-8d8a32fe8bbc",
   "metadata": {},
   "source": [
    "## create_project(project, description)"
   ]
  },
  {
   "cell_type": "code",
   "execution_count": null,
   "id": "8673e488-c4ab-4fe5-896f-c1ee8f98aa6a",
   "metadata": {},
   "outputs": [],
   "source": [
    "def create_project(project, description):\n",
    "    if g.DEBUG_OL >= 1:\n",
    "        print('function: create_project',project,description,')')\n",
    "    now = datetime.now()\n",
    "    creationdate = now.strftime(\"%d/%m/%Y %H:%M:%S\")\n",
    "    proj1=Projects()\n",
    "    proj1.ProjectName = project\n",
    "    proj1.ProjectDescription = description\n",
    "    proj1.CreationDate = creationdate\n",
    "    proj1.LastUpdate = creationdate\n",
    "    proj1.save()\n",
    "\n",
    "    createdproject=Projects.objects(ProjectName=project).first()\n",
    "    if g.DEBUG_OL >= 2:\n",
    "        print('New project created with projectID=',createdproject.ProjectID)\n",
    "    \n",
    "    return createdproject.ProjectID"
   ]
  },
  {
   "cell_type": "code",
   "execution_count": null,
   "id": "4fd9b0fa-6475-4ba1-b1c9-e7f91ef79fa0",
   "metadata": {
    "tags": []
   },
   "outputs": [],
   "source": [
    "#create_project('Guerre du Nord', 'Guerre virtuelle qui se passe dans les pays froid')"
   ]
  },
  {
   "cell_type": "markdown",
   "id": "ce8ff3b5-0271-4d35-ad58-5ae8017f4a57",
   "metadata": {},
   "source": [
    "## list_projects(project=None)\n",
    "project might be:\n",
    "- projecid\n",
    "- projectname\n",
    "- None (for all)"
   ]
  },
  {
   "cell_type": "code",
   "execution_count": null,
   "id": "b899c2d7-94fe-4a22-a2d1-6ac13ed3c631",
   "metadata": {
    "tags": []
   },
   "outputs": [],
   "source": [
    "def list_projects(project=None):\n",
    "    if g.DEBUG_OL >= 1:\n",
    "        print('--- function: list_projects(',project,')')\n",
    "        print(type(project))\n",
    "    if project ==  None:\n",
    "        projects = Projects.objects()\n",
    "    else:\n",
    "        if type(project) is int:\n",
    "            pid=project\n",
    "        else:\n",
    "            projectinfo=Projects.objects(ProjectName=project).first()\n",
    "            pid=projectinfo.ProjectID\n",
    "        projects = Projects.objects(ProjectID=pid)\n",
    "    if g.DEBUG_OL >= 1:\n",
    "        for i in projects:\n",
    "            print(\"project:\",i.ProjectName, '\\tProjectID:',i.ProjectID, '\\tProjectDescription',i.ProjectDescription,'\\tProjectStatus',i.Archived)\n",
    "        \n",
    "    return(projects)"
   ]
  },
  {
   "cell_type": "code",
   "execution_count": null,
   "id": "8827f467-ca6f-4822-9629-64a5a751c767",
   "metadata": {
    "tags": []
   },
   "outputs": [],
   "source": [
    "# list_projects(1)"
   ]
  },
  {
   "cell_type": "markdown",
   "id": "01caaa67-6857-42f0-bf9f-e2585395bf19",
   "metadata": {},
   "source": [
    "## archive_project(projectid,newstatus)"
   ]
  },
  {
   "cell_type": "code",
   "execution_count": null,
   "id": "d5ea18d2-e4b2-45f7-bdd3-37d9920a62ef",
   "metadata": {},
   "outputs": [],
   "source": [
    "def archive_project(projectid,newstatus):\n",
    "    if g.DEBUG_OL >= 1:\n",
    "        print('function: archive_project(',projectid,newstatus,')')\n",
    "    project1 = Projects.objects(ProjectID=projectid).first()\n",
    "    if g.DEBUG_OL >= 2:\n",
    "        print('archive_project name:',project1.ProjectName)\n",
    "    now = datetime.now()\n",
    "    project1.Archived = newstatus\n",
    "    project1.LastUpdate = now.strftime(\"%d/%m/%Y %H:%M:%S\")\n",
    "    project1.save()"
   ]
  },
  {
   "cell_type": "code",
   "execution_count": null,
   "id": "bc5b745d-2007-4855-94f5-4790d533ac01",
   "metadata": {
    "tags": []
   },
   "outputs": [],
   "source": [
    "#archive_project(2,False)"
   ]
  },
  {
   "cell_type": "markdown",
   "id": "8bdd0b82-0f13-4570-9190-d3ba9de06425",
   "metadata": {},
   "source": [
    "## update_project(projectid,projectname,projectdescription)"
   ]
  },
  {
   "cell_type": "code",
   "execution_count": null,
   "id": "bbf2c6a9-6c6a-48cc-b35e-85ffdcb38c93",
   "metadata": {
    "tags": []
   },
   "outputs": [],
   "source": [
    "def update_project(projectid,projectname,projectdescription):\n",
    "    if g.DEBUG_OL >= 1:\n",
    "        print('--- function: update_role(',projectid,projectname,projectdescription,')')\n",
    "    now = datetime.now()\n",
    "    project1=Projects.objects(ProjectID=projectid).first()\n",
    "    project1.ProjectName = projectname\n",
    "    project1.ProjectDescription = projectdescription\n",
    "    project1.LastUpdate = now.strftime(\"%d/%m/%Y %H:%M:%S\")\n",
    "    project1.save()"
   ]
  },
  {
   "cell_type": "code",
   "execution_count": null,
   "id": "2484c9da-7e1d-42ae-b0bd-03c73a978281",
   "metadata": {
    "tags": []
   },
   "outputs": [],
   "source": [
    "#update_project(4,'Guerre du Nord',\"Guerre qui démarre au Nord\")\n",
    "#update_project(4,'Guerre du Sud',\"Guerre qui s'est déplacée au sud\")"
   ]
  },
  {
   "cell_type": "code",
   "execution_count": null,
   "id": "eadeec4d-dbde-4aed-b010-2c859d3dcb3e",
   "metadata": {},
   "outputs": [],
   "source": [
    "print(os.getcwd(),__name__,'imported')"
   ]
  },
  {
   "cell_type": "code",
   "execution_count": null,
   "id": "acd022da-96e0-4521-901e-5658e7af6cd1",
   "metadata": {},
   "outputs": [],
   "source": []
  }
 ],
 "metadata": {
  "kernelspec": {
   "display_name": "Python 3 (ipykernel)",
   "language": "python",
   "name": "python3"
  },
  "language_info": {
   "codemirror_mode": {
    "name": "ipython",
    "version": 3
   },
   "file_extension": ".py",
   "mimetype": "text/x-python",
   "name": "python",
   "nbconvert_exporter": "python",
   "pygments_lexer": "ipython3",
   "version": "3.10.7"
  }
 },
 "nbformat": 4,
 "nbformat_minor": 5
}
