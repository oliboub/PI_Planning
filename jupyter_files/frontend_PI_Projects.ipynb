{
 "cells": [
  {
   "cell_type": "markdown",
   "id": "abcce3df-391a-457e-92ef-ad4d1ba060b6",
   "metadata": {},
   "source": [
    "## PI Project Management"
   ]
  },
  {
   "cell_type": "code",
   "execution_count": 1,
   "id": "c582e3c2-ee45-4758-b698-98bf921ac06d",
   "metadata": {
    "tags": []
   },
   "outputs": [
    {
     "name": "stdout",
     "output_type": "stream",
     "text": [
      "/media/olivier/Donnees/Documents/Formations/Perso/PI_Planning/jupyter_files global_variables imported\n",
      "/media/olivier/Donnees/Documents/Formations/Perso/PI_Planning/jupyter_files backend_PI_Utils imported\n",
      "/media/olivier/Donnees/Documents/Formations/Perso/PI_Planning/jupyter_files backend_PI_mongo_model imported\n",
      "/media/olivier/Donnees/Documents/Formations/Perso/PI_Planning/jupyter_files backend_PI_Members imported\n",
      "/media/olivier/Donnees/Documents/Formations/Perso/PI_Planning/jupyter_files backend_PI_Projects imported\n",
      "/media/olivier/Donnees/Documents/Formations/Perso/PI_Planning/jupyter_files backend_PI_Tasks imported\n",
      "/media/olivier/Donnees/Documents/Formations/Perso/PI_Planning/jupyter_files backend_PI_Teams imported\n"
     ]
    }
   ],
   "source": [
    "import os\n",
    "import time\n",
    "import bcrypt\n",
    "from datetime import datetime\n",
    "import PySimpleGUI as sg\n",
    "import global_variables as g\n",
    "g.init()\n",
    "#time.sleep(1)\n",
    "from backend_PI_Utils import * # Import tout ce qui est spécifique au projet\n",
    "from backend_PI_mongo_model import * # Import tout ce qui est spécifique au projet\n",
    "time.sleep(1)\n",
    "from backend_PI_Members import * # Import tout ce qui est spécifique au projet\n",
    "from backend_PI_Projects import * # Import tout ce qui est spécifique au projet\n",
    "from backend_PI_Projects import * # Import tout ce qui est spécifique au projet\n",
    "from backend_PI_Tasks import * # Import tout ce qui est spécifique au projet\n",
    "from backend_PI_Teams import * # Import tout ce qui est spécifique au projet"
   ]
  },
  {
   "cell_type": "code",
   "execution_count": 2,
   "id": "fe622ac4-a7fb-4451-beee-fca3b427ce90",
   "metadata": {
    "tags": []
   },
   "outputs": [
    {
     "name": "stdout",
     "output_type": "stream",
     "text": [
      "/media/olivier/Donnees/Documents/Formations/Perso/PI_Planning/jupyter_files frontend_PI_Utils imported\n"
     ]
    }
   ],
   "source": [
    "from frontend_PI_Utils import *"
   ]
  },
  {
   "cell_type": "code",
   "execution_count": 3,
   "id": "6fb89dae-a458-4613-8374-31032679b0b9",
   "metadata": {
    "tags": []
   },
   "outputs": [
    {
     "data": {
      "text/plain": [
       "MongoClient(host=['localhost:27017'], document_class=dict, tz_aware=False, connect=True, read_preference=Primary())"
      ]
     },
     "execution_count": 3,
     "metadata": {},
     "output_type": "execute_result"
    }
   ],
   "source": [
    "connect('PIPlanning')"
   ]
  },
  {
   "cell_type": "markdown",
   "id": "f87f0757-cb8d-469d-befc-f80c1d186484",
   "metadata": {},
   "source": [
    "### Create project"
   ]
  },
  {
   "cell_type": "code",
   "execution_count": null,
   "id": "7f4516d7-d7b6-4054-915d-4be893ed8130",
   "metadata": {
    "tags": []
   },
   "outputs": [],
   "source": [
    "def create_project_gui(memberid,info='info'):\n",
    "    if g.DEBUG_OL >= 1:\n",
    "        print('--- function: create_project_gui(',memberid,info,')')\n",
    "    \n",
    "    sg.set_options(element_padding=(5, 10))\n",
    "\n",
    "    existingprojects=[]\n",
    "    \n",
    "    projects=Projects.objects()\n",
    "    for i in projects:\n",
    "        existingprojects.append(i.ProjectName.lower())\n",
    "    if g.DEBUG_OL >= 2:\n",
    "        print(existingprojects)\n",
    "     \n",
    "    layout = [\n",
    "        [sg.T(info,font=g.FONT,justification=\"left\")],\n",
    "        [sg.T('project Name',font=g.FONT,size=(20, 1)), sg.I(\"new project\",key='-PROJECT-',visible=True,font=g.FONT+' italic', size=(20,1))],\n",
    "        [sg.T('Project Description',font=g.FONT, size=(20, 1)), sg.I(\"Description\",visible=True,key='-DESC-',font=g.FONT+' italic',size=(20,1))],\n",
    "        [sg.B('Add', enable_events=True), sg.Cancel()]\n",
    "    ]\n",
    "    window = MyWindow('Create Project', layout,finalize=True)\n",
    "    window.my_move_to_center()\n",
    "\n",
    "    while True:\n",
    "        event, values = window.read()\n",
    "        if g.DEBUG_OL >= 2:\n",
    "            print(event,values)\n",
    "            \n",
    "        if event == sg.WIN_CLOSED or event == 'Cancel':\n",
    "            window.close()\n",
    "            break\n",
    "            \n",
    "        if event == 'Add':\n",
    "            if values['-PROJECT-'].lower() in existingprojects:\n",
    "                sg.popup('Project '+values['-PROJECT-']+'  already exists !',title=\"info\",auto_close=True, auto_close_duration=3,)\n",
    "                window['-PROJECT-'].update(\"new project\")\n",
    " \n",
    "\n",
    "            elif values['-DESC-'] == \"Description\":\n",
    "                sg.popup('Please enter a description',title=\"info\",auto_close=True, auto_close_duration=3,)\n",
    " \n",
    "            else:\n",
    "                id=create_project(values['-PROJECT-'], values['-DESC-'],memberid)\n",
    "                if g.DEBUG_OL >= 2:\n",
    "                    print('New project: '+values['-PROJECT-']+' created with id:',str(id))\n",
    "                sg.popup('New project: '+values['-PROJECT-']+' created with id: '+str(id),title=\"info\",auto_close=True, auto_close_duration=3,)\n",
    "                window.close()\n",
    "                break"
   ]
  },
  {
   "cell_type": "code",
   "execution_count": null,
   "id": "8db7ea88-6069-490b-801e-7b9f5db307f1",
   "metadata": {
    "tags": []
   },
   "outputs": [],
   "source": [
    "#create_project_gui(\"Creation d'un nouveau projet\")"
   ]
  },
  {
   "cell_type": "markdown",
   "id": "d43707d0-4af6-4b2d-91a6-e439f5904add",
   "metadata": {
    "tags": []
   },
   "source": [
    "### list_projects_gui(page=1,linespage=5,info)"
   ]
  },
  {
   "cell_type": "code",
   "execution_count": 4,
   "id": "8ab608fb-e0bb-430e-ae29-1fa3cad537e8",
   "metadata": {
    "tags": []
   },
   "outputs": [],
   "source": [
    "def list_projects_gui(memberid,page=1,linespage=5,info='info'):\n",
    "    if g.DEBUG_OL >= 1:\n",
    "        print('--- function: list_projects_gui(',memberid,page,linespage,info,')')\n",
    " \n",
    "    #    global page\n",
    "    projects=[]\n",
    "    projectsfiltered=[]\n",
    "    projectstotal=[]\n",
    "    \n",
    "    projectstotal=Projects.objects().order_by('+ProjectName')\n",
    "#    projectstotal=projects1.sort(key = lambda elem: elem[1])\n",
    "#    projectstotal.sort()\n",
    "\n",
    "    items=len(projectstotal)\n",
    "\n",
    "    start=page*linespage-linespage\n",
    "    end=start+linespage\n",
    "    if end > items:\n",
    "        end = items\n",
    "    a=0\n",
    " \n",
    "    if g.DEBUG_OL >=2:\n",
    "        print('items:',items,'\\tstart:',start,'\\tend:',end)\n",
    "    \n",
    "\n",
    "    for i in range(start,end):\n",
    "        projects.append(projectstotal[i])\n",
    "        if g.DEBUG_OL >= 2:\n",
    "            print(projects[0]) #.ProjectID,projects.ProjectName)\n",
    "        a=+1\n",
    "    \n",
    "    titlewindows='List of existing projects'\n",
    "        \n",
    "    sg.set_options(element_padding=(5, 5))\n",
    "#    list_teams=list_teams_all()\n",
    "    layout = [[sg.T(info,font=g.FONT,justification=\"left\")],\n",
    "              [sg.T('Project',font=g.FONT,enable_events=False, size=(20, 1)),\n",
    "               sg.T('Project Description',font=g.FONT,key='-DESC-',enable_events=False, size=(50, 2)),\n",
    "               sg.T('Last Update',font=g.FONT,size=(20, 1)),\n",
    "               sg.T('Update',font=g.FONT,size=(10, 1)),\n",
    "               sg.T(' ',font=g.FONT,size=(5, 1)),\n",
    "               sg.T('Status',font=g.FONT,size=(10, 1))\n",
    "              ]]\n",
    "    idx=0\n",
    "    for project in projects:\n",
    "        if g.DEBUG_OL >= 2:\n",
    "            print('Project',project.ProjectName ,'\\tProjectID',project.ProjectID ,'\\tProject Status',project.Archived) #,'\\tDescription:',project[2],'\\tCreation date:',project[4],)\n",
    "        if project.Archived is False:\n",
    "            status='Active'\n",
    "            FONT1=g.FONT\n",
    "            bfcolor='white'\n",
    "            bbcolor='green'\n",
    "        else:\n",
    "            status='Archived'\n",
    "            FONT1=g.FONT+' italic'\n",
    "            bfcolor='white'\n",
    "            bbcolor='firebrick3'\n",
    "    \n",
    "        row = [sg.T(project.ProjectID,visible=False),\n",
    "                sg.I(project.ProjectName,key=f'-PNAME-{project.ProjectID}',disabled=False, font=g.FONT, size=(20,1)),\n",
    "               sg.I(project.ProjectDescription,key=f'-DESC-{project.ProjectID}',disabled=False, font=g.FONT, size=(50,2)),\n",
    "               sg.I(project.LastUpdate,disabled=False, font=g.FONT,size=(20,1)),\n",
    "               sg.B('Update',enable_events=True, key=f'-UPDT-{project.ProjectID}',font=g.FONT,button_color=('white','darkblue'),size=(10,1)),\n",
    "               sg.T(' ',font=g.FONT,size=(5, 1)),\n",
    "               sg.B(status, enable_events=True,key=f'-ARCH-{project.ProjectID}',font=FONT1,button_color=(bfcolor,bbcolor),size=(10,1)),\n",
    "            ]\n",
    "        layout.append(row)\n",
    "        idx+=1\n",
    "   \n",
    "    \n",
    "    projectsqtt= [[sg.T('Total projects found: ',font=g.FONT, size=(15, 1)),sg.I(items,key='-PFOUND-',enable_events=False,disabled=True,visible=True,size=(10,1))]\n",
    "                  ]\n",
    "    \n",
    "    displaylines= [[sg.T('Displayed Lines:',font=g.FONT, size=(17, 1)),\n",
    "                    sg.I(linespage,key='-DLINES-',enable_events=True,visible=True,size=(10,1)),\n",
    "                   sg.T(' ',font=g.FONT,size=(10, 1))]\n",
    "                   ]\n",
    "    \n",
    "    pagination = [[sg.B('<<', key='-BEGIN-',disabled=False),\n",
    "                   sg.B(\"<\", key='-BACK-',disabled=False),\n",
    "                   sg.T(text=page, key='-PAGE-', size=(2, 1)),\n",
    "                   sg.B(\">\", key='-NEXT-',disabled=False),\n",
    "                   sg.B(\">>\", key='-END-',disabled=False)\n",
    "                   ]]\n",
    "    \n",
    "    createproject = [[sg.B('Create Project',key='-CPROJECT-',font=g.FONT,button_color=('white','darkblue')),\n",
    "                   sg.T(' ',font=g.FONT,size=(12, 1))]]\n",
    "    \n",
    "    \n",
    "    layout += [[sg.Col(createproject, element_justification='left'),sg.Col(displaylines,element_justification='center'), sg.Col(projectsqtt, element_justification='center'),sg.Col(pagination, justification='right')]]\n",
    "    layout += [[sg.B('Return',font=g.FONT)]]\n",
    "    \n",
    "               \n",
    "    window = MyWindow(titlewindows, layout,keep_on_top=True, element_justification = 'center',finalize=True)\n",
    "    window.my_move_to_center()\n",
    "\n",
    "    if g.DEBUG_OL >= 2:\n",
    "        print('start',start,'end',end,'len(projectstotal)',len(projectstotal),'len(projectstotal)-linespage',len(projectstotal)-linespage)\n",
    "    if end >= len(projectstotal):\n",
    "        window['-END-'].update(disabled=True)\n",
    "        window['-NEXT-'].update(disabled=True)\n",
    "    if start  < linespage:\n",
    "        window['-BEGIN-'].update(disabled=True)\n",
    "        window['-BACK-'].update(disabled=True)\n",
    "\n",
    "    \n",
    "    while True:\n",
    "        event1, values1 = window.read()\n",
    "        if g.DEBUG_OL >=2:\n",
    "            print(event1,values1)\n",
    "                                                                                                          \n",
    "        if event1 == sg.WIN_CLOSED or event1 == 'Return':\n",
    "            window.close()\n",
    "            return(None)\n",
    "            break\n",
    "                                                                                                          \n",
    "\n",
    "        if event1 == \"-DLINES-\":\n",
    "            if g.DEBUG_OL >= 2:\n",
    "                print('type',type(values1['-DLINES-']),'value',values1['-DLINES-'],values1['-DLINES-'].isnumeric())\n",
    "            if values1['-DLINES-'].isnumeric()== True:\n",
    "                linespage=int(values1['-DLINES-'])\n",
    "                page=1\n",
    "                window.close()\n",
    "                list_projects_gui(memberid,page,linespage,info)\n",
    "                                                  \n",
    "        if event1 == \"-NEXT-\":\n",
    "            page += 1\n",
    "            window.close()\n",
    "            list_projects_gui(memberid,page,linespage,info)\n",
    "\n",
    "        if event1 == \"-BACK-\":\n",
    "            page -= 1\n",
    "            window.close()\n",
    "            list_projects_gui(memberid,page,linespage,info)\n",
    "        \n",
    "        if event1 == \"-BEGIN-\":\n",
    "            page = 1\n",
    "            window.close()\n",
    "            list_projects_gui(memberid,page,linespage,info)\n",
    "        \n",
    "        if event1 == \"-END-\":\n",
    "            page = (items-linespage)//linespage+1\n",
    "            window.close()\n",
    "            list_projects_gui(memberid,page,linespage,info)\n",
    "            \n",
    "        if event1 == \"-CPROJECT-\":\n",
    "            window.close()\n",
    "            create_project_gui(memberid)\n",
    "            page = 1\n",
    "            list_projects_gui(memberid,page,linespage,info)\n",
    "            \n",
    "        if '-ARCH-' in event1:\n",
    "            a=int(event1.split(\"-\")[-1])\n",
    "            itemstatus=Projects.objects(ProjectID=a).first()\n",
    "            print(itemstatus.Archived)\n",
    "            if itemstatus.Archived == False:\n",
    "                newstatus=True\n",
    "            else:\n",
    "                newstatus=False\n",
    "                \n",
    "            if g.DEBUG_OL >= 2:\n",
    "                print(a,newstatus)\n",
    "            archive_project(a,newstatus,memberid)\n",
    "            page = 1\n",
    "            window.close()\n",
    "            list_projects_gui(memberid,page,linespage,info)\n",
    "\n",
    "        if '-UPDT-' in event1:\n",
    "            a=int(event1.split(\"-\")[-1])\n",
    "            itemupd=Projects.objects(ProjectID=a).first()\n",
    "            if g.DEBUG_OL >= 2:\n",
    "                print(itemupd.ProjectName,itemupd.ProjectID)\n",
    "            proj='-PNAME-'+str(itemupd.ProjectID)\n",
    "            desc='-DESC-'+str(itemupd.ProjectID)\n",
    "\n",
    "            if g.DEBUG_OL >= 2:\n",
    "                print(itemupd.ProjectID,\"- '\",values1[proj],\"' - '\",values1[desc],\"'\")\n",
    "            update_project(a,values1[proj],values1[desc],memberid)\n",
    "            page = 1\n",
    "            window.close()\n",
    "            list_projects_gui(memberid,page,linespage,info)"
   ]
  },
  {
   "cell_type": "code",
   "execution_count": 5,
   "id": "c40b5252-26bb-4c02-8314-ce3577cddc34",
   "metadata": {
    "tags": []
   },
   "outputs": [
    {
     "name": "stdout",
     "output_type": "stream",
     "text": [
      "--- function: list_projects_gui( 1 5 info )\n"
     ]
    }
   ],
   "source": [
    "#list_projects_gui()"
   ]
  },
  {
   "cell_type": "code",
   "execution_count": null,
   "id": "0c7c08bd-9304-4e94-9221-d0d74ac1950f",
   "metadata": {},
   "outputs": [],
   "source": [
    "if g.DEBUG_OL >= 1:\n",
    "    print(os.getcwd(),__name__,'imported')"
   ]
  }
 ],
 "metadata": {
  "kernelspec": {
   "display_name": "Python 3 (ipykernel)",
   "language": "python",
   "name": "python3"
  },
  "language_info": {
   "codemirror_mode": {
    "name": "ipython",
    "version": 3
   },
   "file_extension": ".py",
   "mimetype": "text/x-python",
   "name": "python",
   "nbconvert_exporter": "python",
   "pygments_lexer": "ipython3",
   "version": "3.10.7"
  }
 },
 "nbformat": 4,
 "nbformat_minor": 5
}
