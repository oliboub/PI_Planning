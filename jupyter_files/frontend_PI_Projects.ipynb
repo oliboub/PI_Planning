{
 "cells": [
  {
   "cell_type": "markdown",
   "id": "abcce3df-391a-457e-92ef-ad4d1ba060b6",
   "metadata": {},
   "source": [
    "## PI Project Management"
   ]
  },
  {
   "cell_type": "code",
   "execution_count": null,
   "id": "8223d54e-81b3-4d45-8d88-7185262663c0",
   "metadata": {},
   "outputs": [],
   "source": [
    "import PySimpleGUI as sg\n",
    "from backend_PI import * # Import tout ce qui est spécifique au projet\n",
    "from frontend_PI import *\n",
    "\n",
    "connect('PIPlanning')"
   ]
  },
  {
   "cell_type": "markdown",
   "id": "f87f0757-cb8d-469d-befc-f80c1d186484",
   "metadata": {},
   "source": [
    "### Create project"
   ]
  },
  {
   "cell_type": "code",
   "execution_count": 5,
   "id": "7f4516d7-d7b6-4054-915d-4be893ed8130",
   "metadata": {
    "tags": []
   },
   "outputs": [],
   "source": [
    "def create_project_gui(info):\n",
    "    layout = [\n",
    "        [sg.T(info,font='Calibri 12',justification=\"left\")],\n",
    "        [sg.T('project Name', size=(20, 1)), sg.I(key='-PROJECT-')],\n",
    "        [sg.T('Project Description', size=(20, 1)), sg.I(key='-DESC-')],\n",
    "        [sg.Ok(), sg.Cancel()]\n",
    "    ]\n",
    "    window = MyWindow('Create Project', layout,finalize=True)\n",
    "    window.my_move_to_center()\n",
    "    while True:\n",
    "        event, values = window.read()\n",
    "        if event == sg.WIN_CLOSED or event == 'Cancel':\n",
    "            window.close()\n",
    "            break\n",
    "        elif event == 'Ok':\n",
    "            project = values['-PROJECT-']\n",
    "            description = values['-DESC-']\n",
    "            create_project(project, description)\n",
    "            layout1=[[sg.T('Projet:',font='Calibri 12'),sg.T(values['-PROJECT-'],font='Calibri 12'),sg.T(' créé.',font='Calibri 12')],\n",
    "                    [sg.Ok()]]\n",
    "            window1 = MyWindow('info', layout1, element_justification='c',finalize=True)\n",
    "            window1.my_move_to_center()\n",
    "            \n",
    "            event, values = window1.read()\n",
    "            if event == sg.WIN_CLOSED or event == 'Cancel' or event==\"Ok\":\n",
    "                window1.close()\n",
    "                window.close()\n",
    "                break"
   ]
  },
  {
   "cell_type": "markdown",
   "id": "d43707d0-4af6-4b2d-91a6-e439f5904add",
   "metadata": {
    "tags": []
   },
   "source": [
    "### List Projects"
   ]
  },
  {
   "cell_type": "code",
   "execution_count": 1,
   "id": "9a19319f-59ab-4e65-b361-fc8481941a52",
   "metadata": {
    "tags": []
   },
   "outputs": [],
   "source": [
    "def list_projects_gui(info):\n",
    "    print('fonction: list_projects_gui(',info,')')\n",
    "    layout = []\n",
    "    projects_list=list_projects()\n",
    "#    print(projects_list)\n",
    "\n",
    "    layout = [[sg.T(info,font='Calibri 12',justification=\"left\")],\n",
    "              [sg.T('Select',size=(5,1)),sg.T('Project Name',size=(15, 1)),sg.T('Description', size=(40, 1)),sg.T('Creation Date',size=(40, 1))]]\n",
    "    for project in projects_list:\n",
    "#        print(project.ProjectName)\n",
    "        row = [[sg.Radio('', \"RADIO1\", key=f'-RADIO-{project.ProjectID}'),\n",
    "                sg.I(project.ProjectName, key=f'-PROJ-{project.ProjectID}', disabled=True, size=(15, 1), text_color='black'),\n",
    "                sg.I(project.ProjectDescription, key=f'-DESC-{project.ProjectID}', enable_events=True, size=(40, 1), text_color='black'),\n",
    "                sg.I(project.CreationDate, key=f'-CREAT-{project.ProjectID}', enable_events=True, size=(40, 1), text_color='black')]]\n",
    "        layout.append(row)\n",
    "\n",
    "    layout += [[sg.B('Select')]]\n",
    "               \n",
    "    window = MyWindow('List of Projects', layout,keep_on_top=True, element_justification = 'center',finalize=True)\n",
    "    window.my_move_to_center()\n",
    "    \n",
    "    while True:\n",
    "        event1, values1 = window.read()\n",
    "        print(event1,values1)\n",
    "        if event1 == sg.WIN_CLOSED or event1 == 'Cancel':\n",
    "            print('Exit')\n",
    "            window.close()\n",
    "            return(None,None,None)\n",
    "            break              \n",
    "#        if event1 == '-RADIO-':\n",
    "#            print('Radio',event1,values1)\n",
    "            \n",
    "#        elif '-DESC-' in event1:\n",
    "#            print(values1)\n",
    "        \n",
    "        elif event1 == 'Select':\n",
    "#            if '-SEL-' == \"None\":\n",
    "#                sg.popup_error(\"Merci de sélectionner un projet!\")\n",
    "#            print(event1,values1)\n",
    "            for k, v in values1.items():\n",
    "#                print(k,v)\n",
    "                if v == True:\n",
    "                    print('True',k, v)\n",
    "                    a=int(k.split(\"-\")[-1])\n",
    "#                    print(a)\n",
    "                    projectselected = query_project_name_from_ID(a)\n",
    "                    ActualProjectID=projectselected.ProjectID\n",
    "                    ActualProjectName=projectselected.ProjectName\n",
    "                    ActualProjectDesc=projectselected.ProjectDescription\n",
    "#                    print(ActualProjectName,ActualProjectDesc)\n",
    "                    window.close()\n",
    "                    return(ActualProjectID,ActualProjectName,ActualProjectDesc)"
   ]
  },
  {
   "cell_type": "markdown",
   "id": "a2a56802-b20d-4394-b67f-53ee0dc0bead",
   "metadata": {
    "tags": []
   },
   "source": [
    "### Archive project"
   ]
  },
  {
   "cell_type": "code",
   "execution_count": 2,
   "id": "4c48e942-c6de-41e7-8c17-e9e7f81cd463",
   "metadata": {
    "tags": []
   },
   "outputs": [],
   "source": [
    "def archive_project_gui(info):\n",
    "    print('fonction: list_projects_gui(',info,')')\n",
    "    layout = []\n",
    "    projects_list=list_projects()\n",
    "    \n",
    "#    print(projects_list)\n",
    "\n",
    "    layout = [[sg.T(info,font='Calibri 12',justification=\"left\")],\n",
    "              [sg.T('Archive',size=(5,1)),sg.T('Project Name',size=(15, 1)),sg.T('Description', size=(40, 1)),sg.T('Creation Date',size=(40, 1))]]\n",
    "    for project in projects_list:\n",
    "#        print(project.ProjectName)\n",
    "        row = [[sg.Radio('', \"RADIO1\", key=f'-RADIO-{project.ProjectID}'),\n",
    "                sg.I(project.ProjectName, key=f'-PROJ-{project.ProjectID}', disabled=True, size=(15, 1), text_color='black'),\n",
    "                sg.I(project.ProjectDescription, key=f'-DESC-{project.ProjectID}', enable_events=True, size=(40, 1), text_color='black'),\n",
    "                sg.I(project.CreationDate, key=f'-CREAT-{project.ProjectID}', enable_events=True, size=(40, 1), text_color='black')]]\n",
    "        layout.append(row)\n",
    "\n",
    "    layout += [[sg.B('Select'), sg.Cancel()]]\n",
    "               \n",
    "    window = MyWindow('List of Projects', layout,keep_on_top=True, element_justification = 'center',finalize=True)\n",
    "    window.my_move_to_center()\n",
    "    \n",
    "    while True:\n",
    "        event1, values1 = window.read()\n",
    "        print(event1,values1)\n",
    "        if event1 == sg.WIN_CLOSED or event1 == 'Cancel':\n",
    "#            print('event1',event1)\n",
    "            window.close()\n",
    "            return(None)\n",
    "            break              \n",
    "\n",
    "        elif '-DESC-' in event1:\n",
    "            print(values1)\n",
    "        \n",
    "        elif event1 == 'Select':\n",
    "            for k, v in values1.items():\n",
    "                print(k,v)\n",
    "                if v == True:\n",
    "#                    print('True',k, v)\n",
    "                    a=int(k.split(\"-\")[-1])\n",
    "#                    print(a)\n",
    "                    for project1 in projects_list:\n",
    "                        if project1.ProjectID == a:\n",
    "                            print(project1.ProjectID,project1.ProjectName,project1.Archived)\n",
    "                            ArchivedProjectName=project1.ProjectName\n",
    "                            response = archive_project(project1.ProjectID)\n",
    "                            print(response)\n",
    "                            layout1=[[sg.T('Projet:',font='Calibri 12'),sg.T(ArchivedProjectName,font='Calibri 12'),sg.T(' archivé.',font='Calibri 12')],[sg.Ok()]]\n",
    "                            window1 = MyWindow('info', layout1,element_justification='c',keep_on_top=True,finalize=True)\n",
    "                            window1.my_move_to_center()\n",
    "                            \n",
    "                            event2, values2 = window1.read()\n",
    "                            if event2 == sg.WIN_CLOSED or event2 == 'Cancel' or event2==\"Ok\":\n",
    "                                    window.close()\n",
    "                                    window1.close()\n",
    "                            return(ArchivedProjectName)"
   ]
  },
  {
   "cell_type": "code",
   "execution_count": null,
   "id": "0c7c08bd-9304-4e94-9221-d0d74ac1950f",
   "metadata": {},
   "outputs": [],
   "source": [
    "print(__name__,'imported')"
   ]
  }
 ],
 "metadata": {
  "kernelspec": {
   "display_name": "Python 3 (ipykernel)",
   "language": "python",
   "name": "python3"
  },
  "language_info": {
   "codemirror_mode": {
    "name": "ipython",
    "version": 3
   },
   "file_extension": ".py",
   "mimetype": "text/x-python",
   "name": "python",
   "nbconvert_exporter": "python",
   "pygments_lexer": "ipython3",
   "version": "3.10.7"
  }
 },
 "nbformat": 4,
 "nbformat_minor": 5
}
